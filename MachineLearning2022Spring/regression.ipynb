{
 "cells": [
  {
   "cell_type": "code",
   "execution_count": 1,
   "metadata": {},
   "outputs": [],
   "source": [
    "# Numerical Operations\n",
    "import math\n",
    "import numpy as np\n",
    "\n",
    "# Reading/Writing Data\n",
    "import pandas as pd\n",
    "import os\n",
    "import csv\n",
    "\n",
    "# For Progress Bar\n",
    "from tqdm import tqdm\n",
    "\n",
    "# Pytorch\n",
    "import torch \n",
    "import torch.nn as nn\n",
    "from torch.utils.data import Dataset, DataLoader, random_split\n",
    "\n",
    "# For plotting learning curve\n",
    "from torch.utils.tensorboard import SummaryWriter"
   ]
  },
  {
   "cell_type": "code",
   "execution_count": 2,
   "metadata": {},
   "outputs": [],
   "source": [
    "def same_seed(seed): \n",
    "    '''Fixes random number generator seeds for reproducibility.'''\n",
    "    torch.backends.cudnn.deterministic = True\n",
    "    torch.backends.cudnn.benchmark = False\n",
    "    np.random.seed(seed)\n",
    "    torch.manual_seed(seed)\n",
    "    if torch.cuda.is_available():\n",
    "        torch.cuda.manual_seed_all(seed)\n",
    "\n",
    "def train_valid_split(data_set, valid_ratio, seed):\n",
    "    '''Split provided training data into training set and validation set'''\n",
    "    valid_set_size = int(valid_ratio * len(data_set)) \n",
    "    train_set_size = len(data_set) - valid_set_size\n",
    "    train_set, valid_set = random_split(data_set, [train_set_size, valid_set_size], generator=torch.Generator().manual_seed(seed))\n",
    "    return np.array(train_set), np.array(valid_set)\n",
    "\n",
    "def predict(test_loader, model, device):\n",
    "    model.eval() # Set your model to evaluation mode.\n",
    "    preds = []\n",
    "    for x in tqdm(test_loader):\n",
    "        x = x.to(device)                        \n",
    "        with torch.no_grad():                   \n",
    "            pred = model(x)                     \n",
    "            preds.append(pred.detach().cpu())   \n",
    "    preds = torch.cat(preds, dim=0).numpy()  \n",
    "    return preds"
   ]
  },
  {
   "cell_type": "code",
   "execution_count": 3,
   "metadata": {},
   "outputs": [],
   "source": [
    "class COVID19Dataset(Dataset):\n",
    "    '''\n",
    "    x: Features.\n",
    "    y: Targets, if none, do prediction.\n",
    "    '''\n",
    "    def __init__(self, x, y=None):\n",
    "        if y is None:\n",
    "            self.y = y\n",
    "        else:\n",
    "            self.y = torch.FloatTensor(y)\n",
    "        self.x = torch.FloatTensor(x)\n",
    "\n",
    "    def __getitem__(self, idx):\n",
    "        if self.y is None:\n",
    "            return self.x[idx]\n",
    "        else:\n",
    "            return self.x[idx], self.y[idx]\n",
    "\n",
    "    def __len__(self):\n",
    "        return len(self.x)"
   ]
  },
  {
   "cell_type": "code",
   "execution_count": 4,
   "metadata": {},
   "outputs": [],
   "source": [
    "def train_valid_split(dataset, valid_ratio, seed):\n",
    "    validset_size = int(len(dataset) * valid_ratio)\n",
    "    trainset_size = len(dataset) - validset_size\n",
    "    trainset, validset = random_split(dataset, [trainset_size, validset_size], generator=torch.Generator().manual_seed(seed))\n",
    "    return np.array(trainset), np.array(validset)"
   ]
  },
  {
   "cell_type": "code",
   "execution_count": 5,
   "metadata": {},
   "outputs": [],
   "source": [
    "def select_feat(train_data, valid_data, test_data, select_all=True):\n",
    "    '''Selects useful features to perform regression'''\n",
    "    '''从 train_data 和 valid_data 中分离出标签 y_train 和 y_valid。这假设最后一列是标签。'''\n",
    "    y_train, y_valid = train_data[:,-1], valid_data[:,-1]\n",
    "    raw_x_train, raw_x_valid, raw_x_test = train_data[:,:-1], valid_data[:,:-1], test_data\n",
    "\n",
    "    if select_all:\n",
    "        feat_idx = list(range(raw_x_train.shape[1]))\n",
    "    else:\n",
    "        feat_idx = [101, 85, 69, 53, 104, 88, 105, 72, 89, 56, 73, 40, 57, 41, 103, 102, 87, 86, 71, 70, 55, 54, 39, 38, 114, 98, 82, 66, 50, 108, 92, 76, 60, 44, 115, 99, 67, 83, 51, 113, 97, 81, 65, 49, 109, 93, 77, 21, 61, 116, 100, 84, 68, 52] # TODO: Select suitable feature columns.\n",
    "        \n",
    "    return raw_x_train[:,feat_idx], raw_x_valid[:,feat_idx], raw_x_test[:,feat_idx], y_train, y_valid"
   ]
  },
  {
   "cell_type": "code",
   "execution_count": 6,
   "metadata": {},
   "outputs": [],
   "source": [
    "device = 'cuda' if torch.cuda.is_available() else 'cpu'\n",
    "config = {\n",
    "    'seed': 5201314,      # Your seed number, you can pick your lucky number. :)\n",
    "    'select_all': False,   # Whether to use all features.\n",
    "    'valid_ratio': 0.2,   # validation_size = train_size * valid_ratio\n",
    "    'n_epochs': 3000,     # Number of epochs.            \n",
    "    'batch_size': 256, \n",
    "    'learning_rate': 1e-5,              \n",
    "    'early_stop': 400,    # If model has not improved for this many consecutive epochs, stop training.     \n",
    "    'save_path': './models/model.ckpt'  # Your model will be saved here.\n",
    "}"
   ]
  },
  {
   "cell_type": "code",
   "execution_count": 7,
   "metadata": {},
   "outputs": [
    {
     "name": "stdout",
     "output_type": "stream",
     "text": [
      "train_data size: (2160, 118) \n",
      "valid_data size: (539, 118) \n",
      "test_data size: (1078, 117)\n",
      "number of features: 54\n"
     ]
    }
   ],
   "source": [
    "# Set seed for reproducibility\n",
    "same_seed(config['seed'])\n",
    "\n",
    "\n",
    "# train_data size: 2699 x 118 (id + 37 states + 16 features x 5 days) \n",
    "# test_data size: 1078 x 117 (without last day's positive rate)\n",
    "# 第一个坑，这边应该是取values，如果没有values\n",
    "train_data, test_data = pd.read_csv('./dataset/covid.train.csv').values, pd.read_csv('./dataset/covid.test.csv').values\n",
    "# 需要对训练集做划分成训练集和验证集\n",
    "train_data, valid_data = train_valid_split(train_data, config['valid_ratio'],config['seed'])\n",
    "# Print out the data size.\n",
    "print(f\"\"\"train_data size: {train_data.shape} \n",
    "valid_data size: {valid_data.shape} \n",
    "test_data size: {test_data.shape}\"\"\")\n",
    "# Select features\n",
    "x_train, x_valid, x_test, y_train, y_valid = select_feat(train_data, valid_data, test_data, config['select_all'])\n",
    "\n",
    "# Print out the number of features.\n",
    "print(f'number of features: {x_train.shape[1]}')\n",
    "\n",
    "train_dataset, valid_dataset, test_dataset = COVID19Dataset(x_train, y_train), \\\n",
    "                                            COVID19Dataset(x_valid, y_valid), \\\n",
    "                                            COVID19Dataset(x_test)\n",
    "\n",
    "# Pytorch data loader loads pytorch dataset into batches.\n",
    "train_loader = DataLoader(train_dataset, batch_size=config['batch_size'], shuffle=True, pin_memory=True)\n",
    "valid_loader = DataLoader(valid_dataset, batch_size=config['batch_size'], shuffle=True, pin_memory=True)\n",
    "test_loader = DataLoader(test_dataset, batch_size=config['batch_size'], shuffle=False, pin_memory=True)"
   ]
  },
  {
   "cell_type": "markdown",
   "metadata": {},
   "source": [
    "# Neural Network Model\n",
    "Try out different model architectures by modifying the class below."
   ]
  },
  {
   "cell_type": "code",
   "execution_count": 11,
   "metadata": {},
   "outputs": [],
   "source": [
    "class My_Model(nn.Module):\n",
    "    def __init__(self, input_dim):\n",
    "        super(My_Model, self).__init__()\n",
    "        # TODO: modify model's structure, be aware of dimensions. \n",
    "        self.layers = nn.Sequential(\n",
    "            nn.Linear(input_dim, 32),\n",
    "            nn.ReLU(),\n",
    "            nn.Linear(32, 16),\n",
    "            nn.ReLU(),\n",
    "            nn.Linear(16, 8),\n",
    "            nn.ReLU(),\n",
    "            nn.Linear(8, 1)\n",
    "        )\n",
    "\n",
    "    def forward(self, x):\n",
    "        x = self.layers(x)\n",
    "        x = x.squeeze(1) # (B, 1) -> (B)\n",
    "        return x"
   ]
  },
  {
   "cell_type": "markdown",
   "metadata": {},
   "source": [
    "# 训练过程"
   ]
  },
  {
   "cell_type": "code",
   "execution_count": 12,
   "metadata": {},
   "outputs": [],
   "source": [
    "def trainer(train_loader, valid_loader, model, config, device):\n",
    "\n",
    "    criterion = nn.MSELoss(reduction='mean') # Define your loss function, do not modify this.\n",
    "\n",
    "    # Define your optimization algorithm. \n",
    "    # TODO: Please check https://pytorch.org/docs/stable/optim.html to get more available algorithms.\n",
    "    # TODO: L2 regularization (optimizer(weight decay...) or implement by your self).\n",
    "    optimizer = torch.optim.SGD(model.parameters(), lr=config['learning_rate'], momentum=0.9) \n",
    "    \n",
    "    writer = SummaryWriter() # Writer of tensoboard.\n",
    "\n",
    "    if not os.path.isdir('./models'):\n",
    "        os.mkdir('./models') # Create directory of saving models.\n",
    "\n",
    "    n_epochs, best_loss, step, early_stop_count = config['n_epochs'], math.inf, 0, 0\n",
    "\n",
    "    for epoch in range(n_epochs):\n",
    "        model.train() # Set your model to train mode.\n",
    "        loss_record = []\n",
    "\n",
    "        # tqdm is a package to visualize your training progress.\n",
    "        train_pbar = tqdm(train_loader, position=0, leave=True)\n",
    "\n",
    "        for x, y in train_pbar:\n",
    "            optimizer.zero_grad()               # Set gradient to zero.\n",
    "            x, y = x.to(device), y.to(device)   # Move your data to device. \n",
    "            pred = model(x)                     # 前向传播\n",
    "            loss = criterion(pred, y)\n",
    "            loss.backward()                     # Compute gradient(backpropagation).反向传播\n",
    "            optimizer.step()                    # Update parameters.\n",
    "            step += 1\n",
    "            loss_record.append(loss.detach().item())\n",
    "            \n",
    "            # Display current epoch number and loss on tqdm progress bar.\n",
    "            train_pbar.set_description(f'Epoch [{epoch+1}/{n_epochs}]')\n",
    "            train_pbar.set_postfix({'loss': loss.detach().item()})\n",
    "\n",
    "        mean_train_loss = sum(loss_record)/len(loss_record)\n",
    "        writer.add_scalar('Loss/train', mean_train_loss, step)\n",
    "\n",
    "        model.eval() # Set your model to evaluation mode.\n",
    "        loss_record = []\n",
    "        for x, y in valid_loader:\n",
    "            x, y = x.to(device), y.to(device)\n",
    "            with torch.no_grad():\n",
    "                pred = model(x)\n",
    "                loss = criterion(pred, y)\n",
    "\n",
    "            loss_record.append(loss.item())\n",
    "            \n",
    "        mean_valid_loss = sum(loss_record)/len(loss_record)\n",
    "        print(f'Epoch [{epoch+1}/{n_epochs}]: Train loss: {mean_train_loss:.4f}, Valid loss: {mean_valid_loss:.4f}')\n",
    "        writer.add_scalar('Loss/valid', mean_valid_loss, step)\n",
    "        # 为了防止过拟合，使用验证集的损失来衡量模型的好坏，而非训练集的\n",
    "        if mean_valid_loss < best_loss:\n",
    "            best_loss = mean_valid_loss\n",
    "            torch.save(model.state_dict(), config['save_path']) # Save your best model\n",
    "            print('Saving model with loss {:.3f}...'.format(best_loss))\n",
    "            early_stop_count = 0\n",
    "        else: \n",
    "            early_stop_count += 1\n",
    "\n",
    "        if early_stop_count >= config['early_stop']:\n",
    "            print('\\nModel is not improving, so we halt the training session.')\n",
    "            return best_loss\n",
    "    return best_loss"
   ]
  },
  {
   "cell_type": "markdown",
   "metadata": {},
   "source": [
    "# Start Training"
   ]
  },
  {
   "cell_type": "code",
   "execution_count": 13,
   "metadata": {},
   "outputs": [
    {
     "name": "stderr",
     "output_type": "stream",
     "text": [
      "Epoch [1/3000]:   0%|          | 0/9 [00:00<?, ?it/s, loss=123]"
     ]
    },
    {
     "name": "stderr",
     "output_type": "stream",
     "text": [
      "Epoch [1/3000]: 100%|██████████| 9/9 [00:00<00:00, 123.48it/s, loss=109]\n"
     ]
    },
    {
     "name": "stdout",
     "output_type": "stream",
     "text": [
      "Epoch [1/3000]: Train loss: 120.2579, Valid loss: 101.8949\n",
      "Saving model with loss 101.895...\n"
     ]
    },
    {
     "name": "stderr",
     "output_type": "stream",
     "text": [
      "Epoch [2/3000]: 100%|██████████| 9/9 [00:00<00:00, 137.24it/s, loss=45.2]\n"
     ]
    },
    {
     "name": "stdout",
     "output_type": "stream",
     "text": [
      "Epoch [2/3000]: Train loss: 73.3634, Valid loss: 47.8807\n",
      "Saving model with loss 47.881...\n"
     ]
    },
    {
     "name": "stderr",
     "output_type": "stream",
     "text": [
      "Epoch [3/3000]: 100%|██████████| 9/9 [00:00<00:00, 141.93it/s, loss=42.1]\n"
     ]
    },
    {
     "name": "stdout",
     "output_type": "stream",
     "text": [
      "Epoch [3/3000]: Train loss: 36.9167, Valid loss: 42.9768\n",
      "Saving model with loss 42.977...\n"
     ]
    },
    {
     "name": "stderr",
     "output_type": "stream",
     "text": [
      "Epoch [4/3000]: 100%|██████████| 9/9 [00:00<00:00, 127.66it/s, loss=30.6]\n"
     ]
    },
    {
     "name": "stdout",
     "output_type": "stream",
     "text": [
      "Epoch [4/3000]: Train loss: 35.4818, Valid loss: 30.0898\n",
      "Saving model with loss 30.090...\n"
     ]
    },
    {
     "name": "stderr",
     "output_type": "stream",
     "text": [
      "Epoch [5/3000]: 100%|██████████| 9/9 [00:00<00:00, 143.53it/s, loss=29.7]\n"
     ]
    },
    {
     "name": "stdout",
     "output_type": "stream",
     "text": [
      "Epoch [5/3000]: Train loss: 30.5221, Valid loss: 36.1941\n"
     ]
    },
    {
     "name": "stderr",
     "output_type": "stream",
     "text": [
      "Epoch [6/3000]: 100%|██████████| 9/9 [00:00<00:00, 132.55it/s, loss=31.8]\n"
     ]
    },
    {
     "name": "stdout",
     "output_type": "stream",
     "text": [
      "Epoch [6/3000]: Train loss: 28.6418, Valid loss: 25.9725\n",
      "Saving model with loss 25.973...\n"
     ]
    },
    {
     "name": "stderr",
     "output_type": "stream",
     "text": [
      "Epoch [7/3000]: 100%|██████████| 9/9 [00:00<00:00, 129.82it/s, loss=25.7]\n"
     ]
    },
    {
     "name": "stdout",
     "output_type": "stream",
     "text": [
      "Epoch [7/3000]: Train loss: 25.9459, Valid loss: 26.8156\n"
     ]
    },
    {
     "name": "stderr",
     "output_type": "stream",
     "text": [
      "Epoch [8/3000]: 100%|██████████| 9/9 [00:00<00:00, 136.78it/s, loss=26.9]\n"
     ]
    },
    {
     "name": "stdout",
     "output_type": "stream",
     "text": [
      "Epoch [8/3000]: Train loss: 23.7136, Valid loss: 27.1478\n"
     ]
    },
    {
     "name": "stderr",
     "output_type": "stream",
     "text": [
      "Epoch [9/3000]: 100%|██████████| 9/9 [00:00<00:00, 138.10it/s, loss=23]\n"
     ]
    },
    {
     "name": "stdout",
     "output_type": "stream",
     "text": [
      "Epoch [9/3000]: Train loss: 21.5234, Valid loss: 20.3690\n",
      "Saving model with loss 20.369...\n"
     ]
    },
    {
     "name": "stderr",
     "output_type": "stream",
     "text": [
      "Epoch [10/3000]: 100%|██████████| 9/9 [00:00<00:00, 125.41it/s, loss=21]\n"
     ]
    },
    {
     "name": "stdout",
     "output_type": "stream",
     "text": [
      "Epoch [10/3000]: Train loss: 19.3870, Valid loss: 19.0632\n",
      "Saving model with loss 19.063...\n"
     ]
    },
    {
     "name": "stderr",
     "output_type": "stream",
     "text": [
      "Epoch [11/3000]: 100%|██████████| 9/9 [00:00<00:00, 134.87it/s, loss=14.8]\n"
     ]
    },
    {
     "name": "stdout",
     "output_type": "stream",
     "text": [
      "Epoch [11/3000]: Train loss: 16.9046, Valid loss: 16.1838\n",
      "Saving model with loss 16.184...\n"
     ]
    },
    {
     "name": "stderr",
     "output_type": "stream",
     "text": [
      "Epoch [12/3000]: 100%|██████████| 9/9 [00:00<00:00, 131.71it/s, loss=13.6]\n"
     ]
    },
    {
     "name": "stdout",
     "output_type": "stream",
     "text": [
      "Epoch [12/3000]: Train loss: 14.7085, Valid loss: 16.0045\n",
      "Saving model with loss 16.004...\n"
     ]
    },
    {
     "name": "stderr",
     "output_type": "stream",
     "text": [
      "Epoch [13/3000]: 100%|██████████| 9/9 [00:00<00:00, 131.05it/s, loss=12.8]\n"
     ]
    },
    {
     "name": "stdout",
     "output_type": "stream",
     "text": [
      "Epoch [13/3000]: Train loss: 12.6365, Valid loss: 10.4740\n",
      "Saving model with loss 10.474...\n"
     ]
    },
    {
     "name": "stderr",
     "output_type": "stream",
     "text": [
      "Epoch [14/3000]: 100%|██████████| 9/9 [00:00<00:00, 131.19it/s, loss=8.63]\n"
     ]
    },
    {
     "name": "stdout",
     "output_type": "stream",
     "text": [
      "Epoch [14/3000]: Train loss: 10.4499, Valid loss: 10.4061\n",
      "Saving model with loss 10.406...\n"
     ]
    },
    {
     "name": "stderr",
     "output_type": "stream",
     "text": [
      "Epoch [15/3000]: 100%|██████████| 9/9 [00:00<00:00, 131.86it/s, loss=10.1]\n"
     ]
    },
    {
     "name": "stdout",
     "output_type": "stream",
     "text": [
      "Epoch [15/3000]: Train loss: 8.9347, Valid loss: 9.9963\n",
      "Saving model with loss 9.996...\n"
     ]
    },
    {
     "name": "stderr",
     "output_type": "stream",
     "text": [
      "Epoch [16/3000]: 100%|██████████| 9/9 [00:00<00:00, 130.09it/s, loss=8.76]\n"
     ]
    },
    {
     "name": "stdout",
     "output_type": "stream",
     "text": [
      "Epoch [16/3000]: Train loss: 7.6328, Valid loss: 8.8101\n",
      "Saving model with loss 8.810...\n"
     ]
    },
    {
     "name": "stderr",
     "output_type": "stream",
     "text": [
      "Epoch [17/3000]: 100%|██████████| 9/9 [00:00<00:00, 125.22it/s, loss=4.87]\n"
     ]
    },
    {
     "name": "stdout",
     "output_type": "stream",
     "text": [
      "Epoch [17/3000]: Train loss: 6.5761, Valid loss: 6.5057\n",
      "Saving model with loss 6.506...\n"
     ]
    },
    {
     "name": "stderr",
     "output_type": "stream",
     "text": [
      "Epoch [18/3000]: 100%|██████████| 9/9 [00:00<00:00, 126.91it/s, loss=4.35]\n"
     ]
    },
    {
     "name": "stdout",
     "output_type": "stream",
     "text": [
      "Epoch [18/3000]: Train loss: 6.0597, Valid loss: 5.5987\n",
      "Saving model with loss 5.599...\n"
     ]
    },
    {
     "name": "stderr",
     "output_type": "stream",
     "text": [
      "Epoch [19/3000]: 100%|██████████| 9/9 [00:00<00:00, 139.39it/s, loss=6.19]\n"
     ]
    },
    {
     "name": "stdout",
     "output_type": "stream",
     "text": [
      "Epoch [19/3000]: Train loss: 5.9327, Valid loss: 5.6605\n"
     ]
    },
    {
     "name": "stderr",
     "output_type": "stream",
     "text": [
      "Epoch [20/3000]: 100%|██████████| 9/9 [00:00<00:00, 121.05it/s, loss=7.1]\n"
     ]
    },
    {
     "name": "stdout",
     "output_type": "stream",
     "text": [
      "Epoch [20/3000]: Train loss: 5.8983, Valid loss: 5.4250\n",
      "Saving model with loss 5.425...\n"
     ]
    },
    {
     "name": "stderr",
     "output_type": "stream",
     "text": [
      "Epoch [21/3000]: 100%|██████████| 9/9 [00:00<00:00, 157.01it/s, loss=4.24]\n"
     ]
    },
    {
     "name": "stdout",
     "output_type": "stream",
     "text": [
      "Epoch [21/3000]: Train loss: 5.6479, Valid loss: 5.7626\n"
     ]
    },
    {
     "name": "stderr",
     "output_type": "stream",
     "text": [
      "Epoch [22/3000]: 100%|██████████| 9/9 [00:00<00:00, 150.82it/s, loss=5.17]\n"
     ]
    },
    {
     "name": "stdout",
     "output_type": "stream",
     "text": [
      "Epoch [22/3000]: Train loss: 5.6583, Valid loss: 6.5757\n"
     ]
    },
    {
     "name": "stderr",
     "output_type": "stream",
     "text": [
      "Epoch [23/3000]: 100%|██████████| 9/9 [00:00<00:00, 64.24it/s, loss=5.41]\n"
     ]
    },
    {
     "name": "stdout",
     "output_type": "stream",
     "text": [
      "Epoch [23/3000]: Train loss: 5.6213, Valid loss: 7.4209\n"
     ]
    },
    {
     "name": "stderr",
     "output_type": "stream",
     "text": [
      "Epoch [24/3000]: 100%|██████████| 9/9 [00:00<00:00, 136.23it/s, loss=5.34]\n"
     ]
    },
    {
     "name": "stdout",
     "output_type": "stream",
     "text": [
      "Epoch [24/3000]: Train loss: 5.5632, Valid loss: 6.0935\n"
     ]
    },
    {
     "name": "stderr",
     "output_type": "stream",
     "text": [
      "Epoch [25/3000]: 100%|██████████| 9/9 [00:00<00:00, 179.88it/s, loss=4.97]\n"
     ]
    },
    {
     "name": "stdout",
     "output_type": "stream",
     "text": [
      "Epoch [25/3000]: Train loss: 5.4930, Valid loss: 7.0012\n"
     ]
    },
    {
     "name": "stderr",
     "output_type": "stream",
     "text": [
      "Epoch [26/3000]: 100%|██████████| 9/9 [00:00<00:00, 148.58it/s, loss=7.36]\n"
     ]
    },
    {
     "name": "stdout",
     "output_type": "stream",
     "text": [
      "Epoch [26/3000]: Train loss: 5.5906, Valid loss: 5.3448\n",
      "Saving model with loss 5.345...\n"
     ]
    },
    {
     "name": "stderr",
     "output_type": "stream",
     "text": [
      "Epoch [27/3000]: 100%|██████████| 9/9 [00:00<00:00, 124.84it/s, loss=5.48]\n"
     ]
    },
    {
     "name": "stdout",
     "output_type": "stream",
     "text": [
      "Epoch [27/3000]: Train loss: 5.4246, Valid loss: 6.3248\n"
     ]
    },
    {
     "name": "stderr",
     "output_type": "stream",
     "text": [
      "Epoch [28/3000]: 100%|██████████| 9/9 [00:00<00:00, 158.75it/s, loss=6.42]\n"
     ]
    },
    {
     "name": "stdout",
     "output_type": "stream",
     "text": [
      "Epoch [28/3000]: Train loss: 5.4449, Valid loss: 6.0473\n"
     ]
    },
    {
     "name": "stderr",
     "output_type": "stream",
     "text": [
      "Epoch [29/3000]: 100%|██████████| 9/9 [00:00<00:00, 147.37it/s, loss=5.22]\n"
     ]
    },
    {
     "name": "stdout",
     "output_type": "stream",
     "text": [
      "Epoch [29/3000]: Train loss: 5.3215, Valid loss: 4.7685\n",
      "Saving model with loss 4.768...\n"
     ]
    },
    {
     "name": "stderr",
     "output_type": "stream",
     "text": [
      "Epoch [30/3000]: 100%|██████████| 9/9 [00:00<00:00, 146.02it/s, loss=4.76]\n"
     ]
    },
    {
     "name": "stdout",
     "output_type": "stream",
     "text": [
      "Epoch [30/3000]: Train loss: 5.2395, Valid loss: 5.8543\n"
     ]
    },
    {
     "name": "stderr",
     "output_type": "stream",
     "text": [
      "Epoch [31/3000]: 100%|██████████| 9/9 [00:00<00:00, 129.58it/s, loss=5.16]\n"
     ]
    },
    {
     "name": "stdout",
     "output_type": "stream",
     "text": [
      "Epoch [31/3000]: Train loss: 5.2175, Valid loss: 5.3194\n"
     ]
    },
    {
     "name": "stderr",
     "output_type": "stream",
     "text": [
      "Epoch [32/3000]: 100%|██████████| 9/9 [00:00<00:00, 117.36it/s, loss=4.77]\n"
     ]
    },
    {
     "name": "stdout",
     "output_type": "stream",
     "text": [
      "Epoch [32/3000]: Train loss: 5.1476, Valid loss: 4.9840\n"
     ]
    },
    {
     "name": "stderr",
     "output_type": "stream",
     "text": [
      "Epoch [33/3000]: 100%|██████████| 9/9 [00:00<00:00, 116.38it/s, loss=5.42]\n"
     ]
    },
    {
     "name": "stdout",
     "output_type": "stream",
     "text": [
      "Epoch [33/3000]: Train loss: 5.1388, Valid loss: 4.8838\n"
     ]
    },
    {
     "name": "stderr",
     "output_type": "stream",
     "text": [
      "Epoch [34/3000]: 100%|██████████| 9/9 [00:00<00:00, 115.39it/s, loss=5.01]\n"
     ]
    },
    {
     "name": "stdout",
     "output_type": "stream",
     "text": [
      "Epoch [34/3000]: Train loss: 5.0692, Valid loss: 5.1328\n"
     ]
    },
    {
     "name": "stderr",
     "output_type": "stream",
     "text": [
      "Epoch [35/3000]: 100%|██████████| 9/9 [00:00<00:00, 110.65it/s, loss=5.52]\n"
     ]
    },
    {
     "name": "stdout",
     "output_type": "stream",
     "text": [
      "Epoch [35/3000]: Train loss: 5.0529, Valid loss: 6.4828\n"
     ]
    },
    {
     "name": "stderr",
     "output_type": "stream",
     "text": [
      "Epoch [36/3000]: 100%|██████████| 9/9 [00:00<00:00, 122.80it/s, loss=5.39]\n"
     ]
    },
    {
     "name": "stdout",
     "output_type": "stream",
     "text": [
      "Epoch [36/3000]: Train loss: 4.9976, Valid loss: 5.1672\n"
     ]
    },
    {
     "name": "stderr",
     "output_type": "stream",
     "text": [
      "Epoch [37/3000]: 100%|██████████| 9/9 [00:00<00:00, 117.74it/s, loss=3.19]\n"
     ]
    },
    {
     "name": "stdout",
     "output_type": "stream",
     "text": [
      "Epoch [37/3000]: Train loss: 4.8250, Valid loss: 4.8883\n"
     ]
    },
    {
     "name": "stderr",
     "output_type": "stream",
     "text": [
      "Epoch [38/3000]: 100%|██████████| 9/9 [00:00<00:00, 115.82it/s, loss=5.85]\n"
     ]
    },
    {
     "name": "stdout",
     "output_type": "stream",
     "text": [
      "Epoch [38/3000]: Train loss: 4.9415, Valid loss: 4.9626\n"
     ]
    },
    {
     "name": "stderr",
     "output_type": "stream",
     "text": [
      "Epoch [39/3000]: 100%|██████████| 9/9 [00:00<00:00, 118.37it/s, loss=5.53]\n"
     ]
    },
    {
     "name": "stdout",
     "output_type": "stream",
     "text": [
      "Epoch [39/3000]: Train loss: 4.8791, Valid loss: 4.9720\n"
     ]
    },
    {
     "name": "stderr",
     "output_type": "stream",
     "text": [
      "Epoch [40/3000]: 100%|██████████| 9/9 [00:00<00:00, 163.64it/s, loss=4.48]\n"
     ]
    },
    {
     "name": "stdout",
     "output_type": "stream",
     "text": [
      "Epoch [40/3000]: Train loss: 4.7676, Valid loss: 4.9705\n"
     ]
    },
    {
     "name": "stderr",
     "output_type": "stream",
     "text": [
      "Epoch [41/3000]: 100%|██████████| 9/9 [00:00<00:00, 155.60it/s, loss=4.42]\n"
     ]
    },
    {
     "name": "stdout",
     "output_type": "stream",
     "text": [
      "Epoch [41/3000]: Train loss: 4.7158, Valid loss: 3.9018\n",
      "Saving model with loss 3.902...\n"
     ]
    },
    {
     "name": "stderr",
     "output_type": "stream",
     "text": [
      "Epoch [42/3000]: 100%|██████████| 9/9 [00:00<00:00, 113.83it/s, loss=4.87]\n"
     ]
    },
    {
     "name": "stdout",
     "output_type": "stream",
     "text": [
      "Epoch [42/3000]: Train loss: 4.6979, Valid loss: 4.4673\n"
     ]
    },
    {
     "name": "stderr",
     "output_type": "stream",
     "text": [
      "Epoch [43/3000]: 100%|██████████| 9/9 [00:00<00:00, 135.59it/s, loss=4.98]\n"
     ]
    },
    {
     "name": "stdout",
     "output_type": "stream",
     "text": [
      "Epoch [43/3000]: Train loss: 4.6651, Valid loss: 4.2699\n"
     ]
    },
    {
     "name": "stderr",
     "output_type": "stream",
     "text": [
      "Epoch [44/3000]: 100%|██████████| 9/9 [00:00<00:00, 136.18it/s, loss=5.28]\n"
     ]
    },
    {
     "name": "stdout",
     "output_type": "stream",
     "text": [
      "Epoch [44/3000]: Train loss: 4.6468, Valid loss: 4.7228\n"
     ]
    },
    {
     "name": "stderr",
     "output_type": "stream",
     "text": [
      "Epoch [45/3000]: 100%|██████████| 9/9 [00:00<00:00, 136.72it/s, loss=4.58]\n"
     ]
    },
    {
     "name": "stdout",
     "output_type": "stream",
     "text": [
      "Epoch [45/3000]: Train loss: 4.5511, Valid loss: 4.9974\n"
     ]
    },
    {
     "name": "stderr",
     "output_type": "stream",
     "text": [
      "Epoch [46/3000]: 100%|██████████| 9/9 [00:00<00:00, 127.76it/s, loss=5.07]\n"
     ]
    },
    {
     "name": "stdout",
     "output_type": "stream",
     "text": [
      "Epoch [46/3000]: Train loss: 4.5372, Valid loss: 5.3733\n"
     ]
    },
    {
     "name": "stderr",
     "output_type": "stream",
     "text": [
      "Epoch [47/3000]: 100%|██████████| 9/9 [00:00<00:00, 153.56it/s, loss=4.62]\n"
     ]
    },
    {
     "name": "stdout",
     "output_type": "stream",
     "text": [
      "Epoch [47/3000]: Train loss: 4.4669, Valid loss: 4.3024\n"
     ]
    },
    {
     "name": "stderr",
     "output_type": "stream",
     "text": [
      "Epoch [48/3000]: 100%|██████████| 9/9 [00:00<00:00, 139.94it/s, loss=4.85]\n"
     ]
    },
    {
     "name": "stdout",
     "output_type": "stream",
     "text": [
      "Epoch [48/3000]: Train loss: 4.4456, Valid loss: 4.1783\n"
     ]
    },
    {
     "name": "stderr",
     "output_type": "stream",
     "text": [
      "Epoch [49/3000]: 100%|██████████| 9/9 [00:00<00:00, 138.61it/s, loss=4.63]\n"
     ]
    },
    {
     "name": "stdout",
     "output_type": "stream",
     "text": [
      "Epoch [49/3000]: Train loss: 4.3854, Valid loss: 4.6127\n"
     ]
    },
    {
     "name": "stderr",
     "output_type": "stream",
     "text": [
      "Epoch [50/3000]: 100%|██████████| 9/9 [00:00<00:00, 126.82it/s, loss=4.56]\n"
     ]
    },
    {
     "name": "stdout",
     "output_type": "stream",
     "text": [
      "Epoch [50/3000]: Train loss: 4.3430, Valid loss: 3.9285\n"
     ]
    },
    {
     "name": "stderr",
     "output_type": "stream",
     "text": [
      "Epoch [51/3000]: 100%|██████████| 9/9 [00:00<00:00, 149.96it/s, loss=4.01]\n"
     ]
    },
    {
     "name": "stdout",
     "output_type": "stream",
     "text": [
      "Epoch [51/3000]: Train loss: 4.2658, Valid loss: 5.0423\n"
     ]
    },
    {
     "name": "stderr",
     "output_type": "stream",
     "text": [
      "Epoch [52/3000]: 100%|██████████| 9/9 [00:00<00:00, 139.28it/s, loss=3.72]\n"
     ]
    },
    {
     "name": "stdout",
     "output_type": "stream",
     "text": [
      "Epoch [52/3000]: Train loss: 4.2104, Valid loss: 3.9940\n"
     ]
    },
    {
     "name": "stderr",
     "output_type": "stream",
     "text": [
      "Epoch [53/3000]: 100%|██████████| 9/9 [00:00<00:00, 126.23it/s, loss=3.47]\n"
     ]
    },
    {
     "name": "stdout",
     "output_type": "stream",
     "text": [
      "Epoch [53/3000]: Train loss: 4.1579, Valid loss: 4.4108\n"
     ]
    },
    {
     "name": "stderr",
     "output_type": "stream",
     "text": [
      "Epoch [54/3000]: 100%|██████████| 9/9 [00:00<00:00, 138.83it/s, loss=3.89]\n"
     ]
    },
    {
     "name": "stdout",
     "output_type": "stream",
     "text": [
      "Epoch [54/3000]: Train loss: 4.1450, Valid loss: 4.5193\n"
     ]
    },
    {
     "name": "stderr",
     "output_type": "stream",
     "text": [
      "Epoch [55/3000]: 100%|██████████| 9/9 [00:00<00:00, 157.04it/s, loss=3.43]\n"
     ]
    },
    {
     "name": "stdout",
     "output_type": "stream",
     "text": [
      "Epoch [55/3000]: Train loss: 4.0712, Valid loss: 4.4945\n"
     ]
    },
    {
     "name": "stderr",
     "output_type": "stream",
     "text": [
      "Epoch [56/3000]: 100%|██████████| 9/9 [00:00<00:00, 147.66it/s, loss=4.01]\n"
     ]
    },
    {
     "name": "stdout",
     "output_type": "stream",
     "text": [
      "Epoch [56/3000]: Train loss: 4.0738, Valid loss: 4.2949\n"
     ]
    },
    {
     "name": "stderr",
     "output_type": "stream",
     "text": [
      "Epoch [57/3000]: 100%|██████████| 9/9 [00:00<00:00, 163.86it/s, loss=3.49]\n"
     ]
    },
    {
     "name": "stdout",
     "output_type": "stream",
     "text": [
      "Epoch [57/3000]: Train loss: 4.0007, Valid loss: 4.2856\n"
     ]
    },
    {
     "name": "stderr",
     "output_type": "stream",
     "text": [
      "Epoch [58/3000]: 100%|██████████| 9/9 [00:00<00:00, 157.43it/s, loss=3.91]\n"
     ]
    },
    {
     "name": "stdout",
     "output_type": "stream",
     "text": [
      "Epoch [58/3000]: Train loss: 3.9987, Valid loss: 3.6519\n",
      "Saving model with loss 3.652...\n"
     ]
    },
    {
     "name": "stderr",
     "output_type": "stream",
     "text": [
      "Epoch [59/3000]: 100%|██████████| 9/9 [00:00<00:00, 156.56it/s, loss=3.59]\n"
     ]
    },
    {
     "name": "stdout",
     "output_type": "stream",
     "text": [
      "Epoch [59/3000]: Train loss: 3.9518, Valid loss: 3.8622\n"
     ]
    },
    {
     "name": "stderr",
     "output_type": "stream",
     "text": [
      "Epoch [60/3000]: 100%|██████████| 9/9 [00:00<00:00, 171.63it/s, loss=3.47]\n"
     ]
    },
    {
     "name": "stdout",
     "output_type": "stream",
     "text": [
      "Epoch [60/3000]: Train loss: 3.9045, Valid loss: 4.2538\n"
     ]
    },
    {
     "name": "stderr",
     "output_type": "stream",
     "text": [
      "Epoch [61/3000]: 100%|██████████| 9/9 [00:00<00:00, 153.26it/s, loss=4.13]\n"
     ]
    },
    {
     "name": "stdout",
     "output_type": "stream",
     "text": [
      "Epoch [61/3000]: Train loss: 3.9309, Valid loss: 4.0240\n"
     ]
    },
    {
     "name": "stderr",
     "output_type": "stream",
     "text": [
      "Epoch [62/3000]: 100%|██████████| 9/9 [00:00<00:00, 189.11it/s, loss=4.79]\n"
     ]
    },
    {
     "name": "stdout",
     "output_type": "stream",
     "text": [
      "Epoch [62/3000]: Train loss: 3.9128, Valid loss: 3.8276\n"
     ]
    },
    {
     "name": "stderr",
     "output_type": "stream",
     "text": [
      "Epoch [63/3000]: 100%|██████████| 9/9 [00:00<00:00, 136.57it/s, loss=4.17]\n"
     ]
    },
    {
     "name": "stdout",
     "output_type": "stream",
     "text": [
      "Epoch [63/3000]: Train loss: 3.8376, Valid loss: 3.3349\n",
      "Saving model with loss 3.335...\n"
     ]
    },
    {
     "name": "stderr",
     "output_type": "stream",
     "text": [
      "Epoch [64/3000]: 100%|██████████| 9/9 [00:00<00:00, 58.51it/s, loss=3.92]\n"
     ]
    },
    {
     "name": "stdout",
     "output_type": "stream",
     "text": [
      "Epoch [64/3000]: Train loss: 3.7929, Valid loss: 4.1576\n"
     ]
    },
    {
     "name": "stderr",
     "output_type": "stream",
     "text": [
      "Epoch [65/3000]: 100%|██████████| 9/9 [00:00<00:00, 167.36it/s, loss=3.38]\n"
     ]
    },
    {
     "name": "stdout",
     "output_type": "stream",
     "text": [
      "Epoch [65/3000]: Train loss: 3.7171, Valid loss: 3.6902\n"
     ]
    },
    {
     "name": "stderr",
     "output_type": "stream",
     "text": [
      "Epoch [66/3000]: 100%|██████████| 9/9 [00:00<00:00, 155.63it/s, loss=3.63]\n"
     ]
    },
    {
     "name": "stdout",
     "output_type": "stream",
     "text": [
      "Epoch [66/3000]: Train loss: 3.7024, Valid loss: 3.7462\n"
     ]
    },
    {
     "name": "stderr",
     "output_type": "stream",
     "text": [
      "Epoch [67/3000]: 100%|██████████| 9/9 [00:00<00:00, 123.49it/s, loss=4.13]\n"
     ]
    },
    {
     "name": "stdout",
     "output_type": "stream",
     "text": [
      "Epoch [67/3000]: Train loss: 3.6950, Valid loss: 3.9687\n"
     ]
    },
    {
     "name": "stderr",
     "output_type": "stream",
     "text": [
      "Epoch [68/3000]: 100%|██████████| 9/9 [00:00<00:00, 156.48it/s, loss=3.12]\n"
     ]
    },
    {
     "name": "stdout",
     "output_type": "stream",
     "text": [
      "Epoch [68/3000]: Train loss: 3.6181, Valid loss: 3.7640\n"
     ]
    },
    {
     "name": "stderr",
     "output_type": "stream",
     "text": [
      "Epoch [69/3000]: 100%|██████████| 9/9 [00:00<00:00, 139.94it/s, loss=3.88]\n"
     ]
    },
    {
     "name": "stdout",
     "output_type": "stream",
     "text": [
      "Epoch [69/3000]: Train loss: 3.6217, Valid loss: 3.6792\n"
     ]
    },
    {
     "name": "stderr",
     "output_type": "stream",
     "text": [
      "Epoch [70/3000]: 100%|██████████| 9/9 [00:00<00:00, 143.06it/s, loss=3.18]\n"
     ]
    },
    {
     "name": "stdout",
     "output_type": "stream",
     "text": [
      "Epoch [70/3000]: Train loss: 3.5330, Valid loss: 3.7604\n"
     ]
    },
    {
     "name": "stderr",
     "output_type": "stream",
     "text": [
      "Epoch [71/3000]: 100%|██████████| 9/9 [00:00<00:00, 148.42it/s, loss=3.65]\n"
     ]
    },
    {
     "name": "stdout",
     "output_type": "stream",
     "text": [
      "Epoch [71/3000]: Train loss: 3.5339, Valid loss: 3.8091\n"
     ]
    },
    {
     "name": "stderr",
     "output_type": "stream",
     "text": [
      "Epoch [72/3000]: 100%|██████████| 9/9 [00:00<00:00, 142.06it/s, loss=4.34]\n"
     ]
    },
    {
     "name": "stdout",
     "output_type": "stream",
     "text": [
      "Epoch [72/3000]: Train loss: 3.5412, Valid loss: 3.3857\n"
     ]
    },
    {
     "name": "stderr",
     "output_type": "stream",
     "text": [
      "Epoch [73/3000]: 100%|██████████| 9/9 [00:00<00:00, 141.47it/s, loss=2.91]\n"
     ]
    },
    {
     "name": "stdout",
     "output_type": "stream",
     "text": [
      "Epoch [73/3000]: Train loss: 3.4264, Valid loss: 3.3149\n",
      "Saving model with loss 3.315...\n"
     ]
    },
    {
     "name": "stderr",
     "output_type": "stream",
     "text": [
      "Epoch [74/3000]: 100%|██████████| 9/9 [00:00<00:00, 136.10it/s, loss=2.85]\n"
     ]
    },
    {
     "name": "stdout",
     "output_type": "stream",
     "text": [
      "Epoch [74/3000]: Train loss: 3.3901, Valid loss: 3.6718\n"
     ]
    },
    {
     "name": "stderr",
     "output_type": "stream",
     "text": [
      "Epoch [75/3000]: 100%|██████████| 9/9 [00:00<00:00, 141.23it/s, loss=3.18]\n"
     ]
    },
    {
     "name": "stdout",
     "output_type": "stream",
     "text": [
      "Epoch [75/3000]: Train loss: 3.3740, Valid loss: 3.2595\n",
      "Saving model with loss 3.259...\n"
     ]
    },
    {
     "name": "stderr",
     "output_type": "stream",
     "text": [
      "Epoch [76/3000]: 100%|██████████| 9/9 [00:00<00:00, 136.09it/s, loss=2.64]\n"
     ]
    },
    {
     "name": "stdout",
     "output_type": "stream",
     "text": [
      "Epoch [76/3000]: Train loss: 3.3049, Valid loss: 3.3547\n"
     ]
    },
    {
     "name": "stderr",
     "output_type": "stream",
     "text": [
      "Epoch [77/3000]: 100%|██████████| 9/9 [00:00<00:00, 134.26it/s, loss=3.81]\n"
     ]
    },
    {
     "name": "stdout",
     "output_type": "stream",
     "text": [
      "Epoch [77/3000]: Train loss: 3.3470, Valid loss: 3.0770\n",
      "Saving model with loss 3.077...\n"
     ]
    },
    {
     "name": "stderr",
     "output_type": "stream",
     "text": [
      "Epoch [78/3000]: 100%|██████████| 9/9 [00:00<00:00, 135.91it/s, loss=3.15]\n"
     ]
    },
    {
     "name": "stdout",
     "output_type": "stream",
     "text": [
      "Epoch [78/3000]: Train loss: 3.2732, Valid loss: 3.0065\n",
      "Saving model with loss 3.007...\n"
     ]
    },
    {
     "name": "stderr",
     "output_type": "stream",
     "text": [
      "Epoch [79/3000]: 100%|██████████| 9/9 [00:00<00:00, 139.34it/s, loss=3.38]\n"
     ]
    },
    {
     "name": "stdout",
     "output_type": "stream",
     "text": [
      "Epoch [79/3000]: Train loss: 3.2567, Valid loss: 3.3372\n"
     ]
    },
    {
     "name": "stderr",
     "output_type": "stream",
     "text": [
      "Epoch [80/3000]: 100%|██████████| 9/9 [00:00<00:00, 140.91it/s, loss=3.36]\n"
     ]
    },
    {
     "name": "stdout",
     "output_type": "stream",
     "text": [
      "Epoch [80/3000]: Train loss: 3.2313, Valid loss: 2.8383\n",
      "Saving model with loss 2.838...\n"
     ]
    },
    {
     "name": "stderr",
     "output_type": "stream",
     "text": [
      "Epoch [81/3000]: 100%|██████████| 9/9 [00:00<00:00, 145.54it/s, loss=2.34]\n"
     ]
    },
    {
     "name": "stdout",
     "output_type": "stream",
     "text": [
      "Epoch [81/3000]: Train loss: 3.1394, Valid loss: 3.3694\n"
     ]
    },
    {
     "name": "stderr",
     "output_type": "stream",
     "text": [
      "Epoch [82/3000]: 100%|██████████| 9/9 [00:00<00:00, 148.61it/s, loss=3.02]\n"
     ]
    },
    {
     "name": "stdout",
     "output_type": "stream",
     "text": [
      "Epoch [82/3000]: Train loss: 3.1490, Valid loss: 3.3970\n"
     ]
    },
    {
     "name": "stderr",
     "output_type": "stream",
     "text": [
      "Epoch [83/3000]: 100%|██████████| 9/9 [00:00<00:00, 164.04it/s, loss=3.38]\n"
     ]
    },
    {
     "name": "stdout",
     "output_type": "stream",
     "text": [
      "Epoch [83/3000]: Train loss: 3.1477, Valid loss: 2.8453\n"
     ]
    },
    {
     "name": "stderr",
     "output_type": "stream",
     "text": [
      "Epoch [84/3000]: 100%|██████████| 9/9 [00:00<00:00, 153.30it/s, loss=3.01]\n"
     ]
    },
    {
     "name": "stdout",
     "output_type": "stream",
     "text": [
      "Epoch [84/3000]: Train loss: 3.0884, Valid loss: 2.8667\n"
     ]
    },
    {
     "name": "stderr",
     "output_type": "stream",
     "text": [
      "Epoch [85/3000]: 100%|██████████| 9/9 [00:00<00:00, 153.36it/s, loss=2.99]\n"
     ]
    },
    {
     "name": "stdout",
     "output_type": "stream",
     "text": [
      "Epoch [85/3000]: Train loss: 3.0633, Valid loss: 2.8984\n"
     ]
    },
    {
     "name": "stderr",
     "output_type": "stream",
     "text": [
      "Epoch [86/3000]: 100%|██████████| 9/9 [00:00<00:00, 137.88it/s, loss=3.03]\n"
     ]
    },
    {
     "name": "stdout",
     "output_type": "stream",
     "text": [
      "Epoch [86/3000]: Train loss: 3.0352, Valid loss: 3.1178\n"
     ]
    },
    {
     "name": "stderr",
     "output_type": "stream",
     "text": [
      "Epoch [87/3000]: 100%|██████████| 9/9 [00:00<00:00, 158.18it/s, loss=2.78]\n"
     ]
    },
    {
     "name": "stdout",
     "output_type": "stream",
     "text": [
      "Epoch [87/3000]: Train loss: 2.9862, Valid loss: 3.6309\n"
     ]
    },
    {
     "name": "stderr",
     "output_type": "stream",
     "text": [
      "Epoch [88/3000]: 100%|██████████| 9/9 [00:00<00:00, 156.86it/s, loss=3.62]\n"
     ]
    },
    {
     "name": "stdout",
     "output_type": "stream",
     "text": [
      "Epoch [88/3000]: Train loss: 3.0125, Valid loss: 2.8985\n"
     ]
    },
    {
     "name": "stderr",
     "output_type": "stream",
     "text": [
      "Epoch [89/3000]: 100%|██████████| 9/9 [00:00<00:00, 155.30it/s, loss=2.01]\n"
     ]
    },
    {
     "name": "stdout",
     "output_type": "stream",
     "text": [
      "Epoch [89/3000]: Train loss: 2.8988, Valid loss: 2.6651\n",
      "Saving model with loss 2.665...\n"
     ]
    },
    {
     "name": "stderr",
     "output_type": "stream",
     "text": [
      "Epoch [90/3000]: 100%|██████████| 9/9 [00:00<00:00, 160.00it/s, loss=2.49]\n"
     ]
    },
    {
     "name": "stdout",
     "output_type": "stream",
     "text": [
      "Epoch [90/3000]: Train loss: 2.8806, Valid loss: 3.1716\n"
     ]
    },
    {
     "name": "stderr",
     "output_type": "stream",
     "text": [
      "Epoch [91/3000]: 100%|██████████| 9/9 [00:00<00:00, 137.32it/s, loss=2.94]\n"
     ]
    },
    {
     "name": "stdout",
     "output_type": "stream",
     "text": [
      "Epoch [91/3000]: Train loss: 2.8859, Valid loss: 2.5747\n",
      "Saving model with loss 2.575...\n"
     ]
    },
    {
     "name": "stderr",
     "output_type": "stream",
     "text": [
      "Epoch [92/3000]: 100%|██████████| 9/9 [00:00<00:00, 146.09it/s, loss=2.19]\n"
     ]
    },
    {
     "name": "stdout",
     "output_type": "stream",
     "text": [
      "Epoch [92/3000]: Train loss: 2.8302, Valid loss: 2.9392\n"
     ]
    },
    {
     "name": "stderr",
     "output_type": "stream",
     "text": [
      "Epoch [93/3000]: 100%|██████████| 9/9 [00:00<00:00, 137.13it/s, loss=2.47]\n"
     ]
    },
    {
     "name": "stdout",
     "output_type": "stream",
     "text": [
      "Epoch [93/3000]: Train loss: 2.8104, Valid loss: 2.4616\n",
      "Saving model with loss 2.462...\n"
     ]
    },
    {
     "name": "stderr",
     "output_type": "stream",
     "text": [
      "Epoch [94/3000]: 100%|██████████| 9/9 [00:00<00:00, 148.26it/s, loss=2.59]\n"
     ]
    },
    {
     "name": "stdout",
     "output_type": "stream",
     "text": [
      "Epoch [94/3000]: Train loss: 2.7868, Valid loss: 2.3781\n",
      "Saving model with loss 2.378...\n"
     ]
    },
    {
     "name": "stderr",
     "output_type": "stream",
     "text": [
      "Epoch [95/3000]: 100%|██████████| 9/9 [00:00<00:00, 117.94it/s, loss=2.45]\n"
     ]
    },
    {
     "name": "stdout",
     "output_type": "stream",
     "text": [
      "Epoch [95/3000]: Train loss: 2.7645, Valid loss: 3.1200\n"
     ]
    },
    {
     "name": "stderr",
     "output_type": "stream",
     "text": [
      "Epoch [96/3000]: 100%|██████████| 9/9 [00:00<00:00, 127.77it/s, loss=2.78]\n"
     ]
    },
    {
     "name": "stdout",
     "output_type": "stream",
     "text": [
      "Epoch [96/3000]: Train loss: 2.7535, Valid loss: 2.8491\n"
     ]
    },
    {
     "name": "stderr",
     "output_type": "stream",
     "text": [
      "Epoch [97/3000]: 100%|██████████| 9/9 [00:00<00:00, 128.56it/s, loss=3]\n"
     ]
    },
    {
     "name": "stdout",
     "output_type": "stream",
     "text": [
      "Epoch [97/3000]: Train loss: 2.7415, Valid loss: 3.0484\n"
     ]
    },
    {
     "name": "stderr",
     "output_type": "stream",
     "text": [
      "Epoch [98/3000]: 100%|██████████| 9/9 [00:00<00:00, 112.57it/s, loss=2.67]\n"
     ]
    },
    {
     "name": "stdout",
     "output_type": "stream",
     "text": [
      "Epoch [98/3000]: Train loss: 2.6946, Valid loss: 2.6795\n"
     ]
    },
    {
     "name": "stderr",
     "output_type": "stream",
     "text": [
      "Epoch [99/3000]: 100%|██████████| 9/9 [00:00<00:00, 134.29it/s, loss=3.24]\n"
     ]
    },
    {
     "name": "stdout",
     "output_type": "stream",
     "text": [
      "Epoch [99/3000]: Train loss: 2.7149, Valid loss: 2.8396\n"
     ]
    },
    {
     "name": "stderr",
     "output_type": "stream",
     "text": [
      "Epoch [100/3000]: 100%|██████████| 9/9 [00:00<00:00, 138.91it/s, loss=2.26]\n"
     ]
    },
    {
     "name": "stdout",
     "output_type": "stream",
     "text": [
      "Epoch [100/3000]: Train loss: 2.6238, Valid loss: 3.0000\n"
     ]
    },
    {
     "name": "stderr",
     "output_type": "stream",
     "text": [
      "Epoch [101/3000]: 100%|██████████| 9/9 [00:00<00:00, 128.42it/s, loss=2.67]\n"
     ]
    },
    {
     "name": "stdout",
     "output_type": "stream",
     "text": [
      "Epoch [101/3000]: Train loss: 2.6269, Valid loss: 2.6318\n"
     ]
    },
    {
     "name": "stderr",
     "output_type": "stream",
     "text": [
      "Epoch [102/3000]: 100%|██████████| 9/9 [00:00<00:00, 132.94it/s, loss=1.95]\n"
     ]
    },
    {
     "name": "stdout",
     "output_type": "stream",
     "text": [
      "Epoch [102/3000]: Train loss: 2.5838, Valid loss: 3.0070\n"
     ]
    },
    {
     "name": "stderr",
     "output_type": "stream",
     "text": [
      "Epoch [103/3000]: 100%|██████████| 9/9 [00:00<00:00, 130.31it/s, loss=2.81]\n"
     ]
    },
    {
     "name": "stdout",
     "output_type": "stream",
     "text": [
      "Epoch [103/3000]: Train loss: 2.5974, Valid loss: 2.4654\n"
     ]
    },
    {
     "name": "stderr",
     "output_type": "stream",
     "text": [
      "Epoch [104/3000]: 100%|██████████| 9/9 [00:00<00:00, 125.10it/s, loss=2.84]\n"
     ]
    },
    {
     "name": "stdout",
     "output_type": "stream",
     "text": [
      "Epoch [104/3000]: Train loss: 2.5689, Valid loss: 2.7171\n"
     ]
    },
    {
     "name": "stderr",
     "output_type": "stream",
     "text": [
      "Epoch [105/3000]: 100%|██████████| 9/9 [00:00<00:00, 59.11it/s, loss=2.82]\n"
     ]
    },
    {
     "name": "stdout",
     "output_type": "stream",
     "text": [
      "Epoch [105/3000]: Train loss: 2.5488, Valid loss: 2.2693\n",
      "Saving model with loss 2.269...\n"
     ]
    },
    {
     "name": "stderr",
     "output_type": "stream",
     "text": [
      "Epoch [106/3000]: 100%|██████████| 9/9 [00:00<00:00, 155.87it/s, loss=2.36]\n"
     ]
    },
    {
     "name": "stdout",
     "output_type": "stream",
     "text": [
      "Epoch [106/3000]: Train loss: 2.4982, Valid loss: 2.8722\n"
     ]
    },
    {
     "name": "stderr",
     "output_type": "stream",
     "text": [
      "Epoch [107/3000]: 100%|██████████| 9/9 [00:00<00:00, 139.80it/s, loss=2.81]\n"
     ]
    },
    {
     "name": "stdout",
     "output_type": "stream",
     "text": [
      "Epoch [107/3000]: Train loss: 2.5075, Valid loss: 2.3476\n"
     ]
    },
    {
     "name": "stderr",
     "output_type": "stream",
     "text": [
      "Epoch [108/3000]: 100%|██████████| 9/9 [00:00<00:00, 162.94it/s, loss=2.31]\n"
     ]
    },
    {
     "name": "stdout",
     "output_type": "stream",
     "text": [
      "Epoch [108/3000]: Train loss: 2.4542, Valid loss: 2.5816\n"
     ]
    },
    {
     "name": "stderr",
     "output_type": "stream",
     "text": [
      "Epoch [109/3000]: 100%|██████████| 9/9 [00:00<00:00, 162.48it/s, loss=2.33]\n"
     ]
    },
    {
     "name": "stdout",
     "output_type": "stream",
     "text": [
      "Epoch [109/3000]: Train loss: 2.4375, Valid loss: 2.0806\n",
      "Saving model with loss 2.081...\n"
     ]
    },
    {
     "name": "stderr",
     "output_type": "stream",
     "text": [
      "Epoch [110/3000]: 100%|██████████| 9/9 [00:00<00:00, 164.00it/s, loss=2]\n"
     ]
    },
    {
     "name": "stdout",
     "output_type": "stream",
     "text": [
      "Epoch [110/3000]: Train loss: 2.4001, Valid loss: 2.6895\n"
     ]
    },
    {
     "name": "stderr",
     "output_type": "stream",
     "text": [
      "Epoch [111/3000]: 100%|██████████| 9/9 [00:00<00:00, 164.74it/s, loss=1.82]\n"
     ]
    },
    {
     "name": "stdout",
     "output_type": "stream",
     "text": [
      "Epoch [111/3000]: Train loss: 2.3731, Valid loss: 2.6540\n"
     ]
    },
    {
     "name": "stderr",
     "output_type": "stream",
     "text": [
      "Epoch [112/3000]: 100%|██████████| 9/9 [00:00<00:00, 154.21it/s, loss=2.15]\n"
     ]
    },
    {
     "name": "stdout",
     "output_type": "stream",
     "text": [
      "Epoch [112/3000]: Train loss: 2.3735, Valid loss: 2.4259\n"
     ]
    },
    {
     "name": "stderr",
     "output_type": "stream",
     "text": [
      "Epoch [113/3000]: 100%|██████████| 9/9 [00:00<00:00, 153.88it/s, loss=2.34]\n"
     ]
    },
    {
     "name": "stdout",
     "output_type": "stream",
     "text": [
      "Epoch [113/3000]: Train loss: 2.3641, Valid loss: 2.3474\n"
     ]
    },
    {
     "name": "stderr",
     "output_type": "stream",
     "text": [
      "Epoch [114/3000]: 100%|██████████| 9/9 [00:00<00:00, 119.17it/s, loss=2.26]\n"
     ]
    },
    {
     "name": "stdout",
     "output_type": "stream",
     "text": [
      "Epoch [114/3000]: Train loss: 2.3431, Valid loss: 2.9295\n"
     ]
    },
    {
     "name": "stderr",
     "output_type": "stream",
     "text": [
      "Epoch [115/3000]: 100%|██████████| 9/9 [00:00<00:00, 122.11it/s, loss=2.13]\n"
     ]
    },
    {
     "name": "stdout",
     "output_type": "stream",
     "text": [
      "Epoch [115/3000]: Train loss: 2.3233, Valid loss: 2.6363\n"
     ]
    },
    {
     "name": "stderr",
     "output_type": "stream",
     "text": [
      "Epoch [116/3000]: 100%|██████████| 9/9 [00:00<00:00, 125.27it/s, loss=2.5]\n"
     ]
    },
    {
     "name": "stdout",
     "output_type": "stream",
     "text": [
      "Epoch [116/3000]: Train loss: 2.3260, Valid loss: 3.0532\n"
     ]
    },
    {
     "name": "stderr",
     "output_type": "stream",
     "text": [
      "Epoch [117/3000]: 100%|██████████| 9/9 [00:00<00:00, 125.80it/s, loss=2.23]\n"
     ]
    },
    {
     "name": "stdout",
     "output_type": "stream",
     "text": [
      "Epoch [117/3000]: Train loss: 2.3030, Valid loss: 2.0342\n",
      "Saving model with loss 2.034...\n"
     ]
    },
    {
     "name": "stderr",
     "output_type": "stream",
     "text": [
      "Epoch [118/3000]: 100%|██████████| 9/9 [00:00<00:00, 124.61it/s, loss=2.59]\n"
     ]
    },
    {
     "name": "stdout",
     "output_type": "stream",
     "text": [
      "Epoch [118/3000]: Train loss: 2.3019, Valid loss: 2.3921\n"
     ]
    },
    {
     "name": "stderr",
     "output_type": "stream",
     "text": [
      "Epoch [119/3000]: 100%|██████████| 9/9 [00:00<00:00, 127.60it/s, loss=2.2]\n"
     ]
    },
    {
     "name": "stdout",
     "output_type": "stream",
     "text": [
      "Epoch [119/3000]: Train loss: 2.2582, Valid loss: 2.0293\n",
      "Saving model with loss 2.029...\n"
     ]
    },
    {
     "name": "stderr",
     "output_type": "stream",
     "text": [
      "Epoch [120/3000]: 100%|██████████| 9/9 [00:00<00:00, 127.51it/s, loss=3.01]\n"
     ]
    },
    {
     "name": "stdout",
     "output_type": "stream",
     "text": [
      "Epoch [120/3000]: Train loss: 2.2977, Valid loss: 2.2134\n"
     ]
    },
    {
     "name": "stderr",
     "output_type": "stream",
     "text": [
      "Epoch [121/3000]: 100%|██████████| 9/9 [00:00<00:00, 123.03it/s, loss=2.61]\n"
     ]
    },
    {
     "name": "stdout",
     "output_type": "stream",
     "text": [
      "Epoch [121/3000]: Train loss: 2.2571, Valid loss: 2.4937\n"
     ]
    },
    {
     "name": "stderr",
     "output_type": "stream",
     "text": [
      "Epoch [122/3000]: 100%|██████████| 9/9 [00:00<00:00, 124.37it/s, loss=1.89]\n"
     ]
    },
    {
     "name": "stdout",
     "output_type": "stream",
     "text": [
      "Epoch [122/3000]: Train loss: 2.1987, Valid loss: 2.1937\n"
     ]
    },
    {
     "name": "stderr",
     "output_type": "stream",
     "text": [
      "Epoch [123/3000]: 100%|██████████| 9/9 [00:00<00:00, 119.66it/s, loss=2.48]\n"
     ]
    },
    {
     "name": "stdout",
     "output_type": "stream",
     "text": [
      "Epoch [123/3000]: Train loss: 2.2258, Valid loss: 3.0464\n"
     ]
    },
    {
     "name": "stderr",
     "output_type": "stream",
     "text": [
      "Epoch [124/3000]: 100%|██████████| 9/9 [00:00<00:00, 118.85it/s, loss=2.27]\n"
     ]
    },
    {
     "name": "stdout",
     "output_type": "stream",
     "text": [
      "Epoch [124/3000]: Train loss: 2.2141, Valid loss: 2.1387\n"
     ]
    },
    {
     "name": "stderr",
     "output_type": "stream",
     "text": [
      "Epoch [125/3000]: 100%|██████████| 9/9 [00:00<00:00, 124.17it/s, loss=2.42]\n"
     ]
    },
    {
     "name": "stdout",
     "output_type": "stream",
     "text": [
      "Epoch [125/3000]: Train loss: 2.2002, Valid loss: 2.3086\n"
     ]
    },
    {
     "name": "stderr",
     "output_type": "stream",
     "text": [
      "Epoch [126/3000]: 100%|██████████| 9/9 [00:00<00:00, 137.94it/s, loss=2.48]\n"
     ]
    },
    {
     "name": "stdout",
     "output_type": "stream",
     "text": [
      "Epoch [126/3000]: Train loss: 2.2042, Valid loss: 2.6255\n"
     ]
    },
    {
     "name": "stderr",
     "output_type": "stream",
     "text": [
      "Epoch [127/3000]: 100%|██████████| 9/9 [00:00<00:00, 127.39it/s, loss=1.62]\n"
     ]
    },
    {
     "name": "stdout",
     "output_type": "stream",
     "text": [
      "Epoch [127/3000]: Train loss: 2.1206, Valid loss: 2.1509\n"
     ]
    },
    {
     "name": "stderr",
     "output_type": "stream",
     "text": [
      "Epoch [128/3000]: 100%|██████████| 9/9 [00:00<00:00, 148.43it/s, loss=2.34]\n"
     ]
    },
    {
     "name": "stdout",
     "output_type": "stream",
     "text": [
      "Epoch [128/3000]: Train loss: 2.1524, Valid loss: 2.3524\n"
     ]
    },
    {
     "name": "stderr",
     "output_type": "stream",
     "text": [
      "Epoch [129/3000]: 100%|██████████| 9/9 [00:00<00:00, 159.19it/s, loss=2.23]\n"
     ]
    },
    {
     "name": "stdout",
     "output_type": "stream",
     "text": [
      "Epoch [129/3000]: Train loss: 2.1368, Valid loss: 2.4219\n"
     ]
    },
    {
     "name": "stderr",
     "output_type": "stream",
     "text": [
      "Epoch [130/3000]: 100%|██████████| 9/9 [00:00<00:00, 148.37it/s, loss=2.09]\n"
     ]
    },
    {
     "name": "stdout",
     "output_type": "stream",
     "text": [
      "Epoch [130/3000]: Train loss: 2.1360, Valid loss: 2.4274\n"
     ]
    },
    {
     "name": "stderr",
     "output_type": "stream",
     "text": [
      "Epoch [131/3000]: 100%|██████████| 9/9 [00:00<00:00, 156.97it/s, loss=1.59]\n"
     ]
    },
    {
     "name": "stdout",
     "output_type": "stream",
     "text": [
      "Epoch [131/3000]: Train loss: 2.0914, Valid loss: 2.3382\n"
     ]
    },
    {
     "name": "stderr",
     "output_type": "stream",
     "text": [
      "Epoch [132/3000]: 100%|██████████| 9/9 [00:00<00:00, 154.43it/s, loss=2.14]\n"
     ]
    },
    {
     "name": "stdout",
     "output_type": "stream",
     "text": [
      "Epoch [132/3000]: Train loss: 2.0953, Valid loss: 1.9562\n",
      "Saving model with loss 1.956...\n"
     ]
    },
    {
     "name": "stderr",
     "output_type": "stream",
     "text": [
      "Epoch [133/3000]: 100%|██████████| 9/9 [00:00<00:00, 178.86it/s, loss=2.25]\n"
     ]
    },
    {
     "name": "stdout",
     "output_type": "stream",
     "text": [
      "Epoch [133/3000]: Train loss: 2.0946, Valid loss: 2.1454\n"
     ]
    },
    {
     "name": "stderr",
     "output_type": "stream",
     "text": [
      "Epoch [134/3000]: 100%|██████████| 9/9 [00:00<00:00, 144.87it/s, loss=2.2]\n"
     ]
    },
    {
     "name": "stdout",
     "output_type": "stream",
     "text": [
      "Epoch [134/3000]: Train loss: 2.0843, Valid loss: 1.9622\n"
     ]
    },
    {
     "name": "stderr",
     "output_type": "stream",
     "text": [
      "Epoch [135/3000]: 100%|██████████| 9/9 [00:00<00:00, 137.56it/s, loss=1.87]\n"
     ]
    },
    {
     "name": "stdout",
     "output_type": "stream",
     "text": [
      "Epoch [135/3000]: Train loss: 2.0509, Valid loss: 1.9223\n",
      "Saving model with loss 1.922...\n"
     ]
    },
    {
     "name": "stderr",
     "output_type": "stream",
     "text": [
      "Epoch [136/3000]: 100%|██████████| 9/9 [00:00<00:00, 135.67it/s, loss=2.31]\n"
     ]
    },
    {
     "name": "stdout",
     "output_type": "stream",
     "text": [
      "Epoch [136/3000]: Train loss: 2.0799, Valid loss: 2.3993\n"
     ]
    },
    {
     "name": "stderr",
     "output_type": "stream",
     "text": [
      "Epoch [137/3000]: 100%|██████████| 9/9 [00:00<00:00, 159.22it/s, loss=2.06]\n"
     ]
    },
    {
     "name": "stdout",
     "output_type": "stream",
     "text": [
      "Epoch [137/3000]: Train loss: 2.0560, Valid loss: 2.0827\n"
     ]
    },
    {
     "name": "stderr",
     "output_type": "stream",
     "text": [
      "Epoch [138/3000]: 100%|██████████| 9/9 [00:00<00:00, 156.81it/s, loss=2.28]\n"
     ]
    },
    {
     "name": "stdout",
     "output_type": "stream",
     "text": [
      "Epoch [138/3000]: Train loss: 2.0600, Valid loss: 2.3869\n"
     ]
    },
    {
     "name": "stderr",
     "output_type": "stream",
     "text": [
      "Epoch [139/3000]: 100%|██████████| 9/9 [00:00<00:00, 148.14it/s, loss=1.58]\n"
     ]
    },
    {
     "name": "stdout",
     "output_type": "stream",
     "text": [
      "Epoch [139/3000]: Train loss: 2.0084, Valid loss: 1.9882\n"
     ]
    },
    {
     "name": "stderr",
     "output_type": "stream",
     "text": [
      "Epoch [140/3000]: 100%|██████████| 9/9 [00:00<00:00, 147.71it/s, loss=2.29]\n"
     ]
    },
    {
     "name": "stdout",
     "output_type": "stream",
     "text": [
      "Epoch [140/3000]: Train loss: 2.0456, Valid loss: 2.1852\n"
     ]
    },
    {
     "name": "stderr",
     "output_type": "stream",
     "text": [
      "Epoch [141/3000]: 100%|██████████| 9/9 [00:00<00:00, 140.85it/s, loss=1.88]\n"
     ]
    },
    {
     "name": "stdout",
     "output_type": "stream",
     "text": [
      "Epoch [141/3000]: Train loss: 2.0204, Valid loss: 1.9026\n",
      "Saving model with loss 1.903...\n"
     ]
    },
    {
     "name": "stderr",
     "output_type": "stream",
     "text": [
      "Epoch [142/3000]: 100%|██████████| 9/9 [00:00<00:00, 113.86it/s, loss=2.2]\n"
     ]
    },
    {
     "name": "stdout",
     "output_type": "stream",
     "text": [
      "Epoch [142/3000]: Train loss: 2.0191, Valid loss: 2.4659\n"
     ]
    },
    {
     "name": "stderr",
     "output_type": "stream",
     "text": [
      "Epoch [143/3000]: 100%|██████████| 9/9 [00:00<00:00, 133.34it/s, loss=1.88]\n"
     ]
    },
    {
     "name": "stdout",
     "output_type": "stream",
     "text": [
      "Epoch [143/3000]: Train loss: 1.9929, Valid loss: 2.0443\n"
     ]
    },
    {
     "name": "stderr",
     "output_type": "stream",
     "text": [
      "Epoch [144/3000]: 100%|██████████| 9/9 [00:00<00:00, 118.14it/s, loss=1.97]\n"
     ]
    },
    {
     "name": "stdout",
     "output_type": "stream",
     "text": [
      "Epoch [144/3000]: Train loss: 1.9906, Valid loss: 2.2005\n"
     ]
    },
    {
     "name": "stderr",
     "output_type": "stream",
     "text": [
      "Epoch [145/3000]: 100%|██████████| 9/9 [00:00<00:00, 140.48it/s, loss=1.55]\n"
     ]
    },
    {
     "name": "stdout",
     "output_type": "stream",
     "text": [
      "Epoch [145/3000]: Train loss: 1.9570, Valid loss: 2.1038\n"
     ]
    },
    {
     "name": "stderr",
     "output_type": "stream",
     "text": [
      "Epoch [146/3000]: 100%|██████████| 9/9 [00:00<00:00, 66.67it/s, loss=1.76]\n"
     ]
    },
    {
     "name": "stdout",
     "output_type": "stream",
     "text": [
      "Epoch [146/3000]: Train loss: 1.9669, Valid loss: 2.2689\n"
     ]
    },
    {
     "name": "stderr",
     "output_type": "stream",
     "text": [
      "Epoch [147/3000]: 100%|██████████| 9/9 [00:00<00:00, 141.70it/s, loss=2.36]\n"
     ]
    },
    {
     "name": "stdout",
     "output_type": "stream",
     "text": [
      "Epoch [147/3000]: Train loss: 1.9987, Valid loss: 2.4059\n"
     ]
    },
    {
     "name": "stderr",
     "output_type": "stream",
     "text": [
      "Epoch [148/3000]: 100%|██████████| 9/9 [00:00<00:00, 143.73it/s, loss=1.51]\n"
     ]
    },
    {
     "name": "stdout",
     "output_type": "stream",
     "text": [
      "Epoch [148/3000]: Train loss: 1.9330, Valid loss: 2.0128\n"
     ]
    },
    {
     "name": "stderr",
     "output_type": "stream",
     "text": [
      "Epoch [149/3000]: 100%|██████████| 9/9 [00:00<00:00, 156.34it/s, loss=2.12]\n"
     ]
    },
    {
     "name": "stdout",
     "output_type": "stream",
     "text": [
      "Epoch [149/3000]: Train loss: 1.9758, Valid loss: 2.1010\n"
     ]
    },
    {
     "name": "stderr",
     "output_type": "stream",
     "text": [
      "Epoch [150/3000]: 100%|██████████| 9/9 [00:00<00:00, 132.73it/s, loss=2.63]\n"
     ]
    },
    {
     "name": "stdout",
     "output_type": "stream",
     "text": [
      "Epoch [150/3000]: Train loss: 2.0058, Valid loss: 1.9602\n"
     ]
    },
    {
     "name": "stderr",
     "output_type": "stream",
     "text": [
      "Epoch [151/3000]: 100%|██████████| 9/9 [00:00<00:00, 143.69it/s, loss=2.32]\n"
     ]
    },
    {
     "name": "stdout",
     "output_type": "stream",
     "text": [
      "Epoch [151/3000]: Train loss: 1.9793, Valid loss: 2.3364\n"
     ]
    },
    {
     "name": "stderr",
     "output_type": "stream",
     "text": [
      "Epoch [152/3000]: 100%|██████████| 9/9 [00:00<00:00, 133.99it/s, loss=2.17]\n"
     ]
    },
    {
     "name": "stdout",
     "output_type": "stream",
     "text": [
      "Epoch [152/3000]: Train loss: 1.9580, Valid loss: 2.2493\n"
     ]
    },
    {
     "name": "stderr",
     "output_type": "stream",
     "text": [
      "Epoch [153/3000]: 100%|██████████| 9/9 [00:00<00:00, 146.88it/s, loss=2]\n"
     ]
    },
    {
     "name": "stdout",
     "output_type": "stream",
     "text": [
      "Epoch [153/3000]: Train loss: 1.9636, Valid loss: 2.5255\n"
     ]
    },
    {
     "name": "stderr",
     "output_type": "stream",
     "text": [
      "Epoch [154/3000]: 100%|██████████| 9/9 [00:00<00:00, 140.87it/s, loss=2.05]\n"
     ]
    },
    {
     "name": "stdout",
     "output_type": "stream",
     "text": [
      "Epoch [154/3000]: Train loss: 2.0193, Valid loss: 2.0883\n"
     ]
    },
    {
     "name": "stderr",
     "output_type": "stream",
     "text": [
      "Epoch [155/3000]: 100%|██████████| 9/9 [00:00<00:00, 125.17it/s, loss=2.49]\n"
     ]
    },
    {
     "name": "stdout",
     "output_type": "stream",
     "text": [
      "Epoch [155/3000]: Train loss: 1.9685, Valid loss: 2.3982\n"
     ]
    },
    {
     "name": "stderr",
     "output_type": "stream",
     "text": [
      "Epoch [156/3000]: 100%|██████████| 9/9 [00:00<00:00, 134.67it/s, loss=1.81]\n"
     ]
    },
    {
     "name": "stdout",
     "output_type": "stream",
     "text": [
      "Epoch [156/3000]: Train loss: 1.9279, Valid loss: 2.2601\n"
     ]
    },
    {
     "name": "stderr",
     "output_type": "stream",
     "text": [
      "Epoch [157/3000]: 100%|██████████| 9/9 [00:00<00:00, 141.41it/s, loss=2.15]\n"
     ]
    },
    {
     "name": "stdout",
     "output_type": "stream",
     "text": [
      "Epoch [157/3000]: Train loss: 1.9298, Valid loss: 2.0668\n"
     ]
    },
    {
     "name": "stderr",
     "output_type": "stream",
     "text": [
      "Epoch [158/3000]: 100%|██████████| 9/9 [00:00<00:00, 137.53it/s, loss=2.07]\n"
     ]
    },
    {
     "name": "stdout",
     "output_type": "stream",
     "text": [
      "Epoch [158/3000]: Train loss: 1.9255, Valid loss: 2.1906\n"
     ]
    },
    {
     "name": "stderr",
     "output_type": "stream",
     "text": [
      "Epoch [159/3000]: 100%|██████████| 9/9 [00:00<00:00, 111.64it/s, loss=1.8]\n"
     ]
    },
    {
     "name": "stdout",
     "output_type": "stream",
     "text": [
      "Epoch [159/3000]: Train loss: 1.9169, Valid loss: 2.0388\n"
     ]
    },
    {
     "name": "stderr",
     "output_type": "stream",
     "text": [
      "Epoch [160/3000]: 100%|██████████| 9/9 [00:00<00:00, 117.13it/s, loss=1.9]\n"
     ]
    },
    {
     "name": "stdout",
     "output_type": "stream",
     "text": [
      "Epoch [160/3000]: Train loss: 1.9072, Valid loss: 2.7322\n"
     ]
    },
    {
     "name": "stderr",
     "output_type": "stream",
     "text": [
      "Epoch [161/3000]: 100%|██████████| 9/9 [00:00<00:00, 142.73it/s, loss=1.87]\n"
     ]
    },
    {
     "name": "stdout",
     "output_type": "stream",
     "text": [
      "Epoch [161/3000]: Train loss: 1.9403, Valid loss: 1.9424\n"
     ]
    },
    {
     "name": "stderr",
     "output_type": "stream",
     "text": [
      "Epoch [162/3000]: 100%|██████████| 9/9 [00:00<00:00, 128.97it/s, loss=1.89]\n"
     ]
    },
    {
     "name": "stdout",
     "output_type": "stream",
     "text": [
      "Epoch [162/3000]: Train loss: 1.9030, Valid loss: 2.1516\n"
     ]
    },
    {
     "name": "stderr",
     "output_type": "stream",
     "text": [
      "Epoch [163/3000]: 100%|██████████| 9/9 [00:00<00:00, 125.74it/s, loss=1.72]\n"
     ]
    },
    {
     "name": "stdout",
     "output_type": "stream",
     "text": [
      "Epoch [163/3000]: Train loss: 1.9192, Valid loss: 2.4011\n"
     ]
    },
    {
     "name": "stderr",
     "output_type": "stream",
     "text": [
      "Epoch [164/3000]: 100%|██████████| 9/9 [00:00<00:00, 131.07it/s, loss=1.85]\n"
     ]
    },
    {
     "name": "stdout",
     "output_type": "stream",
     "text": [
      "Epoch [164/3000]: Train loss: 1.9165, Valid loss: 2.0384\n"
     ]
    },
    {
     "name": "stderr",
     "output_type": "stream",
     "text": [
      "Epoch [165/3000]: 100%|██████████| 9/9 [00:00<00:00, 116.85it/s, loss=2.61]\n"
     ]
    },
    {
     "name": "stdout",
     "output_type": "stream",
     "text": [
      "Epoch [165/3000]: Train loss: 1.9586, Valid loss: 1.9185\n"
     ]
    },
    {
     "name": "stderr",
     "output_type": "stream",
     "text": [
      "Epoch [166/3000]: 100%|██████████| 9/9 [00:00<00:00, 131.75it/s, loss=2.26]\n"
     ]
    },
    {
     "name": "stdout",
     "output_type": "stream",
     "text": [
      "Epoch [166/3000]: Train loss: 1.9288, Valid loss: 2.1342\n"
     ]
    },
    {
     "name": "stderr",
     "output_type": "stream",
     "text": [
      "Epoch [167/3000]: 100%|██████████| 9/9 [00:00<00:00, 135.73it/s, loss=1.96]\n"
     ]
    },
    {
     "name": "stdout",
     "output_type": "stream",
     "text": [
      "Epoch [167/3000]: Train loss: 1.9238, Valid loss: 2.1221\n"
     ]
    },
    {
     "name": "stderr",
     "output_type": "stream",
     "text": [
      "Epoch [168/3000]: 100%|██████████| 9/9 [00:00<00:00, 124.15it/s, loss=1.7]\n"
     ]
    },
    {
     "name": "stdout",
     "output_type": "stream",
     "text": [
      "Epoch [168/3000]: Train loss: 1.8725, Valid loss: 2.3085\n"
     ]
    },
    {
     "name": "stderr",
     "output_type": "stream",
     "text": [
      "Epoch [169/3000]: 100%|██████████| 9/9 [00:00<00:00, 139.57it/s, loss=1.86]\n"
     ]
    },
    {
     "name": "stdout",
     "output_type": "stream",
     "text": [
      "Epoch [169/3000]: Train loss: 1.8852, Valid loss: 1.9698\n"
     ]
    },
    {
     "name": "stderr",
     "output_type": "stream",
     "text": [
      "Epoch [170/3000]: 100%|██████████| 9/9 [00:00<00:00, 179.60it/s, loss=1.97]\n"
     ]
    },
    {
     "name": "stdout",
     "output_type": "stream",
     "text": [
      "Epoch [170/3000]: Train loss: 1.8781, Valid loss: 2.2982\n"
     ]
    },
    {
     "name": "stderr",
     "output_type": "stream",
     "text": [
      "Epoch [171/3000]: 100%|██████████| 9/9 [00:00<00:00, 136.62it/s, loss=1.72]\n"
     ]
    },
    {
     "name": "stdout",
     "output_type": "stream",
     "text": [
      "Epoch [171/3000]: Train loss: 1.8598, Valid loss: 2.0407\n"
     ]
    },
    {
     "name": "stderr",
     "output_type": "stream",
     "text": [
      "Epoch [172/3000]: 100%|██████████| 9/9 [00:00<00:00, 134.37it/s, loss=1.96]\n"
     ]
    },
    {
     "name": "stdout",
     "output_type": "stream",
     "text": [
      "Epoch [172/3000]: Train loss: 1.8702, Valid loss: 2.1510\n"
     ]
    },
    {
     "name": "stderr",
     "output_type": "stream",
     "text": [
      "Epoch [173/3000]: 100%|██████████| 9/9 [00:00<00:00, 137.73it/s, loss=2.47]\n"
     ]
    },
    {
     "name": "stdout",
     "output_type": "stream",
     "text": [
      "Epoch [173/3000]: Train loss: 1.8909, Valid loss: 2.4003\n"
     ]
    },
    {
     "name": "stderr",
     "output_type": "stream",
     "text": [
      "Epoch [174/3000]: 100%|██████████| 9/9 [00:00<00:00, 144.59it/s, loss=1.49]\n"
     ]
    },
    {
     "name": "stdout",
     "output_type": "stream",
     "text": [
      "Epoch [174/3000]: Train loss: 1.8451, Valid loss: 2.0294\n"
     ]
    },
    {
     "name": "stderr",
     "output_type": "stream",
     "text": [
      "Epoch [175/3000]: 100%|██████████| 9/9 [00:00<00:00, 142.35it/s, loss=2.15]\n"
     ]
    },
    {
     "name": "stdout",
     "output_type": "stream",
     "text": [
      "Epoch [175/3000]: Train loss: 1.8699, Valid loss: 2.0434\n"
     ]
    },
    {
     "name": "stderr",
     "output_type": "stream",
     "text": [
      "Epoch [176/3000]: 100%|██████████| 9/9 [00:00<00:00, 147.72it/s, loss=1.16]\n"
     ]
    },
    {
     "name": "stdout",
     "output_type": "stream",
     "text": [
      "Epoch [176/3000]: Train loss: 1.8233, Valid loss: 2.1712\n"
     ]
    },
    {
     "name": "stderr",
     "output_type": "stream",
     "text": [
      "Epoch [177/3000]: 100%|██████████| 9/9 [00:00<00:00, 140.77it/s, loss=1.69]\n"
     ]
    },
    {
     "name": "stdout",
     "output_type": "stream",
     "text": [
      "Epoch [177/3000]: Train loss: 1.8372, Valid loss: 1.8186\n",
      "Saving model with loss 1.819...\n"
     ]
    },
    {
     "name": "stderr",
     "output_type": "stream",
     "text": [
      "Epoch [178/3000]: 100%|██████████| 9/9 [00:00<00:00, 145.24it/s, loss=1.5]\n"
     ]
    },
    {
     "name": "stdout",
     "output_type": "stream",
     "text": [
      "Epoch [178/3000]: Train loss: 1.8218, Valid loss: 2.2932\n"
     ]
    },
    {
     "name": "stderr",
     "output_type": "stream",
     "text": [
      "Epoch [179/3000]: 100%|██████████| 9/9 [00:00<00:00, 136.42it/s, loss=1.8]\n"
     ]
    },
    {
     "name": "stdout",
     "output_type": "stream",
     "text": [
      "Epoch [179/3000]: Train loss: 1.8432, Valid loss: 2.2525\n"
     ]
    },
    {
     "name": "stderr",
     "output_type": "stream",
     "text": [
      "Epoch [180/3000]: 100%|██████████| 9/9 [00:00<00:00, 126.87it/s, loss=2.16]\n"
     ]
    },
    {
     "name": "stdout",
     "output_type": "stream",
     "text": [
      "Epoch [180/3000]: Train loss: 1.8550, Valid loss: 2.6961\n"
     ]
    },
    {
     "name": "stderr",
     "output_type": "stream",
     "text": [
      "Epoch [181/3000]: 100%|██████████| 9/9 [00:00<00:00, 129.81it/s, loss=2.67]\n"
     ]
    },
    {
     "name": "stdout",
     "output_type": "stream",
     "text": [
      "Epoch [181/3000]: Train loss: 1.8928, Valid loss: 2.1052\n"
     ]
    },
    {
     "name": "stderr",
     "output_type": "stream",
     "text": [
      "Epoch [182/3000]: 100%|██████████| 9/9 [00:00<00:00, 140.69it/s, loss=1.5]\n"
     ]
    },
    {
     "name": "stdout",
     "output_type": "stream",
     "text": [
      "Epoch [182/3000]: Train loss: 1.8122, Valid loss: 1.8557\n"
     ]
    },
    {
     "name": "stderr",
     "output_type": "stream",
     "text": [
      "Epoch [183/3000]: 100%|██████████| 9/9 [00:00<00:00, 145.95it/s, loss=2.16]\n"
     ]
    },
    {
     "name": "stdout",
     "output_type": "stream",
     "text": [
      "Epoch [183/3000]: Train loss: 1.8639, Valid loss: 2.2399\n"
     ]
    },
    {
     "name": "stderr",
     "output_type": "stream",
     "text": [
      "Epoch [184/3000]: 100%|██████████| 9/9 [00:00<00:00, 144.01it/s, loss=1.69]\n"
     ]
    },
    {
     "name": "stdout",
     "output_type": "stream",
     "text": [
      "Epoch [184/3000]: Train loss: 1.8657, Valid loss: 1.7537\n",
      "Saving model with loss 1.754...\n"
     ]
    },
    {
     "name": "stderr",
     "output_type": "stream",
     "text": [
      "Epoch [185/3000]: 100%|██████████| 9/9 [00:00<00:00, 145.34it/s, loss=1.66]\n"
     ]
    },
    {
     "name": "stdout",
     "output_type": "stream",
     "text": [
      "Epoch [185/3000]: Train loss: 1.8338, Valid loss: 1.8247\n"
     ]
    },
    {
     "name": "stderr",
     "output_type": "stream",
     "text": [
      "Epoch [186/3000]: 100%|██████████| 9/9 [00:00<00:00, 146.82it/s, loss=1.48]\n"
     ]
    },
    {
     "name": "stdout",
     "output_type": "stream",
     "text": [
      "Epoch [186/3000]: Train loss: 1.8188, Valid loss: 2.2573\n"
     ]
    },
    {
     "name": "stderr",
     "output_type": "stream",
     "text": [
      "Epoch [187/3000]: 100%|██████████| 9/9 [00:00<00:00, 62.36it/s, loss=2.29]\n"
     ]
    },
    {
     "name": "stdout",
     "output_type": "stream",
     "text": [
      "Epoch [187/3000]: Train loss: 1.8526, Valid loss: 2.0719\n"
     ]
    },
    {
     "name": "stderr",
     "output_type": "stream",
     "text": [
      "Epoch [188/3000]: 100%|██████████| 9/9 [00:00<00:00, 121.10it/s, loss=1.43]\n"
     ]
    },
    {
     "name": "stdout",
     "output_type": "stream",
     "text": [
      "Epoch [188/3000]: Train loss: 1.7937, Valid loss: 2.0232\n"
     ]
    },
    {
     "name": "stderr",
     "output_type": "stream",
     "text": [
      "Epoch [189/3000]: 100%|██████████| 9/9 [00:00<00:00, 139.49it/s, loss=1.92]\n"
     ]
    },
    {
     "name": "stdout",
     "output_type": "stream",
     "text": [
      "Epoch [189/3000]: Train loss: 1.8203, Valid loss: 1.7380\n",
      "Saving model with loss 1.738...\n"
     ]
    },
    {
     "name": "stderr",
     "output_type": "stream",
     "text": [
      "Epoch [190/3000]: 100%|██████████| 9/9 [00:00<00:00, 141.52it/s, loss=1.83]\n"
     ]
    },
    {
     "name": "stdout",
     "output_type": "stream",
     "text": [
      "Epoch [190/3000]: Train loss: 1.8127, Valid loss: 2.0174\n"
     ]
    },
    {
     "name": "stderr",
     "output_type": "stream",
     "text": [
      "Epoch [191/3000]: 100%|██████████| 9/9 [00:00<00:00, 144.65it/s, loss=1.48]\n"
     ]
    },
    {
     "name": "stdout",
     "output_type": "stream",
     "text": [
      "Epoch [191/3000]: Train loss: 1.7913, Valid loss: 2.0731\n"
     ]
    },
    {
     "name": "stderr",
     "output_type": "stream",
     "text": [
      "Epoch [192/3000]: 100%|██████████| 9/9 [00:00<00:00, 151.62it/s, loss=1.68]\n"
     ]
    },
    {
     "name": "stdout",
     "output_type": "stream",
     "text": [
      "Epoch [192/3000]: Train loss: 1.8015, Valid loss: 2.3305\n"
     ]
    },
    {
     "name": "stderr",
     "output_type": "stream",
     "text": [
      "Epoch [193/3000]: 100%|██████████| 9/9 [00:00<00:00, 154.91it/s, loss=1.9]\n"
     ]
    },
    {
     "name": "stdout",
     "output_type": "stream",
     "text": [
      "Epoch [193/3000]: Train loss: 1.8167, Valid loss: 1.8634\n"
     ]
    },
    {
     "name": "stderr",
     "output_type": "stream",
     "text": [
      "Epoch [194/3000]: 100%|██████████| 9/9 [00:00<00:00, 157.86it/s, loss=1.95]\n"
     ]
    },
    {
     "name": "stdout",
     "output_type": "stream",
     "text": [
      "Epoch [194/3000]: Train loss: 1.8178, Valid loss: 2.2003\n"
     ]
    },
    {
     "name": "stderr",
     "output_type": "stream",
     "text": [
      "Epoch [195/3000]: 100%|██████████| 9/9 [00:00<00:00, 158.95it/s, loss=1.85]\n"
     ]
    },
    {
     "name": "stdout",
     "output_type": "stream",
     "text": [
      "Epoch [195/3000]: Train loss: 1.8125, Valid loss: 2.0076\n"
     ]
    },
    {
     "name": "stderr",
     "output_type": "stream",
     "text": [
      "Epoch [196/3000]: 100%|██████████| 9/9 [00:00<00:00, 154.74it/s, loss=1.62]\n"
     ]
    },
    {
     "name": "stdout",
     "output_type": "stream",
     "text": [
      "Epoch [196/3000]: Train loss: 1.7895, Valid loss: 2.0204\n"
     ]
    },
    {
     "name": "stderr",
     "output_type": "stream",
     "text": [
      "Epoch [197/3000]: 100%|██████████| 9/9 [00:00<00:00, 141.64it/s, loss=1.62]\n"
     ]
    },
    {
     "name": "stdout",
     "output_type": "stream",
     "text": [
      "Epoch [197/3000]: Train loss: 1.7886, Valid loss: 2.6456\n"
     ]
    },
    {
     "name": "stderr",
     "output_type": "stream",
     "text": [
      "Epoch [198/3000]: 100%|██████████| 9/9 [00:00<00:00, 136.16it/s, loss=1.56]\n"
     ]
    },
    {
     "name": "stdout",
     "output_type": "stream",
     "text": [
      "Epoch [198/3000]: Train loss: 1.7952, Valid loss: 1.9746\n"
     ]
    },
    {
     "name": "stderr",
     "output_type": "stream",
     "text": [
      "Epoch [199/3000]: 100%|██████████| 9/9 [00:00<00:00, 141.18it/s, loss=1.56]\n"
     ]
    },
    {
     "name": "stdout",
     "output_type": "stream",
     "text": [
      "Epoch [199/3000]: Train loss: 1.7867, Valid loss: 2.0402\n"
     ]
    },
    {
     "name": "stderr",
     "output_type": "stream",
     "text": [
      "Epoch [200/3000]: 100%|██████████| 9/9 [00:00<00:00, 132.07it/s, loss=1.05]\n"
     ]
    },
    {
     "name": "stdout",
     "output_type": "stream",
     "text": [
      "Epoch [200/3000]: Train loss: 1.7393, Valid loss: 1.9636\n"
     ]
    },
    {
     "name": "stderr",
     "output_type": "stream",
     "text": [
      "Epoch [201/3000]: 100%|██████████| 9/9 [00:00<00:00, 114.56it/s, loss=1.77]\n"
     ]
    },
    {
     "name": "stdout",
     "output_type": "stream",
     "text": [
      "Epoch [201/3000]: Train loss: 1.7940, Valid loss: 2.0161\n"
     ]
    },
    {
     "name": "stderr",
     "output_type": "stream",
     "text": [
      "Epoch [202/3000]: 100%|██████████| 9/9 [00:00<00:00, 127.13it/s, loss=2.12]\n"
     ]
    },
    {
     "name": "stdout",
     "output_type": "stream",
     "text": [
      "Epoch [202/3000]: Train loss: 1.8186, Valid loss: 2.4496\n"
     ]
    },
    {
     "name": "stderr",
     "output_type": "stream",
     "text": [
      "Epoch [203/3000]: 100%|██████████| 9/9 [00:00<00:00, 127.26it/s, loss=2.13]\n"
     ]
    },
    {
     "name": "stdout",
     "output_type": "stream",
     "text": [
      "Epoch [203/3000]: Train loss: 1.8562, Valid loss: 1.9944\n"
     ]
    },
    {
     "name": "stderr",
     "output_type": "stream",
     "text": [
      "Epoch [204/3000]: 100%|██████████| 9/9 [00:00<00:00, 117.09it/s, loss=1.45]\n"
     ]
    },
    {
     "name": "stdout",
     "output_type": "stream",
     "text": [
      "Epoch [204/3000]: Train loss: 1.7889, Valid loss: 2.2268\n"
     ]
    },
    {
     "name": "stderr",
     "output_type": "stream",
     "text": [
      "Epoch [205/3000]: 100%|██████████| 9/9 [00:00<00:00, 137.07it/s, loss=1.93]\n"
     ]
    },
    {
     "name": "stdout",
     "output_type": "stream",
     "text": [
      "Epoch [205/3000]: Train loss: 1.8399, Valid loss: 1.9397\n"
     ]
    },
    {
     "name": "stderr",
     "output_type": "stream",
     "text": [
      "Epoch [206/3000]: 100%|██████████| 9/9 [00:00<00:00, 136.26it/s, loss=1.52]\n"
     ]
    },
    {
     "name": "stdout",
     "output_type": "stream",
     "text": [
      "Epoch [206/3000]: Train loss: 1.7706, Valid loss: 1.8294\n"
     ]
    },
    {
     "name": "stderr",
     "output_type": "stream",
     "text": [
      "Epoch [207/3000]: 100%|██████████| 9/9 [00:00<00:00, 135.93it/s, loss=1.99]\n"
     ]
    },
    {
     "name": "stdout",
     "output_type": "stream",
     "text": [
      "Epoch [207/3000]: Train loss: 1.7906, Valid loss: 2.0607\n"
     ]
    },
    {
     "name": "stderr",
     "output_type": "stream",
     "text": [
      "Epoch [208/3000]: 100%|██████████| 9/9 [00:00<00:00, 119.35it/s, loss=2.25]\n"
     ]
    },
    {
     "name": "stdout",
     "output_type": "stream",
     "text": [
      "Epoch [208/3000]: Train loss: 1.8208, Valid loss: 2.2688\n"
     ]
    },
    {
     "name": "stderr",
     "output_type": "stream",
     "text": [
      "Epoch [209/3000]: 100%|██████████| 9/9 [00:00<00:00, 111.58it/s, loss=2.01]\n"
     ]
    },
    {
     "name": "stdout",
     "output_type": "stream",
     "text": [
      "Epoch [209/3000]: Train loss: 1.7940, Valid loss: 1.9740\n"
     ]
    },
    {
     "name": "stderr",
     "output_type": "stream",
     "text": [
      "Epoch [210/3000]: 100%|██████████| 9/9 [00:00<00:00, 137.76it/s, loss=2.03]\n"
     ]
    },
    {
     "name": "stdout",
     "output_type": "stream",
     "text": [
      "Epoch [210/3000]: Train loss: 1.7948, Valid loss: 2.2665\n"
     ]
    },
    {
     "name": "stderr",
     "output_type": "stream",
     "text": [
      "Epoch [211/3000]: 100%|██████████| 9/9 [00:00<00:00, 123.50it/s, loss=2.1]\n"
     ]
    },
    {
     "name": "stdout",
     "output_type": "stream",
     "text": [
      "Epoch [211/3000]: Train loss: 1.7930, Valid loss: 1.9053\n"
     ]
    },
    {
     "name": "stderr",
     "output_type": "stream",
     "text": [
      "Epoch [212/3000]: 100%|██████████| 9/9 [00:00<00:00, 147.84it/s, loss=1.9]\n"
     ]
    },
    {
     "name": "stdout",
     "output_type": "stream",
     "text": [
      "Epoch [212/3000]: Train loss: 1.7744, Valid loss: 2.1031\n"
     ]
    },
    {
     "name": "stderr",
     "output_type": "stream",
     "text": [
      "Epoch [213/3000]: 100%|██████████| 9/9 [00:00<00:00, 138.09it/s, loss=1.62]\n"
     ]
    },
    {
     "name": "stdout",
     "output_type": "stream",
     "text": [
      "Epoch [213/3000]: Train loss: 1.7510, Valid loss: 2.0302\n"
     ]
    },
    {
     "name": "stderr",
     "output_type": "stream",
     "text": [
      "Epoch [214/3000]: 100%|██████████| 9/9 [00:00<00:00, 153.75it/s, loss=1.69]\n"
     ]
    },
    {
     "name": "stdout",
     "output_type": "stream",
     "text": [
      "Epoch [214/3000]: Train loss: 1.7724, Valid loss: 1.9521\n"
     ]
    },
    {
     "name": "stderr",
     "output_type": "stream",
     "text": [
      "Epoch [215/3000]: 100%|██████████| 9/9 [00:00<00:00, 156.19it/s, loss=1.92]\n"
     ]
    },
    {
     "name": "stdout",
     "output_type": "stream",
     "text": [
      "Epoch [215/3000]: Train loss: 1.7982, Valid loss: 2.5002\n"
     ]
    },
    {
     "name": "stderr",
     "output_type": "stream",
     "text": [
      "Epoch [216/3000]: 100%|██████████| 9/9 [00:00<00:00, 156.76it/s, loss=1.87]\n"
     ]
    },
    {
     "name": "stdout",
     "output_type": "stream",
     "text": [
      "Epoch [216/3000]: Train loss: 1.7665, Valid loss: 2.1099\n"
     ]
    },
    {
     "name": "stderr",
     "output_type": "stream",
     "text": [
      "Epoch [217/3000]: 100%|██████████| 9/9 [00:00<00:00, 140.39it/s, loss=2.07]\n"
     ]
    },
    {
     "name": "stdout",
     "output_type": "stream",
     "text": [
      "Epoch [217/3000]: Train loss: 1.7689, Valid loss: 1.8829\n"
     ]
    },
    {
     "name": "stderr",
     "output_type": "stream",
     "text": [
      "Epoch [218/3000]: 100%|██████████| 9/9 [00:00<00:00, 141.58it/s, loss=1.65]\n"
     ]
    },
    {
     "name": "stdout",
     "output_type": "stream",
     "text": [
      "Epoch [218/3000]: Train loss: 1.7482, Valid loss: 1.8695\n"
     ]
    },
    {
     "name": "stderr",
     "output_type": "stream",
     "text": [
      "Epoch [219/3000]: 100%|██████████| 9/9 [00:00<00:00, 164.22it/s, loss=2.16]\n"
     ]
    },
    {
     "name": "stdout",
     "output_type": "stream",
     "text": [
      "Epoch [219/3000]: Train loss: 1.7786, Valid loss: 2.2381\n"
     ]
    },
    {
     "name": "stderr",
     "output_type": "stream",
     "text": [
      "Epoch [220/3000]: 100%|██████████| 9/9 [00:00<00:00, 157.98it/s, loss=1.43]\n"
     ]
    },
    {
     "name": "stdout",
     "output_type": "stream",
     "text": [
      "Epoch [220/3000]: Train loss: 1.7221, Valid loss: 2.0072\n"
     ]
    },
    {
     "name": "stderr",
     "output_type": "stream",
     "text": [
      "Epoch [221/3000]: 100%|██████████| 9/9 [00:00<00:00, 166.58it/s, loss=1.55]\n"
     ]
    },
    {
     "name": "stdout",
     "output_type": "stream",
     "text": [
      "Epoch [221/3000]: Train loss: 1.7312, Valid loss: 1.8275\n"
     ]
    },
    {
     "name": "stderr",
     "output_type": "stream",
     "text": [
      "Epoch [222/3000]: 100%|██████████| 9/9 [00:00<00:00, 164.31it/s, loss=1.57]\n"
     ]
    },
    {
     "name": "stdout",
     "output_type": "stream",
     "text": [
      "Epoch [222/3000]: Train loss: 1.7305, Valid loss: 2.0620\n"
     ]
    },
    {
     "name": "stderr",
     "output_type": "stream",
     "text": [
      "Epoch [223/3000]: 100%|██████████| 9/9 [00:00<00:00, 165.89it/s, loss=1]\n"
     ]
    },
    {
     "name": "stdout",
     "output_type": "stream",
     "text": [
      "Epoch [223/3000]: Train loss: 1.6883, Valid loss: 1.9859\n"
     ]
    },
    {
     "name": "stderr",
     "output_type": "stream",
     "text": [
      "Epoch [224/3000]: 100%|██████████| 9/9 [00:00<00:00, 165.27it/s, loss=1.66]\n"
     ]
    },
    {
     "name": "stdout",
     "output_type": "stream",
     "text": [
      "Epoch [224/3000]: Train loss: 1.7306, Valid loss: 1.9117\n"
     ]
    },
    {
     "name": "stderr",
     "output_type": "stream",
     "text": [
      "Epoch [225/3000]: 100%|██████████| 9/9 [00:00<00:00, 162.86it/s, loss=2.51]\n"
     ]
    },
    {
     "name": "stdout",
     "output_type": "stream",
     "text": [
      "Epoch [225/3000]: Train loss: 1.7840, Valid loss: 1.9119\n"
     ]
    },
    {
     "name": "stderr",
     "output_type": "stream",
     "text": [
      "Epoch [226/3000]: 100%|██████████| 9/9 [00:00<00:00, 166.63it/s, loss=1.95]\n"
     ]
    },
    {
     "name": "stdout",
     "output_type": "stream",
     "text": [
      "Epoch [226/3000]: Train loss: 1.7520, Valid loss: 2.0584\n"
     ]
    },
    {
     "name": "stderr",
     "output_type": "stream",
     "text": [
      "Epoch [227/3000]: 100%|██████████| 9/9 [00:00<00:00, 162.91it/s, loss=1.48]\n"
     ]
    },
    {
     "name": "stdout",
     "output_type": "stream",
     "text": [
      "Epoch [227/3000]: Train loss: 1.7145, Valid loss: 2.0351\n"
     ]
    },
    {
     "name": "stderr",
     "output_type": "stream",
     "text": [
      "Epoch [228/3000]: 100%|██████████| 9/9 [00:00<00:00, 66.30it/s, loss=1.4] \n"
     ]
    },
    {
     "name": "stdout",
     "output_type": "stream",
     "text": [
      "Epoch [228/3000]: Train loss: 1.7176, Valid loss: 1.8385\n"
     ]
    },
    {
     "name": "stderr",
     "output_type": "stream",
     "text": [
      "Epoch [229/3000]: 100%|██████████| 9/9 [00:00<00:00, 164.34it/s, loss=1.89]\n"
     ]
    },
    {
     "name": "stdout",
     "output_type": "stream",
     "text": [
      "Epoch [229/3000]: Train loss: 1.7351, Valid loss: 2.0417\n"
     ]
    },
    {
     "name": "stderr",
     "output_type": "stream",
     "text": [
      "Epoch [230/3000]: 100%|██████████| 9/9 [00:00<00:00, 167.77it/s, loss=2.17]\n"
     ]
    },
    {
     "name": "stdout",
     "output_type": "stream",
     "text": [
      "Epoch [230/3000]: Train loss: 1.7653, Valid loss: 1.8955\n"
     ]
    },
    {
     "name": "stderr",
     "output_type": "stream",
     "text": [
      "Epoch [231/3000]: 100%|██████████| 9/9 [00:00<00:00, 165.67it/s, loss=1.19]\n"
     ]
    },
    {
     "name": "stdout",
     "output_type": "stream",
     "text": [
      "Epoch [231/3000]: Train loss: 1.6926, Valid loss: 1.8997\n"
     ]
    },
    {
     "name": "stderr",
     "output_type": "stream",
     "text": [
      "Epoch [232/3000]: 100%|██████████| 9/9 [00:00<00:00, 165.31it/s, loss=1.37]\n"
     ]
    },
    {
     "name": "stdout",
     "output_type": "stream",
     "text": [
      "Epoch [232/3000]: Train loss: 1.7014, Valid loss: 1.7217\n",
      "Saving model with loss 1.722...\n"
     ]
    },
    {
     "name": "stderr",
     "output_type": "stream",
     "text": [
      "Epoch [233/3000]: 100%|██████████| 9/9 [00:00<00:00, 165.21it/s, loss=2.02]\n"
     ]
    },
    {
     "name": "stdout",
     "output_type": "stream",
     "text": [
      "Epoch [233/3000]: Train loss: 1.7352, Valid loss: 2.0206\n"
     ]
    },
    {
     "name": "stderr",
     "output_type": "stream",
     "text": [
      "Epoch [234/3000]: 100%|██████████| 9/9 [00:00<00:00, 161.66it/s, loss=1.98]\n"
     ]
    },
    {
     "name": "stdout",
     "output_type": "stream",
     "text": [
      "Epoch [234/3000]: Train loss: 1.7405, Valid loss: 1.8350\n"
     ]
    },
    {
     "name": "stderr",
     "output_type": "stream",
     "text": [
      "Epoch [235/3000]: 100%|██████████| 9/9 [00:00<00:00, 165.99it/s, loss=1.44]\n"
     ]
    },
    {
     "name": "stdout",
     "output_type": "stream",
     "text": [
      "Epoch [235/3000]: Train loss: 1.7039, Valid loss: 1.9294\n"
     ]
    },
    {
     "name": "stderr",
     "output_type": "stream",
     "text": [
      "Epoch [236/3000]: 100%|██████████| 9/9 [00:00<00:00, 170.89it/s, loss=1.99]\n"
     ]
    },
    {
     "name": "stdout",
     "output_type": "stream",
     "text": [
      "Epoch [236/3000]: Train loss: 1.7433, Valid loss: 1.9476\n"
     ]
    },
    {
     "name": "stderr",
     "output_type": "stream",
     "text": [
      "Epoch [237/3000]: 100%|██████████| 9/9 [00:00<00:00, 157.68it/s, loss=1.68]\n"
     ]
    },
    {
     "name": "stdout",
     "output_type": "stream",
     "text": [
      "Epoch [237/3000]: Train loss: 1.7146, Valid loss: 2.5321\n"
     ]
    },
    {
     "name": "stderr",
     "output_type": "stream",
     "text": [
      "Epoch [238/3000]: 100%|██████████| 9/9 [00:00<00:00, 168.96it/s, loss=1.41]\n"
     ]
    },
    {
     "name": "stdout",
     "output_type": "stream",
     "text": [
      "Epoch [238/3000]: Train loss: 1.7014, Valid loss: 1.9889\n"
     ]
    },
    {
     "name": "stderr",
     "output_type": "stream",
     "text": [
      "Epoch [239/3000]: 100%|██████████| 9/9 [00:00<00:00, 170.76it/s, loss=1.79]\n"
     ]
    },
    {
     "name": "stdout",
     "output_type": "stream",
     "text": [
      "Epoch [239/3000]: Train loss: 1.7163, Valid loss: 2.2187\n"
     ]
    },
    {
     "name": "stderr",
     "output_type": "stream",
     "text": [
      "Epoch [240/3000]: 100%|██████████| 9/9 [00:00<00:00, 175.93it/s, loss=2.42]\n"
     ]
    },
    {
     "name": "stdout",
     "output_type": "stream",
     "text": [
      "Epoch [240/3000]: Train loss: 1.7529, Valid loss: 1.9398\n"
     ]
    },
    {
     "name": "stderr",
     "output_type": "stream",
     "text": [
      "Epoch [241/3000]: 100%|██████████| 9/9 [00:00<00:00, 178.64it/s, loss=1.65]\n"
     ]
    },
    {
     "name": "stdout",
     "output_type": "stream",
     "text": [
      "Epoch [241/3000]: Train loss: 1.7008, Valid loss: 2.0204\n"
     ]
    },
    {
     "name": "stderr",
     "output_type": "stream",
     "text": [
      "Epoch [242/3000]: 100%|██████████| 9/9 [00:00<00:00, 177.02it/s, loss=1.46]\n"
     ]
    },
    {
     "name": "stdout",
     "output_type": "stream",
     "text": [
      "Epoch [242/3000]: Train loss: 1.6960, Valid loss: 1.9640\n"
     ]
    },
    {
     "name": "stderr",
     "output_type": "stream",
     "text": [
      "Epoch [243/3000]: 100%|██████████| 9/9 [00:00<00:00, 178.18it/s, loss=1.79]\n"
     ]
    },
    {
     "name": "stdout",
     "output_type": "stream",
     "text": [
      "Epoch [243/3000]: Train loss: 1.7027, Valid loss: 1.8087\n"
     ]
    },
    {
     "name": "stderr",
     "output_type": "stream",
     "text": [
      "Epoch [244/3000]: 100%|██████████| 9/9 [00:00<00:00, 173.03it/s, loss=1.81]\n"
     ]
    },
    {
     "name": "stdout",
     "output_type": "stream",
     "text": [
      "Epoch [244/3000]: Train loss: 1.7199, Valid loss: 2.0200\n"
     ]
    },
    {
     "name": "stderr",
     "output_type": "stream",
     "text": [
      "Epoch [245/3000]: 100%|██████████| 9/9 [00:00<00:00, 167.41it/s, loss=1.62]\n"
     ]
    },
    {
     "name": "stdout",
     "output_type": "stream",
     "text": [
      "Epoch [245/3000]: Train loss: 1.6994, Valid loss: 1.8412\n"
     ]
    },
    {
     "name": "stderr",
     "output_type": "stream",
     "text": [
      "Epoch [246/3000]: 100%|██████████| 9/9 [00:00<00:00, 167.57it/s, loss=1.82]\n"
     ]
    },
    {
     "name": "stdout",
     "output_type": "stream",
     "text": [
      "Epoch [246/3000]: Train loss: 1.7055, Valid loss: 1.8012\n"
     ]
    },
    {
     "name": "stderr",
     "output_type": "stream",
     "text": [
      "Epoch [247/3000]: 100%|██████████| 9/9 [00:00<00:00, 163.28it/s, loss=1.71]\n"
     ]
    },
    {
     "name": "stdout",
     "output_type": "stream",
     "text": [
      "Epoch [247/3000]: Train loss: 1.7134, Valid loss: 2.0819\n"
     ]
    },
    {
     "name": "stderr",
     "output_type": "stream",
     "text": [
      "Epoch [248/3000]: 100%|██████████| 9/9 [00:00<00:00, 166.14it/s, loss=1.2]\n"
     ]
    },
    {
     "name": "stdout",
     "output_type": "stream",
     "text": [
      "Epoch [248/3000]: Train loss: 1.6686, Valid loss: 1.7328\n"
     ]
    },
    {
     "name": "stderr",
     "output_type": "stream",
     "text": [
      "Epoch [249/3000]: 100%|██████████| 9/9 [00:00<00:00, 166.82it/s, loss=1.68]\n"
     ]
    },
    {
     "name": "stdout",
     "output_type": "stream",
     "text": [
      "Epoch [249/3000]: Train loss: 1.6981, Valid loss: 2.2508\n"
     ]
    },
    {
     "name": "stderr",
     "output_type": "stream",
     "text": [
      "Epoch [250/3000]: 100%|██████████| 9/9 [00:00<00:00, 152.78it/s, loss=1.63]\n"
     ]
    },
    {
     "name": "stdout",
     "output_type": "stream",
     "text": [
      "Epoch [250/3000]: Train loss: 1.6863, Valid loss: 1.8679\n"
     ]
    },
    {
     "name": "stderr",
     "output_type": "stream",
     "text": [
      "Epoch [251/3000]: 100%|██████████| 9/9 [00:00<00:00, 133.10it/s, loss=1.92]\n"
     ]
    },
    {
     "name": "stdout",
     "output_type": "stream",
     "text": [
      "Epoch [251/3000]: Train loss: 1.6955, Valid loss: 1.9614\n"
     ]
    },
    {
     "name": "stderr",
     "output_type": "stream",
     "text": [
      "Epoch [252/3000]: 100%|██████████| 9/9 [00:00<00:00, 138.96it/s, loss=1.76]\n"
     ]
    },
    {
     "name": "stdout",
     "output_type": "stream",
     "text": [
      "Epoch [252/3000]: Train loss: 1.6858, Valid loss: 1.7652\n"
     ]
    },
    {
     "name": "stderr",
     "output_type": "stream",
     "text": [
      "Epoch [253/3000]: 100%|██████████| 9/9 [00:00<00:00, 118.28it/s, loss=1.74]\n"
     ]
    },
    {
     "name": "stdout",
     "output_type": "stream",
     "text": [
      "Epoch [253/3000]: Train loss: 1.6815, Valid loss: 2.0791\n"
     ]
    },
    {
     "name": "stderr",
     "output_type": "stream",
     "text": [
      "Epoch [254/3000]: 100%|██████████| 9/9 [00:00<00:00, 135.92it/s, loss=1.65]\n"
     ]
    },
    {
     "name": "stdout",
     "output_type": "stream",
     "text": [
      "Epoch [254/3000]: Train loss: 1.6797, Valid loss: 2.0224\n"
     ]
    },
    {
     "name": "stderr",
     "output_type": "stream",
     "text": [
      "Epoch [255/3000]: 100%|██████████| 9/9 [00:00<00:00, 136.25it/s, loss=1.82]\n"
     ]
    },
    {
     "name": "stdout",
     "output_type": "stream",
     "text": [
      "Epoch [255/3000]: Train loss: 1.6826, Valid loss: 1.9121\n"
     ]
    },
    {
     "name": "stderr",
     "output_type": "stream",
     "text": [
      "Epoch [256/3000]: 100%|██████████| 9/9 [00:00<00:00, 139.14it/s, loss=1.31]\n"
     ]
    },
    {
     "name": "stdout",
     "output_type": "stream",
     "text": [
      "Epoch [256/3000]: Train loss: 1.6490, Valid loss: 2.1109\n"
     ]
    },
    {
     "name": "stderr",
     "output_type": "stream",
     "text": [
      "Epoch [257/3000]: 100%|██████████| 9/9 [00:00<00:00, 138.24it/s, loss=1.73]\n"
     ]
    },
    {
     "name": "stdout",
     "output_type": "stream",
     "text": [
      "Epoch [257/3000]: Train loss: 1.6758, Valid loss: 1.7296\n"
     ]
    },
    {
     "name": "stderr",
     "output_type": "stream",
     "text": [
      "Epoch [258/3000]: 100%|██████████| 9/9 [00:00<00:00, 124.52it/s, loss=1.34]\n"
     ]
    },
    {
     "name": "stdout",
     "output_type": "stream",
     "text": [
      "Epoch [258/3000]: Train loss: 1.6564, Valid loss: 2.3536\n"
     ]
    },
    {
     "name": "stderr",
     "output_type": "stream",
     "text": [
      "Epoch [259/3000]: 100%|██████████| 9/9 [00:00<00:00, 147.88it/s, loss=1.5]\n"
     ]
    },
    {
     "name": "stdout",
     "output_type": "stream",
     "text": [
      "Epoch [259/3000]: Train loss: 1.6632, Valid loss: 1.8463\n"
     ]
    },
    {
     "name": "stderr",
     "output_type": "stream",
     "text": [
      "Epoch [260/3000]: 100%|██████████| 9/9 [00:00<00:00, 133.68it/s, loss=2.39]\n"
     ]
    },
    {
     "name": "stdout",
     "output_type": "stream",
     "text": [
      "Epoch [260/3000]: Train loss: 1.7317, Valid loss: 1.7556\n"
     ]
    },
    {
     "name": "stderr",
     "output_type": "stream",
     "text": [
      "Epoch [261/3000]: 100%|██████████| 9/9 [00:00<00:00, 139.75it/s, loss=1.86]\n"
     ]
    },
    {
     "name": "stdout",
     "output_type": "stream",
     "text": [
      "Epoch [261/3000]: Train loss: 1.6764, Valid loss: 2.1652\n"
     ]
    },
    {
     "name": "stderr",
     "output_type": "stream",
     "text": [
      "Epoch [262/3000]: 100%|██████████| 9/9 [00:00<00:00, 145.51it/s, loss=1.71]\n"
     ]
    },
    {
     "name": "stdout",
     "output_type": "stream",
     "text": [
      "Epoch [262/3000]: Train loss: 1.6713, Valid loss: 2.3089\n"
     ]
    },
    {
     "name": "stderr",
     "output_type": "stream",
     "text": [
      "Epoch [263/3000]: 100%|██████████| 9/9 [00:00<00:00, 145.18it/s, loss=1.28]\n"
     ]
    },
    {
     "name": "stdout",
     "output_type": "stream",
     "text": [
      "Epoch [263/3000]: Train loss: 1.6492, Valid loss: 1.9767\n"
     ]
    },
    {
     "name": "stderr",
     "output_type": "stream",
     "text": [
      "Epoch [264/3000]: 100%|██████████| 9/9 [00:00<00:00, 143.54it/s, loss=1.35]\n"
     ]
    },
    {
     "name": "stdout",
     "output_type": "stream",
     "text": [
      "Epoch [264/3000]: Train loss: 1.6662, Valid loss: 1.9916\n"
     ]
    },
    {
     "name": "stderr",
     "output_type": "stream",
     "text": [
      "Epoch [265/3000]: 100%|██████████| 9/9 [00:00<00:00, 131.63it/s, loss=1.81]\n"
     ]
    },
    {
     "name": "stdout",
     "output_type": "stream",
     "text": [
      "Epoch [265/3000]: Train loss: 1.6756, Valid loss: 1.8279\n"
     ]
    },
    {
     "name": "stderr",
     "output_type": "stream",
     "text": [
      "Epoch [266/3000]: 100%|██████████| 9/9 [00:00<00:00, 134.45it/s, loss=1.31]\n"
     ]
    },
    {
     "name": "stdout",
     "output_type": "stream",
     "text": [
      "Epoch [266/3000]: Train loss: 1.6409, Valid loss: 2.0270\n"
     ]
    },
    {
     "name": "stderr",
     "output_type": "stream",
     "text": [
      "Epoch [267/3000]: 100%|██████████| 9/9 [00:00<00:00, 132.08it/s, loss=2.14]\n"
     ]
    },
    {
     "name": "stdout",
     "output_type": "stream",
     "text": [
      "Epoch [267/3000]: Train loss: 1.7164, Valid loss: 1.9558\n"
     ]
    },
    {
     "name": "stderr",
     "output_type": "stream",
     "text": [
      "Epoch [268/3000]: 100%|██████████| 9/9 [00:00<00:00, 133.84it/s, loss=1.89]\n"
     ]
    },
    {
     "name": "stdout",
     "output_type": "stream",
     "text": [
      "Epoch [268/3000]: Train loss: 1.6878, Valid loss: 2.2733\n"
     ]
    },
    {
     "name": "stderr",
     "output_type": "stream",
     "text": [
      "Epoch [269/3000]: 100%|██████████| 9/9 [00:00<00:00, 67.63it/s, loss=1.56]\n"
     ]
    },
    {
     "name": "stdout",
     "output_type": "stream",
     "text": [
      "Epoch [269/3000]: Train loss: 1.6492, Valid loss: 1.8667\n"
     ]
    },
    {
     "name": "stderr",
     "output_type": "stream",
     "text": [
      "Epoch [270/3000]: 100%|██████████| 9/9 [00:00<00:00, 128.90it/s, loss=1.71]\n"
     ]
    },
    {
     "name": "stdout",
     "output_type": "stream",
     "text": [
      "Epoch [270/3000]: Train loss: 1.6708, Valid loss: 1.8525\n"
     ]
    },
    {
     "name": "stderr",
     "output_type": "stream",
     "text": [
      "Epoch [271/3000]: 100%|██████████| 9/9 [00:00<00:00, 136.24it/s, loss=1.54]\n"
     ]
    },
    {
     "name": "stdout",
     "output_type": "stream",
     "text": [
      "Epoch [271/3000]: Train loss: 1.6460, Valid loss: 1.9293\n"
     ]
    },
    {
     "name": "stderr",
     "output_type": "stream",
     "text": [
      "Epoch [272/3000]: 100%|██████████| 9/9 [00:00<00:00, 136.36it/s, loss=1.28]\n"
     ]
    },
    {
     "name": "stdout",
     "output_type": "stream",
     "text": [
      "Epoch [272/3000]: Train loss: 1.6360, Valid loss: 1.8764\n"
     ]
    },
    {
     "name": "stderr",
     "output_type": "stream",
     "text": [
      "Epoch [273/3000]: 100%|██████████| 9/9 [00:00<00:00, 145.88it/s, loss=1.24]\n"
     ]
    },
    {
     "name": "stdout",
     "output_type": "stream",
     "text": [
      "Epoch [273/3000]: Train loss: 1.6291, Valid loss: 1.8934\n"
     ]
    },
    {
     "name": "stderr",
     "output_type": "stream",
     "text": [
      "Epoch [274/3000]: 100%|██████████| 9/9 [00:00<00:00, 146.64it/s, loss=1.3]\n"
     ]
    },
    {
     "name": "stdout",
     "output_type": "stream",
     "text": [
      "Epoch [274/3000]: Train loss: 1.6245, Valid loss: 1.6097\n",
      "Saving model with loss 1.610...\n"
     ]
    },
    {
     "name": "stderr",
     "output_type": "stream",
     "text": [
      "Epoch [275/3000]: 100%|██████████| 9/9 [00:00<00:00, 141.75it/s, loss=1.9]\n"
     ]
    },
    {
     "name": "stdout",
     "output_type": "stream",
     "text": [
      "Epoch [275/3000]: Train loss: 1.6625, Valid loss: 1.8235\n"
     ]
    },
    {
     "name": "stderr",
     "output_type": "stream",
     "text": [
      "Epoch [276/3000]: 100%|██████████| 9/9 [00:00<00:00, 123.55it/s, loss=1.88]\n"
     ]
    },
    {
     "name": "stdout",
     "output_type": "stream",
     "text": [
      "Epoch [276/3000]: Train loss: 1.6735, Valid loss: 1.8032\n"
     ]
    },
    {
     "name": "stderr",
     "output_type": "stream",
     "text": [
      "Epoch [277/3000]: 100%|██████████| 9/9 [00:00<00:00, 124.55it/s, loss=1.48]\n"
     ]
    },
    {
     "name": "stdout",
     "output_type": "stream",
     "text": [
      "Epoch [277/3000]: Train loss: 1.6566, Valid loss: 2.1027\n"
     ]
    },
    {
     "name": "stderr",
     "output_type": "stream",
     "text": [
      "Epoch [278/3000]: 100%|██████████| 9/9 [00:00<00:00, 110.06it/s, loss=1.45]\n"
     ]
    },
    {
     "name": "stdout",
     "output_type": "stream",
     "text": [
      "Epoch [278/3000]: Train loss: 1.6609, Valid loss: 2.2584\n"
     ]
    },
    {
     "name": "stderr",
     "output_type": "stream",
     "text": [
      "Epoch [279/3000]: 100%|██████████| 9/9 [00:00<00:00, 111.48it/s, loss=2.16]\n"
     ]
    },
    {
     "name": "stdout",
     "output_type": "stream",
     "text": [
      "Epoch [279/3000]: Train loss: 1.7080, Valid loss: 1.8404\n"
     ]
    },
    {
     "name": "stderr",
     "output_type": "stream",
     "text": [
      "Epoch [280/3000]: 100%|██████████| 9/9 [00:00<00:00, 154.00it/s, loss=1.61]\n"
     ]
    },
    {
     "name": "stdout",
     "output_type": "stream",
     "text": [
      "Epoch [280/3000]: Train loss: 1.6441, Valid loss: 1.8365\n"
     ]
    },
    {
     "name": "stderr",
     "output_type": "stream",
     "text": [
      "Epoch [281/3000]: 100%|██████████| 9/9 [00:00<00:00, 155.19it/s, loss=1.6]\n"
     ]
    },
    {
     "name": "stdout",
     "output_type": "stream",
     "text": [
      "Epoch [281/3000]: Train loss: 1.6260, Valid loss: 1.8485\n"
     ]
    },
    {
     "name": "stderr",
     "output_type": "stream",
     "text": [
      "Epoch [282/3000]: 100%|██████████| 9/9 [00:00<00:00, 130.05it/s, loss=1.61]\n"
     ]
    },
    {
     "name": "stdout",
     "output_type": "stream",
     "text": [
      "Epoch [282/3000]: Train loss: 1.6320, Valid loss: 1.8418\n"
     ]
    },
    {
     "name": "stderr",
     "output_type": "stream",
     "text": [
      "Epoch [283/3000]: 100%|██████████| 9/9 [00:00<00:00, 158.25it/s, loss=2.08]\n"
     ]
    },
    {
     "name": "stdout",
     "output_type": "stream",
     "text": [
      "Epoch [283/3000]: Train loss: 1.6583, Valid loss: 1.9626\n"
     ]
    },
    {
     "name": "stderr",
     "output_type": "stream",
     "text": [
      "Epoch [284/3000]: 100%|██████████| 9/9 [00:00<00:00, 136.97it/s, loss=1.59]\n"
     ]
    },
    {
     "name": "stdout",
     "output_type": "stream",
     "text": [
      "Epoch [284/3000]: Train loss: 1.6199, Valid loss: 1.9216\n"
     ]
    },
    {
     "name": "stderr",
     "output_type": "stream",
     "text": [
      "Epoch [285/3000]: 100%|██████████| 9/9 [00:00<00:00, 137.76it/s, loss=1.81]\n"
     ]
    },
    {
     "name": "stdout",
     "output_type": "stream",
     "text": [
      "Epoch [285/3000]: Train loss: 1.6404, Valid loss: 1.8078\n"
     ]
    },
    {
     "name": "stderr",
     "output_type": "stream",
     "text": [
      "Epoch [286/3000]: 100%|██████████| 9/9 [00:00<00:00, 141.04it/s, loss=1.43]\n"
     ]
    },
    {
     "name": "stdout",
     "output_type": "stream",
     "text": [
      "Epoch [286/3000]: Train loss: 1.6207, Valid loss: 1.6925\n"
     ]
    },
    {
     "name": "stderr",
     "output_type": "stream",
     "text": [
      "Epoch [287/3000]: 100%|██████████| 9/9 [00:00<00:00, 128.82it/s, loss=1.9]\n"
     ]
    },
    {
     "name": "stdout",
     "output_type": "stream",
     "text": [
      "Epoch [287/3000]: Train loss: 1.6413, Valid loss: 1.7500\n"
     ]
    },
    {
     "name": "stderr",
     "output_type": "stream",
     "text": [
      "Epoch [288/3000]: 100%|██████████| 9/9 [00:00<00:00, 153.83it/s, loss=1.54]\n"
     ]
    },
    {
     "name": "stdout",
     "output_type": "stream",
     "text": [
      "Epoch [288/3000]: Train loss: 1.6186, Valid loss: 2.5664\n"
     ]
    },
    {
     "name": "stderr",
     "output_type": "stream",
     "text": [
      "Epoch [289/3000]: 100%|██████████| 9/9 [00:00<00:00, 146.78it/s, loss=1.14]\n"
     ]
    },
    {
     "name": "stdout",
     "output_type": "stream",
     "text": [
      "Epoch [289/3000]: Train loss: 1.5917, Valid loss: 1.9161\n"
     ]
    },
    {
     "name": "stderr",
     "output_type": "stream",
     "text": [
      "Epoch [290/3000]: 100%|██████████| 9/9 [00:00<00:00, 144.50it/s, loss=1.29]\n"
     ]
    },
    {
     "name": "stdout",
     "output_type": "stream",
     "text": [
      "Epoch [290/3000]: Train loss: 1.6167, Valid loss: 1.8783\n"
     ]
    },
    {
     "name": "stderr",
     "output_type": "stream",
     "text": [
      "Epoch [291/3000]: 100%|██████████| 9/9 [00:00<00:00, 142.32it/s, loss=1.85]\n"
     ]
    },
    {
     "name": "stdout",
     "output_type": "stream",
     "text": [
      "Epoch [291/3000]: Train loss: 1.6498, Valid loss: 2.0396\n"
     ]
    },
    {
     "name": "stderr",
     "output_type": "stream",
     "text": [
      "Epoch [292/3000]: 100%|██████████| 9/9 [00:00<00:00, 141.87it/s, loss=1.34]\n"
     ]
    },
    {
     "name": "stdout",
     "output_type": "stream",
     "text": [
      "Epoch [292/3000]: Train loss: 1.6550, Valid loss: 1.8523\n"
     ]
    },
    {
     "name": "stderr",
     "output_type": "stream",
     "text": [
      "Epoch [293/3000]: 100%|██████████| 9/9 [00:00<00:00, 135.00it/s, loss=1.61]\n"
     ]
    },
    {
     "name": "stdout",
     "output_type": "stream",
     "text": [
      "Epoch [293/3000]: Train loss: 1.6726, Valid loss: 1.9651\n"
     ]
    },
    {
     "name": "stderr",
     "output_type": "stream",
     "text": [
      "Epoch [294/3000]: 100%|██████████| 9/9 [00:00<00:00, 146.86it/s, loss=2.36]\n"
     ]
    },
    {
     "name": "stdout",
     "output_type": "stream",
     "text": [
      "Epoch [294/3000]: Train loss: 1.6711, Valid loss: 1.6887\n"
     ]
    },
    {
     "name": "stderr",
     "output_type": "stream",
     "text": [
      "Epoch [295/3000]: 100%|██████████| 9/9 [00:00<00:00, 142.74it/s, loss=1.92]\n"
     ]
    },
    {
     "name": "stdout",
     "output_type": "stream",
     "text": [
      "Epoch [295/3000]: Train loss: 1.6466, Valid loss: 2.0219\n"
     ]
    },
    {
     "name": "stderr",
     "output_type": "stream",
     "text": [
      "Epoch [296/3000]: 100%|██████████| 9/9 [00:00<00:00, 135.84it/s, loss=2.09]\n"
     ]
    },
    {
     "name": "stdout",
     "output_type": "stream",
     "text": [
      "Epoch [296/3000]: Train loss: 1.6489, Valid loss: 1.7550\n"
     ]
    },
    {
     "name": "stderr",
     "output_type": "stream",
     "text": [
      "Epoch [297/3000]: 100%|██████████| 9/9 [00:00<00:00, 142.39it/s, loss=2]\n"
     ]
    },
    {
     "name": "stdout",
     "output_type": "stream",
     "text": [
      "Epoch [297/3000]: Train loss: 1.6606, Valid loss: 1.7672\n"
     ]
    },
    {
     "name": "stderr",
     "output_type": "stream",
     "text": [
      "Epoch [298/3000]: 100%|██████████| 9/9 [00:00<00:00, 146.28it/s, loss=1.69]\n"
     ]
    },
    {
     "name": "stdout",
     "output_type": "stream",
     "text": [
      "Epoch [298/3000]: Train loss: 1.6137, Valid loss: 1.6005\n",
      "Saving model with loss 1.601...\n"
     ]
    },
    {
     "name": "stderr",
     "output_type": "stream",
     "text": [
      "Epoch [299/3000]: 100%|██████████| 9/9 [00:00<00:00, 129.25it/s, loss=1.64]\n"
     ]
    },
    {
     "name": "stdout",
     "output_type": "stream",
     "text": [
      "Epoch [299/3000]: Train loss: 1.6469, Valid loss: 1.9686\n"
     ]
    },
    {
     "name": "stderr",
     "output_type": "stream",
     "text": [
      "Epoch [300/3000]: 100%|██████████| 9/9 [00:00<00:00, 113.95it/s, loss=1.96]\n"
     ]
    },
    {
     "name": "stdout",
     "output_type": "stream",
     "text": [
      "Epoch [300/3000]: Train loss: 1.6633, Valid loss: 2.2420\n"
     ]
    },
    {
     "name": "stderr",
     "output_type": "stream",
     "text": [
      "Epoch [301/3000]: 100%|██████████| 9/9 [00:00<00:00, 129.30it/s, loss=1.55]\n"
     ]
    },
    {
     "name": "stdout",
     "output_type": "stream",
     "text": [
      "Epoch [301/3000]: Train loss: 1.6159, Valid loss: 1.9540\n"
     ]
    },
    {
     "name": "stderr",
     "output_type": "stream",
     "text": [
      "Epoch [302/3000]: 100%|██████████| 9/9 [00:00<00:00, 142.94it/s, loss=1.51]\n"
     ]
    },
    {
     "name": "stdout",
     "output_type": "stream",
     "text": [
      "Epoch [302/3000]: Train loss: 1.6232, Valid loss: 2.1935\n"
     ]
    },
    {
     "name": "stderr",
     "output_type": "stream",
     "text": [
      "Epoch [303/3000]: 100%|██████████| 9/9 [00:00<00:00, 153.84it/s, loss=2.11]\n"
     ]
    },
    {
     "name": "stdout",
     "output_type": "stream",
     "text": [
      "Epoch [303/3000]: Train loss: 1.6257, Valid loss: 1.7117\n"
     ]
    },
    {
     "name": "stderr",
     "output_type": "stream",
     "text": [
      "Epoch [304/3000]: 100%|██████████| 9/9 [00:00<00:00, 139.14it/s, loss=1.66]\n"
     ]
    },
    {
     "name": "stdout",
     "output_type": "stream",
     "text": [
      "Epoch [304/3000]: Train loss: 1.6173, Valid loss: 2.3070\n"
     ]
    },
    {
     "name": "stderr",
     "output_type": "stream",
     "text": [
      "Epoch [305/3000]: 100%|██████████| 9/9 [00:00<00:00, 136.08it/s, loss=2.03]\n"
     ]
    },
    {
     "name": "stdout",
     "output_type": "stream",
     "text": [
      "Epoch [305/3000]: Train loss: 1.6621, Valid loss: 1.7892\n"
     ]
    },
    {
     "name": "stderr",
     "output_type": "stream",
     "text": [
      "Epoch [306/3000]: 100%|██████████| 9/9 [00:00<00:00, 153.46it/s, loss=1.4]\n"
     ]
    },
    {
     "name": "stdout",
     "output_type": "stream",
     "text": [
      "Epoch [306/3000]: Train loss: 1.5856, Valid loss: 1.6067\n"
     ]
    },
    {
     "name": "stderr",
     "output_type": "stream",
     "text": [
      "Epoch [307/3000]: 100%|██████████| 9/9 [00:00<00:00, 156.11it/s, loss=1.63]\n"
     ]
    },
    {
     "name": "stdout",
     "output_type": "stream",
     "text": [
      "Epoch [307/3000]: Train loss: 1.5877, Valid loss: 1.8096\n"
     ]
    },
    {
     "name": "stderr",
     "output_type": "stream",
     "text": [
      "Epoch [308/3000]: 100%|██████████| 9/9 [00:00<00:00, 152.93it/s, loss=1.45]\n"
     ]
    },
    {
     "name": "stdout",
     "output_type": "stream",
     "text": [
      "Epoch [308/3000]: Train loss: 1.5798, Valid loss: 1.9878\n"
     ]
    },
    {
     "name": "stderr",
     "output_type": "stream",
     "text": [
      "Epoch [309/3000]: 100%|██████████| 9/9 [00:00<00:00, 151.88it/s, loss=1.42]\n"
     ]
    },
    {
     "name": "stdout",
     "output_type": "stream",
     "text": [
      "Epoch [309/3000]: Train loss: 1.5804, Valid loss: 1.8605\n"
     ]
    },
    {
     "name": "stderr",
     "output_type": "stream",
     "text": [
      "Epoch [310/3000]: 100%|██████████| 9/9 [00:00<00:00, 70.44it/s, loss=1.83]\n"
     ]
    },
    {
     "name": "stdout",
     "output_type": "stream",
     "text": [
      "Epoch [310/3000]: Train loss: 1.6041, Valid loss: 1.7144\n"
     ]
    },
    {
     "name": "stderr",
     "output_type": "stream",
     "text": [
      "Epoch [311/3000]: 100%|██████████| 9/9 [00:00<00:00, 133.98it/s, loss=1.3]\n"
     ]
    },
    {
     "name": "stdout",
     "output_type": "stream",
     "text": [
      "Epoch [311/3000]: Train loss: 1.5745, Valid loss: 1.8688\n"
     ]
    },
    {
     "name": "stderr",
     "output_type": "stream",
     "text": [
      "Epoch [312/3000]: 100%|██████████| 9/9 [00:00<00:00, 137.10it/s, loss=1.5]\n"
     ]
    },
    {
     "name": "stdout",
     "output_type": "stream",
     "text": [
      "Epoch [312/3000]: Train loss: 1.5702, Valid loss: 1.6802\n"
     ]
    },
    {
     "name": "stderr",
     "output_type": "stream",
     "text": [
      "Epoch [313/3000]: 100%|██████████| 9/9 [00:00<00:00, 137.24it/s, loss=1.6]\n"
     ]
    },
    {
     "name": "stdout",
     "output_type": "stream",
     "text": [
      "Epoch [313/3000]: Train loss: 1.5841, Valid loss: 1.7372\n"
     ]
    },
    {
     "name": "stderr",
     "output_type": "stream",
     "text": [
      "Epoch [314/3000]: 100%|██████████| 9/9 [00:00<00:00, 141.03it/s, loss=1.33]\n"
     ]
    },
    {
     "name": "stdout",
     "output_type": "stream",
     "text": [
      "Epoch [314/3000]: Train loss: 1.5596, Valid loss: 2.0436\n"
     ]
    },
    {
     "name": "stderr",
     "output_type": "stream",
     "text": [
      "Epoch [315/3000]: 100%|██████████| 9/9 [00:00<00:00, 131.78it/s, loss=1.12]\n"
     ]
    },
    {
     "name": "stdout",
     "output_type": "stream",
     "text": [
      "Epoch [315/3000]: Train loss: 1.5539, Valid loss: 1.9266\n"
     ]
    },
    {
     "name": "stderr",
     "output_type": "stream",
     "text": [
      "Epoch [316/3000]: 100%|██████████| 9/9 [00:00<00:00, 125.96it/s, loss=2.08]\n"
     ]
    },
    {
     "name": "stdout",
     "output_type": "stream",
     "text": [
      "Epoch [316/3000]: Train loss: 1.6047, Valid loss: 1.5609\n",
      "Saving model with loss 1.561...\n"
     ]
    },
    {
     "name": "stderr",
     "output_type": "stream",
     "text": [
      "Epoch [317/3000]: 100%|██████████| 9/9 [00:00<00:00, 125.42it/s, loss=1.63]\n"
     ]
    },
    {
     "name": "stdout",
     "output_type": "stream",
     "text": [
      "Epoch [317/3000]: Train loss: 1.5730, Valid loss: 1.9614\n"
     ]
    },
    {
     "name": "stderr",
     "output_type": "stream",
     "text": [
      "Epoch [318/3000]: 100%|██████████| 9/9 [00:00<00:00, 131.18it/s, loss=1.24]\n"
     ]
    },
    {
     "name": "stdout",
     "output_type": "stream",
     "text": [
      "Epoch [318/3000]: Train loss: 1.5549, Valid loss: 1.7221\n"
     ]
    },
    {
     "name": "stderr",
     "output_type": "stream",
     "text": [
      "Epoch [319/3000]: 100%|██████████| 9/9 [00:00<00:00, 113.93it/s, loss=1.31]\n"
     ]
    },
    {
     "name": "stdout",
     "output_type": "stream",
     "text": [
      "Epoch [319/3000]: Train loss: 1.5584, Valid loss: 1.7125\n"
     ]
    },
    {
     "name": "stderr",
     "output_type": "stream",
     "text": [
      "Epoch [320/3000]: 100%|██████████| 9/9 [00:00<00:00, 138.40it/s, loss=1.26]\n"
     ]
    },
    {
     "name": "stdout",
     "output_type": "stream",
     "text": [
      "Epoch [320/3000]: Train loss: 1.5599, Valid loss: 1.6256\n"
     ]
    },
    {
     "name": "stderr",
     "output_type": "stream",
     "text": [
      "Epoch [321/3000]: 100%|██████████| 9/9 [00:00<00:00, 144.19it/s, loss=1.11]\n"
     ]
    },
    {
     "name": "stdout",
     "output_type": "stream",
     "text": [
      "Epoch [321/3000]: Train loss: 1.5361, Valid loss: 1.6252\n"
     ]
    },
    {
     "name": "stderr",
     "output_type": "stream",
     "text": [
      "Epoch [322/3000]: 100%|██████████| 9/9 [00:00<00:00, 141.67it/s, loss=1.53]\n"
     ]
    },
    {
     "name": "stdout",
     "output_type": "stream",
     "text": [
      "Epoch [322/3000]: Train loss: 1.5655, Valid loss: 1.8274\n"
     ]
    },
    {
     "name": "stderr",
     "output_type": "stream",
     "text": [
      "Epoch [323/3000]: 100%|██████████| 9/9 [00:00<00:00, 153.59it/s, loss=1.56]\n"
     ]
    },
    {
     "name": "stdout",
     "output_type": "stream",
     "text": [
      "Epoch [323/3000]: Train loss: 1.5625, Valid loss: 1.5593\n",
      "Saving model with loss 1.559...\n"
     ]
    },
    {
     "name": "stderr",
     "output_type": "stream",
     "text": [
      "Epoch [324/3000]: 100%|██████████| 9/9 [00:00<00:00, 149.83it/s, loss=1.44]\n"
     ]
    },
    {
     "name": "stdout",
     "output_type": "stream",
     "text": [
      "Epoch [324/3000]: Train loss: 1.5489, Valid loss: 1.5686\n"
     ]
    },
    {
     "name": "stderr",
     "output_type": "stream",
     "text": [
      "Epoch [325/3000]: 100%|██████████| 9/9 [00:00<00:00, 166.97it/s, loss=1.17]\n"
     ]
    },
    {
     "name": "stdout",
     "output_type": "stream",
     "text": [
      "Epoch [325/3000]: Train loss: 1.5323, Valid loss: 1.7941\n"
     ]
    },
    {
     "name": "stderr",
     "output_type": "stream",
     "text": [
      "Epoch [326/3000]: 100%|██████████| 9/9 [00:00<00:00, 124.90it/s, loss=1.29]\n"
     ]
    },
    {
     "name": "stdout",
     "output_type": "stream",
     "text": [
      "Epoch [326/3000]: Train loss: 1.5367, Valid loss: 1.6767\n"
     ]
    },
    {
     "name": "stderr",
     "output_type": "stream",
     "text": [
      "Epoch [327/3000]: 100%|██████████| 9/9 [00:00<00:00, 164.27it/s, loss=1.22]\n"
     ]
    },
    {
     "name": "stdout",
     "output_type": "stream",
     "text": [
      "Epoch [327/3000]: Train loss: 1.5318, Valid loss: 1.8031\n"
     ]
    },
    {
     "name": "stderr",
     "output_type": "stream",
     "text": [
      "Epoch [328/3000]: 100%|██████████| 9/9 [00:00<00:00, 178.97it/s, loss=1.37]\n"
     ]
    },
    {
     "name": "stdout",
     "output_type": "stream",
     "text": [
      "Epoch [328/3000]: Train loss: 1.5443, Valid loss: 1.8080\n"
     ]
    },
    {
     "name": "stderr",
     "output_type": "stream",
     "text": [
      "Epoch [329/3000]: 100%|██████████| 9/9 [00:00<00:00, 139.36it/s, loss=1.65]\n"
     ]
    },
    {
     "name": "stdout",
     "output_type": "stream",
     "text": [
      "Epoch [329/3000]: Train loss: 1.5590, Valid loss: 1.7056\n"
     ]
    },
    {
     "name": "stderr",
     "output_type": "stream",
     "text": [
      "Epoch [330/3000]: 100%|██████████| 9/9 [00:00<00:00, 158.11it/s, loss=1.51]\n"
     ]
    },
    {
     "name": "stdout",
     "output_type": "stream",
     "text": [
      "Epoch [330/3000]: Train loss: 1.5470, Valid loss: 1.5748\n"
     ]
    },
    {
     "name": "stderr",
     "output_type": "stream",
     "text": [
      "Epoch [331/3000]: 100%|██████████| 9/9 [00:00<00:00, 151.96it/s, loss=1.4]\n"
     ]
    },
    {
     "name": "stdout",
     "output_type": "stream",
     "text": [
      "Epoch [331/3000]: Train loss: 1.5352, Valid loss: 1.8380\n"
     ]
    },
    {
     "name": "stderr",
     "output_type": "stream",
     "text": [
      "Epoch [332/3000]: 100%|██████████| 9/9 [00:00<00:00, 141.56it/s, loss=1.37]\n"
     ]
    },
    {
     "name": "stdout",
     "output_type": "stream",
     "text": [
      "Epoch [332/3000]: Train loss: 1.5332, Valid loss: 1.6973\n"
     ]
    },
    {
     "name": "stderr",
     "output_type": "stream",
     "text": [
      "Epoch [333/3000]: 100%|██████████| 9/9 [00:00<00:00, 138.57it/s, loss=1.39]\n"
     ]
    },
    {
     "name": "stdout",
     "output_type": "stream",
     "text": [
      "Epoch [333/3000]: Train loss: 1.5316, Valid loss: 1.7735\n"
     ]
    },
    {
     "name": "stderr",
     "output_type": "stream",
     "text": [
      "Epoch [334/3000]: 100%|██████████| 9/9 [00:00<00:00, 137.86it/s, loss=1.35]\n"
     ]
    },
    {
     "name": "stdout",
     "output_type": "stream",
     "text": [
      "Epoch [334/3000]: Train loss: 1.5397, Valid loss: 1.7852\n"
     ]
    },
    {
     "name": "stderr",
     "output_type": "stream",
     "text": [
      "Epoch [335/3000]: 100%|██████████| 9/9 [00:00<00:00, 131.06it/s, loss=1.8]\n"
     ]
    },
    {
     "name": "stdout",
     "output_type": "stream",
     "text": [
      "Epoch [335/3000]: Train loss: 1.5699, Valid loss: 1.6634\n"
     ]
    },
    {
     "name": "stderr",
     "output_type": "stream",
     "text": [
      "Epoch [336/3000]: 100%|██████████| 9/9 [00:00<00:00, 131.13it/s, loss=1.49]\n"
     ]
    },
    {
     "name": "stdout",
     "output_type": "stream",
     "text": [
      "Epoch [336/3000]: Train loss: 1.5461, Valid loss: 1.8062\n"
     ]
    },
    {
     "name": "stderr",
     "output_type": "stream",
     "text": [
      "Epoch [337/3000]: 100%|██████████| 9/9 [00:00<00:00, 113.71it/s, loss=1.86]\n"
     ]
    },
    {
     "name": "stdout",
     "output_type": "stream",
     "text": [
      "Epoch [337/3000]: Train loss: 1.5548, Valid loss: 1.6702\n"
     ]
    },
    {
     "name": "stderr",
     "output_type": "stream",
     "text": [
      "Epoch [338/3000]: 100%|██████████| 9/9 [00:00<00:00, 121.45it/s, loss=1.75]\n"
     ]
    },
    {
     "name": "stdout",
     "output_type": "stream",
     "text": [
      "Epoch [338/3000]: Train loss: 1.5524, Valid loss: 1.9305\n"
     ]
    },
    {
     "name": "stderr",
     "output_type": "stream",
     "text": [
      "Epoch [339/3000]: 100%|██████████| 9/9 [00:00<00:00, 125.47it/s, loss=1.28]\n"
     ]
    },
    {
     "name": "stdout",
     "output_type": "stream",
     "text": [
      "Epoch [339/3000]: Train loss: 1.5177, Valid loss: 1.9334\n"
     ]
    },
    {
     "name": "stderr",
     "output_type": "stream",
     "text": [
      "Epoch [340/3000]: 100%|██████████| 9/9 [00:00<00:00, 143.04it/s, loss=1.26]\n"
     ]
    },
    {
     "name": "stdout",
     "output_type": "stream",
     "text": [
      "Epoch [340/3000]: Train loss: 1.5160, Valid loss: 1.8450\n"
     ]
    },
    {
     "name": "stderr",
     "output_type": "stream",
     "text": [
      "Epoch [341/3000]: 100%|██████████| 9/9 [00:00<00:00, 115.84it/s, loss=1.42]\n"
     ]
    },
    {
     "name": "stdout",
     "output_type": "stream",
     "text": [
      "Epoch [341/3000]: Train loss: 1.5356, Valid loss: 1.7039\n"
     ]
    },
    {
     "name": "stderr",
     "output_type": "stream",
     "text": [
      "Epoch [342/3000]: 100%|██████████| 9/9 [00:00<00:00, 125.07it/s, loss=1.44]\n"
     ]
    },
    {
     "name": "stdout",
     "output_type": "stream",
     "text": [
      "Epoch [342/3000]: Train loss: 1.5281, Valid loss: 1.7812\n"
     ]
    },
    {
     "name": "stderr",
     "output_type": "stream",
     "text": [
      "Epoch [343/3000]: 100%|██████████| 9/9 [00:00<00:00, 143.80it/s, loss=1.69]\n"
     ]
    },
    {
     "name": "stdout",
     "output_type": "stream",
     "text": [
      "Epoch [343/3000]: Train loss: 1.5488, Valid loss: 1.8337\n"
     ]
    },
    {
     "name": "stderr",
     "output_type": "stream",
     "text": [
      "Epoch [344/3000]: 100%|██████████| 9/9 [00:00<00:00, 152.76it/s, loss=1.79]\n"
     ]
    },
    {
     "name": "stdout",
     "output_type": "stream",
     "text": [
      "Epoch [344/3000]: Train loss: 1.5631, Valid loss: 1.8604\n"
     ]
    },
    {
     "name": "stderr",
     "output_type": "stream",
     "text": [
      "Epoch [345/3000]: 100%|██████████| 9/9 [00:00<00:00, 147.12it/s, loss=2.18]\n"
     ]
    },
    {
     "name": "stdout",
     "output_type": "stream",
     "text": [
      "Epoch [345/3000]: Train loss: 1.5678, Valid loss: 2.3122\n"
     ]
    },
    {
     "name": "stderr",
     "output_type": "stream",
     "text": [
      "Epoch [346/3000]: 100%|██████████| 9/9 [00:00<00:00, 109.12it/s, loss=1.76]\n"
     ]
    },
    {
     "name": "stdout",
     "output_type": "stream",
     "text": [
      "Epoch [346/3000]: Train loss: 1.5378, Valid loss: 1.6818\n"
     ]
    },
    {
     "name": "stderr",
     "output_type": "stream",
     "text": [
      "Epoch [347/3000]: 100%|██████████| 9/9 [00:00<00:00, 126.28it/s, loss=1.57]\n"
     ]
    },
    {
     "name": "stdout",
     "output_type": "stream",
     "text": [
      "Epoch [347/3000]: Train loss: 1.5219, Valid loss: 1.9740\n"
     ]
    },
    {
     "name": "stderr",
     "output_type": "stream",
     "text": [
      "Epoch [348/3000]: 100%|██████████| 9/9 [00:00<00:00, 137.19it/s, loss=1.65]\n"
     ]
    },
    {
     "name": "stdout",
     "output_type": "stream",
     "text": [
      "Epoch [348/3000]: Train loss: 1.5343, Valid loss: 2.2184\n"
     ]
    },
    {
     "name": "stderr",
     "output_type": "stream",
     "text": [
      "Epoch [349/3000]: 100%|██████████| 9/9 [00:00<00:00, 149.87it/s, loss=1.72]\n"
     ]
    },
    {
     "name": "stdout",
     "output_type": "stream",
     "text": [
      "Epoch [349/3000]: Train loss: 1.5375, Valid loss: 2.0826\n"
     ]
    },
    {
     "name": "stderr",
     "output_type": "stream",
     "text": [
      "Epoch [350/3000]: 100%|██████████| 9/9 [00:00<00:00, 155.52it/s, loss=1.32]\n"
     ]
    },
    {
     "name": "stdout",
     "output_type": "stream",
     "text": [
      "Epoch [350/3000]: Train loss: 1.5340, Valid loss: 1.5242\n",
      "Saving model with loss 1.524...\n"
     ]
    },
    {
     "name": "stderr",
     "output_type": "stream",
     "text": [
      "Epoch [351/3000]: 100%|██████████| 9/9 [00:00<00:00, 148.90it/s, loss=1.93]\n"
     ]
    },
    {
     "name": "stdout",
     "output_type": "stream",
     "text": [
      "Epoch [351/3000]: Train loss: 1.5413, Valid loss: 1.5970\n"
     ]
    },
    {
     "name": "stderr",
     "output_type": "stream",
     "text": [
      "Epoch [352/3000]: 100%|██████████| 9/9 [00:00<00:00, 153.83it/s, loss=1.48]\n"
     ]
    },
    {
     "name": "stdout",
     "output_type": "stream",
     "text": [
      "Epoch [352/3000]: Train loss: 1.5286, Valid loss: 1.6825\n"
     ]
    },
    {
     "name": "stderr",
     "output_type": "stream",
     "text": [
      "Epoch [353/3000]: 100%|██████████| 9/9 [00:00<00:00, 148.47it/s, loss=1.85]\n"
     ]
    },
    {
     "name": "stdout",
     "output_type": "stream",
     "text": [
      "Epoch [353/3000]: Train loss: 1.5546, Valid loss: 1.6500\n"
     ]
    },
    {
     "name": "stderr",
     "output_type": "stream",
     "text": [
      "Epoch [354/3000]: 100%|██████████| 9/9 [00:00<00:00, 122.99it/s, loss=1.41]\n"
     ]
    },
    {
     "name": "stdout",
     "output_type": "stream",
     "text": [
      "Epoch [354/3000]: Train loss: 1.5139, Valid loss: 1.7536\n"
     ]
    },
    {
     "name": "stderr",
     "output_type": "stream",
     "text": [
      "Epoch [355/3000]: 100%|██████████| 9/9 [00:00<00:00, 116.56it/s, loss=1.65]\n"
     ]
    },
    {
     "name": "stdout",
     "output_type": "stream",
     "text": [
      "Epoch [355/3000]: Train loss: 1.5201, Valid loss: 2.1141\n"
     ]
    },
    {
     "name": "stderr",
     "output_type": "stream",
     "text": [
      "Epoch [356/3000]: 100%|██████████| 9/9 [00:00<00:00, 127.77it/s, loss=2.25]\n"
     ]
    },
    {
     "name": "stdout",
     "output_type": "stream",
     "text": [
      "Epoch [356/3000]: Train loss: 1.5523, Valid loss: 1.6890\n"
     ]
    },
    {
     "name": "stderr",
     "output_type": "stream",
     "text": [
      "Epoch [357/3000]: 100%|██████████| 9/9 [00:00<00:00, 136.34it/s, loss=1.61]\n"
     ]
    },
    {
     "name": "stdout",
     "output_type": "stream",
     "text": [
      "Epoch [357/3000]: Train loss: 1.5106, Valid loss: 1.7091\n"
     ]
    },
    {
     "name": "stderr",
     "output_type": "stream",
     "text": [
      "Epoch [358/3000]: 100%|██████████| 9/9 [00:00<00:00, 120.68it/s, loss=1.76]\n"
     ]
    },
    {
     "name": "stdout",
     "output_type": "stream",
     "text": [
      "Epoch [358/3000]: Train loss: 1.5246, Valid loss: 1.7139\n"
     ]
    },
    {
     "name": "stderr",
     "output_type": "stream",
     "text": [
      "Epoch [359/3000]: 100%|██████████| 9/9 [00:00<00:00, 115.11it/s, loss=1.52]\n"
     ]
    },
    {
     "name": "stdout",
     "output_type": "stream",
     "text": [
      "Epoch [359/3000]: Train loss: 1.5121, Valid loss: 1.5623\n"
     ]
    },
    {
     "name": "stderr",
     "output_type": "stream",
     "text": [
      "Epoch [360/3000]: 100%|██████████| 9/9 [00:00<00:00, 129.53it/s, loss=1.59]\n"
     ]
    },
    {
     "name": "stdout",
     "output_type": "stream",
     "text": [
      "Epoch [360/3000]: Train loss: 1.5084, Valid loss: 1.5759\n"
     ]
    },
    {
     "name": "stderr",
     "output_type": "stream",
     "text": [
      "Epoch [361/3000]: 100%|██████████| 9/9 [00:00<00:00, 138.67it/s, loss=0.971]\n"
     ]
    },
    {
     "name": "stdout",
     "output_type": "stream",
     "text": [
      "Epoch [361/3000]: Train loss: 1.4729, Valid loss: 1.6758\n"
     ]
    },
    {
     "name": "stderr",
     "output_type": "stream",
     "text": [
      "Epoch [362/3000]: 100%|██████████| 9/9 [00:00<00:00, 124.98it/s, loss=1.57]\n"
     ]
    },
    {
     "name": "stdout",
     "output_type": "stream",
     "text": [
      "Epoch [362/3000]: Train loss: 1.5068, Valid loss: 1.7221\n"
     ]
    },
    {
     "name": "stderr",
     "output_type": "stream",
     "text": [
      "Epoch [363/3000]: 100%|██████████| 9/9 [00:00<00:00, 126.33it/s, loss=1.77]\n"
     ]
    },
    {
     "name": "stdout",
     "output_type": "stream",
     "text": [
      "Epoch [363/3000]: Train loss: 1.5177, Valid loss: 1.8835\n"
     ]
    },
    {
     "name": "stderr",
     "output_type": "stream",
     "text": [
      "Epoch [364/3000]: 100%|██████████| 9/9 [00:00<00:00, 115.81it/s, loss=1.77]\n"
     ]
    },
    {
     "name": "stdout",
     "output_type": "stream",
     "text": [
      "Epoch [364/3000]: Train loss: 1.5208, Valid loss: 1.7228\n"
     ]
    },
    {
     "name": "stderr",
     "output_type": "stream",
     "text": [
      "Epoch [365/3000]: 100%|██████████| 9/9 [00:00<00:00, 122.44it/s, loss=1.39]\n"
     ]
    },
    {
     "name": "stdout",
     "output_type": "stream",
     "text": [
      "Epoch [365/3000]: Train loss: 1.4974, Valid loss: 1.7599\n"
     ]
    },
    {
     "name": "stderr",
     "output_type": "stream",
     "text": [
      "Epoch [366/3000]: 100%|██████████| 9/9 [00:00<00:00, 138.81it/s, loss=1.63]\n"
     ]
    },
    {
     "name": "stdout",
     "output_type": "stream",
     "text": [
      "Epoch [366/3000]: Train loss: 1.5024, Valid loss: 1.8899\n"
     ]
    },
    {
     "name": "stderr",
     "output_type": "stream",
     "text": [
      "Epoch [367/3000]: 100%|██████████| 9/9 [00:00<00:00, 137.06it/s, loss=0.889]\n"
     ]
    },
    {
     "name": "stdout",
     "output_type": "stream",
     "text": [
      "Epoch [367/3000]: Train loss: 1.4568, Valid loss: 2.0872\n"
     ]
    },
    {
     "name": "stderr",
     "output_type": "stream",
     "text": [
      "Epoch [368/3000]: 100%|██████████| 9/9 [00:00<00:00, 136.02it/s, loss=1.51]\n"
     ]
    },
    {
     "name": "stdout",
     "output_type": "stream",
     "text": [
      "Epoch [368/3000]: Train loss: 1.4950, Valid loss: 1.6977\n"
     ]
    },
    {
     "name": "stderr",
     "output_type": "stream",
     "text": [
      "Epoch [369/3000]: 100%|██████████| 9/9 [00:00<00:00, 127.34it/s, loss=1.44]\n"
     ]
    },
    {
     "name": "stdout",
     "output_type": "stream",
     "text": [
      "Epoch [369/3000]: Train loss: 1.4866, Valid loss: 1.6249\n"
     ]
    },
    {
     "name": "stderr",
     "output_type": "stream",
     "text": [
      "Epoch [370/3000]: 100%|██████████| 9/9 [00:00<00:00, 143.69it/s, loss=1.52]\n"
     ]
    },
    {
     "name": "stdout",
     "output_type": "stream",
     "text": [
      "Epoch [370/3000]: Train loss: 1.5047, Valid loss: 1.7660\n"
     ]
    },
    {
     "name": "stderr",
     "output_type": "stream",
     "text": [
      "Epoch [371/3000]: 100%|██████████| 9/9 [00:00<00:00, 143.03it/s, loss=1.09]\n"
     ]
    },
    {
     "name": "stdout",
     "output_type": "stream",
     "text": [
      "Epoch [371/3000]: Train loss: 1.4795, Valid loss: 1.7937\n"
     ]
    },
    {
     "name": "stderr",
     "output_type": "stream",
     "text": [
      "Epoch [372/3000]: 100%|██████████| 9/9 [00:00<00:00, 136.13it/s, loss=1.62]\n"
     ]
    },
    {
     "name": "stdout",
     "output_type": "stream",
     "text": [
      "Epoch [372/3000]: Train loss: 1.5042, Valid loss: 1.6136\n"
     ]
    },
    {
     "name": "stderr",
     "output_type": "stream",
     "text": [
      "Epoch [373/3000]: 100%|██████████| 9/9 [00:00<00:00, 133.38it/s, loss=1.3]\n"
     ]
    },
    {
     "name": "stdout",
     "output_type": "stream",
     "text": [
      "Epoch [373/3000]: Train loss: 1.4752, Valid loss: 1.8923\n"
     ]
    },
    {
     "name": "stderr",
     "output_type": "stream",
     "text": [
      "Epoch [374/3000]: 100%|██████████| 9/9 [00:00<00:00, 129.12it/s, loss=1.59]\n"
     ]
    },
    {
     "name": "stdout",
     "output_type": "stream",
     "text": [
      "Epoch [374/3000]: Train loss: 1.4930, Valid loss: 1.8847\n"
     ]
    },
    {
     "name": "stderr",
     "output_type": "stream",
     "text": [
      "Epoch [375/3000]: 100%|██████████| 9/9 [00:00<00:00, 128.32it/s, loss=1.35]\n"
     ]
    },
    {
     "name": "stdout",
     "output_type": "stream",
     "text": [
      "Epoch [375/3000]: Train loss: 1.4781, Valid loss: 2.1527\n"
     ]
    },
    {
     "name": "stderr",
     "output_type": "stream",
     "text": [
      "Epoch [376/3000]: 100%|██████████| 9/9 [00:00<00:00, 122.43it/s, loss=1.22]\n"
     ]
    },
    {
     "name": "stdout",
     "output_type": "stream",
     "text": [
      "Epoch [376/3000]: Train loss: 1.4651, Valid loss: 1.8254\n"
     ]
    },
    {
     "name": "stderr",
     "output_type": "stream",
     "text": [
      "Epoch [377/3000]: 100%|██████████| 9/9 [00:00<00:00, 129.58it/s, loss=1.27]\n"
     ]
    },
    {
     "name": "stdout",
     "output_type": "stream",
     "text": [
      "Epoch [377/3000]: Train loss: 1.4678, Valid loss: 1.6288\n"
     ]
    },
    {
     "name": "stderr",
     "output_type": "stream",
     "text": [
      "Epoch [378/3000]: 100%|██████████| 9/9 [00:00<00:00, 145.41it/s, loss=1.21]\n"
     ]
    },
    {
     "name": "stdout",
     "output_type": "stream",
     "text": [
      "Epoch [378/3000]: Train loss: 1.4597, Valid loss: 1.5424\n"
     ]
    },
    {
     "name": "stderr",
     "output_type": "stream",
     "text": [
      "Epoch [379/3000]: 100%|██████████| 9/9 [00:00<00:00, 131.63it/s, loss=2.24]\n"
     ]
    },
    {
     "name": "stdout",
     "output_type": "stream",
     "text": [
      "Epoch [379/3000]: Train loss: 1.5253, Valid loss: 1.5558\n"
     ]
    },
    {
     "name": "stderr",
     "output_type": "stream",
     "text": [
      "Epoch [380/3000]: 100%|██████████| 9/9 [00:00<00:00, 139.00it/s, loss=1.74]\n"
     ]
    },
    {
     "name": "stdout",
     "output_type": "stream",
     "text": [
      "Epoch [380/3000]: Train loss: 1.5127, Valid loss: 1.5841\n"
     ]
    },
    {
     "name": "stderr",
     "output_type": "stream",
     "text": [
      "Epoch [381/3000]: 100%|██████████| 9/9 [00:00<00:00, 113.56it/s, loss=1.22]\n"
     ]
    },
    {
     "name": "stdout",
     "output_type": "stream",
     "text": [
      "Epoch [381/3000]: Train loss: 1.4708, Valid loss: 1.7177\n"
     ]
    },
    {
     "name": "stderr",
     "output_type": "stream",
     "text": [
      "Epoch [382/3000]: 100%|██████████| 9/9 [00:00<00:00, 112.25it/s, loss=1.07]\n"
     ]
    },
    {
     "name": "stdout",
     "output_type": "stream",
     "text": [
      "Epoch [382/3000]: Train loss: 1.4499, Valid loss: 1.6975\n"
     ]
    },
    {
     "name": "stderr",
     "output_type": "stream",
     "text": [
      "Epoch [383/3000]: 100%|██████████| 9/9 [00:00<00:00, 119.47it/s, loss=1.52]\n"
     ]
    },
    {
     "name": "stdout",
     "output_type": "stream",
     "text": [
      "Epoch [383/3000]: Train loss: 1.4761, Valid loss: 1.8062\n"
     ]
    },
    {
     "name": "stderr",
     "output_type": "stream",
     "text": [
      "Epoch [384/3000]: 100%|██████████| 9/9 [00:00<00:00, 116.22it/s, loss=1.28]\n"
     ]
    },
    {
     "name": "stdout",
     "output_type": "stream",
     "text": [
      "Epoch [384/3000]: Train loss: 1.4581, Valid loss: 1.7518\n"
     ]
    },
    {
     "name": "stderr",
     "output_type": "stream",
     "text": [
      "Epoch [385/3000]: 100%|██████████| 9/9 [00:00<00:00, 110.29it/s, loss=1.26]\n"
     ]
    },
    {
     "name": "stdout",
     "output_type": "stream",
     "text": [
      "Epoch [385/3000]: Train loss: 1.4525, Valid loss: 1.9864\n"
     ]
    },
    {
     "name": "stderr",
     "output_type": "stream",
     "text": [
      "Epoch [386/3000]: 100%|██████████| 9/9 [00:00<00:00, 144.18it/s, loss=1.97]\n"
     ]
    },
    {
     "name": "stdout",
     "output_type": "stream",
     "text": [
      "Epoch [386/3000]: Train loss: 1.5200, Valid loss: 1.6653\n"
     ]
    },
    {
     "name": "stderr",
     "output_type": "stream",
     "text": [
      "Epoch [387/3000]: 100%|██████████| 9/9 [00:00<00:00, 161.42it/s, loss=2.2]\n"
     ]
    },
    {
     "name": "stdout",
     "output_type": "stream",
     "text": [
      "Epoch [387/3000]: Train loss: 1.5451, Valid loss: 1.6579\n"
     ]
    },
    {
     "name": "stderr",
     "output_type": "stream",
     "text": [
      "Epoch [388/3000]: 100%|██████████| 9/9 [00:00<00:00, 154.31it/s, loss=1.12]\n"
     ]
    },
    {
     "name": "stdout",
     "output_type": "stream",
     "text": [
      "Epoch [388/3000]: Train loss: 1.4546, Valid loss: 1.7757\n"
     ]
    },
    {
     "name": "stderr",
     "output_type": "stream",
     "text": [
      "Epoch [389/3000]: 100%|██████████| 9/9 [00:00<00:00, 154.96it/s, loss=1.91]\n"
     ]
    },
    {
     "name": "stdout",
     "output_type": "stream",
     "text": [
      "Epoch [389/3000]: Train loss: 1.4915, Valid loss: 1.8214\n"
     ]
    },
    {
     "name": "stderr",
     "output_type": "stream",
     "text": [
      "Epoch [390/3000]: 100%|██████████| 9/9 [00:00<00:00, 136.23it/s, loss=1.59]\n"
     ]
    },
    {
     "name": "stdout",
     "output_type": "stream",
     "text": [
      "Epoch [390/3000]: Train loss: 1.4726, Valid loss: 2.0450\n"
     ]
    },
    {
     "name": "stderr",
     "output_type": "stream",
     "text": [
      "Epoch [391/3000]: 100%|██████████| 9/9 [00:00<00:00, 145.45it/s, loss=1.3]\n"
     ]
    },
    {
     "name": "stdout",
     "output_type": "stream",
     "text": [
      "Epoch [391/3000]: Train loss: 1.4502, Valid loss: 1.4586\n",
      "Saving model with loss 1.459...\n"
     ]
    },
    {
     "name": "stderr",
     "output_type": "stream",
     "text": [
      "Epoch [392/3000]: 100%|██████████| 9/9 [00:00<00:00, 151.38it/s, loss=1.6]\n"
     ]
    },
    {
     "name": "stdout",
     "output_type": "stream",
     "text": [
      "Epoch [392/3000]: Train loss: 1.4687, Valid loss: 1.5662\n"
     ]
    },
    {
     "name": "stderr",
     "output_type": "stream",
     "text": [
      "Epoch [393/3000]: 100%|██████████| 9/9 [00:00<00:00, 143.44it/s, loss=1.12]\n"
     ]
    },
    {
     "name": "stdout",
     "output_type": "stream",
     "text": [
      "Epoch [393/3000]: Train loss: 1.4457, Valid loss: 1.7568\n"
     ]
    },
    {
     "name": "stderr",
     "output_type": "stream",
     "text": [
      "Epoch [394/3000]: 100%|██████████| 9/9 [00:00<00:00, 139.74it/s, loss=1.72]\n"
     ]
    },
    {
     "name": "stdout",
     "output_type": "stream",
     "text": [
      "Epoch [394/3000]: Train loss: 1.4815, Valid loss: 1.9049\n"
     ]
    },
    {
     "name": "stderr",
     "output_type": "stream",
     "text": [
      "Epoch [395/3000]: 100%|██████████| 9/9 [00:00<00:00, 138.04it/s, loss=1.23]\n"
     ]
    },
    {
     "name": "stdout",
     "output_type": "stream",
     "text": [
      "Epoch [395/3000]: Train loss: 1.4546, Valid loss: 1.7811\n"
     ]
    },
    {
     "name": "stderr",
     "output_type": "stream",
     "text": [
      "Epoch [396/3000]: 100%|██████████| 9/9 [00:00<00:00, 138.89it/s, loss=1.57]\n"
     ]
    },
    {
     "name": "stdout",
     "output_type": "stream",
     "text": [
      "Epoch [396/3000]: Train loss: 1.4719, Valid loss: 1.6593\n"
     ]
    },
    {
     "name": "stderr",
     "output_type": "stream",
     "text": [
      "Epoch [397/3000]: 100%|██████████| 9/9 [00:00<00:00, 145.78it/s, loss=1.48]\n"
     ]
    },
    {
     "name": "stdout",
     "output_type": "stream",
     "text": [
      "Epoch [397/3000]: Train loss: 1.4816, Valid loss: 1.6372\n"
     ]
    },
    {
     "name": "stderr",
     "output_type": "stream",
     "text": [
      "Epoch [398/3000]: 100%|██████████| 9/9 [00:00<00:00, 147.40it/s, loss=1.78]\n"
     ]
    },
    {
     "name": "stdout",
     "output_type": "stream",
     "text": [
      "Epoch [398/3000]: Train loss: 1.4876, Valid loss: 1.7233\n"
     ]
    },
    {
     "name": "stderr",
     "output_type": "stream",
     "text": [
      "Epoch [399/3000]: 100%|██████████| 9/9 [00:00<00:00, 145.21it/s, loss=1.38]\n"
     ]
    },
    {
     "name": "stdout",
     "output_type": "stream",
     "text": [
      "Epoch [399/3000]: Train loss: 1.4576, Valid loss: 1.5557\n"
     ]
    },
    {
     "name": "stderr",
     "output_type": "stream",
     "text": [
      "Epoch [400/3000]: 100%|██████████| 9/9 [00:00<00:00, 144.26it/s, loss=0.924]\n"
     ]
    },
    {
     "name": "stdout",
     "output_type": "stream",
     "text": [
      "Epoch [400/3000]: Train loss: 1.4236, Valid loss: 1.5581\n"
     ]
    },
    {
     "name": "stderr",
     "output_type": "stream",
     "text": [
      "Epoch [401/3000]: 100%|██████████| 9/9 [00:00<00:00, 130.23it/s, loss=1.77]\n"
     ]
    },
    {
     "name": "stdout",
     "output_type": "stream",
     "text": [
      "Epoch [401/3000]: Train loss: 1.4676, Valid loss: 1.7989\n"
     ]
    },
    {
     "name": "stderr",
     "output_type": "stream",
     "text": [
      "Epoch [402/3000]: 100%|██████████| 9/9 [00:00<00:00, 133.22it/s, loss=1.39]\n"
     ]
    },
    {
     "name": "stdout",
     "output_type": "stream",
     "text": [
      "Epoch [402/3000]: Train loss: 1.4650, Valid loss: 1.6332\n"
     ]
    },
    {
     "name": "stderr",
     "output_type": "stream",
     "text": [
      "Epoch [403/3000]: 100%|██████████| 9/9 [00:00<00:00, 114.94it/s, loss=1.52]\n"
     ]
    },
    {
     "name": "stdout",
     "output_type": "stream",
     "text": [
      "Epoch [403/3000]: Train loss: 1.4556, Valid loss: 1.4055\n",
      "Saving model with loss 1.406...\n"
     ]
    },
    {
     "name": "stderr",
     "output_type": "stream",
     "text": [
      "Epoch [404/3000]: 100%|██████████| 9/9 [00:00<00:00, 136.49it/s, loss=2.11]\n"
     ]
    },
    {
     "name": "stdout",
     "output_type": "stream",
     "text": [
      "Epoch [404/3000]: Train loss: 1.4884, Valid loss: 1.8192\n"
     ]
    },
    {
     "name": "stderr",
     "output_type": "stream",
     "text": [
      "Epoch [405/3000]: 100%|██████████| 9/9 [00:00<00:00, 133.36it/s, loss=1.49]\n"
     ]
    },
    {
     "name": "stdout",
     "output_type": "stream",
     "text": [
      "Epoch [405/3000]: Train loss: 1.4503, Valid loss: 1.6016\n"
     ]
    },
    {
     "name": "stderr",
     "output_type": "stream",
     "text": [
      "Epoch [406/3000]: 100%|██████████| 9/9 [00:00<00:00, 128.79it/s, loss=1.33]\n"
     ]
    },
    {
     "name": "stdout",
     "output_type": "stream",
     "text": [
      "Epoch [406/3000]: Train loss: 1.4340, Valid loss: 1.8714\n"
     ]
    },
    {
     "name": "stderr",
     "output_type": "stream",
     "text": [
      "Epoch [407/3000]: 100%|██████████| 9/9 [00:00<00:00, 139.96it/s, loss=1.29]\n"
     ]
    },
    {
     "name": "stdout",
     "output_type": "stream",
     "text": [
      "Epoch [407/3000]: Train loss: 1.4363, Valid loss: 1.8692\n"
     ]
    },
    {
     "name": "stderr",
     "output_type": "stream",
     "text": [
      "Epoch [408/3000]: 100%|██████████| 9/9 [00:00<00:00, 142.91it/s, loss=1.27]\n"
     ]
    },
    {
     "name": "stdout",
     "output_type": "stream",
     "text": [
      "Epoch [408/3000]: Train loss: 1.4326, Valid loss: 1.5245\n"
     ]
    },
    {
     "name": "stderr",
     "output_type": "stream",
     "text": [
      "Epoch [409/3000]: 100%|██████████| 9/9 [00:00<00:00, 153.83it/s, loss=1.61]\n"
     ]
    },
    {
     "name": "stdout",
     "output_type": "stream",
     "text": [
      "Epoch [409/3000]: Train loss: 1.4597, Valid loss: 1.4645\n"
     ]
    },
    {
     "name": "stderr",
     "output_type": "stream",
     "text": [
      "Epoch [410/3000]: 100%|██████████| 9/9 [00:00<00:00, 148.34it/s, loss=1.47]\n"
     ]
    },
    {
     "name": "stdout",
     "output_type": "stream",
     "text": [
      "Epoch [410/3000]: Train loss: 1.4477, Valid loss: 1.8637\n"
     ]
    },
    {
     "name": "stderr",
     "output_type": "stream",
     "text": [
      "Epoch [411/3000]: 100%|██████████| 9/9 [00:00<00:00, 154.31it/s, loss=1.04]\n"
     ]
    },
    {
     "name": "stdout",
     "output_type": "stream",
     "text": [
      "Epoch [411/3000]: Train loss: 1.4134, Valid loss: 1.5208\n"
     ]
    },
    {
     "name": "stderr",
     "output_type": "stream",
     "text": [
      "Epoch [412/3000]: 100%|██████████| 9/9 [00:00<00:00, 156.97it/s, loss=1.38]\n"
     ]
    },
    {
     "name": "stdout",
     "output_type": "stream",
     "text": [
      "Epoch [412/3000]: Train loss: 1.4321, Valid loss: 1.4978\n"
     ]
    },
    {
     "name": "stderr",
     "output_type": "stream",
     "text": [
      "Epoch [413/3000]: 100%|██████████| 9/9 [00:00<00:00, 156.79it/s, loss=1.34]\n"
     ]
    },
    {
     "name": "stdout",
     "output_type": "stream",
     "text": [
      "Epoch [413/3000]: Train loss: 1.4250, Valid loss: 1.6350\n"
     ]
    },
    {
     "name": "stderr",
     "output_type": "stream",
     "text": [
      "Epoch [414/3000]: 100%|██████████| 9/9 [00:00<00:00, 155.63it/s, loss=1.1]\n"
     ]
    },
    {
     "name": "stdout",
     "output_type": "stream",
     "text": [
      "Epoch [414/3000]: Train loss: 1.4078, Valid loss: 1.6634\n"
     ]
    },
    {
     "name": "stderr",
     "output_type": "stream",
     "text": [
      "Epoch [415/3000]: 100%|██████████| 9/9 [00:00<00:00, 148.21it/s, loss=1.5]\n"
     ]
    },
    {
     "name": "stdout",
     "output_type": "stream",
     "text": [
      "Epoch [415/3000]: Train loss: 1.4376, Valid loss: 1.6674\n"
     ]
    },
    {
     "name": "stderr",
     "output_type": "stream",
     "text": [
      "Epoch [416/3000]: 100%|██████████| 9/9 [00:00<00:00, 146.28it/s, loss=1.23]\n"
     ]
    },
    {
     "name": "stdout",
     "output_type": "stream",
     "text": [
      "Epoch [416/3000]: Train loss: 1.4202, Valid loss: 1.8342\n"
     ]
    },
    {
     "name": "stderr",
     "output_type": "stream",
     "text": [
      "Epoch [417/3000]: 100%|██████████| 9/9 [00:00<00:00, 144.74it/s, loss=1.33]\n"
     ]
    },
    {
     "name": "stdout",
     "output_type": "stream",
     "text": [
      "Epoch [417/3000]: Train loss: 1.4304, Valid loss: 1.4615\n"
     ]
    },
    {
     "name": "stderr",
     "output_type": "stream",
     "text": [
      "Epoch [418/3000]: 100%|██████████| 9/9 [00:00<00:00, 130.88it/s, loss=1.7]\n"
     ]
    },
    {
     "name": "stdout",
     "output_type": "stream",
     "text": [
      "Epoch [418/3000]: Train loss: 1.4538, Valid loss: 1.7267\n"
     ]
    },
    {
     "name": "stderr",
     "output_type": "stream",
     "text": [
      "Epoch [419/3000]: 100%|██████████| 9/9 [00:00<00:00, 113.64it/s, loss=1.08]\n"
     ]
    },
    {
     "name": "stdout",
     "output_type": "stream",
     "text": [
      "Epoch [419/3000]: Train loss: 1.4274, Valid loss: 1.5049\n"
     ]
    },
    {
     "name": "stderr",
     "output_type": "stream",
     "text": [
      "Epoch [420/3000]: 100%|██████████| 9/9 [00:00<00:00, 124.62it/s, loss=2.43]\n"
     ]
    },
    {
     "name": "stdout",
     "output_type": "stream",
     "text": [
      "Epoch [420/3000]: Train loss: 1.4926, Valid loss: 1.8487\n"
     ]
    },
    {
     "name": "stderr",
     "output_type": "stream",
     "text": [
      "Epoch [421/3000]: 100%|██████████| 9/9 [00:00<00:00, 125.59it/s, loss=1.44]\n"
     ]
    },
    {
     "name": "stdout",
     "output_type": "stream",
     "text": [
      "Epoch [421/3000]: Train loss: 1.4275, Valid loss: 1.3819\n",
      "Saving model with loss 1.382...\n"
     ]
    },
    {
     "name": "stderr",
     "output_type": "stream",
     "text": [
      "Epoch [422/3000]: 100%|██████████| 9/9 [00:00<00:00, 127.56it/s, loss=1.3]\n"
     ]
    },
    {
     "name": "stdout",
     "output_type": "stream",
     "text": [
      "Epoch [422/3000]: Train loss: 1.4177, Valid loss: 1.7602\n"
     ]
    },
    {
     "name": "stderr",
     "output_type": "stream",
     "text": [
      "Epoch [423/3000]: 100%|██████████| 9/9 [00:00<00:00, 127.58it/s, loss=1.62]\n"
     ]
    },
    {
     "name": "stdout",
     "output_type": "stream",
     "text": [
      "Epoch [423/3000]: Train loss: 1.4588, Valid loss: 1.7834\n"
     ]
    },
    {
     "name": "stderr",
     "output_type": "stream",
     "text": [
      "Epoch [424/3000]: 100%|██████████| 9/9 [00:00<00:00, 123.18it/s, loss=1.62]\n"
     ]
    },
    {
     "name": "stdout",
     "output_type": "stream",
     "text": [
      "Epoch [424/3000]: Train loss: 1.4572, Valid loss: 1.8454\n"
     ]
    },
    {
     "name": "stderr",
     "output_type": "stream",
     "text": [
      "Epoch [425/3000]: 100%|██████████| 9/9 [00:00<00:00, 131.16it/s, loss=1.43]\n"
     ]
    },
    {
     "name": "stdout",
     "output_type": "stream",
     "text": [
      "Epoch [425/3000]: Train loss: 1.4203, Valid loss: 1.7539\n"
     ]
    },
    {
     "name": "stderr",
     "output_type": "stream",
     "text": [
      "Epoch [426/3000]: 100%|██████████| 9/9 [00:00<00:00, 138.67it/s, loss=1.49]\n"
     ]
    },
    {
     "name": "stdout",
     "output_type": "stream",
     "text": [
      "Epoch [426/3000]: Train loss: 1.4311, Valid loss: 1.6282\n"
     ]
    },
    {
     "name": "stderr",
     "output_type": "stream",
     "text": [
      "Epoch [427/3000]: 100%|██████████| 9/9 [00:00<00:00, 150.05it/s, loss=1.35]\n"
     ]
    },
    {
     "name": "stdout",
     "output_type": "stream",
     "text": [
      "Epoch [427/3000]: Train loss: 1.4304, Valid loss: 1.7504\n"
     ]
    },
    {
     "name": "stderr",
     "output_type": "stream",
     "text": [
      "Epoch [428/3000]: 100%|██████████| 9/9 [00:00<00:00, 138.21it/s, loss=1.46]\n"
     ]
    },
    {
     "name": "stdout",
     "output_type": "stream",
     "text": [
      "Epoch [428/3000]: Train loss: 1.4564, Valid loss: 1.7603\n"
     ]
    },
    {
     "name": "stderr",
     "output_type": "stream",
     "text": [
      "Epoch [429/3000]: 100%|██████████| 9/9 [00:00<00:00, 152.65it/s, loss=1.44]\n"
     ]
    },
    {
     "name": "stdout",
     "output_type": "stream",
     "text": [
      "Epoch [429/3000]: Train loss: 1.4280, Valid loss: 1.6480\n"
     ]
    },
    {
     "name": "stderr",
     "output_type": "stream",
     "text": [
      "Epoch [430/3000]: 100%|██████████| 9/9 [00:00<00:00, 149.68it/s, loss=2]\n"
     ]
    },
    {
     "name": "stdout",
     "output_type": "stream",
     "text": [
      "Epoch [430/3000]: Train loss: 1.4845, Valid loss: 1.4745\n"
     ]
    },
    {
     "name": "stderr",
     "output_type": "stream",
     "text": [
      "Epoch [431/3000]: 100%|██████████| 9/9 [00:00<00:00, 128.49it/s, loss=1.44]\n"
     ]
    },
    {
     "name": "stdout",
     "output_type": "stream",
     "text": [
      "Epoch [431/3000]: Train loss: 1.4331, Valid loss: 1.6690\n"
     ]
    },
    {
     "name": "stderr",
     "output_type": "stream",
     "text": [
      "Epoch [432/3000]: 100%|██████████| 9/9 [00:00<00:00, 80.55it/s, loss=1.85]\n"
     ]
    },
    {
     "name": "stdout",
     "output_type": "stream",
     "text": [
      "Epoch [432/3000]: Train loss: 1.4405, Valid loss: 1.5301\n"
     ]
    },
    {
     "name": "stderr",
     "output_type": "stream",
     "text": [
      "Epoch [433/3000]: 100%|██████████| 9/9 [00:00<00:00, 160.49it/s, loss=1.52]\n"
     ]
    },
    {
     "name": "stdout",
     "output_type": "stream",
     "text": [
      "Epoch [433/3000]: Train loss: 1.4299, Valid loss: 1.8135\n"
     ]
    },
    {
     "name": "stderr",
     "output_type": "stream",
     "text": [
      "Epoch [434/3000]: 100%|██████████| 9/9 [00:00<00:00, 135.57it/s, loss=1.66]\n"
     ]
    },
    {
     "name": "stdout",
     "output_type": "stream",
     "text": [
      "Epoch [434/3000]: Train loss: 1.4276, Valid loss: 1.7027\n"
     ]
    },
    {
     "name": "stderr",
     "output_type": "stream",
     "text": [
      "Epoch [435/3000]: 100%|██████████| 9/9 [00:00<00:00, 150.55it/s, loss=1.14]\n"
     ]
    },
    {
     "name": "stdout",
     "output_type": "stream",
     "text": [
      "Epoch [435/3000]: Train loss: 1.3910, Valid loss: 1.4778\n"
     ]
    },
    {
     "name": "stderr",
     "output_type": "stream",
     "text": [
      "Epoch [436/3000]: 100%|██████████| 9/9 [00:00<00:00, 146.52it/s, loss=1.1]\n"
     ]
    },
    {
     "name": "stdout",
     "output_type": "stream",
     "text": [
      "Epoch [436/3000]: Train loss: 1.3902, Valid loss: 1.9725\n"
     ]
    },
    {
     "name": "stderr",
     "output_type": "stream",
     "text": [
      "Epoch [437/3000]: 100%|██████████| 9/9 [00:00<00:00, 135.91it/s, loss=1.68]\n"
     ]
    },
    {
     "name": "stdout",
     "output_type": "stream",
     "text": [
      "Epoch [437/3000]: Train loss: 1.4229, Valid loss: 1.9447\n"
     ]
    },
    {
     "name": "stderr",
     "output_type": "stream",
     "text": [
      "Epoch [438/3000]: 100%|██████████| 9/9 [00:00<00:00, 146.11it/s, loss=1]\n"
     ]
    },
    {
     "name": "stdout",
     "output_type": "stream",
     "text": [
      "Epoch [438/3000]: Train loss: 1.4146, Valid loss: 1.7966\n"
     ]
    },
    {
     "name": "stderr",
     "output_type": "stream",
     "text": [
      "Epoch [439/3000]: 100%|██████████| 9/9 [00:00<00:00, 139.62it/s, loss=1.08]\n"
     ]
    },
    {
     "name": "stdout",
     "output_type": "stream",
     "text": [
      "Epoch [439/3000]: Train loss: 1.4108, Valid loss: 1.6805\n"
     ]
    },
    {
     "name": "stderr",
     "output_type": "stream",
     "text": [
      "Epoch [440/3000]: 100%|██████████| 9/9 [00:00<00:00, 143.98it/s, loss=1.01]\n"
     ]
    },
    {
     "name": "stdout",
     "output_type": "stream",
     "text": [
      "Epoch [440/3000]: Train loss: 1.3961, Valid loss: 1.6918\n"
     ]
    },
    {
     "name": "stderr",
     "output_type": "stream",
     "text": [
      "Epoch [441/3000]: 100%|██████████| 9/9 [00:00<00:00, 139.32it/s, loss=1.26]\n"
     ]
    },
    {
     "name": "stdout",
     "output_type": "stream",
     "text": [
      "Epoch [441/3000]: Train loss: 1.4045, Valid loss: 1.5137\n"
     ]
    },
    {
     "name": "stderr",
     "output_type": "stream",
     "text": [
      "Epoch [442/3000]: 100%|██████████| 9/9 [00:00<00:00, 127.15it/s, loss=1.29]\n"
     ]
    },
    {
     "name": "stdout",
     "output_type": "stream",
     "text": [
      "Epoch [442/3000]: Train loss: 1.4292, Valid loss: 1.4859\n"
     ]
    },
    {
     "name": "stderr",
     "output_type": "stream",
     "text": [
      "Epoch [443/3000]: 100%|██████████| 9/9 [00:00<00:00, 157.14it/s, loss=1.7]\n"
     ]
    },
    {
     "name": "stdout",
     "output_type": "stream",
     "text": [
      "Epoch [443/3000]: Train loss: 1.4291, Valid loss: 1.5529\n"
     ]
    },
    {
     "name": "stderr",
     "output_type": "stream",
     "text": [
      "Epoch [444/3000]: 100%|██████████| 9/9 [00:00<00:00, 139.35it/s, loss=0.922]\n"
     ]
    },
    {
     "name": "stdout",
     "output_type": "stream",
     "text": [
      "Epoch [444/3000]: Train loss: 1.3835, Valid loss: 1.7817\n"
     ]
    },
    {
     "name": "stderr",
     "output_type": "stream",
     "text": [
      "Epoch [445/3000]: 100%|██████████| 9/9 [00:00<00:00, 138.37it/s, loss=1.49]\n"
     ]
    },
    {
     "name": "stdout",
     "output_type": "stream",
     "text": [
      "Epoch [445/3000]: Train loss: 1.4190, Valid loss: 1.6708\n"
     ]
    },
    {
     "name": "stderr",
     "output_type": "stream",
     "text": [
      "Epoch [446/3000]: 100%|██████████| 9/9 [00:00<00:00, 126.76it/s, loss=1.61]\n"
     ]
    },
    {
     "name": "stdout",
     "output_type": "stream",
     "text": [
      "Epoch [446/3000]: Train loss: 1.4264, Valid loss: 1.4569\n"
     ]
    },
    {
     "name": "stderr",
     "output_type": "stream",
     "text": [
      "Epoch [447/3000]: 100%|██████████| 9/9 [00:00<00:00, 134.52it/s, loss=1.26]\n"
     ]
    },
    {
     "name": "stdout",
     "output_type": "stream",
     "text": [
      "Epoch [447/3000]: Train loss: 1.3870, Valid loss: 1.4926\n"
     ]
    },
    {
     "name": "stderr",
     "output_type": "stream",
     "text": [
      "Epoch [448/3000]: 100%|██████████| 9/9 [00:00<00:00, 143.55it/s, loss=1.89]\n"
     ]
    },
    {
     "name": "stdout",
     "output_type": "stream",
     "text": [
      "Epoch [448/3000]: Train loss: 1.4245, Valid loss: 1.6937\n"
     ]
    },
    {
     "name": "stderr",
     "output_type": "stream",
     "text": [
      "Epoch [449/3000]: 100%|██████████| 9/9 [00:00<00:00, 122.82it/s, loss=1.77]\n"
     ]
    },
    {
     "name": "stdout",
     "output_type": "stream",
     "text": [
      "Epoch [449/3000]: Train loss: 1.4186, Valid loss: 1.5948\n"
     ]
    },
    {
     "name": "stderr",
     "output_type": "stream",
     "text": [
      "Epoch [450/3000]: 100%|██████████| 9/9 [00:00<00:00, 129.95it/s, loss=1.48]\n"
     ]
    },
    {
     "name": "stdout",
     "output_type": "stream",
     "text": [
      "Epoch [450/3000]: Train loss: 1.4270, Valid loss: 1.6291\n"
     ]
    },
    {
     "name": "stderr",
     "output_type": "stream",
     "text": [
      "Epoch [451/3000]: 100%|██████████| 9/9 [00:00<00:00, 134.07it/s, loss=1.63]\n"
     ]
    },
    {
     "name": "stdout",
     "output_type": "stream",
     "text": [
      "Epoch [451/3000]: Train loss: 1.4293, Valid loss: 2.1946\n"
     ]
    },
    {
     "name": "stderr",
     "output_type": "stream",
     "text": [
      "Epoch [452/3000]: 100%|██████████| 9/9 [00:00<00:00, 120.60it/s, loss=1.35]\n"
     ]
    },
    {
     "name": "stdout",
     "output_type": "stream",
     "text": [
      "Epoch [452/3000]: Train loss: 1.4142, Valid loss: 1.7203\n"
     ]
    },
    {
     "name": "stderr",
     "output_type": "stream",
     "text": [
      "Epoch [453/3000]: 100%|██████████| 9/9 [00:00<00:00, 157.63it/s, loss=1.28]\n"
     ]
    },
    {
     "name": "stdout",
     "output_type": "stream",
     "text": [
      "Epoch [453/3000]: Train loss: 1.3933, Valid loss: 1.5174\n"
     ]
    },
    {
     "name": "stderr",
     "output_type": "stream",
     "text": [
      "Epoch [454/3000]: 100%|██████████| 9/9 [00:00<00:00, 140.36it/s, loss=1.19]\n"
     ]
    },
    {
     "name": "stdout",
     "output_type": "stream",
     "text": [
      "Epoch [454/3000]: Train loss: 1.3861, Valid loss: 1.6380\n"
     ]
    },
    {
     "name": "stderr",
     "output_type": "stream",
     "text": [
      "Epoch [455/3000]: 100%|██████████| 9/9 [00:00<00:00, 143.40it/s, loss=1.51]\n"
     ]
    },
    {
     "name": "stdout",
     "output_type": "stream",
     "text": [
      "Epoch [455/3000]: Train loss: 1.4043, Valid loss: 1.5593\n"
     ]
    },
    {
     "name": "stderr",
     "output_type": "stream",
     "text": [
      "Epoch [456/3000]: 100%|██████████| 9/9 [00:00<00:00, 160.06it/s, loss=1.78]\n"
     ]
    },
    {
     "name": "stdout",
     "output_type": "stream",
     "text": [
      "Epoch [456/3000]: Train loss: 1.4156, Valid loss: 1.8701\n"
     ]
    },
    {
     "name": "stderr",
     "output_type": "stream",
     "text": [
      "Epoch [457/3000]: 100%|██████████| 9/9 [00:00<00:00, 146.45it/s, loss=1.22]\n"
     ]
    },
    {
     "name": "stdout",
     "output_type": "stream",
     "text": [
      "Epoch [457/3000]: Train loss: 1.3736, Valid loss: 1.5556\n"
     ]
    },
    {
     "name": "stderr",
     "output_type": "stream",
     "text": [
      "Epoch [458/3000]: 100%|██████████| 9/9 [00:00<00:00, 153.33it/s, loss=2.07]\n"
     ]
    },
    {
     "name": "stdout",
     "output_type": "stream",
     "text": [
      "Epoch [458/3000]: Train loss: 1.4484, Valid loss: 1.4650\n"
     ]
    },
    {
     "name": "stderr",
     "output_type": "stream",
     "text": [
      "Epoch [459/3000]: 100%|██████████| 9/9 [00:00<00:00, 149.55it/s, loss=1.58]\n"
     ]
    },
    {
     "name": "stdout",
     "output_type": "stream",
     "text": [
      "Epoch [459/3000]: Train loss: 1.3963, Valid loss: 1.5652\n"
     ]
    },
    {
     "name": "stderr",
     "output_type": "stream",
     "text": [
      "Epoch [460/3000]: 100%|██████████| 9/9 [00:00<00:00, 149.80it/s, loss=1.27]\n"
     ]
    },
    {
     "name": "stdout",
     "output_type": "stream",
     "text": [
      "Epoch [460/3000]: Train loss: 1.3756, Valid loss: 1.9943\n"
     ]
    },
    {
     "name": "stderr",
     "output_type": "stream",
     "text": [
      "Epoch [461/3000]: 100%|██████████| 9/9 [00:00<00:00, 130.25it/s, loss=1.37]\n"
     ]
    },
    {
     "name": "stdout",
     "output_type": "stream",
     "text": [
      "Epoch [461/3000]: Train loss: 1.3764, Valid loss: 1.7086\n"
     ]
    },
    {
     "name": "stderr",
     "output_type": "stream",
     "text": [
      "Epoch [462/3000]: 100%|██████████| 9/9 [00:00<00:00, 138.02it/s, loss=1.52]\n"
     ]
    },
    {
     "name": "stdout",
     "output_type": "stream",
     "text": [
      "Epoch [462/3000]: Train loss: 1.3917, Valid loss: 1.4984\n"
     ]
    },
    {
     "name": "stderr",
     "output_type": "stream",
     "text": [
      "Epoch [463/3000]: 100%|██████████| 9/9 [00:00<00:00, 122.91it/s, loss=1.54]\n"
     ]
    },
    {
     "name": "stdout",
     "output_type": "stream",
     "text": [
      "Epoch [463/3000]: Train loss: 1.4017, Valid loss: 1.8133\n"
     ]
    },
    {
     "name": "stderr",
     "output_type": "stream",
     "text": [
      "Epoch [464/3000]: 100%|██████████| 9/9 [00:00<00:00, 129.86it/s, loss=1.14]\n"
     ]
    },
    {
     "name": "stdout",
     "output_type": "stream",
     "text": [
      "Epoch [464/3000]: Train loss: 1.3662, Valid loss: 2.0089\n"
     ]
    },
    {
     "name": "stderr",
     "output_type": "stream",
     "text": [
      "Epoch [465/3000]: 100%|██████████| 9/9 [00:00<00:00, 124.14it/s, loss=1.64]\n"
     ]
    },
    {
     "name": "stdout",
     "output_type": "stream",
     "text": [
      "Epoch [465/3000]: Train loss: 1.4075, Valid loss: 2.0288\n"
     ]
    },
    {
     "name": "stderr",
     "output_type": "stream",
     "text": [
      "Epoch [466/3000]: 100%|██████████| 9/9 [00:00<00:00, 139.14it/s, loss=1.13]\n"
     ]
    },
    {
     "name": "stdout",
     "output_type": "stream",
     "text": [
      "Epoch [466/3000]: Train loss: 1.3613, Valid loss: 1.7624\n"
     ]
    },
    {
     "name": "stderr",
     "output_type": "stream",
     "text": [
      "Epoch [467/3000]: 100%|██████████| 9/9 [00:00<00:00, 136.81it/s, loss=1.4]\n"
     ]
    },
    {
     "name": "stdout",
     "output_type": "stream",
     "text": [
      "Epoch [467/3000]: Train loss: 1.3759, Valid loss: 1.8411\n"
     ]
    },
    {
     "name": "stderr",
     "output_type": "stream",
     "text": [
      "Epoch [468/3000]: 100%|██████████| 9/9 [00:00<00:00, 144.15it/s, loss=1.66]\n"
     ]
    },
    {
     "name": "stdout",
     "output_type": "stream",
     "text": [
      "Epoch [468/3000]: Train loss: 1.3939, Valid loss: 1.4060\n"
     ]
    },
    {
     "name": "stderr",
     "output_type": "stream",
     "text": [
      "Epoch [469/3000]: 100%|██████████| 9/9 [00:00<00:00, 146.00it/s, loss=1.6]\n"
     ]
    },
    {
     "name": "stdout",
     "output_type": "stream",
     "text": [
      "Epoch [469/3000]: Train loss: 1.3950, Valid loss: 1.7193\n"
     ]
    },
    {
     "name": "stderr",
     "output_type": "stream",
     "text": [
      "Epoch [470/3000]: 100%|██████████| 9/9 [00:00<00:00, 143.75it/s, loss=1.36]\n"
     ]
    },
    {
     "name": "stdout",
     "output_type": "stream",
     "text": [
      "Epoch [470/3000]: Train loss: 1.3668, Valid loss: 1.3288\n",
      "Saving model with loss 1.329...\n"
     ]
    },
    {
     "name": "stderr",
     "output_type": "stream",
     "text": [
      "Epoch [471/3000]: 100%|██████████| 9/9 [00:00<00:00, 148.18it/s, loss=1.13]\n"
     ]
    },
    {
     "name": "stdout",
     "output_type": "stream",
     "text": [
      "Epoch [471/3000]: Train loss: 1.3560, Valid loss: 1.6042\n"
     ]
    },
    {
     "name": "stderr",
     "output_type": "stream",
     "text": [
      "Epoch [472/3000]: 100%|██████████| 9/9 [00:00<00:00, 161.29it/s, loss=1.45]\n"
     ]
    },
    {
     "name": "stdout",
     "output_type": "stream",
     "text": [
      "Epoch [472/3000]: Train loss: 1.3850, Valid loss: 1.5551\n"
     ]
    },
    {
     "name": "stderr",
     "output_type": "stream",
     "text": [
      "Epoch [473/3000]: 100%|██████████| 9/9 [00:00<00:00, 66.85it/s, loss=1.87]\n"
     ]
    },
    {
     "name": "stdout",
     "output_type": "stream",
     "text": [
      "Epoch [473/3000]: Train loss: 1.4143, Valid loss: 1.4589\n"
     ]
    },
    {
     "name": "stderr",
     "output_type": "stream",
     "text": [
      "Epoch [474/3000]: 100%|██████████| 9/9 [00:00<00:00, 148.95it/s, loss=1.31]\n"
     ]
    },
    {
     "name": "stdout",
     "output_type": "stream",
     "text": [
      "Epoch [474/3000]: Train loss: 1.3847, Valid loss: 1.8557\n"
     ]
    },
    {
     "name": "stderr",
     "output_type": "stream",
     "text": [
      "Epoch [475/3000]: 100%|██████████| 9/9 [00:00<00:00, 137.13it/s, loss=1.44]\n"
     ]
    },
    {
     "name": "stdout",
     "output_type": "stream",
     "text": [
      "Epoch [475/3000]: Train loss: 1.3919, Valid loss: 1.5685\n"
     ]
    },
    {
     "name": "stderr",
     "output_type": "stream",
     "text": [
      "Epoch [476/3000]: 100%|██████████| 9/9 [00:00<00:00, 152.11it/s, loss=1.39]\n"
     ]
    },
    {
     "name": "stdout",
     "output_type": "stream",
     "text": [
      "Epoch [476/3000]: Train loss: 1.3671, Valid loss: 1.5114\n"
     ]
    },
    {
     "name": "stderr",
     "output_type": "stream",
     "text": [
      "Epoch [477/3000]: 100%|██████████| 9/9 [00:00<00:00, 142.75it/s, loss=0.989]\n"
     ]
    },
    {
     "name": "stdout",
     "output_type": "stream",
     "text": [
      "Epoch [477/3000]: Train loss: 1.3456, Valid loss: 1.4974\n"
     ]
    },
    {
     "name": "stderr",
     "output_type": "stream",
     "text": [
      "Epoch [478/3000]: 100%|██████████| 9/9 [00:00<00:00, 147.10it/s, loss=1.28]\n"
     ]
    },
    {
     "name": "stdout",
     "output_type": "stream",
     "text": [
      "Epoch [478/3000]: Train loss: 1.3714, Valid loss: 1.8145\n"
     ]
    },
    {
     "name": "stderr",
     "output_type": "stream",
     "text": [
      "Epoch [479/3000]: 100%|██████████| 9/9 [00:00<00:00, 175.87it/s, loss=1.43]\n"
     ]
    },
    {
     "name": "stdout",
     "output_type": "stream",
     "text": [
      "Epoch [479/3000]: Train loss: 1.4111, Valid loss: 1.6816\n"
     ]
    },
    {
     "name": "stderr",
     "output_type": "stream",
     "text": [
      "Epoch [480/3000]: 100%|██████████| 9/9 [00:00<00:00, 165.09it/s, loss=1.25]\n"
     ]
    },
    {
     "name": "stdout",
     "output_type": "stream",
     "text": [
      "Epoch [480/3000]: Train loss: 1.3736, Valid loss: 1.3718\n"
     ]
    },
    {
     "name": "stderr",
     "output_type": "stream",
     "text": [
      "Epoch [481/3000]: 100%|██████████| 9/9 [00:00<00:00, 151.49it/s, loss=1.42]\n"
     ]
    },
    {
     "name": "stdout",
     "output_type": "stream",
     "text": [
      "Epoch [481/3000]: Train loss: 1.3726, Valid loss: 1.5014\n"
     ]
    },
    {
     "name": "stderr",
     "output_type": "stream",
     "text": [
      "Epoch [482/3000]: 100%|██████████| 9/9 [00:00<00:00, 153.43it/s, loss=1.29]\n"
     ]
    },
    {
     "name": "stdout",
     "output_type": "stream",
     "text": [
      "Epoch [482/3000]: Train loss: 1.3534, Valid loss: 1.5660\n"
     ]
    },
    {
     "name": "stderr",
     "output_type": "stream",
     "text": [
      "Epoch [483/3000]: 100%|██████████| 9/9 [00:00<00:00, 148.06it/s, loss=0.884]\n"
     ]
    },
    {
     "name": "stdout",
     "output_type": "stream",
     "text": [
      "Epoch [483/3000]: Train loss: 1.3393, Valid loss: 1.5058\n"
     ]
    },
    {
     "name": "stderr",
     "output_type": "stream",
     "text": [
      "Epoch [484/3000]: 100%|██████████| 9/9 [00:00<00:00, 129.73it/s, loss=1.42]\n"
     ]
    },
    {
     "name": "stdout",
     "output_type": "stream",
     "text": [
      "Epoch [484/3000]: Train loss: 1.3618, Valid loss: 1.7020\n"
     ]
    },
    {
     "name": "stderr",
     "output_type": "stream",
     "text": [
      "Epoch [485/3000]: 100%|██████████| 9/9 [00:00<00:00, 155.80it/s, loss=1.37]\n"
     ]
    },
    {
     "name": "stdout",
     "output_type": "stream",
     "text": [
      "Epoch [485/3000]: Train loss: 1.3958, Valid loss: 1.6470\n"
     ]
    },
    {
     "name": "stderr",
     "output_type": "stream",
     "text": [
      "Epoch [486/3000]: 100%|██████████| 9/9 [00:00<00:00, 133.25it/s, loss=1.61]\n"
     ]
    },
    {
     "name": "stdout",
     "output_type": "stream",
     "text": [
      "Epoch [486/3000]: Train loss: 1.4121, Valid loss: 1.7250\n"
     ]
    },
    {
     "name": "stderr",
     "output_type": "stream",
     "text": [
      "Epoch [487/3000]: 100%|██████████| 9/9 [00:00<00:00, 145.23it/s, loss=1.78]\n"
     ]
    },
    {
     "name": "stdout",
     "output_type": "stream",
     "text": [
      "Epoch [487/3000]: Train loss: 1.4072, Valid loss: 1.8494\n"
     ]
    },
    {
     "name": "stderr",
     "output_type": "stream",
     "text": [
      "Epoch [488/3000]: 100%|██████████| 9/9 [00:00<00:00, 143.95it/s, loss=1.1]\n"
     ]
    },
    {
     "name": "stdout",
     "output_type": "stream",
     "text": [
      "Epoch [488/3000]: Train loss: 1.3369, Valid loss: 1.5569\n"
     ]
    },
    {
     "name": "stderr",
     "output_type": "stream",
     "text": [
      "Epoch [489/3000]: 100%|██████████| 9/9 [00:00<00:00, 137.73it/s, loss=1.02]\n"
     ]
    },
    {
     "name": "stdout",
     "output_type": "stream",
     "text": [
      "Epoch [489/3000]: Train loss: 1.3349, Valid loss: 1.6511\n"
     ]
    },
    {
     "name": "stderr",
     "output_type": "stream",
     "text": [
      "Epoch [490/3000]: 100%|██████████| 9/9 [00:00<00:00, 140.17it/s, loss=0.814]\n"
     ]
    },
    {
     "name": "stdout",
     "output_type": "stream",
     "text": [
      "Epoch [490/3000]: Train loss: 1.3168, Valid loss: 1.5497\n"
     ]
    },
    {
     "name": "stderr",
     "output_type": "stream",
     "text": [
      "Epoch [491/3000]: 100%|██████████| 9/9 [00:00<00:00, 131.36it/s, loss=2.25]\n"
     ]
    },
    {
     "name": "stdout",
     "output_type": "stream",
     "text": [
      "Epoch [491/3000]: Train loss: 1.4141, Valid loss: 1.6160\n"
     ]
    },
    {
     "name": "stderr",
     "output_type": "stream",
     "text": [
      "Epoch [492/3000]: 100%|██████████| 9/9 [00:00<00:00, 148.00it/s, loss=1.11]\n"
     ]
    },
    {
     "name": "stdout",
     "output_type": "stream",
     "text": [
      "Epoch [492/3000]: Train loss: 1.3343, Valid loss: 1.8304\n"
     ]
    },
    {
     "name": "stderr",
     "output_type": "stream",
     "text": [
      "Epoch [493/3000]: 100%|██████████| 9/9 [00:00<00:00, 148.54it/s, loss=1.6]\n"
     ]
    },
    {
     "name": "stdout",
     "output_type": "stream",
     "text": [
      "Epoch [493/3000]: Train loss: 1.3640, Valid loss: 1.4498\n"
     ]
    },
    {
     "name": "stderr",
     "output_type": "stream",
     "text": [
      "Epoch [494/3000]: 100%|██████████| 9/9 [00:00<00:00, 140.08it/s, loss=1.32]\n"
     ]
    },
    {
     "name": "stdout",
     "output_type": "stream",
     "text": [
      "Epoch [494/3000]: Train loss: 1.3490, Valid loss: 1.3768\n"
     ]
    },
    {
     "name": "stderr",
     "output_type": "stream",
     "text": [
      "Epoch [495/3000]: 100%|██████████| 9/9 [00:00<00:00, 140.93it/s, loss=1.76]\n"
     ]
    },
    {
     "name": "stdout",
     "output_type": "stream",
     "text": [
      "Epoch [495/3000]: Train loss: 1.3710, Valid loss: 1.6500\n"
     ]
    },
    {
     "name": "stderr",
     "output_type": "stream",
     "text": [
      "Epoch [496/3000]: 100%|██████████| 9/9 [00:00<00:00, 151.73it/s, loss=1.05]\n"
     ]
    },
    {
     "name": "stdout",
     "output_type": "stream",
     "text": [
      "Epoch [496/3000]: Train loss: 1.3270, Valid loss: 1.4745\n"
     ]
    },
    {
     "name": "stderr",
     "output_type": "stream",
     "text": [
      "Epoch [497/3000]: 100%|██████████| 9/9 [00:00<00:00, 146.50it/s, loss=1.4]\n"
     ]
    },
    {
     "name": "stdout",
     "output_type": "stream",
     "text": [
      "Epoch [497/3000]: Train loss: 1.3585, Valid loss: 1.5505\n"
     ]
    },
    {
     "name": "stderr",
     "output_type": "stream",
     "text": [
      "Epoch [498/3000]: 100%|██████████| 9/9 [00:00<00:00, 135.78it/s, loss=1.62]\n"
     ]
    },
    {
     "name": "stdout",
     "output_type": "stream",
     "text": [
      "Epoch [498/3000]: Train loss: 1.3656, Valid loss: 1.7046\n"
     ]
    },
    {
     "name": "stderr",
     "output_type": "stream",
     "text": [
      "Epoch [499/3000]: 100%|██████████| 9/9 [00:00<00:00, 136.85it/s, loss=1.08]\n"
     ]
    },
    {
     "name": "stdout",
     "output_type": "stream",
     "text": [
      "Epoch [499/3000]: Train loss: 1.3249, Valid loss: 1.6787\n"
     ]
    },
    {
     "name": "stderr",
     "output_type": "stream",
     "text": [
      "Epoch [500/3000]: 100%|██████████| 9/9 [00:00<00:00, 161.28it/s, loss=1.23]\n"
     ]
    },
    {
     "name": "stdout",
     "output_type": "stream",
     "text": [
      "Epoch [500/3000]: Train loss: 1.3400, Valid loss: 1.9967\n"
     ]
    },
    {
     "name": "stderr",
     "output_type": "stream",
     "text": [
      "Epoch [501/3000]: 100%|██████████| 9/9 [00:00<00:00, 172.75it/s, loss=0.912]\n"
     ]
    },
    {
     "name": "stdout",
     "output_type": "stream",
     "text": [
      "Epoch [501/3000]: Train loss: 1.3127, Valid loss: 1.7875\n"
     ]
    },
    {
     "name": "stderr",
     "output_type": "stream",
     "text": [
      "Epoch [502/3000]: 100%|██████████| 9/9 [00:00<00:00, 161.37it/s, loss=0.948]\n"
     ]
    },
    {
     "name": "stdout",
     "output_type": "stream",
     "text": [
      "Epoch [502/3000]: Train loss: 1.3168, Valid loss: 1.7225\n"
     ]
    },
    {
     "name": "stderr",
     "output_type": "stream",
     "text": [
      "Epoch [503/3000]: 100%|██████████| 9/9 [00:00<00:00, 140.45it/s, loss=1.3]\n"
     ]
    },
    {
     "name": "stdout",
     "output_type": "stream",
     "text": [
      "Epoch [503/3000]: Train loss: 1.3457, Valid loss: 1.4860\n"
     ]
    },
    {
     "name": "stderr",
     "output_type": "stream",
     "text": [
      "Epoch [504/3000]: 100%|██████████| 9/9 [00:00<00:00, 148.07it/s, loss=1.33]\n"
     ]
    },
    {
     "name": "stdout",
     "output_type": "stream",
     "text": [
      "Epoch [504/3000]: Train loss: 1.3471, Valid loss: 1.2993\n",
      "Saving model with loss 1.299...\n"
     ]
    },
    {
     "name": "stderr",
     "output_type": "stream",
     "text": [
      "Epoch [505/3000]: 100%|██████████| 9/9 [00:00<00:00, 146.62it/s, loss=1.47]\n"
     ]
    },
    {
     "name": "stdout",
     "output_type": "stream",
     "text": [
      "Epoch [505/3000]: Train loss: 1.3636, Valid loss: 1.5168\n"
     ]
    },
    {
     "name": "stderr",
     "output_type": "stream",
     "text": [
      "Epoch [506/3000]: 100%|██████████| 9/9 [00:00<00:00, 136.22it/s, loss=1.96]\n"
     ]
    },
    {
     "name": "stdout",
     "output_type": "stream",
     "text": [
      "Epoch [506/3000]: Train loss: 1.3769, Valid loss: 1.6864\n"
     ]
    },
    {
     "name": "stderr",
     "output_type": "stream",
     "text": [
      "Epoch [507/3000]: 100%|██████████| 9/9 [00:00<00:00, 138.30it/s, loss=1.54]\n"
     ]
    },
    {
     "name": "stdout",
     "output_type": "stream",
     "text": [
      "Epoch [507/3000]: Train loss: 1.3570, Valid loss: 1.5161\n"
     ]
    },
    {
     "name": "stderr",
     "output_type": "stream",
     "text": [
      "Epoch [508/3000]: 100%|██████████| 9/9 [00:00<00:00, 135.86it/s, loss=1.73]\n"
     ]
    },
    {
     "name": "stdout",
     "output_type": "stream",
     "text": [
      "Epoch [508/3000]: Train loss: 1.3743, Valid loss: 1.3146\n"
     ]
    },
    {
     "name": "stderr",
     "output_type": "stream",
     "text": [
      "Epoch [509/3000]: 100%|██████████| 9/9 [00:00<00:00, 134.13it/s, loss=1.23]\n"
     ]
    },
    {
     "name": "stdout",
     "output_type": "stream",
     "text": [
      "Epoch [509/3000]: Train loss: 1.3249, Valid loss: 1.6177\n"
     ]
    },
    {
     "name": "stderr",
     "output_type": "stream",
     "text": [
      "Epoch [510/3000]: 100%|██████████| 9/9 [00:00<00:00, 117.09it/s, loss=1.5]\n"
     ]
    },
    {
     "name": "stdout",
     "output_type": "stream",
     "text": [
      "Epoch [510/3000]: Train loss: 1.3512, Valid loss: 1.5272\n"
     ]
    },
    {
     "name": "stderr",
     "output_type": "stream",
     "text": [
      "Epoch [511/3000]: 100%|██████████| 9/9 [00:00<00:00, 127.14it/s, loss=1.48]\n"
     ]
    },
    {
     "name": "stdout",
     "output_type": "stream",
     "text": [
      "Epoch [511/3000]: Train loss: 1.3658, Valid loss: 1.4973\n"
     ]
    },
    {
     "name": "stderr",
     "output_type": "stream",
     "text": [
      "Epoch [512/3000]: 100%|██████████| 9/9 [00:00<00:00, 119.90it/s, loss=1.69]\n"
     ]
    },
    {
     "name": "stdout",
     "output_type": "stream",
     "text": [
      "Epoch [512/3000]: Train loss: 1.3568, Valid loss: 1.3544\n"
     ]
    },
    {
     "name": "stderr",
     "output_type": "stream",
     "text": [
      "Epoch [513/3000]: 100%|██████████| 9/9 [00:00<00:00, 138.63it/s, loss=1.06]\n"
     ]
    },
    {
     "name": "stdout",
     "output_type": "stream",
     "text": [
      "Epoch [513/3000]: Train loss: 1.3193, Valid loss: 1.5547\n"
     ]
    },
    {
     "name": "stderr",
     "output_type": "stream",
     "text": [
      "Epoch [514/3000]: 100%|██████████| 9/9 [00:00<00:00, 62.13it/s, loss=1.24]\n"
     ]
    },
    {
     "name": "stdout",
     "output_type": "stream",
     "text": [
      "Epoch [514/3000]: Train loss: 1.3320, Valid loss: 1.2821\n",
      "Saving model with loss 1.282...\n"
     ]
    },
    {
     "name": "stderr",
     "output_type": "stream",
     "text": [
      "Epoch [515/3000]: 100%|██████████| 9/9 [00:00<00:00, 119.69it/s, loss=1.07]\n"
     ]
    },
    {
     "name": "stdout",
     "output_type": "stream",
     "text": [
      "Epoch [515/3000]: Train loss: 1.3128, Valid loss: 1.5659\n"
     ]
    },
    {
     "name": "stderr",
     "output_type": "stream",
     "text": [
      "Epoch [516/3000]: 100%|██████████| 9/9 [00:00<00:00, 132.52it/s, loss=1.07]\n"
     ]
    },
    {
     "name": "stdout",
     "output_type": "stream",
     "text": [
      "Epoch [516/3000]: Train loss: 1.3125, Valid loss: 1.5051\n"
     ]
    },
    {
     "name": "stderr",
     "output_type": "stream",
     "text": [
      "Epoch [517/3000]: 100%|██████████| 9/9 [00:00<00:00, 130.96it/s, loss=1.3]\n"
     ]
    },
    {
     "name": "stdout",
     "output_type": "stream",
     "text": [
      "Epoch [517/3000]: Train loss: 1.3248, Valid loss: 1.2953\n"
     ]
    },
    {
     "name": "stderr",
     "output_type": "stream",
     "text": [
      "Epoch [518/3000]: 100%|██████████| 9/9 [00:00<00:00, 131.44it/s, loss=1.43]\n"
     ]
    },
    {
     "name": "stdout",
     "output_type": "stream",
     "text": [
      "Epoch [518/3000]: Train loss: 1.3326, Valid loss: 1.7189\n"
     ]
    },
    {
     "name": "stderr",
     "output_type": "stream",
     "text": [
      "Epoch [519/3000]: 100%|██████████| 9/9 [00:00<00:00, 130.72it/s, loss=1.13]\n"
     ]
    },
    {
     "name": "stdout",
     "output_type": "stream",
     "text": [
      "Epoch [519/3000]: Train loss: 1.3156, Valid loss: 1.4662\n"
     ]
    },
    {
     "name": "stderr",
     "output_type": "stream",
     "text": [
      "Epoch [520/3000]: 100%|██████████| 9/9 [00:00<00:00, 133.82it/s, loss=1.18]\n"
     ]
    },
    {
     "name": "stdout",
     "output_type": "stream",
     "text": [
      "Epoch [520/3000]: Train loss: 1.3308, Valid loss: 1.7030\n"
     ]
    },
    {
     "name": "stderr",
     "output_type": "stream",
     "text": [
      "Epoch [521/3000]: 100%|██████████| 9/9 [00:00<00:00, 139.18it/s, loss=0.899]\n"
     ]
    },
    {
     "name": "stdout",
     "output_type": "stream",
     "text": [
      "Epoch [521/3000]: Train loss: 1.3260, Valid loss: 1.8336\n"
     ]
    },
    {
     "name": "stderr",
     "output_type": "stream",
     "text": [
      "Epoch [522/3000]: 100%|██████████| 9/9 [00:00<00:00, 127.25it/s, loss=1.32]\n"
     ]
    },
    {
     "name": "stdout",
     "output_type": "stream",
     "text": [
      "Epoch [522/3000]: Train loss: 1.3316, Valid loss: 1.4933\n"
     ]
    },
    {
     "name": "stderr",
     "output_type": "stream",
     "text": [
      "Epoch [523/3000]: 100%|██████████| 9/9 [00:00<00:00, 149.96it/s, loss=0.958]\n"
     ]
    },
    {
     "name": "stdout",
     "output_type": "stream",
     "text": [
      "Epoch [523/3000]: Train loss: 1.3178, Valid loss: 1.3777\n"
     ]
    },
    {
     "name": "stderr",
     "output_type": "stream",
     "text": [
      "Epoch [524/3000]: 100%|██████████| 9/9 [00:00<00:00, 139.32it/s, loss=1.07]\n"
     ]
    },
    {
     "name": "stdout",
     "output_type": "stream",
     "text": [
      "Epoch [524/3000]: Train loss: 1.3186, Valid loss: 1.5692\n"
     ]
    },
    {
     "name": "stderr",
     "output_type": "stream",
     "text": [
      "Epoch [525/3000]: 100%|██████████| 9/9 [00:00<00:00, 142.77it/s, loss=1.15]\n"
     ]
    },
    {
     "name": "stdout",
     "output_type": "stream",
     "text": [
      "Epoch [525/3000]: Train loss: 1.3082, Valid loss: 1.6252\n"
     ]
    },
    {
     "name": "stderr",
     "output_type": "stream",
     "text": [
      "Epoch [526/3000]: 100%|██████████| 9/9 [00:00<00:00, 142.74it/s, loss=1.65]\n"
     ]
    },
    {
     "name": "stdout",
     "output_type": "stream",
     "text": [
      "Epoch [526/3000]: Train loss: 1.3475, Valid loss: 1.5417\n"
     ]
    },
    {
     "name": "stderr",
     "output_type": "stream",
     "text": [
      "Epoch [527/3000]: 100%|██████████| 9/9 [00:00<00:00, 127.83it/s, loss=1.08]\n"
     ]
    },
    {
     "name": "stdout",
     "output_type": "stream",
     "text": [
      "Epoch [527/3000]: Train loss: 1.3110, Valid loss: 1.5716\n"
     ]
    },
    {
     "name": "stderr",
     "output_type": "stream",
     "text": [
      "Epoch [528/3000]: 100%|██████████| 9/9 [00:00<00:00, 144.45it/s, loss=1.55]\n"
     ]
    },
    {
     "name": "stdout",
     "output_type": "stream",
     "text": [
      "Epoch [528/3000]: Train loss: 1.3460, Valid loss: 1.4580\n"
     ]
    },
    {
     "name": "stderr",
     "output_type": "stream",
     "text": [
      "Epoch [529/3000]: 100%|██████████| 9/9 [00:00<00:00, 123.07it/s, loss=1.18]\n"
     ]
    },
    {
     "name": "stdout",
     "output_type": "stream",
     "text": [
      "Epoch [529/3000]: Train loss: 1.3114, Valid loss: 1.3666\n"
     ]
    },
    {
     "name": "stderr",
     "output_type": "stream",
     "text": [
      "Epoch [530/3000]: 100%|██████████| 9/9 [00:00<00:00, 131.17it/s, loss=1.4]\n"
     ]
    },
    {
     "name": "stdout",
     "output_type": "stream",
     "text": [
      "Epoch [530/3000]: Train loss: 1.3281, Valid loss: 1.5284\n"
     ]
    },
    {
     "name": "stderr",
     "output_type": "stream",
     "text": [
      "Epoch [531/3000]: 100%|██████████| 9/9 [00:00<00:00, 132.74it/s, loss=1.47]\n"
     ]
    },
    {
     "name": "stdout",
     "output_type": "stream",
     "text": [
      "Epoch [531/3000]: Train loss: 1.3408, Valid loss: 1.4394\n"
     ]
    },
    {
     "name": "stderr",
     "output_type": "stream",
     "text": [
      "Epoch [532/3000]: 100%|██████████| 9/9 [00:00<00:00, 134.78it/s, loss=1.25]\n"
     ]
    },
    {
     "name": "stdout",
     "output_type": "stream",
     "text": [
      "Epoch [532/3000]: Train loss: 1.3198, Valid loss: 1.2825\n"
     ]
    },
    {
     "name": "stderr",
     "output_type": "stream",
     "text": [
      "Epoch [533/3000]: 100%|██████████| 9/9 [00:00<00:00, 123.97it/s, loss=1.63]\n"
     ]
    },
    {
     "name": "stdout",
     "output_type": "stream",
     "text": [
      "Epoch [533/3000]: Train loss: 1.3407, Valid loss: 1.5532\n"
     ]
    },
    {
     "name": "stderr",
     "output_type": "stream",
     "text": [
      "Epoch [534/3000]: 100%|██████████| 9/9 [00:00<00:00, 125.17it/s, loss=1.03]\n"
     ]
    },
    {
     "name": "stdout",
     "output_type": "stream",
     "text": [
      "Epoch [534/3000]: Train loss: 1.3257, Valid loss: 1.2651\n",
      "Saving model with loss 1.265...\n"
     ]
    },
    {
     "name": "stderr",
     "output_type": "stream",
     "text": [
      "Epoch [535/3000]: 100%|██████████| 9/9 [00:00<00:00, 130.03it/s, loss=1.11]\n"
     ]
    },
    {
     "name": "stdout",
     "output_type": "stream",
     "text": [
      "Epoch [535/3000]: Train loss: 1.3071, Valid loss: 2.0331\n"
     ]
    },
    {
     "name": "stderr",
     "output_type": "stream",
     "text": [
      "Epoch [536/3000]: 100%|██████████| 9/9 [00:00<00:00, 136.99it/s, loss=0.993]\n"
     ]
    },
    {
     "name": "stdout",
     "output_type": "stream",
     "text": [
      "Epoch [536/3000]: Train loss: 1.3378, Valid loss: 1.7983\n"
     ]
    },
    {
     "name": "stderr",
     "output_type": "stream",
     "text": [
      "Epoch [537/3000]: 100%|██████████| 9/9 [00:00<00:00, 142.87it/s, loss=1.35]\n"
     ]
    },
    {
     "name": "stdout",
     "output_type": "stream",
     "text": [
      "Epoch [537/3000]: Train loss: 1.3279, Valid loss: 1.3328\n"
     ]
    },
    {
     "name": "stderr",
     "output_type": "stream",
     "text": [
      "Epoch [538/3000]: 100%|██████████| 9/9 [00:00<00:00, 151.92it/s, loss=1.35]\n"
     ]
    },
    {
     "name": "stdout",
     "output_type": "stream",
     "text": [
      "Epoch [538/3000]: Train loss: 1.3214, Valid loss: 1.6413\n"
     ]
    },
    {
     "name": "stderr",
     "output_type": "stream",
     "text": [
      "Epoch [539/3000]: 100%|██████████| 9/9 [00:00<00:00, 114.93it/s, loss=1.56]\n"
     ]
    },
    {
     "name": "stdout",
     "output_type": "stream",
     "text": [
      "Epoch [539/3000]: Train loss: 1.3442, Valid loss: 1.3674\n"
     ]
    },
    {
     "name": "stderr",
     "output_type": "stream",
     "text": [
      "Epoch [540/3000]: 100%|██████████| 9/9 [00:00<00:00, 148.11it/s, loss=1.19]\n"
     ]
    },
    {
     "name": "stdout",
     "output_type": "stream",
     "text": [
      "Epoch [540/3000]: Train loss: 1.3211, Valid loss: 1.4272\n"
     ]
    },
    {
     "name": "stderr",
     "output_type": "stream",
     "text": [
      "Epoch [541/3000]: 100%|██████████| 9/9 [00:00<00:00, 149.34it/s, loss=1.48]\n"
     ]
    },
    {
     "name": "stdout",
     "output_type": "stream",
     "text": [
      "Epoch [541/3000]: Train loss: 1.3350, Valid loss: 1.5543\n"
     ]
    },
    {
     "name": "stderr",
     "output_type": "stream",
     "text": [
      "Epoch [542/3000]: 100%|██████████| 9/9 [00:00<00:00, 150.05it/s, loss=1.29]\n"
     ]
    },
    {
     "name": "stdout",
     "output_type": "stream",
     "text": [
      "Epoch [542/3000]: Train loss: 1.3235, Valid loss: 1.6939\n"
     ]
    },
    {
     "name": "stderr",
     "output_type": "stream",
     "text": [
      "Epoch [543/3000]: 100%|██████████| 9/9 [00:00<00:00, 138.20it/s, loss=1.34]\n"
     ]
    },
    {
     "name": "stdout",
     "output_type": "stream",
     "text": [
      "Epoch [543/3000]: Train loss: 1.3141, Valid loss: 1.2862\n"
     ]
    },
    {
     "name": "stderr",
     "output_type": "stream",
     "text": [
      "Epoch [544/3000]: 100%|██████████| 9/9 [00:00<00:00, 161.20it/s, loss=1.19]\n"
     ]
    },
    {
     "name": "stdout",
     "output_type": "stream",
     "text": [
      "Epoch [544/3000]: Train loss: 1.3048, Valid loss: 1.6072\n"
     ]
    },
    {
     "name": "stderr",
     "output_type": "stream",
     "text": [
      "Epoch [545/3000]: 100%|██████████| 9/9 [00:00<00:00, 152.42it/s, loss=0.815]\n"
     ]
    },
    {
     "name": "stdout",
     "output_type": "stream",
     "text": [
      "Epoch [545/3000]: Train loss: 1.2858, Valid loss: 1.7181\n"
     ]
    },
    {
     "name": "stderr",
     "output_type": "stream",
     "text": [
      "Epoch [546/3000]: 100%|██████████| 9/9 [00:00<00:00, 159.46it/s, loss=1.71]\n"
     ]
    },
    {
     "name": "stdout",
     "output_type": "stream",
     "text": [
      "Epoch [546/3000]: Train loss: 1.3441, Valid loss: 1.7647\n"
     ]
    },
    {
     "name": "stderr",
     "output_type": "stream",
     "text": [
      "Epoch [547/3000]: 100%|██████████| 9/9 [00:00<00:00, 164.64it/s, loss=2.1]\n"
     ]
    },
    {
     "name": "stdout",
     "output_type": "stream",
     "text": [
      "Epoch [547/3000]: Train loss: 1.3607, Valid loss: 1.3909\n"
     ]
    },
    {
     "name": "stderr",
     "output_type": "stream",
     "text": [
      "Epoch [548/3000]: 100%|██████████| 9/9 [00:00<00:00, 167.38it/s, loss=1.01]\n"
     ]
    },
    {
     "name": "stdout",
     "output_type": "stream",
     "text": [
      "Epoch [548/3000]: Train loss: 1.2916, Valid loss: 1.5389\n"
     ]
    },
    {
     "name": "stderr",
     "output_type": "stream",
     "text": [
      "Epoch [549/3000]: 100%|██████████| 9/9 [00:00<00:00, 168.65it/s, loss=1.38]\n"
     ]
    },
    {
     "name": "stdout",
     "output_type": "stream",
     "text": [
      "Epoch [549/3000]: Train loss: 1.3171, Valid loss: 1.4233\n"
     ]
    },
    {
     "name": "stderr",
     "output_type": "stream",
     "text": [
      "Epoch [550/3000]: 100%|██████████| 9/9 [00:00<00:00, 165.75it/s, loss=1.28]\n"
     ]
    },
    {
     "name": "stdout",
     "output_type": "stream",
     "text": [
      "Epoch [550/3000]: Train loss: 1.2979, Valid loss: 1.6472\n"
     ]
    },
    {
     "name": "stderr",
     "output_type": "stream",
     "text": [
      "Epoch [551/3000]: 100%|██████████| 9/9 [00:00<00:00, 167.22it/s, loss=1.5]\n"
     ]
    },
    {
     "name": "stdout",
     "output_type": "stream",
     "text": [
      "Epoch [551/3000]: Train loss: 1.3152, Valid loss: 1.7075\n"
     ]
    },
    {
     "name": "stderr",
     "output_type": "stream",
     "text": [
      "Epoch [552/3000]: 100%|██████████| 9/9 [00:00<00:00, 166.75it/s, loss=0.998]\n"
     ]
    },
    {
     "name": "stdout",
     "output_type": "stream",
     "text": [
      "Epoch [552/3000]: Train loss: 1.2981, Valid loss: 1.7094\n"
     ]
    },
    {
     "name": "stderr",
     "output_type": "stream",
     "text": [
      "Epoch [553/3000]: 100%|██████████| 9/9 [00:00<00:00, 164.90it/s, loss=1.2]\n"
     ]
    },
    {
     "name": "stdout",
     "output_type": "stream",
     "text": [
      "Epoch [553/3000]: Train loss: 1.3163, Valid loss: 1.6166\n"
     ]
    },
    {
     "name": "stderr",
     "output_type": "stream",
     "text": [
      "Epoch [554/3000]: 100%|██████████| 9/9 [00:00<00:00, 160.11it/s, loss=1.54]\n"
     ]
    },
    {
     "name": "stdout",
     "output_type": "stream",
     "text": [
      "Epoch [554/3000]: Train loss: 1.3581, Valid loss: 2.0208\n"
     ]
    },
    {
     "name": "stderr",
     "output_type": "stream",
     "text": [
      "Epoch [555/3000]: 100%|██████████| 9/9 [00:00<00:00, 59.21it/s, loss=1.14]\n"
     ]
    },
    {
     "name": "stdout",
     "output_type": "stream",
     "text": [
      "Epoch [555/3000]: Train loss: 1.3533, Valid loss: 1.7144\n"
     ]
    },
    {
     "name": "stderr",
     "output_type": "stream",
     "text": [
      "Epoch [556/3000]: 100%|██████████| 9/9 [00:00<00:00, 134.86it/s, loss=1.35]\n"
     ]
    },
    {
     "name": "stdout",
     "output_type": "stream",
     "text": [
      "Epoch [556/3000]: Train loss: 1.3119, Valid loss: 1.5310\n"
     ]
    },
    {
     "name": "stderr",
     "output_type": "stream",
     "text": [
      "Epoch [557/3000]: 100%|██████████| 9/9 [00:00<00:00, 131.54it/s, loss=1.52]\n"
     ]
    },
    {
     "name": "stdout",
     "output_type": "stream",
     "text": [
      "Epoch [557/3000]: Train loss: 1.3126, Valid loss: 1.3090\n"
     ]
    },
    {
     "name": "stderr",
     "output_type": "stream",
     "text": [
      "Epoch [558/3000]: 100%|██████████| 9/9 [00:00<00:00, 128.94it/s, loss=1.06]\n"
     ]
    },
    {
     "name": "stdout",
     "output_type": "stream",
     "text": [
      "Epoch [558/3000]: Train loss: 1.3429, Valid loss: 1.3858\n"
     ]
    },
    {
     "name": "stderr",
     "output_type": "stream",
     "text": [
      "Epoch [559/3000]: 100%|██████████| 9/9 [00:00<00:00, 125.79it/s, loss=1.16]\n"
     ]
    },
    {
     "name": "stdout",
     "output_type": "stream",
     "text": [
      "Epoch [559/3000]: Train loss: 1.3243, Valid loss: 1.4347\n"
     ]
    },
    {
     "name": "stderr",
     "output_type": "stream",
     "text": [
      "Epoch [560/3000]: 100%|██████████| 9/9 [00:00<00:00, 134.01it/s, loss=1.34]\n"
     ]
    },
    {
     "name": "stdout",
     "output_type": "stream",
     "text": [
      "Epoch [560/3000]: Train loss: 1.3052, Valid loss: 1.4248\n"
     ]
    },
    {
     "name": "stderr",
     "output_type": "stream",
     "text": [
      "Epoch [561/3000]: 100%|██████████| 9/9 [00:00<00:00, 132.02it/s, loss=1.78]\n"
     ]
    },
    {
     "name": "stdout",
     "output_type": "stream",
     "text": [
      "Epoch [561/3000]: Train loss: 1.3244, Valid loss: 1.2614\n",
      "Saving model with loss 1.261...\n"
     ]
    },
    {
     "name": "stderr",
     "output_type": "stream",
     "text": [
      "Epoch [562/3000]: 100%|██████████| 9/9 [00:00<00:00, 135.48it/s, loss=1.24]\n"
     ]
    },
    {
     "name": "stdout",
     "output_type": "stream",
     "text": [
      "Epoch [562/3000]: Train loss: 1.2916, Valid loss: 1.5074\n"
     ]
    },
    {
     "name": "stderr",
     "output_type": "stream",
     "text": [
      "Epoch [563/3000]: 100%|██████████| 9/9 [00:00<00:00, 149.85it/s, loss=1.37]\n"
     ]
    },
    {
     "name": "stdout",
     "output_type": "stream",
     "text": [
      "Epoch [563/3000]: Train loss: 1.2993, Valid loss: 1.7049\n"
     ]
    },
    {
     "name": "stderr",
     "output_type": "stream",
     "text": [
      "Epoch [564/3000]: 100%|██████████| 9/9 [00:00<00:00, 153.94it/s, loss=1.39]\n"
     ]
    },
    {
     "name": "stdout",
     "output_type": "stream",
     "text": [
      "Epoch [564/3000]: Train loss: 1.2990, Valid loss: 1.6543\n"
     ]
    },
    {
     "name": "stderr",
     "output_type": "stream",
     "text": [
      "Epoch [565/3000]: 100%|██████████| 9/9 [00:00<00:00, 147.58it/s, loss=1.13]\n"
     ]
    },
    {
     "name": "stdout",
     "output_type": "stream",
     "text": [
      "Epoch [565/3000]: Train loss: 1.2822, Valid loss: 1.5316\n"
     ]
    },
    {
     "name": "stderr",
     "output_type": "stream",
     "text": [
      "Epoch [566/3000]: 100%|██████████| 9/9 [00:00<00:00, 151.10it/s, loss=1.06]\n"
     ]
    },
    {
     "name": "stdout",
     "output_type": "stream",
     "text": [
      "Epoch [566/3000]: Train loss: 1.2757, Valid loss: 1.4853\n"
     ]
    },
    {
     "name": "stderr",
     "output_type": "stream",
     "text": [
      "Epoch [567/3000]: 100%|██████████| 9/9 [00:00<00:00, 144.55it/s, loss=1.6]\n"
     ]
    },
    {
     "name": "stdout",
     "output_type": "stream",
     "text": [
      "Epoch [567/3000]: Train loss: 1.3115, Valid loss: 1.4763\n"
     ]
    },
    {
     "name": "stderr",
     "output_type": "stream",
     "text": [
      "Epoch [568/3000]: 100%|██████████| 9/9 [00:00<00:00, 138.94it/s, loss=1.28]\n"
     ]
    },
    {
     "name": "stdout",
     "output_type": "stream",
     "text": [
      "Epoch [568/3000]: Train loss: 1.2966, Valid loss: 1.4996\n"
     ]
    },
    {
     "name": "stderr",
     "output_type": "stream",
     "text": [
      "Epoch [569/3000]: 100%|██████████| 9/9 [00:00<00:00, 150.32it/s, loss=1.23]\n"
     ]
    },
    {
     "name": "stdout",
     "output_type": "stream",
     "text": [
      "Epoch [569/3000]: Train loss: 1.2943, Valid loss: 1.4505\n"
     ]
    },
    {
     "name": "stderr",
     "output_type": "stream",
     "text": [
      "Epoch [570/3000]: 100%|██████████| 9/9 [00:00<00:00, 137.06it/s, loss=1.17]\n"
     ]
    },
    {
     "name": "stdout",
     "output_type": "stream",
     "text": [
      "Epoch [570/3000]: Train loss: 1.2879, Valid loss: 1.4385\n"
     ]
    },
    {
     "name": "stderr",
     "output_type": "stream",
     "text": [
      "Epoch [571/3000]: 100%|██████████| 9/9 [00:00<00:00, 153.42it/s, loss=1.47]\n"
     ]
    },
    {
     "name": "stdout",
     "output_type": "stream",
     "text": [
      "Epoch [571/3000]: Train loss: 1.3294, Valid loss: 1.7776\n"
     ]
    },
    {
     "name": "stderr",
     "output_type": "stream",
     "text": [
      "Epoch [572/3000]: 100%|██████████| 9/9 [00:00<00:00, 132.41it/s, loss=1.19]\n"
     ]
    },
    {
     "name": "stdout",
     "output_type": "stream",
     "text": [
      "Epoch [572/3000]: Train loss: 1.3018, Valid loss: 1.6214\n"
     ]
    },
    {
     "name": "stderr",
     "output_type": "stream",
     "text": [
      "Epoch [573/3000]: 100%|██████████| 9/9 [00:00<00:00, 144.20it/s, loss=1]\n"
     ]
    },
    {
     "name": "stdout",
     "output_type": "stream",
     "text": [
      "Epoch [573/3000]: Train loss: 1.2835, Valid loss: 1.3613\n"
     ]
    },
    {
     "name": "stderr",
     "output_type": "stream",
     "text": [
      "Epoch [574/3000]: 100%|██████████| 9/9 [00:00<00:00, 125.13it/s, loss=1.16]\n"
     ]
    },
    {
     "name": "stdout",
     "output_type": "stream",
     "text": [
      "Epoch [574/3000]: Train loss: 1.2848, Valid loss: 1.3846\n"
     ]
    },
    {
     "name": "stderr",
     "output_type": "stream",
     "text": [
      "Epoch [575/3000]: 100%|██████████| 9/9 [00:00<00:00, 143.65it/s, loss=1.49]\n"
     ]
    },
    {
     "name": "stdout",
     "output_type": "stream",
     "text": [
      "Epoch [575/3000]: Train loss: 1.3049, Valid loss: 1.4496\n"
     ]
    },
    {
     "name": "stderr",
     "output_type": "stream",
     "text": [
      "Epoch [576/3000]: 100%|██████████| 9/9 [00:00<00:00, 141.87it/s, loss=0.967]\n"
     ]
    },
    {
     "name": "stdout",
     "output_type": "stream",
     "text": [
      "Epoch [576/3000]: Train loss: 1.2653, Valid loss: 1.3128\n"
     ]
    },
    {
     "name": "stderr",
     "output_type": "stream",
     "text": [
      "Epoch [577/3000]: 100%|██████████| 9/9 [00:00<00:00, 137.29it/s, loss=1.43]\n"
     ]
    },
    {
     "name": "stdout",
     "output_type": "stream",
     "text": [
      "Epoch [577/3000]: Train loss: 1.2953, Valid loss: 1.3829\n"
     ]
    },
    {
     "name": "stderr",
     "output_type": "stream",
     "text": [
      "Epoch [578/3000]: 100%|██████████| 9/9 [00:00<00:00, 142.45it/s, loss=1.24]\n"
     ]
    },
    {
     "name": "stdout",
     "output_type": "stream",
     "text": [
      "Epoch [578/3000]: Train loss: 1.2815, Valid loss: 1.7089\n"
     ]
    },
    {
     "name": "stderr",
     "output_type": "stream",
     "text": [
      "Epoch [579/3000]: 100%|██████████| 9/9 [00:00<00:00, 125.01it/s, loss=1.42]\n"
     ]
    },
    {
     "name": "stdout",
     "output_type": "stream",
     "text": [
      "Epoch [579/3000]: Train loss: 1.3404, Valid loss: 1.5205\n"
     ]
    },
    {
     "name": "stderr",
     "output_type": "stream",
     "text": [
      "Epoch [580/3000]: 100%|██████████| 9/9 [00:00<00:00, 126.31it/s, loss=1.18]\n"
     ]
    },
    {
     "name": "stdout",
     "output_type": "stream",
     "text": [
      "Epoch [580/3000]: Train loss: 1.2731, Valid loss: 1.3996\n"
     ]
    },
    {
     "name": "stderr",
     "output_type": "stream",
     "text": [
      "Epoch [581/3000]: 100%|██████████| 9/9 [00:00<00:00, 143.84it/s, loss=1.5]\n"
     ]
    },
    {
     "name": "stdout",
     "output_type": "stream",
     "text": [
      "Epoch [581/3000]: Train loss: 1.2993, Valid loss: 1.4732\n"
     ]
    },
    {
     "name": "stderr",
     "output_type": "stream",
     "text": [
      "Epoch [582/3000]: 100%|██████████| 9/9 [00:00<00:00, 152.37it/s, loss=1.8]\n"
     ]
    },
    {
     "name": "stdout",
     "output_type": "stream",
     "text": [
      "Epoch [582/3000]: Train loss: 1.3190, Valid loss: 1.4233\n"
     ]
    },
    {
     "name": "stderr",
     "output_type": "stream",
     "text": [
      "Epoch [583/3000]: 100%|██████████| 9/9 [00:00<00:00, 148.63it/s, loss=1.61]\n"
     ]
    },
    {
     "name": "stdout",
     "output_type": "stream",
     "text": [
      "Epoch [583/3000]: Train loss: 1.3115, Valid loss: 1.2957\n"
     ]
    },
    {
     "name": "stderr",
     "output_type": "stream",
     "text": [
      "Epoch [584/3000]: 100%|██████████| 9/9 [00:00<00:00, 117.95it/s, loss=1.5]\n"
     ]
    },
    {
     "name": "stdout",
     "output_type": "stream",
     "text": [
      "Epoch [584/3000]: Train loss: 1.2975, Valid loss: 1.4636\n"
     ]
    },
    {
     "name": "stderr",
     "output_type": "stream",
     "text": [
      "Epoch [585/3000]: 100%|██████████| 9/9 [00:00<00:00, 120.71it/s, loss=1.58]\n"
     ]
    },
    {
     "name": "stdout",
     "output_type": "stream",
     "text": [
      "Epoch [585/3000]: Train loss: 1.2987, Valid loss: 1.6001\n"
     ]
    },
    {
     "name": "stderr",
     "output_type": "stream",
     "text": [
      "Epoch [586/3000]: 100%|██████████| 9/9 [00:00<00:00, 134.45it/s, loss=1.53]\n"
     ]
    },
    {
     "name": "stdout",
     "output_type": "stream",
     "text": [
      "Epoch [586/3000]: Train loss: 1.2961, Valid loss: 1.4570\n"
     ]
    },
    {
     "name": "stderr",
     "output_type": "stream",
     "text": [
      "Epoch [587/3000]: 100%|██████████| 9/9 [00:00<00:00, 153.54it/s, loss=1.41]\n"
     ]
    },
    {
     "name": "stdout",
     "output_type": "stream",
     "text": [
      "Epoch [587/3000]: Train loss: 1.2843, Valid loss: 1.4807\n"
     ]
    },
    {
     "name": "stderr",
     "output_type": "stream",
     "text": [
      "Epoch [588/3000]: 100%|██████████| 9/9 [00:00<00:00, 135.36it/s, loss=1.67]\n"
     ]
    },
    {
     "name": "stdout",
     "output_type": "stream",
     "text": [
      "Epoch [588/3000]: Train loss: 1.3095, Valid loss: 1.5101\n"
     ]
    },
    {
     "name": "stderr",
     "output_type": "stream",
     "text": [
      "Epoch [589/3000]: 100%|██████████| 9/9 [00:00<00:00, 145.29it/s, loss=1.18]\n"
     ]
    },
    {
     "name": "stdout",
     "output_type": "stream",
     "text": [
      "Epoch [589/3000]: Train loss: 1.2992, Valid loss: 1.4588\n"
     ]
    },
    {
     "name": "stderr",
     "output_type": "stream",
     "text": [
      "Epoch [590/3000]: 100%|██████████| 9/9 [00:00<00:00, 164.19it/s, loss=1.57]\n"
     ]
    },
    {
     "name": "stdout",
     "output_type": "stream",
     "text": [
      "Epoch [590/3000]: Train loss: 1.3560, Valid loss: 1.7675\n"
     ]
    },
    {
     "name": "stderr",
     "output_type": "stream",
     "text": [
      "Epoch [591/3000]: 100%|██████████| 9/9 [00:00<00:00, 147.07it/s, loss=1.1]\n"
     ]
    },
    {
     "name": "stdout",
     "output_type": "stream",
     "text": [
      "Epoch [591/3000]: Train loss: 1.2968, Valid loss: 1.2802\n"
     ]
    },
    {
     "name": "stderr",
     "output_type": "stream",
     "text": [
      "Epoch [592/3000]: 100%|██████████| 9/9 [00:00<00:00, 141.88it/s, loss=1]\n"
     ]
    },
    {
     "name": "stdout",
     "output_type": "stream",
     "text": [
      "Epoch [592/3000]: Train loss: 1.2668, Valid loss: 1.5602\n"
     ]
    },
    {
     "name": "stderr",
     "output_type": "stream",
     "text": [
      "Epoch [593/3000]: 100%|██████████| 9/9 [00:00<00:00, 135.06it/s, loss=1.25]\n"
     ]
    },
    {
     "name": "stdout",
     "output_type": "stream",
     "text": [
      "Epoch [593/3000]: Train loss: 1.2682, Valid loss: 1.3376\n"
     ]
    },
    {
     "name": "stderr",
     "output_type": "stream",
     "text": [
      "Epoch [594/3000]: 100%|██████████| 9/9 [00:00<00:00, 130.27it/s, loss=1.45]\n"
     ]
    },
    {
     "name": "stdout",
     "output_type": "stream",
     "text": [
      "Epoch [594/3000]: Train loss: 1.3143, Valid loss: 1.6891\n"
     ]
    },
    {
     "name": "stderr",
     "output_type": "stream",
     "text": [
      "Epoch [595/3000]: 100%|██████████| 9/9 [00:00<00:00, 119.20it/s, loss=1.4]\n"
     ]
    },
    {
     "name": "stdout",
     "output_type": "stream",
     "text": [
      "Epoch [595/3000]: Train loss: 1.3360, Valid loss: 1.3989\n"
     ]
    },
    {
     "name": "stderr",
     "output_type": "stream",
     "text": [
      "Epoch [596/3000]: 100%|██████████| 9/9 [00:00<00:00, 68.28it/s, loss=1.26]\n"
     ]
    },
    {
     "name": "stdout",
     "output_type": "stream",
     "text": [
      "Epoch [596/3000]: Train loss: 1.2713, Valid loss: 1.3998\n"
     ]
    },
    {
     "name": "stderr",
     "output_type": "stream",
     "text": [
      "Epoch [597/3000]: 100%|██████████| 9/9 [00:00<00:00, 125.64it/s, loss=1.61]\n"
     ]
    },
    {
     "name": "stdout",
     "output_type": "stream",
     "text": [
      "Epoch [597/3000]: Train loss: 1.3217, Valid loss: 1.4357\n"
     ]
    },
    {
     "name": "stderr",
     "output_type": "stream",
     "text": [
      "Epoch [598/3000]: 100%|██████████| 9/9 [00:00<00:00, 133.09it/s, loss=1.22]\n"
     ]
    },
    {
     "name": "stdout",
     "output_type": "stream",
     "text": [
      "Epoch [598/3000]: Train loss: 1.2907, Valid loss: 1.4696\n"
     ]
    },
    {
     "name": "stderr",
     "output_type": "stream",
     "text": [
      "Epoch [599/3000]: 100%|██████████| 9/9 [00:00<00:00, 124.57it/s, loss=1.68]\n"
     ]
    },
    {
     "name": "stdout",
     "output_type": "stream",
     "text": [
      "Epoch [599/3000]: Train loss: 1.2959, Valid loss: 1.3849\n"
     ]
    },
    {
     "name": "stderr",
     "output_type": "stream",
     "text": [
      "Epoch [600/3000]: 100%|██████████| 9/9 [00:00<00:00, 138.99it/s, loss=0.835]\n"
     ]
    },
    {
     "name": "stdout",
     "output_type": "stream",
     "text": [
      "Epoch [600/3000]: Train loss: 1.2464, Valid loss: 1.5223\n"
     ]
    },
    {
     "name": "stderr",
     "output_type": "stream",
     "text": [
      "Epoch [601/3000]: 100%|██████████| 9/9 [00:00<00:00, 140.57it/s, loss=1.31]\n"
     ]
    },
    {
     "name": "stdout",
     "output_type": "stream",
     "text": [
      "Epoch [601/3000]: Train loss: 1.2788, Valid loss: 1.4107\n"
     ]
    },
    {
     "name": "stderr",
     "output_type": "stream",
     "text": [
      "Epoch [602/3000]: 100%|██████████| 9/9 [00:00<00:00, 134.45it/s, loss=1.18]\n"
     ]
    },
    {
     "name": "stdout",
     "output_type": "stream",
     "text": [
      "Epoch [602/3000]: Train loss: 1.2600, Valid loss: 1.3005\n"
     ]
    },
    {
     "name": "stderr",
     "output_type": "stream",
     "text": [
      "Epoch [603/3000]: 100%|██████████| 9/9 [00:00<00:00, 137.34it/s, loss=1.32]\n"
     ]
    },
    {
     "name": "stdout",
     "output_type": "stream",
     "text": [
      "Epoch [603/3000]: Train loss: 1.2763, Valid loss: 1.3131\n"
     ]
    },
    {
     "name": "stderr",
     "output_type": "stream",
     "text": [
      "Epoch [604/3000]: 100%|██████████| 9/9 [00:00<00:00, 124.77it/s, loss=1.39]\n"
     ]
    },
    {
     "name": "stdout",
     "output_type": "stream",
     "text": [
      "Epoch [604/3000]: Train loss: 1.2744, Valid loss: 1.8970\n"
     ]
    },
    {
     "name": "stderr",
     "output_type": "stream",
     "text": [
      "Epoch [605/3000]: 100%|██████████| 9/9 [00:00<00:00, 149.81it/s, loss=1.38]\n"
     ]
    },
    {
     "name": "stdout",
     "output_type": "stream",
     "text": [
      "Epoch [605/3000]: Train loss: 1.2772, Valid loss: 1.5791\n"
     ]
    },
    {
     "name": "stderr",
     "output_type": "stream",
     "text": [
      "Epoch [606/3000]: 100%|██████████| 9/9 [00:00<00:00, 148.79it/s, loss=1.32]\n"
     ]
    },
    {
     "name": "stdout",
     "output_type": "stream",
     "text": [
      "Epoch [606/3000]: Train loss: 1.3107, Valid loss: 1.5105\n"
     ]
    },
    {
     "name": "stderr",
     "output_type": "stream",
     "text": [
      "Epoch [607/3000]: 100%|██████████| 9/9 [00:00<00:00, 159.09it/s, loss=0.953]\n"
     ]
    },
    {
     "name": "stdout",
     "output_type": "stream",
     "text": [
      "Epoch [607/3000]: Train loss: 1.2506, Valid loss: 1.6373\n"
     ]
    },
    {
     "name": "stderr",
     "output_type": "stream",
     "text": [
      "Epoch [608/3000]: 100%|██████████| 9/9 [00:00<00:00, 134.59it/s, loss=1.03]\n"
     ]
    },
    {
     "name": "stdout",
     "output_type": "stream",
     "text": [
      "Epoch [608/3000]: Train loss: 1.2557, Valid loss: 1.4004\n"
     ]
    },
    {
     "name": "stderr",
     "output_type": "stream",
     "text": [
      "Epoch [609/3000]: 100%|██████████| 9/9 [00:00<00:00, 158.04it/s, loss=1.06]\n"
     ]
    },
    {
     "name": "stdout",
     "output_type": "stream",
     "text": [
      "Epoch [609/3000]: Train loss: 1.2538, Valid loss: 1.3078\n"
     ]
    },
    {
     "name": "stderr",
     "output_type": "stream",
     "text": [
      "Epoch [610/3000]: 100%|██████████| 9/9 [00:00<00:00, 159.73it/s, loss=1.87]\n"
     ]
    },
    {
     "name": "stdout",
     "output_type": "stream",
     "text": [
      "Epoch [610/3000]: Train loss: 1.3201, Valid loss: 1.4779\n"
     ]
    },
    {
     "name": "stderr",
     "output_type": "stream",
     "text": [
      "Epoch [611/3000]: 100%|██████████| 9/9 [00:00<00:00, 154.48it/s, loss=0.993]\n"
     ]
    },
    {
     "name": "stdout",
     "output_type": "stream",
     "text": [
      "Epoch [611/3000]: Train loss: 1.2721, Valid loss: 1.3802\n"
     ]
    },
    {
     "name": "stderr",
     "output_type": "stream",
     "text": [
      "Epoch [612/3000]: 100%|██████████| 9/9 [00:00<00:00, 167.79it/s, loss=1.17]\n"
     ]
    },
    {
     "name": "stdout",
     "output_type": "stream",
     "text": [
      "Epoch [612/3000]: Train loss: 1.2618, Valid loss: 1.4708\n"
     ]
    },
    {
     "name": "stderr",
     "output_type": "stream",
     "text": [
      "Epoch [613/3000]: 100%|██████████| 9/9 [00:00<00:00, 134.89it/s, loss=1.05]\n"
     ]
    },
    {
     "name": "stdout",
     "output_type": "stream",
     "text": [
      "Epoch [613/3000]: Train loss: 1.2625, Valid loss: 1.3773\n"
     ]
    },
    {
     "name": "stderr",
     "output_type": "stream",
     "text": [
      "Epoch [614/3000]: 100%|██████████| 9/9 [00:00<00:00, 142.72it/s, loss=1.06]\n"
     ]
    },
    {
     "name": "stdout",
     "output_type": "stream",
     "text": [
      "Epoch [614/3000]: Train loss: 1.2541, Valid loss: 1.4825\n"
     ]
    },
    {
     "name": "stderr",
     "output_type": "stream",
     "text": [
      "Epoch [615/3000]: 100%|██████████| 9/9 [00:00<00:00, 100.27it/s, loss=1.31]\n"
     ]
    },
    {
     "name": "stdout",
     "output_type": "stream",
     "text": [
      "Epoch [615/3000]: Train loss: 1.2690, Valid loss: 1.7530\n"
     ]
    },
    {
     "name": "stderr",
     "output_type": "stream",
     "text": [
      "Epoch [616/3000]: 100%|██████████| 9/9 [00:00<00:00, 122.10it/s, loss=1.17]\n"
     ]
    },
    {
     "name": "stdout",
     "output_type": "stream",
     "text": [
      "Epoch [616/3000]: Train loss: 1.2594, Valid loss: 1.7436\n"
     ]
    },
    {
     "name": "stderr",
     "output_type": "stream",
     "text": [
      "Epoch [617/3000]: 100%|██████████| 9/9 [00:00<00:00, 138.77it/s, loss=1.35]\n"
     ]
    },
    {
     "name": "stdout",
     "output_type": "stream",
     "text": [
      "Epoch [617/3000]: Train loss: 1.2994, Valid loss: 1.4067\n"
     ]
    },
    {
     "name": "stderr",
     "output_type": "stream",
     "text": [
      "Epoch [618/3000]: 100%|██████████| 9/9 [00:00<00:00, 139.84it/s, loss=1.08]\n"
     ]
    },
    {
     "name": "stdout",
     "output_type": "stream",
     "text": [
      "Epoch [618/3000]: Train loss: 1.2730, Valid loss: 1.5306\n"
     ]
    },
    {
     "name": "stderr",
     "output_type": "stream",
     "text": [
      "Epoch [619/3000]: 100%|██████████| 9/9 [00:00<00:00, 143.38it/s, loss=1.07]\n"
     ]
    },
    {
     "name": "stdout",
     "output_type": "stream",
     "text": [
      "Epoch [619/3000]: Train loss: 1.2559, Valid loss: 1.3336\n"
     ]
    },
    {
     "name": "stderr",
     "output_type": "stream",
     "text": [
      "Epoch [620/3000]: 100%|██████████| 9/9 [00:00<00:00, 155.78it/s, loss=1.23]\n"
     ]
    },
    {
     "name": "stdout",
     "output_type": "stream",
     "text": [
      "Epoch [620/3000]: Train loss: 1.2729, Valid loss: 1.2376\n",
      "Saving model with loss 1.238...\n"
     ]
    },
    {
     "name": "stderr",
     "output_type": "stream",
     "text": [
      "Epoch [621/3000]: 100%|██████████| 9/9 [00:00<00:00, 150.67it/s, loss=1.39]\n"
     ]
    },
    {
     "name": "stdout",
     "output_type": "stream",
     "text": [
      "Epoch [621/3000]: Train loss: 1.2707, Valid loss: 1.5069\n"
     ]
    },
    {
     "name": "stderr",
     "output_type": "stream",
     "text": [
      "Epoch [622/3000]: 100%|██████████| 9/9 [00:00<00:00, 146.38it/s, loss=1.38]\n"
     ]
    },
    {
     "name": "stdout",
     "output_type": "stream",
     "text": [
      "Epoch [622/3000]: Train loss: 1.2671, Valid loss: 1.3091\n"
     ]
    },
    {
     "name": "stderr",
     "output_type": "stream",
     "text": [
      "Epoch [623/3000]: 100%|██████████| 9/9 [00:00<00:00, 123.94it/s, loss=1.26]\n"
     ]
    },
    {
     "name": "stdout",
     "output_type": "stream",
     "text": [
      "Epoch [623/3000]: Train loss: 1.2703, Valid loss: 1.4825\n"
     ]
    },
    {
     "name": "stderr",
     "output_type": "stream",
     "text": [
      "Epoch [624/3000]: 100%|██████████| 9/9 [00:00<00:00, 120.73it/s, loss=1.48]\n"
     ]
    },
    {
     "name": "stdout",
     "output_type": "stream",
     "text": [
      "Epoch [624/3000]: Train loss: 1.2706, Valid loss: 1.5227\n"
     ]
    },
    {
     "name": "stderr",
     "output_type": "stream",
     "text": [
      "Epoch [625/3000]: 100%|██████████| 9/9 [00:00<00:00, 127.10it/s, loss=1.03]\n"
     ]
    },
    {
     "name": "stdout",
     "output_type": "stream",
     "text": [
      "Epoch [625/3000]: Train loss: 1.2606, Valid loss: 1.4586\n"
     ]
    },
    {
     "name": "stderr",
     "output_type": "stream",
     "text": [
      "Epoch [626/3000]: 100%|██████████| 9/9 [00:00<00:00, 134.33it/s, loss=1.3]\n"
     ]
    },
    {
     "name": "stdout",
     "output_type": "stream",
     "text": [
      "Epoch [626/3000]: Train loss: 1.2740, Valid loss: 1.2039\n",
      "Saving model with loss 1.204...\n"
     ]
    },
    {
     "name": "stderr",
     "output_type": "stream",
     "text": [
      "Epoch [627/3000]: 100%|██████████| 9/9 [00:00<00:00, 152.83it/s, loss=1.28]\n"
     ]
    },
    {
     "name": "stdout",
     "output_type": "stream",
     "text": [
      "Epoch [627/3000]: Train loss: 1.2685, Valid loss: 1.2337\n"
     ]
    },
    {
     "name": "stderr",
     "output_type": "stream",
     "text": [
      "Epoch [628/3000]: 100%|██████████| 9/9 [00:00<00:00, 147.62it/s, loss=1.1]\n"
     ]
    },
    {
     "name": "stdout",
     "output_type": "stream",
     "text": [
      "Epoch [628/3000]: Train loss: 1.2511, Valid loss: 1.8047\n"
     ]
    },
    {
     "name": "stderr",
     "output_type": "stream",
     "text": [
      "Epoch [629/3000]: 100%|██████████| 9/9 [00:00<00:00, 141.99it/s, loss=1.02]\n"
     ]
    },
    {
     "name": "stdout",
     "output_type": "stream",
     "text": [
      "Epoch [629/3000]: Train loss: 1.2388, Valid loss: 1.4793\n"
     ]
    },
    {
     "name": "stderr",
     "output_type": "stream",
     "text": [
      "Epoch [630/3000]: 100%|██████████| 9/9 [00:00<00:00, 154.12it/s, loss=1.52]\n"
     ]
    },
    {
     "name": "stdout",
     "output_type": "stream",
     "text": [
      "Epoch [630/3000]: Train loss: 1.2723, Valid loss: 1.6248\n"
     ]
    },
    {
     "name": "stderr",
     "output_type": "stream",
     "text": [
      "Epoch [631/3000]: 100%|██████████| 9/9 [00:00<00:00, 153.85it/s, loss=1.29]\n"
     ]
    },
    {
     "name": "stdout",
     "output_type": "stream",
     "text": [
      "Epoch [631/3000]: Train loss: 1.2567, Valid loss: 1.2735\n"
     ]
    },
    {
     "name": "stderr",
     "output_type": "stream",
     "text": [
      "Epoch [632/3000]: 100%|██████████| 9/9 [00:00<00:00, 139.41it/s, loss=0.805]\n"
     ]
    },
    {
     "name": "stdout",
     "output_type": "stream",
     "text": [
      "Epoch [632/3000]: Train loss: 1.2248, Valid loss: 1.5190\n"
     ]
    },
    {
     "name": "stderr",
     "output_type": "stream",
     "text": [
      "Epoch [633/3000]: 100%|██████████| 9/9 [00:00<00:00, 135.51it/s, loss=1.38]\n"
     ]
    },
    {
     "name": "stdout",
     "output_type": "stream",
     "text": [
      "Epoch [633/3000]: Train loss: 1.2591, Valid loss: 1.4144\n"
     ]
    },
    {
     "name": "stderr",
     "output_type": "stream",
     "text": [
      "Epoch [634/3000]: 100%|██████████| 9/9 [00:00<00:00, 119.72it/s, loss=0.809]\n"
     ]
    },
    {
     "name": "stdout",
     "output_type": "stream",
     "text": [
      "Epoch [634/3000]: Train loss: 1.2272, Valid loss: 1.3479\n"
     ]
    },
    {
     "name": "stderr",
     "output_type": "stream",
     "text": [
      "Epoch [635/3000]: 100%|██████████| 9/9 [00:00<00:00, 147.60it/s, loss=1.25]\n"
     ]
    },
    {
     "name": "stdout",
     "output_type": "stream",
     "text": [
      "Epoch [635/3000]: Train loss: 1.2661, Valid loss: 1.5245\n"
     ]
    },
    {
     "name": "stderr",
     "output_type": "stream",
     "text": [
      "Epoch [636/3000]: 100%|██████████| 9/9 [00:00<00:00, 152.85it/s, loss=1.35]\n"
     ]
    },
    {
     "name": "stdout",
     "output_type": "stream",
     "text": [
      "Epoch [636/3000]: Train loss: 1.2730, Valid loss: 1.9564\n"
     ]
    },
    {
     "name": "stderr",
     "output_type": "stream",
     "text": [
      "Epoch [637/3000]: 100%|██████████| 9/9 [00:00<00:00, 63.62it/s, loss=1.18]\n"
     ]
    },
    {
     "name": "stdout",
     "output_type": "stream",
     "text": [
      "Epoch [637/3000]: Train loss: 1.2553, Valid loss: 1.3588\n"
     ]
    },
    {
     "name": "stderr",
     "output_type": "stream",
     "text": [
      "Epoch [638/3000]: 100%|██████████| 9/9 [00:00<00:00, 117.92it/s, loss=1.19]\n"
     ]
    },
    {
     "name": "stdout",
     "output_type": "stream",
     "text": [
      "Epoch [638/3000]: Train loss: 1.2650, Valid loss: 1.4566\n"
     ]
    },
    {
     "name": "stderr",
     "output_type": "stream",
     "text": [
      "Epoch [639/3000]: 100%|██████████| 9/9 [00:00<00:00, 125.35it/s, loss=1.12]\n"
     ]
    },
    {
     "name": "stdout",
     "output_type": "stream",
     "text": [
      "Epoch [639/3000]: Train loss: 1.2482, Valid loss: 1.4953\n"
     ]
    },
    {
     "name": "stderr",
     "output_type": "stream",
     "text": [
      "Epoch [640/3000]: 100%|██████████| 9/9 [00:00<00:00, 132.32it/s, loss=1.44]\n"
     ]
    },
    {
     "name": "stdout",
     "output_type": "stream",
     "text": [
      "Epoch [640/3000]: Train loss: 1.2594, Valid loss: 1.4785\n"
     ]
    },
    {
     "name": "stderr",
     "output_type": "stream",
     "text": [
      "Epoch [641/3000]: 100%|██████████| 9/9 [00:00<00:00, 134.50it/s, loss=1.57]\n"
     ]
    },
    {
     "name": "stdout",
     "output_type": "stream",
     "text": [
      "Epoch [641/3000]: Train loss: 1.2689, Valid loss: 1.3485\n"
     ]
    },
    {
     "name": "stderr",
     "output_type": "stream",
     "text": [
      "Epoch [642/3000]: 100%|██████████| 9/9 [00:00<00:00, 132.73it/s, loss=1.42]\n"
     ]
    },
    {
     "name": "stdout",
     "output_type": "stream",
     "text": [
      "Epoch [642/3000]: Train loss: 1.2610, Valid loss: 1.6781\n"
     ]
    },
    {
     "name": "stderr",
     "output_type": "stream",
     "text": [
      "Epoch [643/3000]: 100%|██████████| 9/9 [00:00<00:00, 131.64it/s, loss=1.42]\n"
     ]
    },
    {
     "name": "stdout",
     "output_type": "stream",
     "text": [
      "Epoch [643/3000]: Train loss: 1.2623, Valid loss: 1.4926\n"
     ]
    },
    {
     "name": "stderr",
     "output_type": "stream",
     "text": [
      "Epoch [644/3000]: 100%|██████████| 9/9 [00:00<00:00, 134.71it/s, loss=1.29]\n"
     ]
    },
    {
     "name": "stdout",
     "output_type": "stream",
     "text": [
      "Epoch [644/3000]: Train loss: 1.2478, Valid loss: 1.4328\n"
     ]
    },
    {
     "name": "stderr",
     "output_type": "stream",
     "text": [
      "Epoch [645/3000]: 100%|██████████| 9/9 [00:00<00:00, 113.63it/s, loss=0.98]\n"
     ]
    },
    {
     "name": "stdout",
     "output_type": "stream",
     "text": [
      "Epoch [645/3000]: Train loss: 1.2401, Valid loss: 1.4420\n"
     ]
    },
    {
     "name": "stderr",
     "output_type": "stream",
     "text": [
      "Epoch [646/3000]: 100%|██████████| 9/9 [00:00<00:00, 148.32it/s, loss=0.808]\n"
     ]
    },
    {
     "name": "stdout",
     "output_type": "stream",
     "text": [
      "Epoch [646/3000]: Train loss: 1.2348, Valid loss: 1.2430\n"
     ]
    },
    {
     "name": "stderr",
     "output_type": "stream",
     "text": [
      "Epoch [647/3000]: 100%|██████████| 9/9 [00:00<00:00, 158.46it/s, loss=1.52]\n"
     ]
    },
    {
     "name": "stdout",
     "output_type": "stream",
     "text": [
      "Epoch [647/3000]: Train loss: 1.2810, Valid loss: 1.2960\n"
     ]
    },
    {
     "name": "stderr",
     "output_type": "stream",
     "text": [
      "Epoch [648/3000]: 100%|██████████| 9/9 [00:00<00:00, 117.70it/s, loss=1.1]\n"
     ]
    },
    {
     "name": "stdout",
     "output_type": "stream",
     "text": [
      "Epoch [648/3000]: Train loss: 1.2587, Valid loss: 1.3151\n"
     ]
    },
    {
     "name": "stderr",
     "output_type": "stream",
     "text": [
      "Epoch [649/3000]: 100%|██████████| 9/9 [00:00<00:00, 144.83it/s, loss=0.966]\n"
     ]
    },
    {
     "name": "stdout",
     "output_type": "stream",
     "text": [
      "Epoch [649/3000]: Train loss: 1.2271, Valid loss: 1.3457\n"
     ]
    },
    {
     "name": "stderr",
     "output_type": "stream",
     "text": [
      "Epoch [650/3000]: 100%|██████████| 9/9 [00:00<00:00, 149.97it/s, loss=1.37]\n"
     ]
    },
    {
     "name": "stdout",
     "output_type": "stream",
     "text": [
      "Epoch [650/3000]: Train loss: 1.2546, Valid loss: 1.8085\n"
     ]
    },
    {
     "name": "stderr",
     "output_type": "stream",
     "text": [
      "Epoch [651/3000]: 100%|██████████| 9/9 [00:00<00:00, 151.36it/s, loss=1.16]\n"
     ]
    },
    {
     "name": "stdout",
     "output_type": "stream",
     "text": [
      "Epoch [651/3000]: Train loss: 1.2521, Valid loss: 1.3026\n"
     ]
    },
    {
     "name": "stderr",
     "output_type": "stream",
     "text": [
      "Epoch [652/3000]: 100%|██████████| 9/9 [00:00<00:00, 158.39it/s, loss=1.34]\n"
     ]
    },
    {
     "name": "stdout",
     "output_type": "stream",
     "text": [
      "Epoch [652/3000]: Train loss: 1.2697, Valid loss: 1.2836\n"
     ]
    },
    {
     "name": "stderr",
     "output_type": "stream",
     "text": [
      "Epoch [653/3000]: 100%|██████████| 9/9 [00:00<00:00, 141.10it/s, loss=1.8]\n"
     ]
    },
    {
     "name": "stdout",
     "output_type": "stream",
     "text": [
      "Epoch [653/3000]: Train loss: 1.2840, Valid loss: 1.3827\n"
     ]
    },
    {
     "name": "stderr",
     "output_type": "stream",
     "text": [
      "Epoch [654/3000]: 100%|██████████| 9/9 [00:00<00:00, 154.64it/s, loss=1.6]\n"
     ]
    },
    {
     "name": "stdout",
     "output_type": "stream",
     "text": [
      "Epoch [654/3000]: Train loss: 1.2868, Valid loss: 1.2587\n"
     ]
    },
    {
     "name": "stderr",
     "output_type": "stream",
     "text": [
      "Epoch [655/3000]: 100%|██████████| 9/9 [00:00<00:00, 151.27it/s, loss=1.15]\n"
     ]
    },
    {
     "name": "stdout",
     "output_type": "stream",
     "text": [
      "Epoch [655/3000]: Train loss: 1.2737, Valid loss: 1.6291\n"
     ]
    },
    {
     "name": "stderr",
     "output_type": "stream",
     "text": [
      "Epoch [656/3000]: 100%|██████████| 9/9 [00:00<00:00, 147.34it/s, loss=1.55]\n"
     ]
    },
    {
     "name": "stdout",
     "output_type": "stream",
     "text": [
      "Epoch [656/3000]: Train loss: 1.2592, Valid loss: 1.4355\n"
     ]
    },
    {
     "name": "stderr",
     "output_type": "stream",
     "text": [
      "Epoch [657/3000]: 100%|██████████| 9/9 [00:00<00:00, 128.44it/s, loss=1.36]\n"
     ]
    },
    {
     "name": "stdout",
     "output_type": "stream",
     "text": [
      "Epoch [657/3000]: Train loss: 1.2607, Valid loss: 1.4433\n"
     ]
    },
    {
     "name": "stderr",
     "output_type": "stream",
     "text": [
      "Epoch [658/3000]: 100%|██████████| 9/9 [00:00<00:00, 118.58it/s, loss=1.18]\n"
     ]
    },
    {
     "name": "stdout",
     "output_type": "stream",
     "text": [
      "Epoch [658/3000]: Train loss: 1.2396, Valid loss: 1.3374\n"
     ]
    },
    {
     "name": "stderr",
     "output_type": "stream",
     "text": [
      "Epoch [659/3000]: 100%|██████████| 9/9 [00:00<00:00, 120.83it/s, loss=0.985]\n"
     ]
    },
    {
     "name": "stdout",
     "output_type": "stream",
     "text": [
      "Epoch [659/3000]: Train loss: 1.2246, Valid loss: 1.4313\n"
     ]
    },
    {
     "name": "stderr",
     "output_type": "stream",
     "text": [
      "Epoch [660/3000]: 100%|██████████| 9/9 [00:00<00:00, 132.84it/s, loss=1.73]\n"
     ]
    },
    {
     "name": "stdout",
     "output_type": "stream",
     "text": [
      "Epoch [660/3000]: Train loss: 1.2701, Valid loss: 1.4940\n"
     ]
    },
    {
     "name": "stderr",
     "output_type": "stream",
     "text": [
      "Epoch [661/3000]: 100%|██████████| 9/9 [00:00<00:00, 122.74it/s, loss=1.34]\n"
     ]
    },
    {
     "name": "stdout",
     "output_type": "stream",
     "text": [
      "Epoch [661/3000]: Train loss: 1.2468, Valid loss: 1.3979\n"
     ]
    },
    {
     "name": "stderr",
     "output_type": "stream",
     "text": [
      "Epoch [662/3000]: 100%|██████████| 9/9 [00:00<00:00, 125.17it/s, loss=1.25]\n"
     ]
    },
    {
     "name": "stdout",
     "output_type": "stream",
     "text": [
      "Epoch [662/3000]: Train loss: 1.2546, Valid loss: 1.5925\n"
     ]
    },
    {
     "name": "stderr",
     "output_type": "stream",
     "text": [
      "Epoch [663/3000]: 100%|██████████| 9/9 [00:00<00:00, 148.93it/s, loss=1.27]\n"
     ]
    },
    {
     "name": "stdout",
     "output_type": "stream",
     "text": [
      "Epoch [663/3000]: Train loss: 1.2728, Valid loss: 1.2249\n"
     ]
    },
    {
     "name": "stderr",
     "output_type": "stream",
     "text": [
      "Epoch [664/3000]: 100%|██████████| 9/9 [00:00<00:00, 147.47it/s, loss=1.48]\n"
     ]
    },
    {
     "name": "stdout",
     "output_type": "stream",
     "text": [
      "Epoch [664/3000]: Train loss: 1.3070, Valid loss: 1.6381\n"
     ]
    },
    {
     "name": "stderr",
     "output_type": "stream",
     "text": [
      "Epoch [665/3000]: 100%|██████████| 9/9 [00:00<00:00, 142.32it/s, loss=1.92]\n"
     ]
    },
    {
     "name": "stdout",
     "output_type": "stream",
     "text": [
      "Epoch [665/3000]: Train loss: 1.2889, Valid loss: 1.3281\n"
     ]
    },
    {
     "name": "stderr",
     "output_type": "stream",
     "text": [
      "Epoch [666/3000]: 100%|██████████| 9/9 [00:00<00:00, 138.69it/s, loss=1.79]\n"
     ]
    },
    {
     "name": "stdout",
     "output_type": "stream",
     "text": [
      "Epoch [666/3000]: Train loss: 1.2697, Valid loss: 1.4757\n"
     ]
    },
    {
     "name": "stderr",
     "output_type": "stream",
     "text": [
      "Epoch [667/3000]: 100%|██████████| 9/9 [00:00<00:00, 139.85it/s, loss=1.15]\n"
     ]
    },
    {
     "name": "stdout",
     "output_type": "stream",
     "text": [
      "Epoch [667/3000]: Train loss: 1.2462, Valid loss: 1.7000\n"
     ]
    },
    {
     "name": "stderr",
     "output_type": "stream",
     "text": [
      "Epoch [668/3000]: 100%|██████████| 9/9 [00:00<00:00, 150.73it/s, loss=1.5]\n"
     ]
    },
    {
     "name": "stdout",
     "output_type": "stream",
     "text": [
      "Epoch [668/3000]: Train loss: 1.3234, Valid loss: 1.4150\n"
     ]
    },
    {
     "name": "stderr",
     "output_type": "stream",
     "text": [
      "Epoch [669/3000]: 100%|██████████| 9/9 [00:00<00:00, 141.31it/s, loss=1.12]\n"
     ]
    },
    {
     "name": "stdout",
     "output_type": "stream",
     "text": [
      "Epoch [669/3000]: Train loss: 1.2415, Valid loss: 1.9055\n"
     ]
    },
    {
     "name": "stderr",
     "output_type": "stream",
     "text": [
      "Epoch [670/3000]: 100%|██████████| 9/9 [00:00<00:00, 149.07it/s, loss=1.42]\n"
     ]
    },
    {
     "name": "stdout",
     "output_type": "stream",
     "text": [
      "Epoch [670/3000]: Train loss: 1.2547, Valid loss: 1.5317\n"
     ]
    },
    {
     "name": "stderr",
     "output_type": "stream",
     "text": [
      "Epoch [671/3000]: 100%|██████████| 9/9 [00:00<00:00, 145.30it/s, loss=1.24]\n"
     ]
    },
    {
     "name": "stdout",
     "output_type": "stream",
     "text": [
      "Epoch [671/3000]: Train loss: 1.2413, Valid loss: 1.7335\n"
     ]
    },
    {
     "name": "stderr",
     "output_type": "stream",
     "text": [
      "Epoch [672/3000]: 100%|██████████| 9/9 [00:00<00:00, 147.97it/s, loss=0.956]\n"
     ]
    },
    {
     "name": "stdout",
     "output_type": "stream",
     "text": [
      "Epoch [672/3000]: Train loss: 1.2616, Valid loss: 1.5316\n"
     ]
    },
    {
     "name": "stderr",
     "output_type": "stream",
     "text": [
      "Epoch [673/3000]: 100%|██████████| 9/9 [00:00<00:00, 154.02it/s, loss=1.45]\n"
     ]
    },
    {
     "name": "stdout",
     "output_type": "stream",
     "text": [
      "Epoch [673/3000]: Train loss: 1.2691, Valid loss: 1.8632\n"
     ]
    },
    {
     "name": "stderr",
     "output_type": "stream",
     "text": [
      "Epoch [674/3000]: 100%|██████████| 9/9 [00:00<00:00, 143.91it/s, loss=1.24]\n"
     ]
    },
    {
     "name": "stdout",
     "output_type": "stream",
     "text": [
      "Epoch [674/3000]: Train loss: 1.2468, Valid loss: 1.3908\n"
     ]
    },
    {
     "name": "stderr",
     "output_type": "stream",
     "text": [
      "Epoch [675/3000]: 100%|██████████| 9/9 [00:00<00:00, 154.55it/s, loss=1.02]\n"
     ]
    },
    {
     "name": "stdout",
     "output_type": "stream",
     "text": [
      "Epoch [675/3000]: Train loss: 1.2351, Valid loss: 1.4454\n"
     ]
    },
    {
     "name": "stderr",
     "output_type": "stream",
     "text": [
      "Epoch [676/3000]: 100%|██████████| 9/9 [00:00<00:00, 126.14it/s, loss=1.45]\n"
     ]
    },
    {
     "name": "stdout",
     "output_type": "stream",
     "text": [
      "Epoch [676/3000]: Train loss: 1.2622, Valid loss: 1.3840\n"
     ]
    },
    {
     "name": "stderr",
     "output_type": "stream",
     "text": [
      "Epoch [677/3000]: 100%|██████████| 9/9 [00:00<00:00, 148.08it/s, loss=1.42]\n"
     ]
    },
    {
     "name": "stdout",
     "output_type": "stream",
     "text": [
      "Epoch [677/3000]: Train loss: 1.2603, Valid loss: 1.7581\n"
     ]
    },
    {
     "name": "stderr",
     "output_type": "stream",
     "text": [
      "Epoch [678/3000]: 100%|██████████| 9/9 [00:00<00:00, 73.40it/s, loss=0.708]\n"
     ]
    },
    {
     "name": "stdout",
     "output_type": "stream",
     "text": [
      "Epoch [678/3000]: Train loss: 1.2067, Valid loss: 1.7366\n"
     ]
    },
    {
     "name": "stderr",
     "output_type": "stream",
     "text": [
      "Epoch [679/3000]: 100%|██████████| 9/9 [00:00<00:00, 136.48it/s, loss=1.11]\n"
     ]
    },
    {
     "name": "stdout",
     "output_type": "stream",
     "text": [
      "Epoch [679/3000]: Train loss: 1.2269, Valid loss: 1.2495\n"
     ]
    },
    {
     "name": "stderr",
     "output_type": "stream",
     "text": [
      "Epoch [680/3000]: 100%|██████████| 9/9 [00:00<00:00, 129.26it/s, loss=1.27]\n"
     ]
    },
    {
     "name": "stdout",
     "output_type": "stream",
     "text": [
      "Epoch [680/3000]: Train loss: 1.2341, Valid loss: 1.4469\n"
     ]
    },
    {
     "name": "stderr",
     "output_type": "stream",
     "text": [
      "Epoch [681/3000]: 100%|██████████| 9/9 [00:00<00:00, 136.90it/s, loss=1.13]\n"
     ]
    },
    {
     "name": "stdout",
     "output_type": "stream",
     "text": [
      "Epoch [681/3000]: Train loss: 1.2227, Valid loss: 1.4004\n"
     ]
    },
    {
     "name": "stderr",
     "output_type": "stream",
     "text": [
      "Epoch [682/3000]: 100%|██████████| 9/9 [00:00<00:00, 135.04it/s, loss=1.21]\n"
     ]
    },
    {
     "name": "stdout",
     "output_type": "stream",
     "text": [
      "Epoch [682/3000]: Train loss: 1.2288, Valid loss: 1.4112\n"
     ]
    },
    {
     "name": "stderr",
     "output_type": "stream",
     "text": [
      "Epoch [683/3000]: 100%|██████████| 9/9 [00:00<00:00, 133.89it/s, loss=1.53]\n"
     ]
    },
    {
     "name": "stdout",
     "output_type": "stream",
     "text": [
      "Epoch [683/3000]: Train loss: 1.2468, Valid loss: 1.4960\n"
     ]
    },
    {
     "name": "stderr",
     "output_type": "stream",
     "text": [
      "Epoch [684/3000]: 100%|██████████| 9/9 [00:00<00:00, 130.56it/s, loss=1.35]\n"
     ]
    },
    {
     "name": "stdout",
     "output_type": "stream",
     "text": [
      "Epoch [684/3000]: Train loss: 1.2391, Valid loss: 1.4558\n"
     ]
    },
    {
     "name": "stderr",
     "output_type": "stream",
     "text": [
      "Epoch [685/3000]: 100%|██████████| 9/9 [00:00<00:00, 130.82it/s, loss=1.06]\n"
     ]
    },
    {
     "name": "stdout",
     "output_type": "stream",
     "text": [
      "Epoch [685/3000]: Train loss: 1.2284, Valid loss: 1.3189\n"
     ]
    },
    {
     "name": "stderr",
     "output_type": "stream",
     "text": [
      "Epoch [686/3000]: 100%|██████████| 9/9 [00:00<00:00, 128.38it/s, loss=1.01]\n"
     ]
    },
    {
     "name": "stdout",
     "output_type": "stream",
     "text": [
      "Epoch [686/3000]: Train loss: 1.2243, Valid loss: 1.2688\n"
     ]
    },
    {
     "name": "stderr",
     "output_type": "stream",
     "text": [
      "Epoch [687/3000]: 100%|██████████| 9/9 [00:00<00:00, 136.47it/s, loss=1.36]\n"
     ]
    },
    {
     "name": "stdout",
     "output_type": "stream",
     "text": [
      "Epoch [687/3000]: Train loss: 1.2424, Valid loss: 1.3531\n"
     ]
    },
    {
     "name": "stderr",
     "output_type": "stream",
     "text": [
      "Epoch [688/3000]: 100%|██████████| 9/9 [00:00<00:00, 113.26it/s, loss=1.53]\n"
     ]
    },
    {
     "name": "stdout",
     "output_type": "stream",
     "text": [
      "Epoch [688/3000]: Train loss: 1.2490, Valid loss: 1.4497\n"
     ]
    },
    {
     "name": "stderr",
     "output_type": "stream",
     "text": [
      "Epoch [689/3000]: 100%|██████████| 9/9 [00:00<00:00, 153.50it/s, loss=1.02]\n"
     ]
    },
    {
     "name": "stdout",
     "output_type": "stream",
     "text": [
      "Epoch [689/3000]: Train loss: 1.2330, Valid loss: 1.1989\n",
      "Saving model with loss 1.199...\n"
     ]
    },
    {
     "name": "stderr",
     "output_type": "stream",
     "text": [
      "Epoch [690/3000]: 100%|██████████| 9/9 [00:00<00:00, 157.09it/s, loss=0.931]\n"
     ]
    },
    {
     "name": "stdout",
     "output_type": "stream",
     "text": [
      "Epoch [690/3000]: Train loss: 1.2292, Valid loss: 1.3529\n"
     ]
    },
    {
     "name": "stderr",
     "output_type": "stream",
     "text": [
      "Epoch [691/3000]: 100%|██████████| 9/9 [00:00<00:00, 152.83it/s, loss=1.14]\n"
     ]
    },
    {
     "name": "stdout",
     "output_type": "stream",
     "text": [
      "Epoch [691/3000]: Train loss: 1.2303, Valid loss: 1.5383\n"
     ]
    },
    {
     "name": "stderr",
     "output_type": "stream",
     "text": [
      "Epoch [692/3000]: 100%|██████████| 9/9 [00:00<00:00, 163.66it/s, loss=0.947]\n"
     ]
    },
    {
     "name": "stdout",
     "output_type": "stream",
     "text": [
      "Epoch [692/3000]: Train loss: 1.2159, Valid loss: 1.1470\n",
      "Saving model with loss 1.147...\n"
     ]
    },
    {
     "name": "stderr",
     "output_type": "stream",
     "text": [
      "Epoch [693/3000]: 100%|██████████| 9/9 [00:00<00:00, 175.48it/s, loss=0.725]\n"
     ]
    },
    {
     "name": "stdout",
     "output_type": "stream",
     "text": [
      "Epoch [693/3000]: Train loss: 1.2008, Valid loss: 1.3988\n"
     ]
    },
    {
     "name": "stderr",
     "output_type": "stream",
     "text": [
      "Epoch [694/3000]: 100%|██████████| 9/9 [00:00<00:00, 162.61it/s, loss=1.52]\n"
     ]
    },
    {
     "name": "stdout",
     "output_type": "stream",
     "text": [
      "Epoch [694/3000]: Train loss: 1.2704, Valid loss: 1.6882\n"
     ]
    },
    {
     "name": "stderr",
     "output_type": "stream",
     "text": [
      "Epoch [695/3000]: 100%|██████████| 9/9 [00:00<00:00, 164.69it/s, loss=1.15]\n"
     ]
    },
    {
     "name": "stdout",
     "output_type": "stream",
     "text": [
      "Epoch [695/3000]: Train loss: 1.2778, Valid loss: 1.3291\n"
     ]
    },
    {
     "name": "stderr",
     "output_type": "stream",
     "text": [
      "Epoch [696/3000]: 100%|██████████| 9/9 [00:00<00:00, 166.13it/s, loss=1.04]\n"
     ]
    },
    {
     "name": "stdout",
     "output_type": "stream",
     "text": [
      "Epoch [696/3000]: Train loss: 1.2534, Valid loss: 1.7250\n"
     ]
    },
    {
     "name": "stderr",
     "output_type": "stream",
     "text": [
      "Epoch [697/3000]: 100%|██████████| 9/9 [00:00<00:00, 130.31it/s, loss=1.24]\n"
     ]
    },
    {
     "name": "stdout",
     "output_type": "stream",
     "text": [
      "Epoch [697/3000]: Train loss: 1.2545, Valid loss: 1.4323\n"
     ]
    },
    {
     "name": "stderr",
     "output_type": "stream",
     "text": [
      "Epoch [698/3000]: 100%|██████████| 9/9 [00:00<00:00, 139.93it/s, loss=1.14]\n"
     ]
    },
    {
     "name": "stdout",
     "output_type": "stream",
     "text": [
      "Epoch [698/3000]: Train loss: 1.2256, Valid loss: 1.2440\n"
     ]
    },
    {
     "name": "stderr",
     "output_type": "stream",
     "text": [
      "Epoch [699/3000]: 100%|██████████| 9/9 [00:00<00:00, 153.52it/s, loss=1.4]\n"
     ]
    },
    {
     "name": "stdout",
     "output_type": "stream",
     "text": [
      "Epoch [699/3000]: Train loss: 1.2318, Valid loss: 1.2245\n"
     ]
    },
    {
     "name": "stderr",
     "output_type": "stream",
     "text": [
      "Epoch [700/3000]: 100%|██████████| 9/9 [00:00<00:00, 139.25it/s, loss=0.958]\n"
     ]
    },
    {
     "name": "stdout",
     "output_type": "stream",
     "text": [
      "Epoch [700/3000]: Train loss: 1.2072, Valid loss: 1.2089\n"
     ]
    },
    {
     "name": "stderr",
     "output_type": "stream",
     "text": [
      "Epoch [701/3000]: 100%|██████████| 9/9 [00:00<00:00, 119.53it/s, loss=1.18]\n"
     ]
    },
    {
     "name": "stdout",
     "output_type": "stream",
     "text": [
      "Epoch [701/3000]: Train loss: 1.2217, Valid loss: 1.2838\n"
     ]
    },
    {
     "name": "stderr",
     "output_type": "stream",
     "text": [
      "Epoch [702/3000]: 100%|██████████| 9/9 [00:00<00:00, 125.95it/s, loss=1.6]\n"
     ]
    },
    {
     "name": "stdout",
     "output_type": "stream",
     "text": [
      "Epoch [702/3000]: Train loss: 1.2499, Valid loss: 1.2867\n"
     ]
    },
    {
     "name": "stderr",
     "output_type": "stream",
     "text": [
      "Epoch [703/3000]: 100%|██████████| 9/9 [00:00<00:00, 133.71it/s, loss=1.31]\n"
     ]
    },
    {
     "name": "stdout",
     "output_type": "stream",
     "text": [
      "Epoch [703/3000]: Train loss: 1.2476, Valid loss: 1.3963\n"
     ]
    },
    {
     "name": "stderr",
     "output_type": "stream",
     "text": [
      "Epoch [704/3000]: 100%|██████████| 9/9 [00:00<00:00, 129.80it/s, loss=1.5]\n"
     ]
    },
    {
     "name": "stdout",
     "output_type": "stream",
     "text": [
      "Epoch [704/3000]: Train loss: 1.2442, Valid loss: 1.3198\n"
     ]
    },
    {
     "name": "stderr",
     "output_type": "stream",
     "text": [
      "Epoch [705/3000]: 100%|██████████| 9/9 [00:00<00:00, 125.94it/s, loss=0.959]\n"
     ]
    },
    {
     "name": "stdout",
     "output_type": "stream",
     "text": [
      "Epoch [705/3000]: Train loss: 1.2223, Valid loss: 1.3721\n"
     ]
    },
    {
     "name": "stderr",
     "output_type": "stream",
     "text": [
      "Epoch [706/3000]: 100%|██████████| 9/9 [00:00<00:00, 131.41it/s, loss=1.24]\n"
     ]
    },
    {
     "name": "stdout",
     "output_type": "stream",
     "text": [
      "Epoch [706/3000]: Train loss: 1.2472, Valid loss: 1.5045\n"
     ]
    },
    {
     "name": "stderr",
     "output_type": "stream",
     "text": [
      "Epoch [707/3000]: 100%|██████████| 9/9 [00:00<00:00, 152.45it/s, loss=0.795]\n"
     ]
    },
    {
     "name": "stdout",
     "output_type": "stream",
     "text": [
      "Epoch [707/3000]: Train loss: 1.2305, Valid loss: 1.3412\n"
     ]
    },
    {
     "name": "stderr",
     "output_type": "stream",
     "text": [
      "Epoch [708/3000]: 100%|██████████| 9/9 [00:00<00:00, 119.84it/s, loss=0.775]\n"
     ]
    },
    {
     "name": "stdout",
     "output_type": "stream",
     "text": [
      "Epoch [708/3000]: Train loss: 1.2268, Valid loss: 1.3752\n"
     ]
    },
    {
     "name": "stderr",
     "output_type": "stream",
     "text": [
      "Epoch [709/3000]: 100%|██████████| 9/9 [00:00<00:00, 128.72it/s, loss=1.02]\n"
     ]
    },
    {
     "name": "stdout",
     "output_type": "stream",
     "text": [
      "Epoch [709/3000]: Train loss: 1.2547, Valid loss: 1.2301\n"
     ]
    },
    {
     "name": "stderr",
     "output_type": "stream",
     "text": [
      "Epoch [710/3000]: 100%|██████████| 9/9 [00:00<00:00, 146.64it/s, loss=1.24]\n"
     ]
    },
    {
     "name": "stdout",
     "output_type": "stream",
     "text": [
      "Epoch [710/3000]: Train loss: 1.2300, Valid loss: 1.4888\n"
     ]
    },
    {
     "name": "stderr",
     "output_type": "stream",
     "text": [
      "Epoch [711/3000]: 100%|██████████| 9/9 [00:00<00:00, 147.57it/s, loss=0.92]\n"
     ]
    },
    {
     "name": "stdout",
     "output_type": "stream",
     "text": [
      "Epoch [711/3000]: Train loss: 1.2172, Valid loss: 1.3583\n"
     ]
    },
    {
     "name": "stderr",
     "output_type": "stream",
     "text": [
      "Epoch [712/3000]: 100%|██████████| 9/9 [00:00<00:00, 148.87it/s, loss=1.28]\n"
     ]
    },
    {
     "name": "stdout",
     "output_type": "stream",
     "text": [
      "Epoch [712/3000]: Train loss: 1.2510, Valid loss: 1.4656\n"
     ]
    },
    {
     "name": "stderr",
     "output_type": "stream",
     "text": [
      "Epoch [713/3000]: 100%|██████████| 9/9 [00:00<00:00, 154.96it/s, loss=0.876]\n"
     ]
    },
    {
     "name": "stdout",
     "output_type": "stream",
     "text": [
      "Epoch [713/3000]: Train loss: 1.2425, Valid loss: 1.5778\n"
     ]
    },
    {
     "name": "stderr",
     "output_type": "stream",
     "text": [
      "Epoch [714/3000]: 100%|██████████| 9/9 [00:00<00:00, 146.60it/s, loss=1.36]\n"
     ]
    },
    {
     "name": "stdout",
     "output_type": "stream",
     "text": [
      "Epoch [714/3000]: Train loss: 1.2495, Valid loss: 1.4390\n"
     ]
    },
    {
     "name": "stderr",
     "output_type": "stream",
     "text": [
      "Epoch [715/3000]: 100%|██████████| 9/9 [00:00<00:00, 150.92it/s, loss=1]\n"
     ]
    },
    {
     "name": "stdout",
     "output_type": "stream",
     "text": [
      "Epoch [715/3000]: Train loss: 1.2277, Valid loss: 1.2250\n"
     ]
    },
    {
     "name": "stderr",
     "output_type": "stream",
     "text": [
      "Epoch [716/3000]: 100%|██████████| 9/9 [00:00<00:00, 151.73it/s, loss=1.39]\n"
     ]
    },
    {
     "name": "stdout",
     "output_type": "stream",
     "text": [
      "Epoch [716/3000]: Train loss: 1.2329, Valid loss: 1.5303\n"
     ]
    },
    {
     "name": "stderr",
     "output_type": "stream",
     "text": [
      "Epoch [717/3000]: 100%|██████████| 9/9 [00:00<00:00, 156.36it/s, loss=1.08]\n"
     ]
    },
    {
     "name": "stdout",
     "output_type": "stream",
     "text": [
      "Epoch [717/3000]: Train loss: 1.2217, Valid loss: 1.1957\n"
     ]
    },
    {
     "name": "stderr",
     "output_type": "stream",
     "text": [
      "Epoch [718/3000]: 100%|██████████| 9/9 [00:00<00:00, 144.86it/s, loss=1.25]\n"
     ]
    },
    {
     "name": "stdout",
     "output_type": "stream",
     "text": [
      "Epoch [718/3000]: Train loss: 1.2426, Valid loss: 1.2311\n"
     ]
    },
    {
     "name": "stderr",
     "output_type": "stream",
     "text": [
      "Epoch [719/3000]: 100%|██████████| 9/9 [00:00<00:00, 68.17it/s, loss=1.25] \n"
     ]
    },
    {
     "name": "stdout",
     "output_type": "stream",
     "text": [
      "Epoch [719/3000]: Train loss: 1.2217, Valid loss: 1.6740\n"
     ]
    },
    {
     "name": "stderr",
     "output_type": "stream",
     "text": [
      "Epoch [720/3000]: 100%|██████████| 9/9 [00:00<00:00, 137.58it/s, loss=1.38]\n"
     ]
    },
    {
     "name": "stdout",
     "output_type": "stream",
     "text": [
      "Epoch [720/3000]: Train loss: 1.2351, Valid loss: 1.2712\n"
     ]
    },
    {
     "name": "stderr",
     "output_type": "stream",
     "text": [
      "Epoch [721/3000]: 100%|██████████| 9/9 [00:00<00:00, 132.63it/s, loss=1.55]\n"
     ]
    },
    {
     "name": "stdout",
     "output_type": "stream",
     "text": [
      "Epoch [721/3000]: Train loss: 1.2431, Valid loss: 1.4101\n"
     ]
    },
    {
     "name": "stderr",
     "output_type": "stream",
     "text": [
      "Epoch [722/3000]: 100%|██████████| 9/9 [00:00<00:00, 124.39it/s, loss=1.02]\n"
     ]
    },
    {
     "name": "stdout",
     "output_type": "stream",
     "text": [
      "Epoch [722/3000]: Train loss: 1.2039, Valid loss: 1.3036\n"
     ]
    },
    {
     "name": "stderr",
     "output_type": "stream",
     "text": [
      "Epoch [723/3000]: 100%|██████████| 9/9 [00:00<00:00, 128.49it/s, loss=1.1]\n"
     ]
    },
    {
     "name": "stdout",
     "output_type": "stream",
     "text": [
      "Epoch [723/3000]: Train loss: 1.2076, Valid loss: 1.4182\n"
     ]
    },
    {
     "name": "stderr",
     "output_type": "stream",
     "text": [
      "Epoch [724/3000]: 100%|██████████| 9/9 [00:00<00:00, 123.74it/s, loss=1.53]\n"
     ]
    },
    {
     "name": "stdout",
     "output_type": "stream",
     "text": [
      "Epoch [724/3000]: Train loss: 1.2388, Valid loss: 1.2886\n"
     ]
    },
    {
     "name": "stderr",
     "output_type": "stream",
     "text": [
      "Epoch [725/3000]: 100%|██████████| 9/9 [00:00<00:00, 135.71it/s, loss=1.57]\n"
     ]
    },
    {
     "name": "stdout",
     "output_type": "stream",
     "text": [
      "Epoch [725/3000]: Train loss: 1.2369, Valid loss: 1.4531\n"
     ]
    },
    {
     "name": "stderr",
     "output_type": "stream",
     "text": [
      "Epoch [726/3000]: 100%|██████████| 9/9 [00:00<00:00, 133.70it/s, loss=1.63]\n"
     ]
    },
    {
     "name": "stdout",
     "output_type": "stream",
     "text": [
      "Epoch [726/3000]: Train loss: 1.2422, Valid loss: 1.5121\n"
     ]
    },
    {
     "name": "stderr",
     "output_type": "stream",
     "text": [
      "Epoch [727/3000]: 100%|██████████| 9/9 [00:00<00:00, 126.46it/s, loss=1.06]\n"
     ]
    },
    {
     "name": "stdout",
     "output_type": "stream",
     "text": [
      "Epoch [727/3000]: Train loss: 1.2031, Valid loss: 1.5090\n"
     ]
    },
    {
     "name": "stderr",
     "output_type": "stream",
     "text": [
      "Epoch [728/3000]: 100%|██████████| 9/9 [00:00<00:00, 133.58it/s, loss=1.43]\n"
     ]
    },
    {
     "name": "stdout",
     "output_type": "stream",
     "text": [
      "Epoch [728/3000]: Train loss: 1.2279, Valid loss: 1.2560\n"
     ]
    },
    {
     "name": "stderr",
     "output_type": "stream",
     "text": [
      "Epoch [729/3000]: 100%|██████████| 9/9 [00:00<00:00, 144.87it/s, loss=1.1]\n"
     ]
    },
    {
     "name": "stdout",
     "output_type": "stream",
     "text": [
      "Epoch [729/3000]: Train loss: 1.2069, Valid loss: 1.2947\n"
     ]
    },
    {
     "name": "stderr",
     "output_type": "stream",
     "text": [
      "Epoch [730/3000]: 100%|██████████| 9/9 [00:00<00:00, 126.00it/s, loss=1.4]\n"
     ]
    },
    {
     "name": "stdout",
     "output_type": "stream",
     "text": [
      "Epoch [730/3000]: Train loss: 1.2288, Valid loss: 1.4610\n"
     ]
    },
    {
     "name": "stderr",
     "output_type": "stream",
     "text": [
      "Epoch [731/3000]: 100%|██████████| 9/9 [00:00<00:00, 125.24it/s, loss=1.02]\n"
     ]
    },
    {
     "name": "stdout",
     "output_type": "stream",
     "text": [
      "Epoch [731/3000]: Train loss: 1.2095, Valid loss: 1.3788\n"
     ]
    },
    {
     "name": "stderr",
     "output_type": "stream",
     "text": [
      "Epoch [732/3000]: 100%|██████████| 9/9 [00:00<00:00, 140.70it/s, loss=1.58]\n"
     ]
    },
    {
     "name": "stdout",
     "output_type": "stream",
     "text": [
      "Epoch [732/3000]: Train loss: 1.2352, Valid loss: 1.2771\n"
     ]
    },
    {
     "name": "stderr",
     "output_type": "stream",
     "text": [
      "Epoch [733/3000]: 100%|██████████| 9/9 [00:00<00:00, 117.87it/s, loss=1.49]\n"
     ]
    },
    {
     "name": "stdout",
     "output_type": "stream",
     "text": [
      "Epoch [733/3000]: Train loss: 1.2444, Valid loss: 1.7075\n"
     ]
    },
    {
     "name": "stderr",
     "output_type": "stream",
     "text": [
      "Epoch [734/3000]: 100%|██████████| 9/9 [00:00<00:00, 129.75it/s, loss=1.17]\n"
     ]
    },
    {
     "name": "stdout",
     "output_type": "stream",
     "text": [
      "Epoch [734/3000]: Train loss: 1.2186, Valid loss: 1.3762\n"
     ]
    },
    {
     "name": "stderr",
     "output_type": "stream",
     "text": [
      "Epoch [735/3000]: 100%|██████████| 9/9 [00:00<00:00, 135.10it/s, loss=0.974]\n"
     ]
    },
    {
     "name": "stdout",
     "output_type": "stream",
     "text": [
      "Epoch [735/3000]: Train loss: 1.2006, Valid loss: 1.4628\n"
     ]
    },
    {
     "name": "stderr",
     "output_type": "stream",
     "text": [
      "Epoch [736/3000]: 100%|██████████| 9/9 [00:00<00:00, 118.46it/s, loss=1.64]\n"
     ]
    },
    {
     "name": "stdout",
     "output_type": "stream",
     "text": [
      "Epoch [736/3000]: Train loss: 1.2501, Valid loss: 1.1793\n"
     ]
    },
    {
     "name": "stderr",
     "output_type": "stream",
     "text": [
      "Epoch [737/3000]: 100%|██████████| 9/9 [00:00<00:00, 133.30it/s, loss=1.06]\n"
     ]
    },
    {
     "name": "stdout",
     "output_type": "stream",
     "text": [
      "Epoch [737/3000]: Train loss: 1.2386, Valid loss: 1.4091\n"
     ]
    },
    {
     "name": "stderr",
     "output_type": "stream",
     "text": [
      "Epoch [738/3000]: 100%|██████████| 9/9 [00:00<00:00, 141.24it/s, loss=1.11]\n"
     ]
    },
    {
     "name": "stdout",
     "output_type": "stream",
     "text": [
      "Epoch [738/3000]: Train loss: 1.2269, Valid loss: 1.5779\n"
     ]
    },
    {
     "name": "stderr",
     "output_type": "stream",
     "text": [
      "Epoch [739/3000]: 100%|██████████| 9/9 [00:00<00:00, 135.33it/s, loss=1.33]\n"
     ]
    },
    {
     "name": "stdout",
     "output_type": "stream",
     "text": [
      "Epoch [739/3000]: Train loss: 1.2399, Valid loss: 1.5109\n"
     ]
    },
    {
     "name": "stderr",
     "output_type": "stream",
     "text": [
      "Epoch [740/3000]: 100%|██████████| 9/9 [00:00<00:00, 152.46it/s, loss=1.47]\n"
     ]
    },
    {
     "name": "stdout",
     "output_type": "stream",
     "text": [
      "Epoch [740/3000]: Train loss: 1.2297, Valid loss: 1.2261\n"
     ]
    },
    {
     "name": "stderr",
     "output_type": "stream",
     "text": [
      "Epoch [741/3000]: 100%|██████████| 9/9 [00:00<00:00, 136.45it/s, loss=1.48]\n"
     ]
    },
    {
     "name": "stdout",
     "output_type": "stream",
     "text": [
      "Epoch [741/3000]: Train loss: 1.2293, Valid loss: 1.4571\n"
     ]
    },
    {
     "name": "stderr",
     "output_type": "stream",
     "text": [
      "Epoch [742/3000]: 100%|██████████| 9/9 [00:00<00:00, 141.06it/s, loss=1.52]\n"
     ]
    },
    {
     "name": "stdout",
     "output_type": "stream",
     "text": [
      "Epoch [742/3000]: Train loss: 1.2409, Valid loss: 1.4305\n"
     ]
    },
    {
     "name": "stderr",
     "output_type": "stream",
     "text": [
      "Epoch [743/3000]: 100%|██████████| 9/9 [00:00<00:00, 148.37it/s, loss=1.11]\n"
     ]
    },
    {
     "name": "stdout",
     "output_type": "stream",
     "text": [
      "Epoch [743/3000]: Train loss: 1.2292, Valid loss: 1.5170\n"
     ]
    },
    {
     "name": "stderr",
     "output_type": "stream",
     "text": [
      "Epoch [744/3000]: 100%|██████████| 9/9 [00:00<00:00, 145.90it/s, loss=0.965]\n"
     ]
    },
    {
     "name": "stdout",
     "output_type": "stream",
     "text": [
      "Epoch [744/3000]: Train loss: 1.1961, Valid loss: 1.5309\n"
     ]
    },
    {
     "name": "stderr",
     "output_type": "stream",
     "text": [
      "Epoch [745/3000]: 100%|██████████| 9/9 [00:00<00:00, 145.07it/s, loss=1.22]\n"
     ]
    },
    {
     "name": "stdout",
     "output_type": "stream",
     "text": [
      "Epoch [745/3000]: Train loss: 1.2115, Valid loss: 1.3677\n"
     ]
    },
    {
     "name": "stderr",
     "output_type": "stream",
     "text": [
      "Epoch [746/3000]: 100%|██████████| 9/9 [00:00<00:00, 141.74it/s, loss=1.32]\n"
     ]
    },
    {
     "name": "stdout",
     "output_type": "stream",
     "text": [
      "Epoch [746/3000]: Train loss: 1.2228, Valid loss: 1.8462\n"
     ]
    },
    {
     "name": "stderr",
     "output_type": "stream",
     "text": [
      "Epoch [747/3000]: 100%|██████████| 9/9 [00:00<00:00, 117.60it/s, loss=1.49]\n"
     ]
    },
    {
     "name": "stdout",
     "output_type": "stream",
     "text": [
      "Epoch [747/3000]: Train loss: 1.2822, Valid loss: 1.4183\n"
     ]
    },
    {
     "name": "stderr",
     "output_type": "stream",
     "text": [
      "Epoch [748/3000]: 100%|██████████| 9/9 [00:00<00:00, 126.08it/s, loss=1.05]\n"
     ]
    },
    {
     "name": "stdout",
     "output_type": "stream",
     "text": [
      "Epoch [748/3000]: Train loss: 1.2341, Valid loss: 1.3472\n"
     ]
    },
    {
     "name": "stderr",
     "output_type": "stream",
     "text": [
      "Epoch [749/3000]: 100%|██████████| 9/9 [00:00<00:00, 126.35it/s, loss=1.87]\n"
     ]
    },
    {
     "name": "stdout",
     "output_type": "stream",
     "text": [
      "Epoch [749/3000]: Train loss: 1.2516, Valid loss: 1.4246\n"
     ]
    },
    {
     "name": "stderr",
     "output_type": "stream",
     "text": [
      "Epoch [750/3000]: 100%|██████████| 9/9 [00:00<00:00, 111.61it/s, loss=1.14]\n"
     ]
    },
    {
     "name": "stdout",
     "output_type": "stream",
     "text": [
      "Epoch [750/3000]: Train loss: 1.2154, Valid loss: 1.4458\n"
     ]
    },
    {
     "name": "stderr",
     "output_type": "stream",
     "text": [
      "Epoch [751/3000]: 100%|██████████| 9/9 [00:00<00:00, 113.42it/s, loss=1.19]\n"
     ]
    },
    {
     "name": "stdout",
     "output_type": "stream",
     "text": [
      "Epoch [751/3000]: Train loss: 1.2343, Valid loss: 2.4926\n"
     ]
    },
    {
     "name": "stderr",
     "output_type": "stream",
     "text": [
      "Epoch [752/3000]: 100%|██████████| 9/9 [00:00<00:00, 109.13it/s, loss=1.14]\n"
     ]
    },
    {
     "name": "stdout",
     "output_type": "stream",
     "text": [
      "Epoch [752/3000]: Train loss: 1.2327, Valid loss: 1.3156\n"
     ]
    },
    {
     "name": "stderr",
     "output_type": "stream",
     "text": [
      "Epoch [753/3000]: 100%|██████████| 9/9 [00:00<00:00, 119.96it/s, loss=1.29]\n"
     ]
    },
    {
     "name": "stdout",
     "output_type": "stream",
     "text": [
      "Epoch [753/3000]: Train loss: 1.2512, Valid loss: 1.3870\n"
     ]
    },
    {
     "name": "stderr",
     "output_type": "stream",
     "text": [
      "Epoch [754/3000]: 100%|██████████| 9/9 [00:00<00:00, 131.35it/s, loss=1.14]\n"
     ]
    },
    {
     "name": "stdout",
     "output_type": "stream",
     "text": [
      "Epoch [754/3000]: Train loss: 1.2256, Valid loss: 1.2609\n"
     ]
    },
    {
     "name": "stderr",
     "output_type": "stream",
     "text": [
      "Epoch [755/3000]: 100%|██████████| 9/9 [00:00<00:00, 144.52it/s, loss=1.84]\n"
     ]
    },
    {
     "name": "stdout",
     "output_type": "stream",
     "text": [
      "Epoch [755/3000]: Train loss: 1.2668, Valid loss: 1.5667\n"
     ]
    },
    {
     "name": "stderr",
     "output_type": "stream",
     "text": [
      "Epoch [756/3000]: 100%|██████████| 9/9 [00:00<00:00, 143.14it/s, loss=1.29]\n"
     ]
    },
    {
     "name": "stdout",
     "output_type": "stream",
     "text": [
      "Epoch [756/3000]: Train loss: 1.2159, Valid loss: 1.6790\n"
     ]
    },
    {
     "name": "stderr",
     "output_type": "stream",
     "text": [
      "Epoch [757/3000]: 100%|██████████| 9/9 [00:00<00:00, 153.09it/s, loss=0.806]\n"
     ]
    },
    {
     "name": "stdout",
     "output_type": "stream",
     "text": [
      "Epoch [757/3000]: Train loss: 1.1871, Valid loss: 1.2181\n"
     ]
    },
    {
     "name": "stderr",
     "output_type": "stream",
     "text": [
      "Epoch [758/3000]: 100%|██████████| 9/9 [00:00<00:00, 132.04it/s, loss=1.32]\n"
     ]
    },
    {
     "name": "stdout",
     "output_type": "stream",
     "text": [
      "Epoch [758/3000]: Train loss: 1.2236, Valid loss: 1.5273\n"
     ]
    },
    {
     "name": "stderr",
     "output_type": "stream",
     "text": [
      "Epoch [759/3000]: 100%|██████████| 9/9 [00:00<00:00, 160.95it/s, loss=1.34]\n"
     ]
    },
    {
     "name": "stdout",
     "output_type": "stream",
     "text": [
      "Epoch [759/3000]: Train loss: 1.2433, Valid loss: 1.3886\n"
     ]
    },
    {
     "name": "stderr",
     "output_type": "stream",
     "text": [
      "Epoch [760/3000]: 100%|██████████| 9/9 [00:00<00:00, 146.80it/s, loss=1.34]\n"
     ]
    },
    {
     "name": "stdout",
     "output_type": "stream",
     "text": [
      "Epoch [760/3000]: Train loss: 1.2121, Valid loss: 1.3551\n"
     ]
    },
    {
     "name": "stderr",
     "output_type": "stream",
     "text": [
      "Epoch [761/3000]: 100%|██████████| 9/9 [00:00<00:00, 133.79it/s, loss=1.53]\n"
     ]
    },
    {
     "name": "stdout",
     "output_type": "stream",
     "text": [
      "Epoch [761/3000]: Train loss: 1.2515, Valid loss: 1.3722\n"
     ]
    },
    {
     "name": "stderr",
     "output_type": "stream",
     "text": [
      "Epoch [762/3000]: 100%|██████████| 9/9 [00:00<00:00, 143.45it/s, loss=1.01]\n"
     ]
    },
    {
     "name": "stdout",
     "output_type": "stream",
     "text": [
      "Epoch [762/3000]: Train loss: 1.2247, Valid loss: 1.3099\n"
     ]
    },
    {
     "name": "stderr",
     "output_type": "stream",
     "text": [
      "Epoch [763/3000]: 100%|██████████| 9/9 [00:00<00:00, 140.05it/s, loss=1.01]\n"
     ]
    },
    {
     "name": "stdout",
     "output_type": "stream",
     "text": [
      "Epoch [763/3000]: Train loss: 1.2159, Valid loss: 1.3405\n"
     ]
    },
    {
     "name": "stderr",
     "output_type": "stream",
     "text": [
      "Epoch [764/3000]: 100%|██████████| 9/9 [00:00<00:00, 134.55it/s, loss=1.2]\n"
     ]
    },
    {
     "name": "stdout",
     "output_type": "stream",
     "text": [
      "Epoch [764/3000]: Train loss: 1.2139, Valid loss: 1.1966\n"
     ]
    },
    {
     "name": "stderr",
     "output_type": "stream",
     "text": [
      "Epoch [765/3000]: 100%|██████████| 9/9 [00:00<00:00, 138.37it/s, loss=1.1]\n"
     ]
    },
    {
     "name": "stdout",
     "output_type": "stream",
     "text": [
      "Epoch [765/3000]: Train loss: 1.2053, Valid loss: 1.2003\n"
     ]
    },
    {
     "name": "stderr",
     "output_type": "stream",
     "text": [
      "Epoch [766/3000]: 100%|██████████| 9/9 [00:00<00:00, 135.96it/s, loss=1.06]\n"
     ]
    },
    {
     "name": "stdout",
     "output_type": "stream",
     "text": [
      "Epoch [766/3000]: Train loss: 1.2028, Valid loss: 1.3167\n"
     ]
    },
    {
     "name": "stderr",
     "output_type": "stream",
     "text": [
      "Epoch [767/3000]: 100%|██████████| 9/9 [00:00<00:00, 132.31it/s, loss=1.36]\n"
     ]
    },
    {
     "name": "stdout",
     "output_type": "stream",
     "text": [
      "Epoch [767/3000]: Train loss: 1.2207, Valid loss: 1.5037\n"
     ]
    },
    {
     "name": "stderr",
     "output_type": "stream",
     "text": [
      "Epoch [768/3000]: 100%|██████████| 9/9 [00:00<00:00, 143.92it/s, loss=1.06]\n"
     ]
    },
    {
     "name": "stdout",
     "output_type": "stream",
     "text": [
      "Epoch [768/3000]: Train loss: 1.2038, Valid loss: 1.1416\n",
      "Saving model with loss 1.142...\n"
     ]
    },
    {
     "name": "stderr",
     "output_type": "stream",
     "text": [
      "Epoch [769/3000]: 100%|██████████| 9/9 [00:00<00:00, 135.08it/s, loss=0.978]\n"
     ]
    },
    {
     "name": "stdout",
     "output_type": "stream",
     "text": [
      "Epoch [769/3000]: Train loss: 1.1966, Valid loss: 1.4347\n"
     ]
    },
    {
     "name": "stderr",
     "output_type": "stream",
     "text": [
      "Epoch [770/3000]: 100%|██████████| 9/9 [00:00<00:00, 121.80it/s, loss=1.72]\n"
     ]
    },
    {
     "name": "stdout",
     "output_type": "stream",
     "text": [
      "Epoch [770/3000]: Train loss: 1.2470, Valid loss: 1.4165\n"
     ]
    },
    {
     "name": "stderr",
     "output_type": "stream",
     "text": [
      "Epoch [771/3000]: 100%|██████████| 9/9 [00:00<00:00, 138.76it/s, loss=1.66]\n"
     ]
    },
    {
     "name": "stdout",
     "output_type": "stream",
     "text": [
      "Epoch [771/3000]: Train loss: 1.2363, Valid loss: 1.2114\n"
     ]
    },
    {
     "name": "stderr",
     "output_type": "stream",
     "text": [
      "Epoch [772/3000]: 100%|██████████| 9/9 [00:00<00:00, 127.81it/s, loss=1.08]\n"
     ]
    },
    {
     "name": "stdout",
     "output_type": "stream",
     "text": [
      "Epoch [772/3000]: Train loss: 1.1939, Valid loss: 1.7019\n"
     ]
    },
    {
     "name": "stderr",
     "output_type": "stream",
     "text": [
      "Epoch [773/3000]: 100%|██████████| 9/9 [00:00<00:00, 118.89it/s, loss=1.1]\n"
     ]
    },
    {
     "name": "stdout",
     "output_type": "stream",
     "text": [
      "Epoch [773/3000]: Train loss: 1.1999, Valid loss: 1.4003\n"
     ]
    },
    {
     "name": "stderr",
     "output_type": "stream",
     "text": [
      "Epoch [774/3000]: 100%|██████████| 9/9 [00:00<00:00, 125.64it/s, loss=1.36]\n"
     ]
    },
    {
     "name": "stdout",
     "output_type": "stream",
     "text": [
      "Epoch [774/3000]: Train loss: 1.2285, Valid loss: 1.3339\n"
     ]
    },
    {
     "name": "stderr",
     "output_type": "stream",
     "text": [
      "Epoch [775/3000]: 100%|██████████| 9/9 [00:00<00:00, 133.24it/s, loss=1.04]\n"
     ]
    },
    {
     "name": "stdout",
     "output_type": "stream",
     "text": [
      "Epoch [775/3000]: Train loss: 1.2077, Valid loss: 1.6609\n"
     ]
    },
    {
     "name": "stderr",
     "output_type": "stream",
     "text": [
      "Epoch [776/3000]: 100%|██████████| 9/9 [00:00<00:00, 150.23it/s, loss=1.07]\n"
     ]
    },
    {
     "name": "stdout",
     "output_type": "stream",
     "text": [
      "Epoch [776/3000]: Train loss: 1.2069, Valid loss: 1.7116\n"
     ]
    },
    {
     "name": "stderr",
     "output_type": "stream",
     "text": [
      "Epoch [777/3000]: 100%|██████████| 9/9 [00:00<00:00, 147.75it/s, loss=1.41]\n"
     ]
    },
    {
     "name": "stdout",
     "output_type": "stream",
     "text": [
      "Epoch [777/3000]: Train loss: 1.2199, Valid loss: 1.2698\n"
     ]
    },
    {
     "name": "stderr",
     "output_type": "stream",
     "text": [
      "Epoch [778/3000]: 100%|██████████| 9/9 [00:00<00:00, 151.16it/s, loss=1.1]\n"
     ]
    },
    {
     "name": "stdout",
     "output_type": "stream",
     "text": [
      "Epoch [778/3000]: Train loss: 1.2132, Valid loss: 1.3598\n"
     ]
    },
    {
     "name": "stderr",
     "output_type": "stream",
     "text": [
      "Epoch [779/3000]: 100%|██████████| 9/9 [00:00<00:00, 154.26it/s, loss=0.812]\n"
     ]
    },
    {
     "name": "stdout",
     "output_type": "stream",
     "text": [
      "Epoch [779/3000]: Train loss: 1.1777, Valid loss: 1.3343\n"
     ]
    },
    {
     "name": "stderr",
     "output_type": "stream",
     "text": [
      "Epoch [780/3000]: 100%|██████████| 9/9 [00:00<00:00, 140.33it/s, loss=1.06]\n"
     ]
    },
    {
     "name": "stdout",
     "output_type": "stream",
     "text": [
      "Epoch [780/3000]: Train loss: 1.1920, Valid loss: 1.3924\n"
     ]
    },
    {
     "name": "stderr",
     "output_type": "stream",
     "text": [
      "Epoch [781/3000]: 100%|██████████| 9/9 [00:00<00:00, 148.75it/s, loss=1.2]\n"
     ]
    },
    {
     "name": "stdout",
     "output_type": "stream",
     "text": [
      "Epoch [781/3000]: Train loss: 1.2024, Valid loss: 1.4316\n"
     ]
    },
    {
     "name": "stderr",
     "output_type": "stream",
     "text": [
      "Epoch [782/3000]: 100%|██████████| 9/9 [00:00<00:00, 142.83it/s, loss=0.935]\n"
     ]
    },
    {
     "name": "stdout",
     "output_type": "stream",
     "text": [
      "Epoch [782/3000]: Train loss: 1.1863, Valid loss: 1.6891\n"
     ]
    },
    {
     "name": "stderr",
     "output_type": "stream",
     "text": [
      "Epoch [783/3000]: 100%|██████████| 9/9 [00:00<00:00, 145.11it/s, loss=1.04]\n"
     ]
    },
    {
     "name": "stdout",
     "output_type": "stream",
     "text": [
      "Epoch [783/3000]: Train loss: 1.1858, Valid loss: 1.4263\n"
     ]
    },
    {
     "name": "stderr",
     "output_type": "stream",
     "text": [
      "Epoch [784/3000]: 100%|██████████| 9/9 [00:00<00:00, 146.00it/s, loss=1.35]\n"
     ]
    },
    {
     "name": "stdout",
     "output_type": "stream",
     "text": [
      "Epoch [784/3000]: Train loss: 1.2135, Valid loss: 1.4752\n"
     ]
    },
    {
     "name": "stderr",
     "output_type": "stream",
     "text": [
      "Epoch [785/3000]: 100%|██████████| 9/9 [00:00<00:00, 150.37it/s, loss=1.66]\n"
     ]
    },
    {
     "name": "stdout",
     "output_type": "stream",
     "text": [
      "Epoch [785/3000]: Train loss: 1.2340, Valid loss: 1.1937\n"
     ]
    },
    {
     "name": "stderr",
     "output_type": "stream",
     "text": [
      "Epoch [786/3000]: 100%|██████████| 9/9 [00:00<00:00, 143.69it/s, loss=1.84]\n"
     ]
    },
    {
     "name": "stdout",
     "output_type": "stream",
     "text": [
      "Epoch [786/3000]: Train loss: 1.2612, Valid loss: 1.2048\n"
     ]
    },
    {
     "name": "stderr",
     "output_type": "stream",
     "text": [
      "Epoch [787/3000]: 100%|██████████| 9/9 [00:00<00:00, 128.43it/s, loss=1.13]\n"
     ]
    },
    {
     "name": "stdout",
     "output_type": "stream",
     "text": [
      "Epoch [787/3000]: Train loss: 1.2139, Valid loss: 1.5548\n"
     ]
    },
    {
     "name": "stderr",
     "output_type": "stream",
     "text": [
      "Epoch [788/3000]: 100%|██████████| 9/9 [00:00<00:00, 153.76it/s, loss=1.12]\n"
     ]
    },
    {
     "name": "stdout",
     "output_type": "stream",
     "text": [
      "Epoch [788/3000]: Train loss: 1.2483, Valid loss: 1.2825\n"
     ]
    },
    {
     "name": "stderr",
     "output_type": "stream",
     "text": [
      "Epoch [789/3000]: 100%|██████████| 9/9 [00:00<00:00, 139.22it/s, loss=1.33]\n"
     ]
    },
    {
     "name": "stdout",
     "output_type": "stream",
     "text": [
      "Epoch [789/3000]: Train loss: 1.2556, Valid loss: 1.2596\n"
     ]
    },
    {
     "name": "stderr",
     "output_type": "stream",
     "text": [
      "Epoch [790/3000]: 100%|██████████| 9/9 [00:00<00:00, 138.44it/s, loss=1.38]\n"
     ]
    },
    {
     "name": "stdout",
     "output_type": "stream",
     "text": [
      "Epoch [790/3000]: Train loss: 1.2406, Valid loss: 1.4359\n"
     ]
    },
    {
     "name": "stderr",
     "output_type": "stream",
     "text": [
      "Epoch [791/3000]: 100%|██████████| 9/9 [00:00<00:00, 140.75it/s, loss=1.11]\n"
     ]
    },
    {
     "name": "stdout",
     "output_type": "stream",
     "text": [
      "Epoch [791/3000]: Train loss: 1.2327, Valid loss: 1.4853\n"
     ]
    },
    {
     "name": "stderr",
     "output_type": "stream",
     "text": [
      "Epoch [792/3000]: 100%|██████████| 9/9 [00:00<00:00, 130.06it/s, loss=1.23]\n"
     ]
    },
    {
     "name": "stdout",
     "output_type": "stream",
     "text": [
      "Epoch [792/3000]: Train loss: 1.2133, Valid loss: 1.4115\n"
     ]
    },
    {
     "name": "stderr",
     "output_type": "stream",
     "text": [
      "Epoch [793/3000]: 100%|██████████| 9/9 [00:00<00:00, 140.54it/s, loss=1.57]\n"
     ]
    },
    {
     "name": "stdout",
     "output_type": "stream",
     "text": [
      "Epoch [793/3000]: Train loss: 1.2271, Valid loss: 1.5033\n"
     ]
    },
    {
     "name": "stderr",
     "output_type": "stream",
     "text": [
      "Epoch [794/3000]: 100%|██████████| 9/9 [00:00<00:00, 116.84it/s, loss=1.35]\n"
     ]
    },
    {
     "name": "stdout",
     "output_type": "stream",
     "text": [
      "Epoch [794/3000]: Train loss: 1.2254, Valid loss: 1.6798\n"
     ]
    },
    {
     "name": "stderr",
     "output_type": "stream",
     "text": [
      "Epoch [795/3000]: 100%|██████████| 9/9 [00:00<00:00, 145.52it/s, loss=1.44]\n"
     ]
    },
    {
     "name": "stdout",
     "output_type": "stream",
     "text": [
      "Epoch [795/3000]: Train loss: 1.2505, Valid loss: 2.3779\n"
     ]
    },
    {
     "name": "stderr",
     "output_type": "stream",
     "text": [
      "Epoch [796/3000]: 100%|██████████| 9/9 [00:00<00:00, 140.68it/s, loss=1.01]\n"
     ]
    },
    {
     "name": "stdout",
     "output_type": "stream",
     "text": [
      "Epoch [796/3000]: Train loss: 1.2201, Valid loss: 1.8494\n"
     ]
    },
    {
     "name": "stderr",
     "output_type": "stream",
     "text": [
      "Epoch [797/3000]: 100%|██████████| 9/9 [00:00<00:00, 129.05it/s, loss=0.939]\n"
     ]
    },
    {
     "name": "stdout",
     "output_type": "stream",
     "text": [
      "Epoch [797/3000]: Train loss: 1.2013, Valid loss: 1.4737\n"
     ]
    },
    {
     "name": "stderr",
     "output_type": "stream",
     "text": [
      "Epoch [798/3000]: 100%|██████████| 9/9 [00:00<00:00, 154.57it/s, loss=1.39]\n"
     ]
    },
    {
     "name": "stdout",
     "output_type": "stream",
     "text": [
      "Epoch [798/3000]: Train loss: 1.2071, Valid loss: 1.2639\n"
     ]
    },
    {
     "name": "stderr",
     "output_type": "stream",
     "text": [
      "Epoch [799/3000]: 100%|██████████| 9/9 [00:00<00:00, 175.75it/s, loss=1.61]\n"
     ]
    },
    {
     "name": "stdout",
     "output_type": "stream",
     "text": [
      "Epoch [799/3000]: Train loss: 1.2334, Valid loss: 1.3943\n"
     ]
    },
    {
     "name": "stderr",
     "output_type": "stream",
     "text": [
      "Epoch [800/3000]: 100%|██████████| 9/9 [00:00<00:00, 114.71it/s, loss=0.912]\n"
     ]
    },
    {
     "name": "stdout",
     "output_type": "stream",
     "text": [
      "Epoch [800/3000]: Train loss: 1.1741, Valid loss: 1.4516\n"
     ]
    },
    {
     "name": "stderr",
     "output_type": "stream",
     "text": [
      "Epoch [801/3000]: 100%|██████████| 9/9 [00:00<00:00, 137.17it/s, loss=1.42]\n"
     ]
    },
    {
     "name": "stdout",
     "output_type": "stream",
     "text": [
      "Epoch [801/3000]: Train loss: 1.2110, Valid loss: 1.4165\n"
     ]
    },
    {
     "name": "stderr",
     "output_type": "stream",
     "text": [
      "Epoch [802/3000]: 100%|██████████| 9/9 [00:00<00:00, 145.62it/s, loss=1.08]\n"
     ]
    },
    {
     "name": "stdout",
     "output_type": "stream",
     "text": [
      "Epoch [802/3000]: Train loss: 1.1968, Valid loss: 1.3665\n"
     ]
    },
    {
     "name": "stderr",
     "output_type": "stream",
     "text": [
      "Epoch [803/3000]: 100%|██████████| 9/9 [00:00<00:00, 169.03it/s, loss=0.736]\n"
     ]
    },
    {
     "name": "stdout",
     "output_type": "stream",
     "text": [
      "Epoch [803/3000]: Train loss: 1.1762, Valid loss: 1.3934\n"
     ]
    },
    {
     "name": "stderr",
     "output_type": "stream",
     "text": [
      "Epoch [804/3000]: 100%|██████████| 9/9 [00:00<00:00, 139.49it/s, loss=1.53]\n"
     ]
    },
    {
     "name": "stdout",
     "output_type": "stream",
     "text": [
      "Epoch [804/3000]: Train loss: 1.2145, Valid loss: 1.4307\n"
     ]
    },
    {
     "name": "stderr",
     "output_type": "stream",
     "text": [
      "Epoch [805/3000]: 100%|██████████| 9/9 [00:00<00:00, 135.73it/s, loss=1.22]\n"
     ]
    },
    {
     "name": "stdout",
     "output_type": "stream",
     "text": [
      "Epoch [805/3000]: Train loss: 1.1992, Valid loss: 1.5418\n"
     ]
    },
    {
     "name": "stderr",
     "output_type": "stream",
     "text": [
      "Epoch [806/3000]: 100%|██████████| 9/9 [00:00<00:00, 129.15it/s, loss=1.13]\n"
     ]
    },
    {
     "name": "stdout",
     "output_type": "stream",
     "text": [
      "Epoch [806/3000]: Train loss: 1.2124, Valid loss: 1.4194\n"
     ]
    },
    {
     "name": "stderr",
     "output_type": "stream",
     "text": [
      "Epoch [807/3000]: 100%|██████████| 9/9 [00:00<00:00, 138.28it/s, loss=1.46]\n"
     ]
    },
    {
     "name": "stdout",
     "output_type": "stream",
     "text": [
      "Epoch [807/3000]: Train loss: 1.2470, Valid loss: 1.2442\n"
     ]
    },
    {
     "name": "stderr",
     "output_type": "stream",
     "text": [
      "Epoch [808/3000]: 100%|██████████| 9/9 [00:00<00:00, 127.23it/s, loss=1.17]\n"
     ]
    },
    {
     "name": "stdout",
     "output_type": "stream",
     "text": [
      "Epoch [808/3000]: Train loss: 1.2335, Valid loss: 1.3076\n"
     ]
    },
    {
     "name": "stderr",
     "output_type": "stream",
     "text": [
      "Epoch [809/3000]: 100%|██████████| 9/9 [00:00<00:00, 134.62it/s, loss=1.07]\n"
     ]
    },
    {
     "name": "stdout",
     "output_type": "stream",
     "text": [
      "Epoch [809/3000]: Train loss: 1.1870, Valid loss: 1.1900\n"
     ]
    },
    {
     "name": "stderr",
     "output_type": "stream",
     "text": [
      "Epoch [810/3000]: 100%|██████████| 9/9 [00:00<00:00, 134.53it/s, loss=0.993]\n"
     ]
    },
    {
     "name": "stdout",
     "output_type": "stream",
     "text": [
      "Epoch [810/3000]: Train loss: 1.1811, Valid loss: 1.5844\n"
     ]
    },
    {
     "name": "stderr",
     "output_type": "stream",
     "text": [
      "Epoch [811/3000]: 100%|██████████| 9/9 [00:00<00:00, 128.07it/s, loss=1.36]\n"
     ]
    },
    {
     "name": "stdout",
     "output_type": "stream",
     "text": [
      "Epoch [811/3000]: Train loss: 1.2048, Valid loss: 1.2048\n"
     ]
    },
    {
     "name": "stderr",
     "output_type": "stream",
     "text": [
      "Epoch [812/3000]: 100%|██████████| 9/9 [00:00<00:00, 121.41it/s, loss=1.01]\n"
     ]
    },
    {
     "name": "stdout",
     "output_type": "stream",
     "text": [
      "Epoch [812/3000]: Train loss: 1.1853, Valid loss: 1.4867\n"
     ]
    },
    {
     "name": "stderr",
     "output_type": "stream",
     "text": [
      "Epoch [813/3000]: 100%|██████████| 9/9 [00:00<00:00, 122.66it/s, loss=1.01]\n"
     ]
    },
    {
     "name": "stdout",
     "output_type": "stream",
     "text": [
      "Epoch [813/3000]: Train loss: 1.1971, Valid loss: 1.3285\n"
     ]
    },
    {
     "name": "stderr",
     "output_type": "stream",
     "text": [
      "Epoch [814/3000]: 100%|██████████| 9/9 [00:00<00:00, 130.93it/s, loss=1.05]\n"
     ]
    },
    {
     "name": "stdout",
     "output_type": "stream",
     "text": [
      "Epoch [814/3000]: Train loss: 1.2055, Valid loss: 1.2097\n"
     ]
    },
    {
     "name": "stderr",
     "output_type": "stream",
     "text": [
      "Epoch [815/3000]: 100%|██████████| 9/9 [00:00<00:00, 130.68it/s, loss=1.52]\n"
     ]
    },
    {
     "name": "stdout",
     "output_type": "stream",
     "text": [
      "Epoch [815/3000]: Train loss: 1.2131, Valid loss: 1.1947\n"
     ]
    },
    {
     "name": "stderr",
     "output_type": "stream",
     "text": [
      "Epoch [816/3000]: 100%|██████████| 9/9 [00:00<00:00, 124.93it/s, loss=1.44]\n"
     ]
    },
    {
     "name": "stdout",
     "output_type": "stream",
     "text": [
      "Epoch [816/3000]: Train loss: 1.2167, Valid loss: 1.3923\n"
     ]
    },
    {
     "name": "stderr",
     "output_type": "stream",
     "text": [
      "Epoch [817/3000]: 100%|██████████| 9/9 [00:00<00:00, 129.45it/s, loss=1.42]\n"
     ]
    },
    {
     "name": "stdout",
     "output_type": "stream",
     "text": [
      "Epoch [817/3000]: Train loss: 1.2064, Valid loss: 1.4617\n"
     ]
    },
    {
     "name": "stderr",
     "output_type": "stream",
     "text": [
      "Epoch [818/3000]: 100%|██████████| 9/9 [00:00<00:00, 153.04it/s, loss=1.09]\n"
     ]
    },
    {
     "name": "stdout",
     "output_type": "stream",
     "text": [
      "Epoch [818/3000]: Train loss: 1.2039, Valid loss: 1.5262\n"
     ]
    },
    {
     "name": "stderr",
     "output_type": "stream",
     "text": [
      "Epoch [819/3000]: 100%|██████████| 9/9 [00:00<00:00, 160.12it/s, loss=1.18]\n"
     ]
    },
    {
     "name": "stdout",
     "output_type": "stream",
     "text": [
      "Epoch [819/3000]: Train loss: 1.1913, Valid loss: 1.2609\n"
     ]
    },
    {
     "name": "stderr",
     "output_type": "stream",
     "text": [
      "Epoch [820/3000]: 100%|██████████| 9/9 [00:00<00:00, 149.46it/s, loss=0.918]\n"
     ]
    },
    {
     "name": "stdout",
     "output_type": "stream",
     "text": [
      "Epoch [820/3000]: Train loss: 1.1835, Valid loss: 1.5458\n"
     ]
    },
    {
     "name": "stderr",
     "output_type": "stream",
     "text": [
      "Epoch [821/3000]: 100%|██████████| 9/9 [00:00<00:00, 135.41it/s, loss=1.39]\n"
     ]
    },
    {
     "name": "stdout",
     "output_type": "stream",
     "text": [
      "Epoch [821/3000]: Train loss: 1.2034, Valid loss: 1.1885\n"
     ]
    },
    {
     "name": "stderr",
     "output_type": "stream",
     "text": [
      "Epoch [822/3000]: 100%|██████████| 9/9 [00:00<00:00, 154.36it/s, loss=1.23]\n"
     ]
    },
    {
     "name": "stdout",
     "output_type": "stream",
     "text": [
      "Epoch [822/3000]: Train loss: 1.1929, Valid loss: 1.2835\n"
     ]
    },
    {
     "name": "stderr",
     "output_type": "stream",
     "text": [
      "Epoch [823/3000]: 100%|██████████| 9/9 [00:00<00:00, 165.06it/s, loss=1.3]\n"
     ]
    },
    {
     "name": "stdout",
     "output_type": "stream",
     "text": [
      "Epoch [823/3000]: Train loss: 1.1974, Valid loss: 1.3534\n"
     ]
    },
    {
     "name": "stderr",
     "output_type": "stream",
     "text": [
      "Epoch [824/3000]: 100%|██████████| 9/9 [00:00<00:00, 145.87it/s, loss=0.933]\n"
     ]
    },
    {
     "name": "stdout",
     "output_type": "stream",
     "text": [
      "Epoch [824/3000]: Train loss: 1.1830, Valid loss: 1.3713\n"
     ]
    },
    {
     "name": "stderr",
     "output_type": "stream",
     "text": [
      "Epoch [825/3000]: 100%|██████████| 9/9 [00:00<00:00, 150.41it/s, loss=1.12]\n"
     ]
    },
    {
     "name": "stdout",
     "output_type": "stream",
     "text": [
      "Epoch [825/3000]: Train loss: 1.1910, Valid loss: 1.5732\n"
     ]
    },
    {
     "name": "stderr",
     "output_type": "stream",
     "text": [
      "Epoch [826/3000]: 100%|██████████| 9/9 [00:00<00:00, 131.24it/s, loss=1.19]\n"
     ]
    },
    {
     "name": "stdout",
     "output_type": "stream",
     "text": [
      "Epoch [826/3000]: Train loss: 1.1898, Valid loss: 1.3607\n"
     ]
    },
    {
     "name": "stderr",
     "output_type": "stream",
     "text": [
      "Epoch [827/3000]: 100%|██████████| 9/9 [00:00<00:00, 135.57it/s, loss=1.26]\n"
     ]
    },
    {
     "name": "stdout",
     "output_type": "stream",
     "text": [
      "Epoch [827/3000]: Train loss: 1.2104, Valid loss: 1.4993\n"
     ]
    },
    {
     "name": "stderr",
     "output_type": "stream",
     "text": [
      "Epoch [828/3000]: 100%|██████████| 9/9 [00:00<00:00, 119.49it/s, loss=1.2]\n"
     ]
    },
    {
     "name": "stdout",
     "output_type": "stream",
     "text": [
      "Epoch [828/3000]: Train loss: 1.1976, Valid loss: 1.3665\n"
     ]
    },
    {
     "name": "stderr",
     "output_type": "stream",
     "text": [
      "Epoch [829/3000]: 100%|██████████| 9/9 [00:00<00:00, 126.49it/s, loss=1.09]\n"
     ]
    },
    {
     "name": "stdout",
     "output_type": "stream",
     "text": [
      "Epoch [829/3000]: Train loss: 1.2153, Valid loss: 1.2857\n"
     ]
    },
    {
     "name": "stderr",
     "output_type": "stream",
     "text": [
      "Epoch [830/3000]: 100%|██████████| 9/9 [00:00<00:00, 125.12it/s, loss=1.42]\n"
     ]
    },
    {
     "name": "stdout",
     "output_type": "stream",
     "text": [
      "Epoch [830/3000]: Train loss: 1.2196, Valid loss: 1.2975\n"
     ]
    },
    {
     "name": "stderr",
     "output_type": "stream",
     "text": [
      "Epoch [831/3000]: 100%|██████████| 9/9 [00:00<00:00, 122.74it/s, loss=1.67]\n"
     ]
    },
    {
     "name": "stdout",
     "output_type": "stream",
     "text": [
      "Epoch [831/3000]: Train loss: 1.2319, Valid loss: 1.4333\n"
     ]
    },
    {
     "name": "stderr",
     "output_type": "stream",
     "text": [
      "Epoch [832/3000]: 100%|██████████| 9/9 [00:00<00:00, 127.15it/s, loss=1.18]\n"
     ]
    },
    {
     "name": "stdout",
     "output_type": "stream",
     "text": [
      "Epoch [832/3000]: Train loss: 1.1948, Valid loss: 1.8133\n"
     ]
    },
    {
     "name": "stderr",
     "output_type": "stream",
     "text": [
      "Epoch [833/3000]: 100%|██████████| 9/9 [00:00<00:00, 136.19it/s, loss=1.12]\n"
     ]
    },
    {
     "name": "stdout",
     "output_type": "stream",
     "text": [
      "Epoch [833/3000]: Train loss: 1.1953, Valid loss: 1.4450\n"
     ]
    },
    {
     "name": "stderr",
     "output_type": "stream",
     "text": [
      "Epoch [834/3000]: 100%|██████████| 9/9 [00:00<00:00, 126.58it/s, loss=1.26]\n"
     ]
    },
    {
     "name": "stdout",
     "output_type": "stream",
     "text": [
      "Epoch [834/3000]: Train loss: 1.2080, Valid loss: 1.1715\n"
     ]
    },
    {
     "name": "stderr",
     "output_type": "stream",
     "text": [
      "Epoch [835/3000]: 100%|██████████| 9/9 [00:00<00:00, 136.97it/s, loss=1.4]\n"
     ]
    },
    {
     "name": "stdout",
     "output_type": "stream",
     "text": [
      "Epoch [835/3000]: Train loss: 1.2045, Valid loss: 1.3148\n"
     ]
    },
    {
     "name": "stderr",
     "output_type": "stream",
     "text": [
      "Epoch [836/3000]: 100%|██████████| 9/9 [00:00<00:00, 133.64it/s, loss=1.38]\n"
     ]
    },
    {
     "name": "stdout",
     "output_type": "stream",
     "text": [
      "Epoch [836/3000]: Train loss: 1.2015, Valid loss: 1.7395\n"
     ]
    },
    {
     "name": "stderr",
     "output_type": "stream",
     "text": [
      "Epoch [837/3000]: 100%|██████████| 9/9 [00:00<00:00, 126.89it/s, loss=1.12]\n"
     ]
    },
    {
     "name": "stdout",
     "output_type": "stream",
     "text": [
      "Epoch [837/3000]: Train loss: 1.1828, Valid loss: 1.3488\n"
     ]
    },
    {
     "name": "stderr",
     "output_type": "stream",
     "text": [
      "Epoch [838/3000]: 100%|██████████| 9/9 [00:00<00:00, 127.43it/s, loss=1.38]\n"
     ]
    },
    {
     "name": "stdout",
     "output_type": "stream",
     "text": [
      "Epoch [838/3000]: Train loss: 1.2083, Valid loss: 1.1767\n"
     ]
    },
    {
     "name": "stderr",
     "output_type": "stream",
     "text": [
      "Epoch [839/3000]: 100%|██████████| 9/9 [00:00<00:00, 125.55it/s, loss=1.47]\n"
     ]
    },
    {
     "name": "stdout",
     "output_type": "stream",
     "text": [
      "Epoch [839/3000]: Train loss: 1.2070, Valid loss: 1.5033\n"
     ]
    },
    {
     "name": "stderr",
     "output_type": "stream",
     "text": [
      "Epoch [840/3000]: 100%|██████████| 9/9 [00:00<00:00, 141.50it/s, loss=1.01]\n"
     ]
    },
    {
     "name": "stdout",
     "output_type": "stream",
     "text": [
      "Epoch [840/3000]: Train loss: 1.1815, Valid loss: 1.3106\n"
     ]
    },
    {
     "name": "stderr",
     "output_type": "stream",
     "text": [
      "Epoch [841/3000]: 100%|██████████| 9/9 [00:00<00:00, 55.63it/s, loss=0.874]\n"
     ]
    },
    {
     "name": "stdout",
     "output_type": "stream",
     "text": [
      "Epoch [841/3000]: Train loss: 1.1800, Valid loss: 1.4269\n"
     ]
    },
    {
     "name": "stderr",
     "output_type": "stream",
     "text": [
      "Epoch [842/3000]: 100%|██████████| 9/9 [00:00<00:00, 139.41it/s, loss=1.63]\n"
     ]
    },
    {
     "name": "stdout",
     "output_type": "stream",
     "text": [
      "Epoch [842/3000]: Train loss: 1.2246, Valid loss: 1.3962\n"
     ]
    },
    {
     "name": "stderr",
     "output_type": "stream",
     "text": [
      "Epoch [843/3000]: 100%|██████████| 9/9 [00:00<00:00, 153.29it/s, loss=1.62]\n"
     ]
    },
    {
     "name": "stdout",
     "output_type": "stream",
     "text": [
      "Epoch [843/3000]: Train loss: 1.2195, Valid loss: 1.7031\n"
     ]
    },
    {
     "name": "stderr",
     "output_type": "stream",
     "text": [
      "Epoch [844/3000]: 100%|██████████| 9/9 [00:00<00:00, 149.87it/s, loss=1.21]\n"
     ]
    },
    {
     "name": "stdout",
     "output_type": "stream",
     "text": [
      "Epoch [844/3000]: Train loss: 1.1882, Valid loss: 1.1777\n"
     ]
    },
    {
     "name": "stderr",
     "output_type": "stream",
     "text": [
      "Epoch [845/3000]: 100%|██████████| 9/9 [00:00<00:00, 159.95it/s, loss=1.03]\n"
     ]
    },
    {
     "name": "stdout",
     "output_type": "stream",
     "text": [
      "Epoch [845/3000]: Train loss: 1.1908, Valid loss: 1.6941\n"
     ]
    },
    {
     "name": "stderr",
     "output_type": "stream",
     "text": [
      "Epoch [846/3000]: 100%|██████████| 9/9 [00:00<00:00, 177.36it/s, loss=1.11]\n"
     ]
    },
    {
     "name": "stdout",
     "output_type": "stream",
     "text": [
      "Epoch [846/3000]: Train loss: 1.1847, Valid loss: 1.2441\n"
     ]
    },
    {
     "name": "stderr",
     "output_type": "stream",
     "text": [
      "Epoch [847/3000]: 100%|██████████| 9/9 [00:00<00:00, 156.08it/s, loss=0.663]\n"
     ]
    },
    {
     "name": "stdout",
     "output_type": "stream",
     "text": [
      "Epoch [847/3000]: Train loss: 1.1538, Valid loss: 1.4252\n"
     ]
    },
    {
     "name": "stderr",
     "output_type": "stream",
     "text": [
      "Epoch [848/3000]: 100%|██████████| 9/9 [00:00<00:00, 147.17it/s, loss=1.06]\n"
     ]
    },
    {
     "name": "stdout",
     "output_type": "stream",
     "text": [
      "Epoch [848/3000]: Train loss: 1.1834, Valid loss: 1.3091\n"
     ]
    },
    {
     "name": "stderr",
     "output_type": "stream",
     "text": [
      "Epoch [849/3000]: 100%|██████████| 9/9 [00:00<00:00, 141.73it/s, loss=1.01]\n"
     ]
    },
    {
     "name": "stdout",
     "output_type": "stream",
     "text": [
      "Epoch [849/3000]: Train loss: 1.1932, Valid loss: 1.3666\n"
     ]
    },
    {
     "name": "stderr",
     "output_type": "stream",
     "text": [
      "Epoch [850/3000]: 100%|██████████| 9/9 [00:00<00:00, 132.25it/s, loss=1.16]\n"
     ]
    },
    {
     "name": "stdout",
     "output_type": "stream",
     "text": [
      "Epoch [850/3000]: Train loss: 1.2360, Valid loss: 1.3535\n"
     ]
    },
    {
     "name": "stderr",
     "output_type": "stream",
     "text": [
      "Epoch [851/3000]: 100%|██████████| 9/9 [00:00<00:00, 138.05it/s, loss=1.33]\n"
     ]
    },
    {
     "name": "stdout",
     "output_type": "stream",
     "text": [
      "Epoch [851/3000]: Train loss: 1.2340, Valid loss: 1.1639\n"
     ]
    },
    {
     "name": "stderr",
     "output_type": "stream",
     "text": [
      "Epoch [852/3000]: 100%|██████████| 9/9 [00:00<00:00, 129.25it/s, loss=0.96]\n"
     ]
    },
    {
     "name": "stdout",
     "output_type": "stream",
     "text": [
      "Epoch [852/3000]: Train loss: 1.1693, Valid loss: 1.5585\n"
     ]
    },
    {
     "name": "stderr",
     "output_type": "stream",
     "text": [
      "Epoch [853/3000]: 100%|██████████| 9/9 [00:00<00:00, 127.36it/s, loss=1.03]\n"
     ]
    },
    {
     "name": "stdout",
     "output_type": "stream",
     "text": [
      "Epoch [853/3000]: Train loss: 1.1748, Valid loss: 1.5200\n"
     ]
    },
    {
     "name": "stderr",
     "output_type": "stream",
     "text": [
      "Epoch [854/3000]: 100%|██████████| 9/9 [00:00<00:00, 128.23it/s, loss=1.3]\n"
     ]
    },
    {
     "name": "stdout",
     "output_type": "stream",
     "text": [
      "Epoch [854/3000]: Train loss: 1.2195, Valid loss: 1.2401\n"
     ]
    },
    {
     "name": "stderr",
     "output_type": "stream",
     "text": [
      "Epoch [855/3000]: 100%|██████████| 9/9 [00:00<00:00, 123.39it/s, loss=1.48]\n"
     ]
    },
    {
     "name": "stdout",
     "output_type": "stream",
     "text": [
      "Epoch [855/3000]: Train loss: 1.2182, Valid loss: 1.2682\n"
     ]
    },
    {
     "name": "stderr",
     "output_type": "stream",
     "text": [
      "Epoch [856/3000]: 100%|██████████| 9/9 [00:00<00:00, 130.55it/s, loss=1.34]\n"
     ]
    },
    {
     "name": "stdout",
     "output_type": "stream",
     "text": [
      "Epoch [856/3000]: Train loss: 1.2115, Valid loss: 1.3761\n"
     ]
    },
    {
     "name": "stderr",
     "output_type": "stream",
     "text": [
      "Epoch [857/3000]: 100%|██████████| 9/9 [00:00<00:00, 121.00it/s, loss=1.1]\n"
     ]
    },
    {
     "name": "stdout",
     "output_type": "stream",
     "text": [
      "Epoch [857/3000]: Train loss: 1.2029, Valid loss: 1.3572\n"
     ]
    },
    {
     "name": "stderr",
     "output_type": "stream",
     "text": [
      "Epoch [858/3000]: 100%|██████████| 9/9 [00:00<00:00, 122.41it/s, loss=1.13]\n"
     ]
    },
    {
     "name": "stdout",
     "output_type": "stream",
     "text": [
      "Epoch [858/3000]: Train loss: 1.2224, Valid loss: 1.4566\n"
     ]
    },
    {
     "name": "stderr",
     "output_type": "stream",
     "text": [
      "Epoch [859/3000]: 100%|██████████| 9/9 [00:00<00:00, 141.70it/s, loss=1.28]\n"
     ]
    },
    {
     "name": "stdout",
     "output_type": "stream",
     "text": [
      "Epoch [859/3000]: Train loss: 1.1930, Valid loss: 1.3528\n"
     ]
    },
    {
     "name": "stderr",
     "output_type": "stream",
     "text": [
      "Epoch [860/3000]: 100%|██████████| 9/9 [00:00<00:00, 165.53it/s, loss=1.15]\n"
     ]
    },
    {
     "name": "stdout",
     "output_type": "stream",
     "text": [
      "Epoch [860/3000]: Train loss: 1.1845, Valid loss: 1.5361\n"
     ]
    },
    {
     "name": "stderr",
     "output_type": "stream",
     "text": [
      "Epoch [861/3000]: 100%|██████████| 9/9 [00:00<00:00, 167.60it/s, loss=0.893]\n"
     ]
    },
    {
     "name": "stdout",
     "output_type": "stream",
     "text": [
      "Epoch [861/3000]: Train loss: 1.1693, Valid loss: 1.3212\n"
     ]
    },
    {
     "name": "stderr",
     "output_type": "stream",
     "text": [
      "Epoch [862/3000]: 100%|██████████| 9/9 [00:00<00:00, 144.21it/s, loss=1.13]\n"
     ]
    },
    {
     "name": "stdout",
     "output_type": "stream",
     "text": [
      "Epoch [862/3000]: Train loss: 1.1829, Valid loss: 1.2205\n"
     ]
    },
    {
     "name": "stderr",
     "output_type": "stream",
     "text": [
      "Epoch [863/3000]: 100%|██████████| 9/9 [00:00<00:00, 156.68it/s, loss=1.26]\n"
     ]
    },
    {
     "name": "stdout",
     "output_type": "stream",
     "text": [
      "Epoch [863/3000]: Train loss: 1.2240, Valid loss: 1.5123\n"
     ]
    },
    {
     "name": "stderr",
     "output_type": "stream",
     "text": [
      "Epoch [864/3000]: 100%|██████████| 9/9 [00:00<00:00, 154.89it/s, loss=1.22]\n"
     ]
    },
    {
     "name": "stdout",
     "output_type": "stream",
     "text": [
      "Epoch [864/3000]: Train loss: 1.2331, Valid loss: 1.1606\n"
     ]
    },
    {
     "name": "stderr",
     "output_type": "stream",
     "text": [
      "Epoch [865/3000]: 100%|██████████| 9/9 [00:00<00:00, 147.45it/s, loss=1.26]\n"
     ]
    },
    {
     "name": "stdout",
     "output_type": "stream",
     "text": [
      "Epoch [865/3000]: Train loss: 1.2070, Valid loss: 1.3325\n"
     ]
    },
    {
     "name": "stderr",
     "output_type": "stream",
     "text": [
      "Epoch [866/3000]: 100%|██████████| 9/9 [00:00<00:00, 132.03it/s, loss=2.04]\n"
     ]
    },
    {
     "name": "stdout",
     "output_type": "stream",
     "text": [
      "Epoch [866/3000]: Train loss: 1.2646, Valid loss: 1.4235\n"
     ]
    },
    {
     "name": "stderr",
     "output_type": "stream",
     "text": [
      "Epoch [867/3000]: 100%|██████████| 9/9 [00:00<00:00, 150.36it/s, loss=1.14]\n"
     ]
    },
    {
     "name": "stdout",
     "output_type": "stream",
     "text": [
      "Epoch [867/3000]: Train loss: 1.2129, Valid loss: 1.3626\n"
     ]
    },
    {
     "name": "stderr",
     "output_type": "stream",
     "text": [
      "Epoch [868/3000]: 100%|██████████| 9/9 [00:00<00:00, 139.86it/s, loss=0.885]\n"
     ]
    },
    {
     "name": "stdout",
     "output_type": "stream",
     "text": [
      "Epoch [868/3000]: Train loss: 1.1604, Valid loss: 1.4397\n"
     ]
    },
    {
     "name": "stderr",
     "output_type": "stream",
     "text": [
      "Epoch [869/3000]: 100%|██████████| 9/9 [00:00<00:00, 148.31it/s, loss=0.838]\n"
     ]
    },
    {
     "name": "stdout",
     "output_type": "stream",
     "text": [
      "Epoch [869/3000]: Train loss: 1.1689, Valid loss: 1.3799\n"
     ]
    },
    {
     "name": "stderr",
     "output_type": "stream",
     "text": [
      "Epoch [870/3000]: 100%|██████████| 9/9 [00:00<00:00, 133.73it/s, loss=1.01]\n"
     ]
    },
    {
     "name": "stdout",
     "output_type": "stream",
     "text": [
      "Epoch [870/3000]: Train loss: 1.1953, Valid loss: 1.7605\n"
     ]
    },
    {
     "name": "stderr",
     "output_type": "stream",
     "text": [
      "Epoch [871/3000]: 100%|██████████| 9/9 [00:00<00:00, 136.19it/s, loss=1.01]\n"
     ]
    },
    {
     "name": "stdout",
     "output_type": "stream",
     "text": [
      "Epoch [871/3000]: Train loss: 1.1973, Valid loss: 1.2639\n"
     ]
    },
    {
     "name": "stderr",
     "output_type": "stream",
     "text": [
      "Epoch [872/3000]: 100%|██████████| 9/9 [00:00<00:00, 134.71it/s, loss=1.63]\n"
     ]
    },
    {
     "name": "stdout",
     "output_type": "stream",
     "text": [
      "Epoch [872/3000]: Train loss: 1.2074, Valid loss: 1.4473\n"
     ]
    },
    {
     "name": "stderr",
     "output_type": "stream",
     "text": [
      "Epoch [873/3000]: 100%|██████████| 9/9 [00:00<00:00, 123.12it/s, loss=1.4]\n"
     ]
    },
    {
     "name": "stdout",
     "output_type": "stream",
     "text": [
      "Epoch [873/3000]: Train loss: 1.2148, Valid loss: 1.3508\n"
     ]
    },
    {
     "name": "stderr",
     "output_type": "stream",
     "text": [
      "Epoch [874/3000]: 100%|██████████| 9/9 [00:00<00:00, 130.64it/s, loss=1.7]\n"
     ]
    },
    {
     "name": "stdout",
     "output_type": "stream",
     "text": [
      "Epoch [874/3000]: Train loss: 1.2157, Valid loss: 1.2615\n"
     ]
    },
    {
     "name": "stderr",
     "output_type": "stream",
     "text": [
      "Epoch [875/3000]: 100%|██████████| 9/9 [00:00<00:00, 125.67it/s, loss=1.37]\n"
     ]
    },
    {
     "name": "stdout",
     "output_type": "stream",
     "text": [
      "Epoch [875/3000]: Train loss: 1.1911, Valid loss: 1.1094\n",
      "Saving model with loss 1.109...\n"
     ]
    },
    {
     "name": "stderr",
     "output_type": "stream",
     "text": [
      "Epoch [876/3000]: 100%|██████████| 9/9 [00:00<00:00, 130.29it/s, loss=1.43]\n"
     ]
    },
    {
     "name": "stdout",
     "output_type": "stream",
     "text": [
      "Epoch [876/3000]: Train loss: 1.1958, Valid loss: 1.2649\n"
     ]
    },
    {
     "name": "stderr",
     "output_type": "stream",
     "text": [
      "Epoch [877/3000]: 100%|██████████| 9/9 [00:00<00:00, 125.76it/s, loss=1.25]\n"
     ]
    },
    {
     "name": "stdout",
     "output_type": "stream",
     "text": [
      "Epoch [877/3000]: Train loss: 1.2051, Valid loss: 1.2477\n"
     ]
    },
    {
     "name": "stderr",
     "output_type": "stream",
     "text": [
      "Epoch [878/3000]: 100%|██████████| 9/9 [00:00<00:00, 129.45it/s, loss=1.2]\n"
     ]
    },
    {
     "name": "stdout",
     "output_type": "stream",
     "text": [
      "Epoch [878/3000]: Train loss: 1.2293, Valid loss: 1.4108\n"
     ]
    },
    {
     "name": "stderr",
     "output_type": "stream",
     "text": [
      "Epoch [879/3000]: 100%|██████████| 9/9 [00:00<00:00, 127.40it/s, loss=0.826]\n"
     ]
    },
    {
     "name": "stdout",
     "output_type": "stream",
     "text": [
      "Epoch [879/3000]: Train loss: 1.1755, Valid loss: 1.3756\n"
     ]
    },
    {
     "name": "stderr",
     "output_type": "stream",
     "text": [
      "Epoch [880/3000]: 100%|██████████| 9/9 [00:00<00:00, 129.68it/s, loss=1.01]\n"
     ]
    },
    {
     "name": "stdout",
     "output_type": "stream",
     "text": [
      "Epoch [880/3000]: Train loss: 1.1674, Valid loss: 1.6081\n"
     ]
    },
    {
     "name": "stderr",
     "output_type": "stream",
     "text": [
      "Epoch [881/3000]: 100%|██████████| 9/9 [00:00<00:00, 128.24it/s, loss=1.2]\n"
     ]
    },
    {
     "name": "stdout",
     "output_type": "stream",
     "text": [
      "Epoch [881/3000]: Train loss: 1.1887, Valid loss: 1.3013\n"
     ]
    },
    {
     "name": "stderr",
     "output_type": "stream",
     "text": [
      "Epoch [882/3000]: 100%|██████████| 9/9 [00:00<00:00, 61.26it/s, loss=0.912]\n"
     ]
    },
    {
     "name": "stdout",
     "output_type": "stream",
     "text": [
      "Epoch [882/3000]: Train loss: 1.1631, Valid loss: 1.4484\n"
     ]
    },
    {
     "name": "stderr",
     "output_type": "stream",
     "text": [
      "Epoch [883/3000]: 100%|██████████| 9/9 [00:00<00:00, 145.73it/s, loss=1.2]\n"
     ]
    },
    {
     "name": "stdout",
     "output_type": "stream",
     "text": [
      "Epoch [883/3000]: Train loss: 1.1801, Valid loss: 1.2896\n"
     ]
    },
    {
     "name": "stderr",
     "output_type": "stream",
     "text": [
      "Epoch [884/3000]: 100%|██████████| 9/9 [00:00<00:00, 158.26it/s, loss=0.891]\n"
     ]
    },
    {
     "name": "stdout",
     "output_type": "stream",
     "text": [
      "Epoch [884/3000]: Train loss: 1.1705, Valid loss: 1.3519\n"
     ]
    },
    {
     "name": "stderr",
     "output_type": "stream",
     "text": [
      "Epoch [885/3000]: 100%|██████████| 9/9 [00:00<00:00, 165.22it/s, loss=1.14]\n"
     ]
    },
    {
     "name": "stdout",
     "output_type": "stream",
     "text": [
      "Epoch [885/3000]: Train loss: 1.1942, Valid loss: 1.2559\n"
     ]
    },
    {
     "name": "stderr",
     "output_type": "stream",
     "text": [
      "Epoch [886/3000]: 100%|██████████| 9/9 [00:00<00:00, 174.19it/s, loss=1.09]\n"
     ]
    },
    {
     "name": "stdout",
     "output_type": "stream",
     "text": [
      "Epoch [886/3000]: Train loss: 1.1895, Valid loss: 1.3070\n"
     ]
    },
    {
     "name": "stderr",
     "output_type": "stream",
     "text": [
      "Epoch [887/3000]: 100%|██████████| 9/9 [00:00<00:00, 146.50it/s, loss=0.928]\n"
     ]
    },
    {
     "name": "stdout",
     "output_type": "stream",
     "text": [
      "Epoch [887/3000]: Train loss: 1.1749, Valid loss: 1.1878\n"
     ]
    },
    {
     "name": "stderr",
     "output_type": "stream",
     "text": [
      "Epoch [888/3000]: 100%|██████████| 9/9 [00:00<00:00, 145.60it/s, loss=0.827]\n"
     ]
    },
    {
     "name": "stdout",
     "output_type": "stream",
     "text": [
      "Epoch [888/3000]: Train loss: 1.1793, Valid loss: 1.4501\n"
     ]
    },
    {
     "name": "stderr",
     "output_type": "stream",
     "text": [
      "Epoch [889/3000]: 100%|██████████| 9/9 [00:00<00:00, 152.74it/s, loss=0.802]\n"
     ]
    },
    {
     "name": "stdout",
     "output_type": "stream",
     "text": [
      "Epoch [889/3000]: Train loss: 1.1880, Valid loss: 1.5685\n"
     ]
    },
    {
     "name": "stderr",
     "output_type": "stream",
     "text": [
      "Epoch [890/3000]: 100%|██████████| 9/9 [00:00<00:00, 148.37it/s, loss=1.15]\n"
     ]
    },
    {
     "name": "stdout",
     "output_type": "stream",
     "text": [
      "Epoch [890/3000]: Train loss: 1.1793, Valid loss: 1.3977\n"
     ]
    },
    {
     "name": "stderr",
     "output_type": "stream",
     "text": [
      "Epoch [891/3000]: 100%|██████████| 9/9 [00:00<00:00, 143.39it/s, loss=1.05]\n"
     ]
    },
    {
     "name": "stdout",
     "output_type": "stream",
     "text": [
      "Epoch [891/3000]: Train loss: 1.1688, Valid loss: 1.3714\n"
     ]
    },
    {
     "name": "stderr",
     "output_type": "stream",
     "text": [
      "Epoch [892/3000]: 100%|██████████| 9/9 [00:00<00:00, 136.84it/s, loss=1.05]\n"
     ]
    },
    {
     "name": "stdout",
     "output_type": "stream",
     "text": [
      "Epoch [892/3000]: Train loss: 1.1756, Valid loss: 1.1358\n"
     ]
    },
    {
     "name": "stderr",
     "output_type": "stream",
     "text": [
      "Epoch [893/3000]: 100%|██████████| 9/9 [00:00<00:00, 153.86it/s, loss=1.01]\n"
     ]
    },
    {
     "name": "stdout",
     "output_type": "stream",
     "text": [
      "Epoch [893/3000]: Train loss: 1.1736, Valid loss: 1.3629\n"
     ]
    },
    {
     "name": "stderr",
     "output_type": "stream",
     "text": [
      "Epoch [894/3000]: 100%|██████████| 9/9 [00:00<00:00, 147.65it/s, loss=1.8]\n"
     ]
    },
    {
     "name": "stdout",
     "output_type": "stream",
     "text": [
      "Epoch [894/3000]: Train loss: 1.2170, Valid loss: 1.3575\n"
     ]
    },
    {
     "name": "stderr",
     "output_type": "stream",
     "text": [
      "Epoch [895/3000]: 100%|██████████| 9/9 [00:00<00:00, 145.94it/s, loss=0.961]\n"
     ]
    },
    {
     "name": "stdout",
     "output_type": "stream",
     "text": [
      "Epoch [895/3000]: Train loss: 1.1934, Valid loss: 1.4385\n"
     ]
    },
    {
     "name": "stderr",
     "output_type": "stream",
     "text": [
      "Epoch [896/3000]: 100%|██████████| 9/9 [00:00<00:00, 150.61it/s, loss=0.955]\n"
     ]
    },
    {
     "name": "stdout",
     "output_type": "stream",
     "text": [
      "Epoch [896/3000]: Train loss: 1.2021, Valid loss: 1.5646\n"
     ]
    },
    {
     "name": "stderr",
     "output_type": "stream",
     "text": [
      "Epoch [897/3000]: 100%|██████████| 9/9 [00:00<00:00, 153.75it/s, loss=1.51]\n"
     ]
    },
    {
     "name": "stdout",
     "output_type": "stream",
     "text": [
      "Epoch [897/3000]: Train loss: 1.2090, Valid loss: 1.2288\n"
     ]
    },
    {
     "name": "stderr",
     "output_type": "stream",
     "text": [
      "Epoch [898/3000]: 100%|██████████| 9/9 [00:00<00:00, 180.82it/s, loss=1.45]\n"
     ]
    },
    {
     "name": "stdout",
     "output_type": "stream",
     "text": [
      "Epoch [898/3000]: Train loss: 1.2070, Valid loss: 1.3342\n"
     ]
    },
    {
     "name": "stderr",
     "output_type": "stream",
     "text": [
      "Epoch [899/3000]: 100%|██████████| 9/9 [00:00<00:00, 144.12it/s, loss=1.25]\n"
     ]
    },
    {
     "name": "stdout",
     "output_type": "stream",
     "text": [
      "Epoch [899/3000]: Train loss: 1.2407, Valid loss: 1.3813\n"
     ]
    },
    {
     "name": "stderr",
     "output_type": "stream",
     "text": [
      "Epoch [900/3000]: 100%|██████████| 9/9 [00:00<00:00, 128.68it/s, loss=1.17]\n"
     ]
    },
    {
     "name": "stdout",
     "output_type": "stream",
     "text": [
      "Epoch [900/3000]: Train loss: 1.1999, Valid loss: 1.5468\n"
     ]
    },
    {
     "name": "stderr",
     "output_type": "stream",
     "text": [
      "Epoch [901/3000]: 100%|██████████| 9/9 [00:00<00:00, 134.44it/s, loss=1.32]\n"
     ]
    },
    {
     "name": "stdout",
     "output_type": "stream",
     "text": [
      "Epoch [901/3000]: Train loss: 1.1957, Valid loss: 1.2526\n"
     ]
    },
    {
     "name": "stderr",
     "output_type": "stream",
     "text": [
      "Epoch [902/3000]: 100%|██████████| 9/9 [00:00<00:00, 136.25it/s, loss=1.55]\n"
     ]
    },
    {
     "name": "stdout",
     "output_type": "stream",
     "text": [
      "Epoch [902/3000]: Train loss: 1.1968, Valid loss: 1.2068\n"
     ]
    },
    {
     "name": "stderr",
     "output_type": "stream",
     "text": [
      "Epoch [903/3000]: 100%|██████████| 9/9 [00:00<00:00, 131.28it/s, loss=0.924]\n"
     ]
    },
    {
     "name": "stdout",
     "output_type": "stream",
     "text": [
      "Epoch [903/3000]: Train loss: 1.1585, Valid loss: 1.6624\n"
     ]
    },
    {
     "name": "stderr",
     "output_type": "stream",
     "text": [
      "Epoch [904/3000]: 100%|██████████| 9/9 [00:00<00:00, 132.46it/s, loss=1.15]\n"
     ]
    },
    {
     "name": "stdout",
     "output_type": "stream",
     "text": [
      "Epoch [904/3000]: Train loss: 1.1733, Valid loss: 1.2080\n"
     ]
    },
    {
     "name": "stderr",
     "output_type": "stream",
     "text": [
      "Epoch [905/3000]: 100%|██████████| 9/9 [00:00<00:00, 138.11it/s, loss=0.945]\n"
     ]
    },
    {
     "name": "stdout",
     "output_type": "stream",
     "text": [
      "Epoch [905/3000]: Train loss: 1.1626, Valid loss: 1.2699\n"
     ]
    },
    {
     "name": "stderr",
     "output_type": "stream",
     "text": [
      "Epoch [906/3000]: 100%|██████████| 9/9 [00:00<00:00, 138.12it/s, loss=1.34]\n"
     ]
    },
    {
     "name": "stdout",
     "output_type": "stream",
     "text": [
      "Epoch [906/3000]: Train loss: 1.1876, Valid loss: 1.2666\n"
     ]
    },
    {
     "name": "stderr",
     "output_type": "stream",
     "text": [
      "Epoch [907/3000]: 100%|██████████| 9/9 [00:00<00:00, 140.90it/s, loss=1.44]\n"
     ]
    },
    {
     "name": "stdout",
     "output_type": "stream",
     "text": [
      "Epoch [907/3000]: Train loss: 1.1930, Valid loss: 1.3898\n"
     ]
    },
    {
     "name": "stderr",
     "output_type": "stream",
     "text": [
      "Epoch [908/3000]: 100%|██████████| 9/9 [00:00<00:00, 140.29it/s, loss=1.42]\n"
     ]
    },
    {
     "name": "stdout",
     "output_type": "stream",
     "text": [
      "Epoch [908/3000]: Train loss: 1.1950, Valid loss: 1.4380\n"
     ]
    },
    {
     "name": "stderr",
     "output_type": "stream",
     "text": [
      "Epoch [909/3000]: 100%|██████████| 9/9 [00:00<00:00, 121.98it/s, loss=1.1]\n"
     ]
    },
    {
     "name": "stdout",
     "output_type": "stream",
     "text": [
      "Epoch [909/3000]: Train loss: 1.1920, Valid loss: 1.2329\n"
     ]
    },
    {
     "name": "stderr",
     "output_type": "stream",
     "text": [
      "Epoch [910/3000]: 100%|██████████| 9/9 [00:00<00:00, 155.43it/s, loss=1.11]\n"
     ]
    },
    {
     "name": "stdout",
     "output_type": "stream",
     "text": [
      "Epoch [910/3000]: Train loss: 1.1727, Valid loss: 1.2354\n"
     ]
    },
    {
     "name": "stderr",
     "output_type": "stream",
     "text": [
      "Epoch [911/3000]: 100%|██████████| 9/9 [00:00<00:00, 132.12it/s, loss=1.25]\n"
     ]
    },
    {
     "name": "stdout",
     "output_type": "stream",
     "text": [
      "Epoch [911/3000]: Train loss: 1.1827, Valid loss: 1.3800\n"
     ]
    },
    {
     "name": "stderr",
     "output_type": "stream",
     "text": [
      "Epoch [912/3000]: 100%|██████████| 9/9 [00:00<00:00, 124.11it/s, loss=0.947]\n"
     ]
    },
    {
     "name": "stdout",
     "output_type": "stream",
     "text": [
      "Epoch [912/3000]: Train loss: 1.1563, Valid loss: 1.2720\n"
     ]
    },
    {
     "name": "stderr",
     "output_type": "stream",
     "text": [
      "Epoch [913/3000]: 100%|██████████| 9/9 [00:00<00:00, 132.04it/s, loss=1.23]\n"
     ]
    },
    {
     "name": "stdout",
     "output_type": "stream",
     "text": [
      "Epoch [913/3000]: Train loss: 1.1779, Valid loss: 1.3370\n"
     ]
    },
    {
     "name": "stderr",
     "output_type": "stream",
     "text": [
      "Epoch [914/3000]: 100%|██████████| 9/9 [00:00<00:00, 141.29it/s, loss=0.93]\n"
     ]
    },
    {
     "name": "stdout",
     "output_type": "stream",
     "text": [
      "Epoch [914/3000]: Train loss: 1.1647, Valid loss: 1.3096\n"
     ]
    },
    {
     "name": "stderr",
     "output_type": "stream",
     "text": [
      "Epoch [915/3000]: 100%|██████████| 9/9 [00:00<00:00, 126.19it/s, loss=1.31]\n"
     ]
    },
    {
     "name": "stdout",
     "output_type": "stream",
     "text": [
      "Epoch [915/3000]: Train loss: 1.1825, Valid loss: 1.7289\n"
     ]
    },
    {
     "name": "stderr",
     "output_type": "stream",
     "text": [
      "Epoch [916/3000]: 100%|██████████| 9/9 [00:00<00:00, 134.33it/s, loss=1.55]\n"
     ]
    },
    {
     "name": "stdout",
     "output_type": "stream",
     "text": [
      "Epoch [916/3000]: Train loss: 1.2220, Valid loss: 1.3655\n"
     ]
    },
    {
     "name": "stderr",
     "output_type": "stream",
     "text": [
      "Epoch [917/3000]: 100%|██████████| 9/9 [00:00<00:00, 123.97it/s, loss=1.42]\n"
     ]
    },
    {
     "name": "stdout",
     "output_type": "stream",
     "text": [
      "Epoch [917/3000]: Train loss: 1.1873, Valid loss: 1.4439\n"
     ]
    },
    {
     "name": "stderr",
     "output_type": "stream",
     "text": [
      "Epoch [918/3000]: 100%|██████████| 9/9 [00:00<00:00, 138.32it/s, loss=1.88]\n"
     ]
    },
    {
     "name": "stdout",
     "output_type": "stream",
     "text": [
      "Epoch [918/3000]: Train loss: 1.2112, Valid loss: 1.5398\n"
     ]
    },
    {
     "name": "stderr",
     "output_type": "stream",
     "text": [
      "Epoch [919/3000]: 100%|██████████| 9/9 [00:00<00:00, 136.58it/s, loss=1.33]\n"
     ]
    },
    {
     "name": "stdout",
     "output_type": "stream",
     "text": [
      "Epoch [919/3000]: Train loss: 1.2336, Valid loss: 1.2892\n"
     ]
    },
    {
     "name": "stderr",
     "output_type": "stream",
     "text": [
      "Epoch [920/3000]: 100%|██████████| 9/9 [00:00<00:00, 114.09it/s, loss=1.04]\n"
     ]
    },
    {
     "name": "stdout",
     "output_type": "stream",
     "text": [
      "Epoch [920/3000]: Train loss: 1.1678, Valid loss: 1.4706\n"
     ]
    },
    {
     "name": "stderr",
     "output_type": "stream",
     "text": [
      "Epoch [921/3000]: 100%|██████████| 9/9 [00:00<00:00, 118.46it/s, loss=0.99]\n"
     ]
    },
    {
     "name": "stdout",
     "output_type": "stream",
     "text": [
      "Epoch [921/3000]: Train loss: 1.1846, Valid loss: 1.6622\n"
     ]
    },
    {
     "name": "stderr",
     "output_type": "stream",
     "text": [
      "Epoch [922/3000]: 100%|██████████| 9/9 [00:00<00:00, 129.06it/s, loss=0.992]\n"
     ]
    },
    {
     "name": "stdout",
     "output_type": "stream",
     "text": [
      "Epoch [922/3000]: Train loss: 1.1793, Valid loss: 1.3818\n"
     ]
    },
    {
     "name": "stderr",
     "output_type": "stream",
     "text": [
      "Epoch [923/3000]: 100%|██████████| 9/9 [00:00<00:00, 69.72it/s, loss=1.27]\n"
     ]
    },
    {
     "name": "stdout",
     "output_type": "stream",
     "text": [
      "Epoch [923/3000]: Train loss: 1.1784, Valid loss: 1.4886\n"
     ]
    },
    {
     "name": "stderr",
     "output_type": "stream",
     "text": [
      "Epoch [924/3000]: 100%|██████████| 9/9 [00:00<00:00, 133.04it/s, loss=1.21]\n"
     ]
    },
    {
     "name": "stdout",
     "output_type": "stream",
     "text": [
      "Epoch [924/3000]: Train loss: 1.1787, Valid loss: 1.2391\n"
     ]
    },
    {
     "name": "stderr",
     "output_type": "stream",
     "text": [
      "Epoch [925/3000]: 100%|██████████| 9/9 [00:00<00:00, 138.39it/s, loss=1.36]\n"
     ]
    },
    {
     "name": "stdout",
     "output_type": "stream",
     "text": [
      "Epoch [925/3000]: Train loss: 1.1913, Valid loss: 1.3251\n"
     ]
    },
    {
     "name": "stderr",
     "output_type": "stream",
     "text": [
      "Epoch [926/3000]: 100%|██████████| 9/9 [00:00<00:00, 138.19it/s, loss=1.16]\n"
     ]
    },
    {
     "name": "stdout",
     "output_type": "stream",
     "text": [
      "Epoch [926/3000]: Train loss: 1.1936, Valid loss: 1.6986\n"
     ]
    },
    {
     "name": "stderr",
     "output_type": "stream",
     "text": [
      "Epoch [927/3000]: 100%|██████████| 9/9 [00:00<00:00, 127.31it/s, loss=1.11]\n"
     ]
    },
    {
     "name": "stdout",
     "output_type": "stream",
     "text": [
      "Epoch [927/3000]: Train loss: 1.2068, Valid loss: 1.3403\n"
     ]
    },
    {
     "name": "stderr",
     "output_type": "stream",
     "text": [
      "Epoch [928/3000]: 100%|██████████| 9/9 [00:00<00:00, 131.30it/s, loss=1.29]\n"
     ]
    },
    {
     "name": "stdout",
     "output_type": "stream",
     "text": [
      "Epoch [928/3000]: Train loss: 1.1790, Valid loss: 1.2640\n"
     ]
    },
    {
     "name": "stderr",
     "output_type": "stream",
     "text": [
      "Epoch [929/3000]: 100%|██████████| 9/9 [00:00<00:00, 127.75it/s, loss=1.3]\n"
     ]
    },
    {
     "name": "stdout",
     "output_type": "stream",
     "text": [
      "Epoch [929/3000]: Train loss: 1.2126, Valid loss: 1.3569\n"
     ]
    },
    {
     "name": "stderr",
     "output_type": "stream",
     "text": [
      "Epoch [930/3000]: 100%|██████████| 9/9 [00:00<00:00, 135.66it/s, loss=0.692]\n"
     ]
    },
    {
     "name": "stdout",
     "output_type": "stream",
     "text": [
      "Epoch [930/3000]: Train loss: 1.1476, Valid loss: 1.5736\n"
     ]
    },
    {
     "name": "stderr",
     "output_type": "stream",
     "text": [
      "Epoch [931/3000]: 100%|██████████| 9/9 [00:00<00:00, 128.83it/s, loss=1.27]\n"
     ]
    },
    {
     "name": "stdout",
     "output_type": "stream",
     "text": [
      "Epoch [931/3000]: Train loss: 1.1887, Valid loss: 1.3496\n"
     ]
    },
    {
     "name": "stderr",
     "output_type": "stream",
     "text": [
      "Epoch [932/3000]: 100%|██████████| 9/9 [00:00<00:00, 125.91it/s, loss=1.26]\n"
     ]
    },
    {
     "name": "stdout",
     "output_type": "stream",
     "text": [
      "Epoch [932/3000]: Train loss: 1.1995, Valid loss: 1.1933\n"
     ]
    },
    {
     "name": "stderr",
     "output_type": "stream",
     "text": [
      "Epoch [933/3000]: 100%|██████████| 9/9 [00:00<00:00, 124.66it/s, loss=1.01]\n"
     ]
    },
    {
     "name": "stdout",
     "output_type": "stream",
     "text": [
      "Epoch [933/3000]: Train loss: 1.1789, Valid loss: 1.3093\n"
     ]
    },
    {
     "name": "stderr",
     "output_type": "stream",
     "text": [
      "Epoch [934/3000]: 100%|██████████| 9/9 [00:00<00:00, 126.70it/s, loss=1.27]\n"
     ]
    },
    {
     "name": "stdout",
     "output_type": "stream",
     "text": [
      "Epoch [934/3000]: Train loss: 1.1810, Valid loss: 1.3170\n"
     ]
    },
    {
     "name": "stderr",
     "output_type": "stream",
     "text": [
      "Epoch [935/3000]: 100%|██████████| 9/9 [00:00<00:00, 127.54it/s, loss=1.09]\n"
     ]
    },
    {
     "name": "stdout",
     "output_type": "stream",
     "text": [
      "Epoch [935/3000]: Train loss: 1.1676, Valid loss: 1.2259\n"
     ]
    },
    {
     "name": "stderr",
     "output_type": "stream",
     "text": [
      "Epoch [936/3000]: 100%|██████████| 9/9 [00:00<00:00, 126.81it/s, loss=0.983]\n"
     ]
    },
    {
     "name": "stdout",
     "output_type": "stream",
     "text": [
      "Epoch [936/3000]: Train loss: 1.1732, Valid loss: 1.1896\n"
     ]
    },
    {
     "name": "stderr",
     "output_type": "stream",
     "text": [
      "Epoch [937/3000]: 100%|██████████| 9/9 [00:00<00:00, 133.37it/s, loss=1.02]\n"
     ]
    },
    {
     "name": "stdout",
     "output_type": "stream",
     "text": [
      "Epoch [937/3000]: Train loss: 1.1614, Valid loss: 1.2404\n"
     ]
    },
    {
     "name": "stderr",
     "output_type": "stream",
     "text": [
      "Epoch [938/3000]: 100%|██████████| 9/9 [00:00<00:00, 130.17it/s, loss=0.623]\n"
     ]
    },
    {
     "name": "stdout",
     "output_type": "stream",
     "text": [
      "Epoch [938/3000]: Train loss: 1.1372, Valid loss: 1.2529\n"
     ]
    },
    {
     "name": "stderr",
     "output_type": "stream",
     "text": [
      "Epoch [939/3000]: 100%|██████████| 9/9 [00:00<00:00, 138.46it/s, loss=0.822]\n"
     ]
    },
    {
     "name": "stdout",
     "output_type": "stream",
     "text": [
      "Epoch [939/3000]: Train loss: 1.1564, Valid loss: 1.1444\n"
     ]
    },
    {
     "name": "stderr",
     "output_type": "stream",
     "text": [
      "Epoch [940/3000]: 100%|██████████| 9/9 [00:00<00:00, 142.34it/s, loss=1.25]\n"
     ]
    },
    {
     "name": "stdout",
     "output_type": "stream",
     "text": [
      "Epoch [940/3000]: Train loss: 1.1739, Valid loss: 1.6094\n"
     ]
    },
    {
     "name": "stderr",
     "output_type": "stream",
     "text": [
      "Epoch [941/3000]: 100%|██████████| 9/9 [00:00<00:00, 135.71it/s, loss=1.43]\n"
     ]
    },
    {
     "name": "stdout",
     "output_type": "stream",
     "text": [
      "Epoch [941/3000]: Train loss: 1.1828, Valid loss: 1.6422\n"
     ]
    },
    {
     "name": "stderr",
     "output_type": "stream",
     "text": [
      "Epoch [942/3000]: 100%|██████████| 9/9 [00:00<00:00, 135.35it/s, loss=1.65]\n"
     ]
    },
    {
     "name": "stdout",
     "output_type": "stream",
     "text": [
      "Epoch [942/3000]: Train loss: 1.2201, Valid loss: 1.6046\n"
     ]
    },
    {
     "name": "stderr",
     "output_type": "stream",
     "text": [
      "Epoch [943/3000]: 100%|██████████| 9/9 [00:00<00:00, 123.58it/s, loss=1.63]\n"
     ]
    },
    {
     "name": "stdout",
     "output_type": "stream",
     "text": [
      "Epoch [943/3000]: Train loss: 1.2276, Valid loss: 1.4066\n"
     ]
    },
    {
     "name": "stderr",
     "output_type": "stream",
     "text": [
      "Epoch [944/3000]: 100%|██████████| 9/9 [00:00<00:00, 147.48it/s, loss=0.901]\n"
     ]
    },
    {
     "name": "stdout",
     "output_type": "stream",
     "text": [
      "Epoch [944/3000]: Train loss: 1.1680, Valid loss: 1.4701\n"
     ]
    },
    {
     "name": "stderr",
     "output_type": "stream",
     "text": [
      "Epoch [945/3000]: 100%|██████████| 9/9 [00:00<00:00, 146.76it/s, loss=1.22]\n"
     ]
    },
    {
     "name": "stdout",
     "output_type": "stream",
     "text": [
      "Epoch [945/3000]: Train loss: 1.2050, Valid loss: 1.6971\n"
     ]
    },
    {
     "name": "stderr",
     "output_type": "stream",
     "text": [
      "Epoch [946/3000]: 100%|██████████| 9/9 [00:00<00:00, 157.20it/s, loss=1.42]\n"
     ]
    },
    {
     "name": "stdout",
     "output_type": "stream",
     "text": [
      "Epoch [946/3000]: Train loss: 1.2010, Valid loss: 1.4328\n"
     ]
    },
    {
     "name": "stderr",
     "output_type": "stream",
     "text": [
      "Epoch [947/3000]: 100%|██████████| 9/9 [00:00<00:00, 149.65it/s, loss=1.5]\n"
     ]
    },
    {
     "name": "stdout",
     "output_type": "stream",
     "text": [
      "Epoch [947/3000]: Train loss: 1.2048, Valid loss: 1.1033\n",
      "Saving model with loss 1.103...\n"
     ]
    },
    {
     "name": "stderr",
     "output_type": "stream",
     "text": [
      "Epoch [948/3000]: 100%|██████████| 9/9 [00:00<00:00, 153.46it/s, loss=1.15]\n"
     ]
    },
    {
     "name": "stdout",
     "output_type": "stream",
     "text": [
      "Epoch [948/3000]: Train loss: 1.1670, Valid loss: 1.1815\n"
     ]
    },
    {
     "name": "stderr",
     "output_type": "stream",
     "text": [
      "Epoch [949/3000]: 100%|██████████| 9/9 [00:00<00:00, 152.11it/s, loss=1.19]\n"
     ]
    },
    {
     "name": "stdout",
     "output_type": "stream",
     "text": [
      "Epoch [949/3000]: Train loss: 1.1790, Valid loss: 1.3745\n"
     ]
    },
    {
     "name": "stderr",
     "output_type": "stream",
     "text": [
      "Epoch [950/3000]: 100%|██████████| 9/9 [00:00<00:00, 119.69it/s, loss=0.852]\n"
     ]
    },
    {
     "name": "stdout",
     "output_type": "stream",
     "text": [
      "Epoch [950/3000]: Train loss: 1.1532, Valid loss: 1.7857\n"
     ]
    },
    {
     "name": "stderr",
     "output_type": "stream",
     "text": [
      "Epoch [951/3000]: 100%|██████████| 9/9 [00:00<00:00, 138.68it/s, loss=1.3]\n"
     ]
    },
    {
     "name": "stdout",
     "output_type": "stream",
     "text": [
      "Epoch [951/3000]: Train loss: 1.1811, Valid loss: 1.2436\n"
     ]
    },
    {
     "name": "stderr",
     "output_type": "stream",
     "text": [
      "Epoch [952/3000]: 100%|██████████| 9/9 [00:00<00:00, 143.91it/s, loss=1.32]\n"
     ]
    },
    {
     "name": "stdout",
     "output_type": "stream",
     "text": [
      "Epoch [952/3000]: Train loss: 1.2049, Valid loss: 1.3544\n"
     ]
    },
    {
     "name": "stderr",
     "output_type": "stream",
     "text": [
      "Epoch [953/3000]: 100%|██████████| 9/9 [00:00<00:00, 132.23it/s, loss=1.05]\n"
     ]
    },
    {
     "name": "stdout",
     "output_type": "stream",
     "text": [
      "Epoch [953/3000]: Train loss: 1.1669, Valid loss: 1.0635\n",
      "Saving model with loss 1.063...\n"
     ]
    },
    {
     "name": "stderr",
     "output_type": "stream",
     "text": [
      "Epoch [954/3000]: 100%|██████████| 9/9 [00:00<00:00, 130.79it/s, loss=0.864]\n"
     ]
    },
    {
     "name": "stdout",
     "output_type": "stream",
     "text": [
      "Epoch [954/3000]: Train loss: 1.1471, Valid loss: 1.4967\n"
     ]
    },
    {
     "name": "stderr",
     "output_type": "stream",
     "text": [
      "Epoch [955/3000]: 100%|██████████| 9/9 [00:00<00:00, 133.30it/s, loss=1.56]\n"
     ]
    },
    {
     "name": "stdout",
     "output_type": "stream",
     "text": [
      "Epoch [955/3000]: Train loss: 1.2105, Valid loss: 1.4044\n"
     ]
    },
    {
     "name": "stderr",
     "output_type": "stream",
     "text": [
      "Epoch [956/3000]: 100%|██████████| 9/9 [00:00<00:00, 141.53it/s, loss=1.02]\n"
     ]
    },
    {
     "name": "stdout",
     "output_type": "stream",
     "text": [
      "Epoch [956/3000]: Train loss: 1.1730, Valid loss: 1.2823\n"
     ]
    },
    {
     "name": "stderr",
     "output_type": "stream",
     "text": [
      "Epoch [957/3000]: 100%|██████████| 9/9 [00:00<00:00, 144.70it/s, loss=1.08]\n"
     ]
    },
    {
     "name": "stdout",
     "output_type": "stream",
     "text": [
      "Epoch [957/3000]: Train loss: 1.1712, Valid loss: 1.3462\n"
     ]
    },
    {
     "name": "stderr",
     "output_type": "stream",
     "text": [
      "Epoch [958/3000]: 100%|██████████| 9/9 [00:00<00:00, 139.48it/s, loss=0.922]\n"
     ]
    },
    {
     "name": "stdout",
     "output_type": "stream",
     "text": [
      "Epoch [958/3000]: Train loss: 1.1972, Valid loss: 1.5082\n"
     ]
    },
    {
     "name": "stderr",
     "output_type": "stream",
     "text": [
      "Epoch [959/3000]: 100%|██████████| 9/9 [00:00<00:00, 136.51it/s, loss=1.33]\n"
     ]
    },
    {
     "name": "stdout",
     "output_type": "stream",
     "text": [
      "Epoch [959/3000]: Train loss: 1.2659, Valid loss: 1.9048\n"
     ]
    },
    {
     "name": "stderr",
     "output_type": "stream",
     "text": [
      "Epoch [960/3000]: 100%|██████████| 9/9 [00:00<00:00, 149.54it/s, loss=1.42]\n"
     ]
    },
    {
     "name": "stdout",
     "output_type": "stream",
     "text": [
      "Epoch [960/3000]: Train loss: 1.2126, Valid loss: 1.5316\n"
     ]
    },
    {
     "name": "stderr",
     "output_type": "stream",
     "text": [
      "Epoch [961/3000]: 100%|██████████| 9/9 [00:00<00:00, 147.81it/s, loss=1.12]\n"
     ]
    },
    {
     "name": "stdout",
     "output_type": "stream",
     "text": [
      "Epoch [961/3000]: Train loss: 1.1861, Valid loss: 1.5061\n"
     ]
    },
    {
     "name": "stderr",
     "output_type": "stream",
     "text": [
      "Epoch [962/3000]: 100%|██████████| 9/9 [00:00<00:00, 144.39it/s, loss=0.861]\n"
     ]
    },
    {
     "name": "stdout",
     "output_type": "stream",
     "text": [
      "Epoch [962/3000]: Train loss: 1.1673, Valid loss: 1.3969\n"
     ]
    },
    {
     "name": "stderr",
     "output_type": "stream",
     "text": [
      "Epoch [963/3000]: 100%|██████████| 9/9 [00:00<00:00, 142.64it/s, loss=1.04]\n"
     ]
    },
    {
     "name": "stdout",
     "output_type": "stream",
     "text": [
      "Epoch [963/3000]: Train loss: 1.1878, Valid loss: 1.1408\n"
     ]
    },
    {
     "name": "stderr",
     "output_type": "stream",
     "text": [
      "Epoch [964/3000]: 100%|██████████| 9/9 [00:00<00:00, 63.55it/s, loss=1.14] \n"
     ]
    },
    {
     "name": "stdout",
     "output_type": "stream",
     "text": [
      "Epoch [964/3000]: Train loss: 1.1661, Valid loss: 1.2486\n"
     ]
    },
    {
     "name": "stderr",
     "output_type": "stream",
     "text": [
      "Epoch [965/3000]: 100%|██████████| 9/9 [00:00<00:00, 131.49it/s, loss=1.28]\n"
     ]
    },
    {
     "name": "stdout",
     "output_type": "stream",
     "text": [
      "Epoch [965/3000]: Train loss: 1.1737, Valid loss: 1.1928\n"
     ]
    },
    {
     "name": "stderr",
     "output_type": "stream",
     "text": [
      "Epoch [966/3000]: 100%|██████████| 9/9 [00:00<00:00, 138.55it/s, loss=1.27]\n"
     ]
    },
    {
     "name": "stdout",
     "output_type": "stream",
     "text": [
      "Epoch [966/3000]: Train loss: 1.1787, Valid loss: 1.5370\n"
     ]
    },
    {
     "name": "stderr",
     "output_type": "stream",
     "text": [
      "Epoch [967/3000]: 100%|██████████| 9/9 [00:00<00:00, 162.15it/s, loss=1.13]\n"
     ]
    },
    {
     "name": "stdout",
     "output_type": "stream",
     "text": [
      "Epoch [967/3000]: Train loss: 1.1715, Valid loss: 1.2876\n"
     ]
    },
    {
     "name": "stderr",
     "output_type": "stream",
     "text": [
      "Epoch [968/3000]: 100%|██████████| 9/9 [00:00<00:00, 150.89it/s, loss=1.06]\n"
     ]
    },
    {
     "name": "stdout",
     "output_type": "stream",
     "text": [
      "Epoch [968/3000]: Train loss: 1.1621, Valid loss: 1.2096\n"
     ]
    },
    {
     "name": "stderr",
     "output_type": "stream",
     "text": [
      "Epoch [969/3000]: 100%|██████████| 9/9 [00:00<00:00, 148.78it/s, loss=1.09]\n"
     ]
    },
    {
     "name": "stdout",
     "output_type": "stream",
     "text": [
      "Epoch [969/3000]: Train loss: 1.1747, Valid loss: 1.3046\n"
     ]
    },
    {
     "name": "stderr",
     "output_type": "stream",
     "text": [
      "Epoch [970/3000]: 100%|██████████| 9/9 [00:00<00:00, 147.99it/s, loss=1.39]\n"
     ]
    },
    {
     "name": "stdout",
     "output_type": "stream",
     "text": [
      "Epoch [970/3000]: Train loss: 1.2206, Valid loss: 1.2475\n"
     ]
    },
    {
     "name": "stderr",
     "output_type": "stream",
     "text": [
      "Epoch [971/3000]: 100%|██████████| 9/9 [00:00<00:00, 145.39it/s, loss=1.21]\n"
     ]
    },
    {
     "name": "stdout",
     "output_type": "stream",
     "text": [
      "Epoch [971/3000]: Train loss: 1.1811, Valid loss: 1.2690\n"
     ]
    },
    {
     "name": "stderr",
     "output_type": "stream",
     "text": [
      "Epoch [972/3000]: 100%|██████████| 9/9 [00:00<00:00, 156.79it/s, loss=1.25]\n"
     ]
    },
    {
     "name": "stdout",
     "output_type": "stream",
     "text": [
      "Epoch [972/3000]: Train loss: 1.2007, Valid loss: 1.7208\n"
     ]
    },
    {
     "name": "stderr",
     "output_type": "stream",
     "text": [
      "Epoch [973/3000]: 100%|██████████| 9/9 [00:00<00:00, 154.48it/s, loss=1.13]\n"
     ]
    },
    {
     "name": "stdout",
     "output_type": "stream",
     "text": [
      "Epoch [973/3000]: Train loss: 1.2242, Valid loss: 1.5324\n"
     ]
    },
    {
     "name": "stderr",
     "output_type": "stream",
     "text": [
      "Epoch [974/3000]: 100%|██████████| 9/9 [00:00<00:00, 153.26it/s, loss=1.24]\n"
     ]
    },
    {
     "name": "stdout",
     "output_type": "stream",
     "text": [
      "Epoch [974/3000]: Train loss: 1.2435, Valid loss: 1.4535\n"
     ]
    },
    {
     "name": "stderr",
     "output_type": "stream",
     "text": [
      "Epoch [975/3000]: 100%|██████████| 9/9 [00:00<00:00, 148.82it/s, loss=1.42]\n"
     ]
    },
    {
     "name": "stdout",
     "output_type": "stream",
     "text": [
      "Epoch [975/3000]: Train loss: 1.2049, Valid loss: 1.4693\n"
     ]
    },
    {
     "name": "stderr",
     "output_type": "stream",
     "text": [
      "Epoch [976/3000]: 100%|██████████| 9/9 [00:00<00:00, 146.48it/s, loss=1.01]\n"
     ]
    },
    {
     "name": "stdout",
     "output_type": "stream",
     "text": [
      "Epoch [976/3000]: Train loss: 1.1656, Valid loss: 1.4204\n"
     ]
    },
    {
     "name": "stderr",
     "output_type": "stream",
     "text": [
      "Epoch [977/3000]: 100%|██████████| 9/9 [00:00<00:00, 136.95it/s, loss=0.956]\n"
     ]
    },
    {
     "name": "stdout",
     "output_type": "stream",
     "text": [
      "Epoch [977/3000]: Train loss: 1.1509, Valid loss: 1.2694\n"
     ]
    },
    {
     "name": "stderr",
     "output_type": "stream",
     "text": [
      "Epoch [978/3000]: 100%|██████████| 9/9 [00:00<00:00, 131.18it/s, loss=1.63]\n"
     ]
    },
    {
     "name": "stdout",
     "output_type": "stream",
     "text": [
      "Epoch [978/3000]: Train loss: 1.2043, Valid loss: 1.2086\n"
     ]
    },
    {
     "name": "stderr",
     "output_type": "stream",
     "text": [
      "Epoch [979/3000]: 100%|██████████| 9/9 [00:00<00:00, 149.83it/s, loss=1.47]\n"
     ]
    },
    {
     "name": "stdout",
     "output_type": "stream",
     "text": [
      "Epoch [979/3000]: Train loss: 1.1922, Valid loss: 1.2861\n"
     ]
    },
    {
     "name": "stderr",
     "output_type": "stream",
     "text": [
      "Epoch [980/3000]: 100%|██████████| 9/9 [00:00<00:00, 149.73it/s, loss=1]\n"
     ]
    },
    {
     "name": "stdout",
     "output_type": "stream",
     "text": [
      "Epoch [980/3000]: Train loss: 1.1633, Valid loss: 1.2750\n"
     ]
    },
    {
     "name": "stderr",
     "output_type": "stream",
     "text": [
      "Epoch [981/3000]: 100%|██████████| 9/9 [00:00<00:00, 137.98it/s, loss=1.07]\n"
     ]
    },
    {
     "name": "stdout",
     "output_type": "stream",
     "text": [
      "Epoch [981/3000]: Train loss: 1.1608, Valid loss: 1.2058\n"
     ]
    },
    {
     "name": "stderr",
     "output_type": "stream",
     "text": [
      "Epoch [982/3000]: 100%|██████████| 9/9 [00:00<00:00, 139.35it/s, loss=0.954]\n"
     ]
    },
    {
     "name": "stdout",
     "output_type": "stream",
     "text": [
      "Epoch [982/3000]: Train loss: 1.1615, Valid loss: 1.3443\n"
     ]
    },
    {
     "name": "stderr",
     "output_type": "stream",
     "text": [
      "Epoch [983/3000]: 100%|██████████| 9/9 [00:00<00:00, 133.87it/s, loss=1.04]\n"
     ]
    },
    {
     "name": "stdout",
     "output_type": "stream",
     "text": [
      "Epoch [983/3000]: Train loss: 1.1641, Valid loss: 1.4159\n"
     ]
    },
    {
     "name": "stderr",
     "output_type": "stream",
     "text": [
      "Epoch [984/3000]: 100%|██████████| 9/9 [00:00<00:00, 147.01it/s, loss=1.05]\n"
     ]
    },
    {
     "name": "stdout",
     "output_type": "stream",
     "text": [
      "Epoch [984/3000]: Train loss: 1.1589, Valid loss: 1.3144\n"
     ]
    },
    {
     "name": "stderr",
     "output_type": "stream",
     "text": [
      "Epoch [985/3000]: 100%|██████████| 9/9 [00:00<00:00, 141.57it/s, loss=1.39]\n"
     ]
    },
    {
     "name": "stdout",
     "output_type": "stream",
     "text": [
      "Epoch [985/3000]: Train loss: 1.1807, Valid loss: 1.2314\n"
     ]
    },
    {
     "name": "stderr",
     "output_type": "stream",
     "text": [
      "Epoch [986/3000]: 100%|██████████| 9/9 [00:00<00:00, 122.19it/s, loss=0.834]\n"
     ]
    },
    {
     "name": "stdout",
     "output_type": "stream",
     "text": [
      "Epoch [986/3000]: Train loss: 1.1471, Valid loss: 1.2538\n"
     ]
    },
    {
     "name": "stderr",
     "output_type": "stream",
     "text": [
      "Epoch [987/3000]: 100%|██████████| 9/9 [00:00<00:00, 147.57it/s, loss=1.17]\n"
     ]
    },
    {
     "name": "stdout",
     "output_type": "stream",
     "text": [
      "Epoch [987/3000]: Train loss: 1.1624, Valid loss: 1.3444\n"
     ]
    },
    {
     "name": "stderr",
     "output_type": "stream",
     "text": [
      "Epoch [988/3000]: 100%|██████████| 9/9 [00:00<00:00, 137.52it/s, loss=1.26]\n"
     ]
    },
    {
     "name": "stdout",
     "output_type": "stream",
     "text": [
      "Epoch [988/3000]: Train loss: 1.2031, Valid loss: 1.1999\n"
     ]
    },
    {
     "name": "stderr",
     "output_type": "stream",
     "text": [
      "Epoch [989/3000]: 100%|██████████| 9/9 [00:00<00:00, 130.03it/s, loss=0.852]\n"
     ]
    },
    {
     "name": "stdout",
     "output_type": "stream",
     "text": [
      "Epoch [989/3000]: Train loss: 1.1434, Valid loss: 1.1811\n"
     ]
    },
    {
     "name": "stderr",
     "output_type": "stream",
     "text": [
      "Epoch [990/3000]: 100%|██████████| 9/9 [00:00<00:00, 150.30it/s, loss=1.01]\n"
     ]
    },
    {
     "name": "stdout",
     "output_type": "stream",
     "text": [
      "Epoch [990/3000]: Train loss: 1.1484, Valid loss: 1.1753\n"
     ]
    },
    {
     "name": "stderr",
     "output_type": "stream",
     "text": [
      "Epoch [991/3000]: 100%|██████████| 9/9 [00:00<00:00, 135.74it/s, loss=1.09]\n"
     ]
    },
    {
     "name": "stdout",
     "output_type": "stream",
     "text": [
      "Epoch [991/3000]: Train loss: 1.1645, Valid loss: 1.2970\n"
     ]
    },
    {
     "name": "stderr",
     "output_type": "stream",
     "text": [
      "Epoch [992/3000]: 100%|██████████| 9/9 [00:00<00:00, 148.13it/s, loss=1.46]\n"
     ]
    },
    {
     "name": "stdout",
     "output_type": "stream",
     "text": [
      "Epoch [992/3000]: Train loss: 1.1991, Valid loss: 1.1967\n"
     ]
    },
    {
     "name": "stderr",
     "output_type": "stream",
     "text": [
      "Epoch [993/3000]: 100%|██████████| 9/9 [00:00<00:00, 118.33it/s, loss=1.46]\n"
     ]
    },
    {
     "name": "stdout",
     "output_type": "stream",
     "text": [
      "Epoch [993/3000]: Train loss: 1.1888, Valid loss: 1.4972\n"
     ]
    },
    {
     "name": "stderr",
     "output_type": "stream",
     "text": [
      "Epoch [994/3000]: 100%|██████████| 9/9 [00:00<00:00, 151.57it/s, loss=0.766]\n"
     ]
    },
    {
     "name": "stdout",
     "output_type": "stream",
     "text": [
      "Epoch [994/3000]: Train loss: 1.1464, Valid loss: 1.2761\n"
     ]
    },
    {
     "name": "stderr",
     "output_type": "stream",
     "text": [
      "Epoch [995/3000]: 100%|██████████| 9/9 [00:00<00:00, 166.62it/s, loss=1.33]\n"
     ]
    },
    {
     "name": "stdout",
     "output_type": "stream",
     "text": [
      "Epoch [995/3000]: Train loss: 1.1894, Valid loss: 1.1865\n"
     ]
    },
    {
     "name": "stderr",
     "output_type": "stream",
     "text": [
      "Epoch [996/3000]: 100%|██████████| 9/9 [00:00<00:00, 176.57it/s, loss=1.36]\n"
     ]
    },
    {
     "name": "stdout",
     "output_type": "stream",
     "text": [
      "Epoch [996/3000]: Train loss: 1.1772, Valid loss: 1.3406\n"
     ]
    },
    {
     "name": "stderr",
     "output_type": "stream",
     "text": [
      "Epoch [997/3000]: 100%|██████████| 9/9 [00:00<00:00, 176.46it/s, loss=1.06]\n"
     ]
    },
    {
     "name": "stdout",
     "output_type": "stream",
     "text": [
      "Epoch [997/3000]: Train loss: 1.1595, Valid loss: 1.3909\n"
     ]
    },
    {
     "name": "stderr",
     "output_type": "stream",
     "text": [
      "Epoch [998/3000]: 100%|██████████| 9/9 [00:00<00:00, 172.71it/s, loss=1.22]\n"
     ]
    },
    {
     "name": "stdout",
     "output_type": "stream",
     "text": [
      "Epoch [998/3000]: Train loss: 1.1960, Valid loss: 1.2373\n"
     ]
    },
    {
     "name": "stderr",
     "output_type": "stream",
     "text": [
      "Epoch [999/3000]: 100%|██████████| 9/9 [00:00<00:00, 168.67it/s, loss=1.16]\n"
     ]
    },
    {
     "name": "stdout",
     "output_type": "stream",
     "text": [
      "Epoch [999/3000]: Train loss: 1.2055, Valid loss: 1.3413\n"
     ]
    },
    {
     "name": "stderr",
     "output_type": "stream",
     "text": [
      "Epoch [1000/3000]: 100%|██████████| 9/9 [00:00<00:00, 156.40it/s, loss=0.833]\n"
     ]
    },
    {
     "name": "stdout",
     "output_type": "stream",
     "text": [
      "Epoch [1000/3000]: Train loss: 1.1616, Valid loss: 1.4614\n"
     ]
    },
    {
     "name": "stderr",
     "output_type": "stream",
     "text": [
      "Epoch [1001/3000]: 100%|██████████| 9/9 [00:00<00:00, 170.94it/s, loss=1.32]\n"
     ]
    },
    {
     "name": "stdout",
     "output_type": "stream",
     "text": [
      "Epoch [1001/3000]: Train loss: 1.1742, Valid loss: 1.2962\n"
     ]
    },
    {
     "name": "stderr",
     "output_type": "stream",
     "text": [
      "Epoch [1002/3000]: 100%|██████████| 9/9 [00:00<00:00, 152.84it/s, loss=1.26]\n"
     ]
    },
    {
     "name": "stdout",
     "output_type": "stream",
     "text": [
      "Epoch [1002/3000]: Train loss: 1.1718, Valid loss: 1.1429\n"
     ]
    },
    {
     "name": "stderr",
     "output_type": "stream",
     "text": [
      "Epoch [1003/3000]: 100%|██████████| 9/9 [00:00<00:00, 137.31it/s, loss=1]\n"
     ]
    },
    {
     "name": "stdout",
     "output_type": "stream",
     "text": [
      "Epoch [1003/3000]: Train loss: 1.1553, Valid loss: 1.2767\n"
     ]
    },
    {
     "name": "stderr",
     "output_type": "stream",
     "text": [
      "Epoch [1004/3000]: 100%|██████████| 9/9 [00:00<00:00, 146.53it/s, loss=1.1]\n"
     ]
    },
    {
     "name": "stdout",
     "output_type": "stream",
     "text": [
      "Epoch [1004/3000]: Train loss: 1.1605, Valid loss: 1.3347\n"
     ]
    },
    {
     "name": "stderr",
     "output_type": "stream",
     "text": [
      "Epoch [1005/3000]: 100%|██████████| 9/9 [00:00<00:00, 68.15it/s, loss=1.03] \n"
     ]
    },
    {
     "name": "stdout",
     "output_type": "stream",
     "text": [
      "Epoch [1005/3000]: Train loss: 1.1638, Valid loss: 1.2319\n"
     ]
    },
    {
     "name": "stderr",
     "output_type": "stream",
     "text": [
      "Epoch [1006/3000]: 100%|██████████| 9/9 [00:00<00:00, 135.88it/s, loss=1.13]\n"
     ]
    },
    {
     "name": "stdout",
     "output_type": "stream",
     "text": [
      "Epoch [1006/3000]: Train loss: 1.1602, Valid loss: 1.3513\n"
     ]
    },
    {
     "name": "stderr",
     "output_type": "stream",
     "text": [
      "Epoch [1007/3000]: 100%|██████████| 9/9 [00:00<00:00, 120.36it/s, loss=1.24]\n"
     ]
    },
    {
     "name": "stdout",
     "output_type": "stream",
     "text": [
      "Epoch [1007/3000]: Train loss: 1.1715, Valid loss: 1.3923\n"
     ]
    },
    {
     "name": "stderr",
     "output_type": "stream",
     "text": [
      "Epoch [1008/3000]: 100%|██████████| 9/9 [00:00<00:00, 129.21it/s, loss=1.31]\n"
     ]
    },
    {
     "name": "stdout",
     "output_type": "stream",
     "text": [
      "Epoch [1008/3000]: Train loss: 1.1836, Valid loss: 1.1618\n"
     ]
    },
    {
     "name": "stderr",
     "output_type": "stream",
     "text": [
      "Epoch [1009/3000]: 100%|██████████| 9/9 [00:00<00:00, 149.21it/s, loss=1.25]\n"
     ]
    },
    {
     "name": "stdout",
     "output_type": "stream",
     "text": [
      "Epoch [1009/3000]: Train loss: 1.1837, Valid loss: 1.2392\n"
     ]
    },
    {
     "name": "stderr",
     "output_type": "stream",
     "text": [
      "Epoch [1010/3000]: 100%|██████████| 9/9 [00:00<00:00, 113.49it/s, loss=1.09]\n"
     ]
    },
    {
     "name": "stdout",
     "output_type": "stream",
     "text": [
      "Epoch [1010/3000]: Train loss: 1.1630, Valid loss: 1.5408\n"
     ]
    },
    {
     "name": "stderr",
     "output_type": "stream",
     "text": [
      "Epoch [1011/3000]: 100%|██████████| 9/9 [00:00<00:00, 130.28it/s, loss=1.05]\n"
     ]
    },
    {
     "name": "stdout",
     "output_type": "stream",
     "text": [
      "Epoch [1011/3000]: Train loss: 1.1661, Valid loss: 1.4582\n"
     ]
    },
    {
     "name": "stderr",
     "output_type": "stream",
     "text": [
      "Epoch [1012/3000]: 100%|██████████| 9/9 [00:00<00:00, 134.38it/s, loss=0.849]\n"
     ]
    },
    {
     "name": "stdout",
     "output_type": "stream",
     "text": [
      "Epoch [1012/3000]: Train loss: 1.1652, Valid loss: 1.1490\n"
     ]
    },
    {
     "name": "stderr",
     "output_type": "stream",
     "text": [
      "Epoch [1013/3000]: 100%|██████████| 9/9 [00:00<00:00, 147.85it/s, loss=1.28]\n"
     ]
    },
    {
     "name": "stdout",
     "output_type": "stream",
     "text": [
      "Epoch [1013/3000]: Train loss: 1.1808, Valid loss: 1.3520\n"
     ]
    },
    {
     "name": "stderr",
     "output_type": "stream",
     "text": [
      "Epoch [1014/3000]: 100%|██████████| 9/9 [00:00<00:00, 153.61it/s, loss=1.17]\n"
     ]
    },
    {
     "name": "stdout",
     "output_type": "stream",
     "text": [
      "Epoch [1014/3000]: Train loss: 1.1589, Valid loss: 1.3734\n"
     ]
    },
    {
     "name": "stderr",
     "output_type": "stream",
     "text": [
      "Epoch [1015/3000]: 100%|██████████| 9/9 [00:00<00:00, 148.18it/s, loss=1.12]\n"
     ]
    },
    {
     "name": "stdout",
     "output_type": "stream",
     "text": [
      "Epoch [1015/3000]: Train loss: 1.1578, Valid loss: 1.3359\n"
     ]
    },
    {
     "name": "stderr",
     "output_type": "stream",
     "text": [
      "Epoch [1016/3000]: 100%|██████████| 9/9 [00:00<00:00, 159.53it/s, loss=0.848]\n"
     ]
    },
    {
     "name": "stdout",
     "output_type": "stream",
     "text": [
      "Epoch [1016/3000]: Train loss: 1.1493, Valid loss: 1.2365\n"
     ]
    },
    {
     "name": "stderr",
     "output_type": "stream",
     "text": [
      "Epoch [1017/3000]: 100%|██████████| 9/9 [00:00<00:00, 159.06it/s, loss=0.807]\n"
     ]
    },
    {
     "name": "stdout",
     "output_type": "stream",
     "text": [
      "Epoch [1017/3000]: Train loss: 1.1366, Valid loss: 1.4535\n"
     ]
    },
    {
     "name": "stderr",
     "output_type": "stream",
     "text": [
      "Epoch [1018/3000]: 100%|██████████| 9/9 [00:00<00:00, 158.02it/s, loss=1.12]\n"
     ]
    },
    {
     "name": "stdout",
     "output_type": "stream",
     "text": [
      "Epoch [1018/3000]: Train loss: 1.1611, Valid loss: 1.4794\n"
     ]
    },
    {
     "name": "stderr",
     "output_type": "stream",
     "text": [
      "Epoch [1019/3000]: 100%|██████████| 9/9 [00:00<00:00, 156.40it/s, loss=1.02]\n"
     ]
    },
    {
     "name": "stdout",
     "output_type": "stream",
     "text": [
      "Epoch [1019/3000]: Train loss: 1.1531, Valid loss: 1.3029\n"
     ]
    },
    {
     "name": "stderr",
     "output_type": "stream",
     "text": [
      "Epoch [1020/3000]: 100%|██████████| 9/9 [00:00<00:00, 127.58it/s, loss=1.32]\n"
     ]
    },
    {
     "name": "stdout",
     "output_type": "stream",
     "text": [
      "Epoch [1020/3000]: Train loss: 1.1696, Valid loss: 1.3131\n"
     ]
    },
    {
     "name": "stderr",
     "output_type": "stream",
     "text": [
      "Epoch [1021/3000]: 100%|██████████| 9/9 [00:00<00:00, 139.42it/s, loss=0.974]\n"
     ]
    },
    {
     "name": "stdout",
     "output_type": "stream",
     "text": [
      "Epoch [1021/3000]: Train loss: 1.1498, Valid loss: 1.3528\n"
     ]
    },
    {
     "name": "stderr",
     "output_type": "stream",
     "text": [
      "Epoch [1022/3000]: 100%|██████████| 9/9 [00:00<00:00, 150.33it/s, loss=1.28]\n"
     ]
    },
    {
     "name": "stdout",
     "output_type": "stream",
     "text": [
      "Epoch [1022/3000]: Train loss: 1.1714, Valid loss: 1.4310\n"
     ]
    },
    {
     "name": "stderr",
     "output_type": "stream",
     "text": [
      "Epoch [1023/3000]: 100%|██████████| 9/9 [00:00<00:00, 123.42it/s, loss=1.38]\n"
     ]
    },
    {
     "name": "stdout",
     "output_type": "stream",
     "text": [
      "Epoch [1023/3000]: Train loss: 1.1998, Valid loss: 1.2262\n"
     ]
    },
    {
     "name": "stderr",
     "output_type": "stream",
     "text": [
      "Epoch [1024/3000]: 100%|██████████| 9/9 [00:00<00:00, 124.17it/s, loss=0.927]\n"
     ]
    },
    {
     "name": "stdout",
     "output_type": "stream",
     "text": [
      "Epoch [1024/3000]: Train loss: 1.1492, Valid loss: 1.1264\n"
     ]
    },
    {
     "name": "stderr",
     "output_type": "stream",
     "text": [
      "Epoch [1025/3000]: 100%|██████████| 9/9 [00:00<00:00, 126.74it/s, loss=1.26]\n"
     ]
    },
    {
     "name": "stdout",
     "output_type": "stream",
     "text": [
      "Epoch [1025/3000]: Train loss: 1.1707, Valid loss: 1.2158\n"
     ]
    },
    {
     "name": "stderr",
     "output_type": "stream",
     "text": [
      "Epoch [1026/3000]: 100%|██████████| 9/9 [00:00<00:00, 118.49it/s, loss=1.27]\n"
     ]
    },
    {
     "name": "stdout",
     "output_type": "stream",
     "text": [
      "Epoch [1026/3000]: Train loss: 1.1742, Valid loss: 1.3700\n"
     ]
    },
    {
     "name": "stderr",
     "output_type": "stream",
     "text": [
      "Epoch [1027/3000]: 100%|██████████| 9/9 [00:00<00:00, 127.45it/s, loss=1.2]\n"
     ]
    },
    {
     "name": "stdout",
     "output_type": "stream",
     "text": [
      "Epoch [1027/3000]: Train loss: 1.1758, Valid loss: 1.5121\n"
     ]
    },
    {
     "name": "stderr",
     "output_type": "stream",
     "text": [
      "Epoch [1028/3000]: 100%|██████████| 9/9 [00:00<00:00, 122.28it/s, loss=1.25]\n"
     ]
    },
    {
     "name": "stdout",
     "output_type": "stream",
     "text": [
      "Epoch [1028/3000]: Train loss: 1.1777, Valid loss: 1.6494\n"
     ]
    },
    {
     "name": "stderr",
     "output_type": "stream",
     "text": [
      "Epoch [1029/3000]: 100%|██████████| 9/9 [00:00<00:00, 125.54it/s, loss=0.899]\n"
     ]
    },
    {
     "name": "stdout",
     "output_type": "stream",
     "text": [
      "Epoch [1029/3000]: Train loss: 1.1528, Valid loss: 1.4497\n"
     ]
    },
    {
     "name": "stderr",
     "output_type": "stream",
     "text": [
      "Epoch [1030/3000]: 100%|██████████| 9/9 [00:00<00:00, 146.36it/s, loss=1.02]\n"
     ]
    },
    {
     "name": "stdout",
     "output_type": "stream",
     "text": [
      "Epoch [1030/3000]: Train loss: 1.1680, Valid loss: 1.4128\n"
     ]
    },
    {
     "name": "stderr",
     "output_type": "stream",
     "text": [
      "Epoch [1031/3000]: 100%|██████████| 9/9 [00:00<00:00, 149.94it/s, loss=1.16]\n"
     ]
    },
    {
     "name": "stdout",
     "output_type": "stream",
     "text": [
      "Epoch [1031/3000]: Train loss: 1.1619, Valid loss: 1.3566\n"
     ]
    },
    {
     "name": "stderr",
     "output_type": "stream",
     "text": [
      "Epoch [1032/3000]: 100%|██████████| 9/9 [00:00<00:00, 127.89it/s, loss=1.15]\n"
     ]
    },
    {
     "name": "stdout",
     "output_type": "stream",
     "text": [
      "Epoch [1032/3000]: Train loss: 1.1565, Valid loss: 1.2091\n"
     ]
    },
    {
     "name": "stderr",
     "output_type": "stream",
     "text": [
      "Epoch [1033/3000]: 100%|██████████| 9/9 [00:00<00:00, 128.59it/s, loss=1.09]\n"
     ]
    },
    {
     "name": "stdout",
     "output_type": "stream",
     "text": [
      "Epoch [1033/3000]: Train loss: 1.1773, Valid loss: 1.2050\n"
     ]
    },
    {
     "name": "stderr",
     "output_type": "stream",
     "text": [
      "Epoch [1034/3000]: 100%|██████████| 9/9 [00:00<00:00, 133.17it/s, loss=0.779]\n"
     ]
    },
    {
     "name": "stdout",
     "output_type": "stream",
     "text": [
      "Epoch [1034/3000]: Train loss: 1.1624, Valid loss: 1.3433\n"
     ]
    },
    {
     "name": "stderr",
     "output_type": "stream",
     "text": [
      "Epoch [1035/3000]: 100%|██████████| 9/9 [00:00<00:00, 136.32it/s, loss=1.07]\n"
     ]
    },
    {
     "name": "stdout",
     "output_type": "stream",
     "text": [
      "Epoch [1035/3000]: Train loss: 1.2004, Valid loss: 1.2587\n"
     ]
    },
    {
     "name": "stderr",
     "output_type": "stream",
     "text": [
      "Epoch [1036/3000]: 100%|██████████| 9/9 [00:00<00:00, 128.09it/s, loss=1.47]\n"
     ]
    },
    {
     "name": "stdout",
     "output_type": "stream",
     "text": [
      "Epoch [1036/3000]: Train loss: 1.1904, Valid loss: 1.4539\n"
     ]
    },
    {
     "name": "stderr",
     "output_type": "stream",
     "text": [
      "Epoch [1037/3000]: 100%|██████████| 9/9 [00:00<00:00, 142.02it/s, loss=1.03]\n"
     ]
    },
    {
     "name": "stdout",
     "output_type": "stream",
     "text": [
      "Epoch [1037/3000]: Train loss: 1.1506, Valid loss: 1.2500\n"
     ]
    },
    {
     "name": "stderr",
     "output_type": "stream",
     "text": [
      "Epoch [1038/3000]: 100%|██████████| 9/9 [00:00<00:00, 143.96it/s, loss=1.54]\n"
     ]
    },
    {
     "name": "stdout",
     "output_type": "stream",
     "text": [
      "Epoch [1038/3000]: Train loss: 1.1886, Valid loss: 1.5239\n"
     ]
    },
    {
     "name": "stderr",
     "output_type": "stream",
     "text": [
      "Epoch [1039/3000]: 100%|██████████| 9/9 [00:00<00:00, 140.35it/s, loss=1.31]\n"
     ]
    },
    {
     "name": "stdout",
     "output_type": "stream",
     "text": [
      "Epoch [1039/3000]: Train loss: 1.1652, Valid loss: 1.4797\n"
     ]
    },
    {
     "name": "stderr",
     "output_type": "stream",
     "text": [
      "Epoch [1040/3000]: 100%|██████████| 9/9 [00:00<00:00, 152.11it/s, loss=1.38]\n"
     ]
    },
    {
     "name": "stdout",
     "output_type": "stream",
     "text": [
      "Epoch [1040/3000]: Train loss: 1.1729, Valid loss: 1.1723\n"
     ]
    },
    {
     "name": "stderr",
     "output_type": "stream",
     "text": [
      "Epoch [1041/3000]: 100%|██████████| 9/9 [00:00<00:00, 150.01it/s, loss=1.01]\n"
     ]
    },
    {
     "name": "stdout",
     "output_type": "stream",
     "text": [
      "Epoch [1041/3000]: Train loss: 1.1504, Valid loss: 1.8506\n"
     ]
    },
    {
     "name": "stderr",
     "output_type": "stream",
     "text": [
      "Epoch [1042/3000]: 100%|██████████| 9/9 [00:00<00:00, 123.29it/s, loss=0.93]\n"
     ]
    },
    {
     "name": "stdout",
     "output_type": "stream",
     "text": [
      "Epoch [1042/3000]: Train loss: 1.1505, Valid loss: 1.3258\n"
     ]
    },
    {
     "name": "stderr",
     "output_type": "stream",
     "text": [
      "Epoch [1043/3000]: 100%|██████████| 9/9 [00:00<00:00, 122.60it/s, loss=1.06]\n"
     ]
    },
    {
     "name": "stdout",
     "output_type": "stream",
     "text": [
      "Epoch [1043/3000]: Train loss: 1.1579, Valid loss: 1.1238\n"
     ]
    },
    {
     "name": "stderr",
     "output_type": "stream",
     "text": [
      "Epoch [1044/3000]: 100%|██████████| 9/9 [00:00<00:00, 149.66it/s, loss=0.832]\n"
     ]
    },
    {
     "name": "stdout",
     "output_type": "stream",
     "text": [
      "Epoch [1044/3000]: Train loss: 1.1595, Valid loss: 1.2864\n"
     ]
    },
    {
     "name": "stderr",
     "output_type": "stream",
     "text": [
      "Epoch [1045/3000]: 100%|██████████| 9/9 [00:00<00:00, 165.31it/s, loss=1.06]\n"
     ]
    },
    {
     "name": "stdout",
     "output_type": "stream",
     "text": [
      "Epoch [1045/3000]: Train loss: 1.1649, Valid loss: 1.3505\n"
     ]
    },
    {
     "name": "stderr",
     "output_type": "stream",
     "text": [
      "Epoch [1046/3000]: 100%|██████████| 9/9 [00:00<00:00, 64.25it/s, loss=0.67]\n"
     ]
    },
    {
     "name": "stdout",
     "output_type": "stream",
     "text": [
      "Epoch [1046/3000]: Train loss: 1.1445, Valid loss: 1.2964\n"
     ]
    },
    {
     "name": "stderr",
     "output_type": "stream",
     "text": [
      "Epoch [1047/3000]: 100%|██████████| 9/9 [00:00<00:00, 166.75it/s, loss=1.42]\n"
     ]
    },
    {
     "name": "stdout",
     "output_type": "stream",
     "text": [
      "Epoch [1047/3000]: Train loss: 1.2004, Valid loss: 1.3318\n"
     ]
    },
    {
     "name": "stderr",
     "output_type": "stream",
     "text": [
      "Epoch [1048/3000]: 100%|██████████| 9/9 [00:00<00:00, 167.91it/s, loss=0.943]\n"
     ]
    },
    {
     "name": "stdout",
     "output_type": "stream",
     "text": [
      "Epoch [1048/3000]: Train loss: 1.1589, Valid loss: 1.5613\n"
     ]
    },
    {
     "name": "stderr",
     "output_type": "stream",
     "text": [
      "Epoch [1049/3000]: 100%|██████████| 9/9 [00:00<00:00, 166.13it/s, loss=0.756]\n"
     ]
    },
    {
     "name": "stdout",
     "output_type": "stream",
     "text": [
      "Epoch [1049/3000]: Train loss: 1.1558, Valid loss: 1.2968\n"
     ]
    },
    {
     "name": "stderr",
     "output_type": "stream",
     "text": [
      "Epoch [1050/3000]: 100%|██████████| 9/9 [00:00<00:00, 129.52it/s, loss=0.75]\n"
     ]
    },
    {
     "name": "stdout",
     "output_type": "stream",
     "text": [
      "Epoch [1050/3000]: Train loss: 1.1487, Valid loss: 1.2816\n"
     ]
    },
    {
     "name": "stderr",
     "output_type": "stream",
     "text": [
      "Epoch [1051/3000]: 100%|██████████| 9/9 [00:00<00:00, 129.64it/s, loss=1.37]\n"
     ]
    },
    {
     "name": "stdout",
     "output_type": "stream",
     "text": [
      "Epoch [1051/3000]: Train loss: 1.1884, Valid loss: 1.3153\n"
     ]
    },
    {
     "name": "stderr",
     "output_type": "stream",
     "text": [
      "Epoch [1052/3000]: 100%|██████████| 9/9 [00:00<00:00, 112.72it/s, loss=0.992]\n"
     ]
    },
    {
     "name": "stdout",
     "output_type": "stream",
     "text": [
      "Epoch [1052/3000]: Train loss: 1.1666, Valid loss: 1.5994\n"
     ]
    },
    {
     "name": "stderr",
     "output_type": "stream",
     "text": [
      "Epoch [1053/3000]: 100%|██████████| 9/9 [00:00<00:00, 131.96it/s, loss=0.931]\n"
     ]
    },
    {
     "name": "stdout",
     "output_type": "stream",
     "text": [
      "Epoch [1053/3000]: Train loss: 1.1609, Valid loss: 1.4817\n"
     ]
    },
    {
     "name": "stderr",
     "output_type": "stream",
     "text": [
      "Epoch [1054/3000]: 100%|██████████| 9/9 [00:00<00:00, 155.40it/s, loss=0.979]\n"
     ]
    },
    {
     "name": "stdout",
     "output_type": "stream",
     "text": [
      "Epoch [1054/3000]: Train loss: 1.1934, Valid loss: 1.3511\n"
     ]
    },
    {
     "name": "stderr",
     "output_type": "stream",
     "text": [
      "Epoch [1055/3000]: 100%|██████████| 9/9 [00:00<00:00, 142.75it/s, loss=1.58]\n"
     ]
    },
    {
     "name": "stdout",
     "output_type": "stream",
     "text": [
      "Epoch [1055/3000]: Train loss: 1.1942, Valid loss: 1.4084\n"
     ]
    },
    {
     "name": "stderr",
     "output_type": "stream",
     "text": [
      "Epoch [1056/3000]: 100%|██████████| 9/9 [00:00<00:00, 132.44it/s, loss=1.55]\n"
     ]
    },
    {
     "name": "stdout",
     "output_type": "stream",
     "text": [
      "Epoch [1056/3000]: Train loss: 1.2001, Valid loss: 1.3685\n"
     ]
    },
    {
     "name": "stderr",
     "output_type": "stream",
     "text": [
      "Epoch [1057/3000]: 100%|██████████| 9/9 [00:00<00:00, 135.36it/s, loss=0.972]\n"
     ]
    },
    {
     "name": "stdout",
     "output_type": "stream",
     "text": [
      "Epoch [1057/3000]: Train loss: 1.1524, Valid loss: 1.4262\n"
     ]
    },
    {
     "name": "stderr",
     "output_type": "stream",
     "text": [
      "Epoch [1058/3000]: 100%|██████████| 9/9 [00:00<00:00, 118.27it/s, loss=0.892]\n"
     ]
    },
    {
     "name": "stdout",
     "output_type": "stream",
     "text": [
      "Epoch [1058/3000]: Train loss: 1.1404, Valid loss: 1.4562\n"
     ]
    },
    {
     "name": "stderr",
     "output_type": "stream",
     "text": [
      "Epoch [1059/3000]: 100%|██████████| 9/9 [00:00<00:00, 155.93it/s, loss=1.25]\n"
     ]
    },
    {
     "name": "stdout",
     "output_type": "stream",
     "text": [
      "Epoch [1059/3000]: Train loss: 1.1675, Valid loss: 1.2602\n"
     ]
    },
    {
     "name": "stderr",
     "output_type": "stream",
     "text": [
      "Epoch [1060/3000]: 100%|██████████| 9/9 [00:00<00:00, 138.01it/s, loss=1.07]\n"
     ]
    },
    {
     "name": "stdout",
     "output_type": "stream",
     "text": [
      "Epoch [1060/3000]: Train loss: 1.1547, Valid loss: 1.3145\n"
     ]
    },
    {
     "name": "stderr",
     "output_type": "stream",
     "text": [
      "Epoch [1061/3000]: 100%|██████████| 9/9 [00:00<00:00, 134.84it/s, loss=1.4]\n"
     ]
    },
    {
     "name": "stdout",
     "output_type": "stream",
     "text": [
      "Epoch [1061/3000]: Train loss: 1.1767, Valid loss: 1.2354\n"
     ]
    },
    {
     "name": "stderr",
     "output_type": "stream",
     "text": [
      "Epoch [1062/3000]: 100%|██████████| 9/9 [00:00<00:00, 134.00it/s, loss=0.873]\n"
     ]
    },
    {
     "name": "stdout",
     "output_type": "stream",
     "text": [
      "Epoch [1062/3000]: Train loss: 1.1396, Valid loss: 1.2762\n"
     ]
    },
    {
     "name": "stderr",
     "output_type": "stream",
     "text": [
      "Epoch [1063/3000]: 100%|██████████| 9/9 [00:00<00:00, 133.42it/s, loss=1.09]\n"
     ]
    },
    {
     "name": "stdout",
     "output_type": "stream",
     "text": [
      "Epoch [1063/3000]: Train loss: 1.1716, Valid loss: 1.8059\n"
     ]
    },
    {
     "name": "stderr",
     "output_type": "stream",
     "text": [
      "Epoch [1064/3000]: 100%|██████████| 9/9 [00:00<00:00, 123.93it/s, loss=1.01]\n"
     ]
    },
    {
     "name": "stdout",
     "output_type": "stream",
     "text": [
      "Epoch [1064/3000]: Train loss: 1.1727, Valid loss: 1.4128\n"
     ]
    },
    {
     "name": "stderr",
     "output_type": "stream",
     "text": [
      "Epoch [1065/3000]: 100%|██████████| 9/9 [00:00<00:00, 143.57it/s, loss=1.26]\n"
     ]
    },
    {
     "name": "stdout",
     "output_type": "stream",
     "text": [
      "Epoch [1065/3000]: Train loss: 1.2021, Valid loss: 1.2474\n"
     ]
    },
    {
     "name": "stderr",
     "output_type": "stream",
     "text": [
      "Epoch [1066/3000]: 100%|██████████| 9/9 [00:00<00:00, 137.14it/s, loss=1.38]\n"
     ]
    },
    {
     "name": "stdout",
     "output_type": "stream",
     "text": [
      "Epoch [1066/3000]: Train loss: 1.2243, Valid loss: 1.1640\n"
     ]
    },
    {
     "name": "stderr",
     "output_type": "stream",
     "text": [
      "Epoch [1067/3000]: 100%|██████████| 9/9 [00:00<00:00, 133.98it/s, loss=1]\n"
     ]
    },
    {
     "name": "stdout",
     "output_type": "stream",
     "text": [
      "Epoch [1067/3000]: Train loss: 1.1769, Valid loss: 1.1536\n"
     ]
    },
    {
     "name": "stderr",
     "output_type": "stream",
     "text": [
      "Epoch [1068/3000]: 100%|██████████| 9/9 [00:00<00:00, 133.95it/s, loss=1.11]\n"
     ]
    },
    {
     "name": "stdout",
     "output_type": "stream",
     "text": [
      "Epoch [1068/3000]: Train loss: 1.1587, Valid loss: 1.4409\n"
     ]
    },
    {
     "name": "stderr",
     "output_type": "stream",
     "text": [
      "Epoch [1069/3000]: 100%|██████████| 9/9 [00:00<00:00, 139.98it/s, loss=0.999]\n"
     ]
    },
    {
     "name": "stdout",
     "output_type": "stream",
     "text": [
      "Epoch [1069/3000]: Train loss: 1.1489, Valid loss: 1.1199\n"
     ]
    },
    {
     "name": "stderr",
     "output_type": "stream",
     "text": [
      "Epoch [1070/3000]: 100%|██████████| 9/9 [00:00<00:00, 137.86it/s, loss=0.904]\n"
     ]
    },
    {
     "name": "stdout",
     "output_type": "stream",
     "text": [
      "Epoch [1070/3000]: Train loss: 1.1646, Valid loss: 1.4524\n"
     ]
    },
    {
     "name": "stderr",
     "output_type": "stream",
     "text": [
      "Epoch [1071/3000]: 100%|██████████| 9/9 [00:00<00:00, 131.68it/s, loss=0.799]\n"
     ]
    },
    {
     "name": "stdout",
     "output_type": "stream",
     "text": [
      "Epoch [1071/3000]: Train loss: 1.1467, Valid loss: 1.3577\n"
     ]
    },
    {
     "name": "stderr",
     "output_type": "stream",
     "text": [
      "Epoch [1072/3000]: 100%|██████████| 9/9 [00:00<00:00, 119.02it/s, loss=1.06]\n"
     ]
    },
    {
     "name": "stdout",
     "output_type": "stream",
     "text": [
      "Epoch [1072/3000]: Train loss: 1.1604, Valid loss: 1.2018\n"
     ]
    },
    {
     "name": "stderr",
     "output_type": "stream",
     "text": [
      "Epoch [1073/3000]: 100%|██████████| 9/9 [00:00<00:00, 119.31it/s, loss=1.27]\n"
     ]
    },
    {
     "name": "stdout",
     "output_type": "stream",
     "text": [
      "Epoch [1073/3000]: Train loss: 1.1597, Valid loss: 1.3619\n"
     ]
    },
    {
     "name": "stderr",
     "output_type": "stream",
     "text": [
      "Epoch [1074/3000]: 100%|██████████| 9/9 [00:00<00:00, 133.27it/s, loss=1.72]\n"
     ]
    },
    {
     "name": "stdout",
     "output_type": "stream",
     "text": [
      "Epoch [1074/3000]: Train loss: 1.1897, Valid loss: 1.4014\n"
     ]
    },
    {
     "name": "stderr",
     "output_type": "stream",
     "text": [
      "Epoch [1075/3000]: 100%|██████████| 9/9 [00:00<00:00, 133.20it/s, loss=1.6]\n"
     ]
    },
    {
     "name": "stdout",
     "output_type": "stream",
     "text": [
      "Epoch [1075/3000]: Train loss: 1.1912, Valid loss: 1.3965\n"
     ]
    },
    {
     "name": "stderr",
     "output_type": "stream",
     "text": [
      "Epoch [1076/3000]: 100%|██████████| 9/9 [00:00<00:00, 126.09it/s, loss=1.13]\n"
     ]
    },
    {
     "name": "stdout",
     "output_type": "stream",
     "text": [
      "Epoch [1076/3000]: Train loss: 1.1564, Valid loss: 1.2408\n"
     ]
    },
    {
     "name": "stderr",
     "output_type": "stream",
     "text": [
      "Epoch [1077/3000]: 100%|██████████| 9/9 [00:00<00:00, 161.17it/s, loss=1.1]\n"
     ]
    },
    {
     "name": "stdout",
     "output_type": "stream",
     "text": [
      "Epoch [1077/3000]: Train loss: 1.1587, Valid loss: 1.0871\n"
     ]
    },
    {
     "name": "stderr",
     "output_type": "stream",
     "text": [
      "Epoch [1078/3000]: 100%|██████████| 9/9 [00:00<00:00, 163.07it/s, loss=1.01]\n"
     ]
    },
    {
     "name": "stdout",
     "output_type": "stream",
     "text": [
      "Epoch [1078/3000]: Train loss: 1.1693, Valid loss: 1.6519\n"
     ]
    },
    {
     "name": "stderr",
     "output_type": "stream",
     "text": [
      "Epoch [1079/3000]: 100%|██████████| 9/9 [00:00<00:00, 156.19it/s, loss=1.6]\n"
     ]
    },
    {
     "name": "stdout",
     "output_type": "stream",
     "text": [
      "Epoch [1079/3000]: Train loss: 1.2253, Valid loss: 1.3386\n"
     ]
    },
    {
     "name": "stderr",
     "output_type": "stream",
     "text": [
      "Epoch [1080/3000]: 100%|██████████| 9/9 [00:00<00:00, 153.59it/s, loss=1.12]\n"
     ]
    },
    {
     "name": "stdout",
     "output_type": "stream",
     "text": [
      "Epoch [1080/3000]: Train loss: 1.1609, Valid loss: 1.2983\n"
     ]
    },
    {
     "name": "stderr",
     "output_type": "stream",
     "text": [
      "Epoch [1081/3000]: 100%|██████████| 9/9 [00:00<00:00, 140.41it/s, loss=1.17]\n"
     ]
    },
    {
     "name": "stdout",
     "output_type": "stream",
     "text": [
      "Epoch [1081/3000]: Train loss: 1.1806, Valid loss: 1.3021\n"
     ]
    },
    {
     "name": "stderr",
     "output_type": "stream",
     "text": [
      "Epoch [1082/3000]: 100%|██████████| 9/9 [00:00<00:00, 144.64it/s, loss=1.74]\n"
     ]
    },
    {
     "name": "stdout",
     "output_type": "stream",
     "text": [
      "Epoch [1082/3000]: Train loss: 1.1978, Valid loss: 1.7413\n"
     ]
    },
    {
     "name": "stderr",
     "output_type": "stream",
     "text": [
      "Epoch [1083/3000]: 100%|██████████| 9/9 [00:00<00:00, 125.45it/s, loss=1.45]\n"
     ]
    },
    {
     "name": "stdout",
     "output_type": "stream",
     "text": [
      "Epoch [1083/3000]: Train loss: 1.1755, Valid loss: 1.2251\n"
     ]
    },
    {
     "name": "stderr",
     "output_type": "stream",
     "text": [
      "Epoch [1084/3000]: 100%|██████████| 9/9 [00:00<00:00, 136.37it/s, loss=1.06]\n"
     ]
    },
    {
     "name": "stdout",
     "output_type": "stream",
     "text": [
      "Epoch [1084/3000]: Train loss: 1.1498, Valid loss: 1.6083\n"
     ]
    },
    {
     "name": "stderr",
     "output_type": "stream",
     "text": [
      "Epoch [1085/3000]: 100%|██████████| 9/9 [00:00<00:00, 125.72it/s, loss=0.99]\n"
     ]
    },
    {
     "name": "stdout",
     "output_type": "stream",
     "text": [
      "Epoch [1085/3000]: Train loss: 1.1481, Valid loss: 1.1811\n"
     ]
    },
    {
     "name": "stderr",
     "output_type": "stream",
     "text": [
      "Epoch [1086/3000]: 100%|██████████| 9/9 [00:00<00:00, 154.00it/s, loss=1.39]\n"
     ]
    },
    {
     "name": "stdout",
     "output_type": "stream",
     "text": [
      "Epoch [1086/3000]: Train loss: 1.1739, Valid loss: 1.3589\n"
     ]
    },
    {
     "name": "stderr",
     "output_type": "stream",
     "text": [
      "Epoch [1087/3000]: 100%|██████████| 9/9 [00:00<00:00, 65.07it/s, loss=1.19]\n"
     ]
    },
    {
     "name": "stdout",
     "output_type": "stream",
     "text": [
      "Epoch [1087/3000]: Train loss: 1.1656, Valid loss: 1.3723\n"
     ]
    },
    {
     "name": "stderr",
     "output_type": "stream",
     "text": [
      "Epoch [1088/3000]: 100%|██████████| 9/9 [00:00<00:00, 120.84it/s, loss=0.989]\n"
     ]
    },
    {
     "name": "stdout",
     "output_type": "stream",
     "text": [
      "Epoch [1088/3000]: Train loss: 1.1571, Valid loss: 1.0842\n"
     ]
    },
    {
     "name": "stderr",
     "output_type": "stream",
     "text": [
      "Epoch [1089/3000]: 100%|██████████| 9/9 [00:00<00:00, 140.00it/s, loss=1.33]\n"
     ]
    },
    {
     "name": "stdout",
     "output_type": "stream",
     "text": [
      "Epoch [1089/3000]: Train loss: 1.1884, Valid loss: 1.7556\n"
     ]
    },
    {
     "name": "stderr",
     "output_type": "stream",
     "text": [
      "Epoch [1090/3000]: 100%|██████████| 9/9 [00:00<00:00, 140.87it/s, loss=1.08]\n"
     ]
    },
    {
     "name": "stdout",
     "output_type": "stream",
     "text": [
      "Epoch [1090/3000]: Train loss: 1.1802, Valid loss: 1.4737\n"
     ]
    },
    {
     "name": "stderr",
     "output_type": "stream",
     "text": [
      "Epoch [1091/3000]: 100%|██████████| 9/9 [00:00<00:00, 141.16it/s, loss=1.23]\n"
     ]
    },
    {
     "name": "stdout",
     "output_type": "stream",
     "text": [
      "Epoch [1091/3000]: Train loss: 1.1632, Valid loss: 1.1764\n"
     ]
    },
    {
     "name": "stderr",
     "output_type": "stream",
     "text": [
      "Epoch [1092/3000]: 100%|██████████| 9/9 [00:00<00:00, 120.78it/s, loss=1.01]\n"
     ]
    },
    {
     "name": "stdout",
     "output_type": "stream",
     "text": [
      "Epoch [1092/3000]: Train loss: 1.1596, Valid loss: 1.3778\n"
     ]
    },
    {
     "name": "stderr",
     "output_type": "stream",
     "text": [
      "Epoch [1093/3000]: 100%|██████████| 9/9 [00:00<00:00, 133.43it/s, loss=1.09]\n"
     ]
    },
    {
     "name": "stdout",
     "output_type": "stream",
     "text": [
      "Epoch [1093/3000]: Train loss: 1.1583, Valid loss: 1.2498\n"
     ]
    },
    {
     "name": "stderr",
     "output_type": "stream",
     "text": [
      "Epoch [1094/3000]: 100%|██████████| 9/9 [00:00<00:00, 135.07it/s, loss=0.834]\n"
     ]
    },
    {
     "name": "stdout",
     "output_type": "stream",
     "text": [
      "Epoch [1094/3000]: Train loss: 1.1609, Valid loss: 1.1435\n"
     ]
    },
    {
     "name": "stderr",
     "output_type": "stream",
     "text": [
      "Epoch [1095/3000]: 100%|██████████| 9/9 [00:00<00:00, 137.55it/s, loss=1.6]\n"
     ]
    },
    {
     "name": "stdout",
     "output_type": "stream",
     "text": [
      "Epoch [1095/3000]: Train loss: 1.1990, Valid loss: 1.2419\n"
     ]
    },
    {
     "name": "stderr",
     "output_type": "stream",
     "text": [
      "Epoch [1096/3000]: 100%|██████████| 9/9 [00:00<00:00, 139.82it/s, loss=1.01]\n"
     ]
    },
    {
     "name": "stdout",
     "output_type": "stream",
     "text": [
      "Epoch [1096/3000]: Train loss: 1.1515, Valid loss: 1.2927\n"
     ]
    },
    {
     "name": "stderr",
     "output_type": "stream",
     "text": [
      "Epoch [1097/3000]: 100%|██████████| 9/9 [00:00<00:00, 139.08it/s, loss=1.19]\n"
     ]
    },
    {
     "name": "stdout",
     "output_type": "stream",
     "text": [
      "Epoch [1097/3000]: Train loss: 1.1629, Valid loss: 1.2520\n"
     ]
    },
    {
     "name": "stderr",
     "output_type": "stream",
     "text": [
      "Epoch [1098/3000]: 100%|██████████| 9/9 [00:00<00:00, 146.81it/s, loss=1.21]\n"
     ]
    },
    {
     "name": "stdout",
     "output_type": "stream",
     "text": [
      "Epoch [1098/3000]: Train loss: 1.1585, Valid loss: 1.2863\n"
     ]
    },
    {
     "name": "stderr",
     "output_type": "stream",
     "text": [
      "Epoch [1099/3000]: 100%|██████████| 9/9 [00:00<00:00, 146.77it/s, loss=1.35]\n"
     ]
    },
    {
     "name": "stdout",
     "output_type": "stream",
     "text": [
      "Epoch [1099/3000]: Train loss: 1.1638, Valid loss: 1.2769\n"
     ]
    },
    {
     "name": "stderr",
     "output_type": "stream",
     "text": [
      "Epoch [1100/3000]: 100%|██████████| 9/9 [00:00<00:00, 144.80it/s, loss=1.55]\n"
     ]
    },
    {
     "name": "stdout",
     "output_type": "stream",
     "text": [
      "Epoch [1100/3000]: Train loss: 1.2079, Valid loss: 1.4780\n"
     ]
    },
    {
     "name": "stderr",
     "output_type": "stream",
     "text": [
      "Epoch [1101/3000]: 100%|██████████| 9/9 [00:00<00:00, 153.36it/s, loss=1.02]\n"
     ]
    },
    {
     "name": "stdout",
     "output_type": "stream",
     "text": [
      "Epoch [1101/3000]: Train loss: 1.2234, Valid loss: 1.1876\n"
     ]
    },
    {
     "name": "stderr",
     "output_type": "stream",
     "text": [
      "Epoch [1102/3000]: 100%|██████████| 9/9 [00:00<00:00, 137.74it/s, loss=1.39]\n"
     ]
    },
    {
     "name": "stdout",
     "output_type": "stream",
     "text": [
      "Epoch [1102/3000]: Train loss: 1.2158, Valid loss: 1.3437\n"
     ]
    },
    {
     "name": "stderr",
     "output_type": "stream",
     "text": [
      "Epoch [1103/3000]: 100%|██████████| 9/9 [00:00<00:00, 149.67it/s, loss=1.21]\n"
     ]
    },
    {
     "name": "stdout",
     "output_type": "stream",
     "text": [
      "Epoch [1103/3000]: Train loss: 1.2044, Valid loss: 1.4417\n"
     ]
    },
    {
     "name": "stderr",
     "output_type": "stream",
     "text": [
      "Epoch [1104/3000]: 100%|██████████| 9/9 [00:00<00:00, 144.89it/s, loss=1]\n"
     ]
    },
    {
     "name": "stdout",
     "output_type": "stream",
     "text": [
      "Epoch [1104/3000]: Train loss: 1.1521, Valid loss: 1.1868\n"
     ]
    },
    {
     "name": "stderr",
     "output_type": "stream",
     "text": [
      "Epoch [1105/3000]: 100%|██████████| 9/9 [00:00<00:00, 151.61it/s, loss=1.31]\n"
     ]
    },
    {
     "name": "stdout",
     "output_type": "stream",
     "text": [
      "Epoch [1105/3000]: Train loss: 1.1694, Valid loss: 1.2944\n"
     ]
    },
    {
     "name": "stderr",
     "output_type": "stream",
     "text": [
      "Epoch [1106/3000]: 100%|██████████| 9/9 [00:00<00:00, 146.75it/s, loss=1.39]\n"
     ]
    },
    {
     "name": "stdout",
     "output_type": "stream",
     "text": [
      "Epoch [1106/3000]: Train loss: 1.1689, Valid loss: 1.2734\n"
     ]
    },
    {
     "name": "stderr",
     "output_type": "stream",
     "text": [
      "Epoch [1107/3000]: 100%|██████████| 9/9 [00:00<00:00, 145.42it/s, loss=1.09]\n"
     ]
    },
    {
     "name": "stdout",
     "output_type": "stream",
     "text": [
      "Epoch [1107/3000]: Train loss: 1.1601, Valid loss: 1.1740\n"
     ]
    },
    {
     "name": "stderr",
     "output_type": "stream",
     "text": [
      "Epoch [1108/3000]: 100%|██████████| 9/9 [00:00<00:00, 130.12it/s, loss=1.15]\n"
     ]
    },
    {
     "name": "stdout",
     "output_type": "stream",
     "text": [
      "Epoch [1108/3000]: Train loss: 1.1707, Valid loss: 1.3352\n"
     ]
    },
    {
     "name": "stderr",
     "output_type": "stream",
     "text": [
      "Epoch [1109/3000]: 100%|██████████| 9/9 [00:00<00:00, 135.45it/s, loss=1.23]\n"
     ]
    },
    {
     "name": "stdout",
     "output_type": "stream",
     "text": [
      "Epoch [1109/3000]: Train loss: 1.1629, Valid loss: 1.4134\n"
     ]
    },
    {
     "name": "stderr",
     "output_type": "stream",
     "text": [
      "Epoch [1110/3000]: 100%|██████████| 9/9 [00:00<00:00, 144.41it/s, loss=1.5]\n"
     ]
    },
    {
     "name": "stdout",
     "output_type": "stream",
     "text": [
      "Epoch [1110/3000]: Train loss: 1.1703, Valid loss: 1.2666\n"
     ]
    },
    {
     "name": "stderr",
     "output_type": "stream",
     "text": [
      "Epoch [1111/3000]: 100%|██████████| 9/9 [00:00<00:00, 145.48it/s, loss=1.71]\n"
     ]
    },
    {
     "name": "stdout",
     "output_type": "stream",
     "text": [
      "Epoch [1111/3000]: Train loss: 1.1846, Valid loss: 1.1385\n"
     ]
    },
    {
     "name": "stderr",
     "output_type": "stream",
     "text": [
      "Epoch [1112/3000]: 100%|██████████| 9/9 [00:00<00:00, 143.87it/s, loss=1.12]\n"
     ]
    },
    {
     "name": "stdout",
     "output_type": "stream",
     "text": [
      "Epoch [1112/3000]: Train loss: 1.1513, Valid loss: 1.3741\n"
     ]
    },
    {
     "name": "stderr",
     "output_type": "stream",
     "text": [
      "Epoch [1113/3000]: 100%|██████████| 9/9 [00:00<00:00, 142.78it/s, loss=1.52]\n"
     ]
    },
    {
     "name": "stdout",
     "output_type": "stream",
     "text": [
      "Epoch [1113/3000]: Train loss: 1.1745, Valid loss: 1.2766\n"
     ]
    },
    {
     "name": "stderr",
     "output_type": "stream",
     "text": [
      "Epoch [1114/3000]: 100%|██████████| 9/9 [00:00<00:00, 144.35it/s, loss=0.693]\n"
     ]
    },
    {
     "name": "stdout",
     "output_type": "stream",
     "text": [
      "Epoch [1114/3000]: Train loss: 1.1337, Valid loss: 1.2405\n"
     ]
    },
    {
     "name": "stderr",
     "output_type": "stream",
     "text": [
      "Epoch [1115/3000]: 100%|██████████| 9/9 [00:00<00:00, 133.14it/s, loss=1.07]\n"
     ]
    },
    {
     "name": "stdout",
     "output_type": "stream",
     "text": [
      "Epoch [1115/3000]: Train loss: 1.1602, Valid loss: 1.4261\n"
     ]
    },
    {
     "name": "stderr",
     "output_type": "stream",
     "text": [
      "Epoch [1116/3000]: 100%|██████████| 9/9 [00:00<00:00, 133.67it/s, loss=1.37]\n"
     ]
    },
    {
     "name": "stdout",
     "output_type": "stream",
     "text": [
      "Epoch [1116/3000]: Train loss: 1.1629, Valid loss: 1.1578\n"
     ]
    },
    {
     "name": "stderr",
     "output_type": "stream",
     "text": [
      "Epoch [1117/3000]: 100%|██████████| 9/9 [00:00<00:00, 136.64it/s, loss=1.22]\n"
     ]
    },
    {
     "name": "stdout",
     "output_type": "stream",
     "text": [
      "Epoch [1117/3000]: Train loss: 1.1537, Valid loss: 1.2565\n"
     ]
    },
    {
     "name": "stderr",
     "output_type": "stream",
     "text": [
      "Epoch [1118/3000]: 100%|██████████| 9/9 [00:00<00:00, 139.57it/s, loss=1.01]\n"
     ]
    },
    {
     "name": "stdout",
     "output_type": "stream",
     "text": [
      "Epoch [1118/3000]: Train loss: 1.1567, Valid loss: 1.3575\n"
     ]
    },
    {
     "name": "stderr",
     "output_type": "stream",
     "text": [
      "Epoch [1119/3000]: 100%|██████████| 9/9 [00:00<00:00, 127.73it/s, loss=1.39]\n"
     ]
    },
    {
     "name": "stdout",
     "output_type": "stream",
     "text": [
      "Epoch [1119/3000]: Train loss: 1.2022, Valid loss: 1.2147\n"
     ]
    },
    {
     "name": "stderr",
     "output_type": "stream",
     "text": [
      "Epoch [1120/3000]: 100%|██████████| 9/9 [00:00<00:00, 152.03it/s, loss=1.08]\n"
     ]
    },
    {
     "name": "stdout",
     "output_type": "stream",
     "text": [
      "Epoch [1120/3000]: Train loss: 1.1912, Valid loss: 1.2879\n"
     ]
    },
    {
     "name": "stderr",
     "output_type": "stream",
     "text": [
      "Epoch [1121/3000]: 100%|██████████| 9/9 [00:00<00:00, 165.48it/s, loss=1.03]\n"
     ]
    },
    {
     "name": "stdout",
     "output_type": "stream",
     "text": [
      "Epoch [1121/3000]: Train loss: 1.1431, Valid loss: 1.3035\n"
     ]
    },
    {
     "name": "stderr",
     "output_type": "stream",
     "text": [
      "Epoch [1122/3000]: 100%|██████████| 9/9 [00:00<00:00, 157.91it/s, loss=1.02]\n"
     ]
    },
    {
     "name": "stdout",
     "output_type": "stream",
     "text": [
      "Epoch [1122/3000]: Train loss: 1.1473, Valid loss: 1.1037\n"
     ]
    },
    {
     "name": "stderr",
     "output_type": "stream",
     "text": [
      "Epoch [1123/3000]: 100%|██████████| 9/9 [00:00<00:00, 154.75it/s, loss=1.13]\n"
     ]
    },
    {
     "name": "stdout",
     "output_type": "stream",
     "text": [
      "Epoch [1123/3000]: Train loss: 1.1665, Valid loss: 1.3899\n"
     ]
    },
    {
     "name": "stderr",
     "output_type": "stream",
     "text": [
      "Epoch [1124/3000]: 100%|██████████| 9/9 [00:00<00:00, 132.95it/s, loss=1.04]\n"
     ]
    },
    {
     "name": "stdout",
     "output_type": "stream",
     "text": [
      "Epoch [1124/3000]: Train loss: 1.1606, Valid loss: 1.3121\n"
     ]
    },
    {
     "name": "stderr",
     "output_type": "stream",
     "text": [
      "Epoch [1125/3000]: 100%|██████████| 9/9 [00:00<00:00, 148.02it/s, loss=1.04]\n"
     ]
    },
    {
     "name": "stdout",
     "output_type": "stream",
     "text": [
      "Epoch [1125/3000]: Train loss: 1.1466, Valid loss: 1.2219\n"
     ]
    },
    {
     "name": "stderr",
     "output_type": "stream",
     "text": [
      "Epoch [1126/3000]: 100%|██████████| 9/9 [00:00<00:00, 148.93it/s, loss=1.24]\n"
     ]
    },
    {
     "name": "stdout",
     "output_type": "stream",
     "text": [
      "Epoch [1126/3000]: Train loss: 1.1625, Valid loss: 1.4201\n"
     ]
    },
    {
     "name": "stderr",
     "output_type": "stream",
     "text": [
      "Epoch [1127/3000]: 100%|██████████| 9/9 [00:00<00:00, 156.22it/s, loss=0.852]\n"
     ]
    },
    {
     "name": "stdout",
     "output_type": "stream",
     "text": [
      "Epoch [1127/3000]: Train loss: 1.1314, Valid loss: 1.2044\n"
     ]
    },
    {
     "name": "stderr",
     "output_type": "stream",
     "text": [
      "Epoch [1128/3000]: 100%|██████████| 9/9 [00:00<00:00, 63.23it/s, loss=0.935]\n"
     ]
    },
    {
     "name": "stdout",
     "output_type": "stream",
     "text": [
      "Epoch [1128/3000]: Train loss: 1.1489, Valid loss: 1.4664\n"
     ]
    },
    {
     "name": "stderr",
     "output_type": "stream",
     "text": [
      "Epoch [1129/3000]: 100%|██████████| 9/9 [00:00<00:00, 128.42it/s, loss=1.04]\n"
     ]
    },
    {
     "name": "stdout",
     "output_type": "stream",
     "text": [
      "Epoch [1129/3000]: Train loss: 1.1482, Valid loss: 1.1803\n"
     ]
    },
    {
     "name": "stderr",
     "output_type": "stream",
     "text": [
      "Epoch [1130/3000]: 100%|██████████| 9/9 [00:00<00:00, 132.57it/s, loss=1.24]\n"
     ]
    },
    {
     "name": "stdout",
     "output_type": "stream",
     "text": [
      "Epoch [1130/3000]: Train loss: 1.1608, Valid loss: 1.3075\n"
     ]
    },
    {
     "name": "stderr",
     "output_type": "stream",
     "text": [
      "Epoch [1131/3000]: 100%|██████████| 9/9 [00:00<00:00, 135.40it/s, loss=1.23]\n"
     ]
    },
    {
     "name": "stdout",
     "output_type": "stream",
     "text": [
      "Epoch [1131/3000]: Train loss: 1.1533, Valid loss: 1.2443\n"
     ]
    },
    {
     "name": "stderr",
     "output_type": "stream",
     "text": [
      "Epoch [1132/3000]: 100%|██████████| 9/9 [00:00<00:00, 129.62it/s, loss=0.94]\n"
     ]
    },
    {
     "name": "stdout",
     "output_type": "stream",
     "text": [
      "Epoch [1132/3000]: Train loss: 1.1403, Valid loss: 1.1997\n"
     ]
    },
    {
     "name": "stderr",
     "output_type": "stream",
     "text": [
      "Epoch [1133/3000]: 100%|██████████| 9/9 [00:00<00:00, 124.84it/s, loss=1.41]\n"
     ]
    },
    {
     "name": "stdout",
     "output_type": "stream",
     "text": [
      "Epoch [1133/3000]: Train loss: 1.1684, Valid loss: 1.4057\n"
     ]
    },
    {
     "name": "stderr",
     "output_type": "stream",
     "text": [
      "Epoch [1134/3000]: 100%|██████████| 9/9 [00:00<00:00, 125.91it/s, loss=0.828]\n"
     ]
    },
    {
     "name": "stdout",
     "output_type": "stream",
     "text": [
      "Epoch [1134/3000]: Train loss: 1.1382, Valid loss: 1.1934\n"
     ]
    },
    {
     "name": "stderr",
     "output_type": "stream",
     "text": [
      "Epoch [1135/3000]: 100%|██████████| 9/9 [00:00<00:00, 127.27it/s, loss=0.794]\n"
     ]
    },
    {
     "name": "stdout",
     "output_type": "stream",
     "text": [
      "Epoch [1135/3000]: Train loss: 1.1283, Valid loss: 1.3453\n"
     ]
    },
    {
     "name": "stderr",
     "output_type": "stream",
     "text": [
      "Epoch [1136/3000]: 100%|██████████| 9/9 [00:00<00:00, 124.60it/s, loss=0.978]\n"
     ]
    },
    {
     "name": "stdout",
     "output_type": "stream",
     "text": [
      "Epoch [1136/3000]: Train loss: 1.1758, Valid loss: 1.4159\n"
     ]
    },
    {
     "name": "stderr",
     "output_type": "stream",
     "text": [
      "Epoch [1137/3000]: 100%|██████████| 9/9 [00:00<00:00, 144.22it/s, loss=1.41]\n"
     ]
    },
    {
     "name": "stdout",
     "output_type": "stream",
     "text": [
      "Epoch [1137/3000]: Train loss: 1.2044, Valid loss: 1.3168\n"
     ]
    },
    {
     "name": "stderr",
     "output_type": "stream",
     "text": [
      "Epoch [1138/3000]: 100%|██████████| 9/9 [00:00<00:00, 151.26it/s, loss=1.17]\n"
     ]
    },
    {
     "name": "stdout",
     "output_type": "stream",
     "text": [
      "Epoch [1138/3000]: Train loss: 1.1576, Valid loss: 1.1523\n"
     ]
    },
    {
     "name": "stderr",
     "output_type": "stream",
     "text": [
      "Epoch [1139/3000]: 100%|██████████| 9/9 [00:00<00:00, 156.78it/s, loss=1.76]\n"
     ]
    },
    {
     "name": "stdout",
     "output_type": "stream",
     "text": [
      "Epoch [1139/3000]: Train loss: 1.2234, Valid loss: 1.3470\n"
     ]
    },
    {
     "name": "stderr",
     "output_type": "stream",
     "text": [
      "Epoch [1140/3000]: 100%|██████████| 9/9 [00:00<00:00, 157.75it/s, loss=1.35]\n"
     ]
    },
    {
     "name": "stdout",
     "output_type": "stream",
     "text": [
      "Epoch [1140/3000]: Train loss: 1.1871, Valid loss: 1.3803\n"
     ]
    },
    {
     "name": "stderr",
     "output_type": "stream",
     "text": [
      "Epoch [1141/3000]: 100%|██████████| 9/9 [00:00<00:00, 162.83it/s, loss=0.924]\n"
     ]
    },
    {
     "name": "stdout",
     "output_type": "stream",
     "text": [
      "Epoch [1141/3000]: Train loss: 1.1466, Valid loss: 1.4001\n"
     ]
    },
    {
     "name": "stderr",
     "output_type": "stream",
     "text": [
      "Epoch [1142/3000]: 100%|██████████| 9/9 [00:00<00:00, 151.24it/s, loss=1.63]\n"
     ]
    },
    {
     "name": "stdout",
     "output_type": "stream",
     "text": [
      "Epoch [1142/3000]: Train loss: 1.2262, Valid loss: 1.6460\n"
     ]
    },
    {
     "name": "stderr",
     "output_type": "stream",
     "text": [
      "Epoch [1143/3000]: 100%|██████████| 9/9 [00:00<00:00, 149.94it/s, loss=1.11]\n"
     ]
    },
    {
     "name": "stdout",
     "output_type": "stream",
     "text": [
      "Epoch [1143/3000]: Train loss: 1.1935, Valid loss: 1.3625\n"
     ]
    },
    {
     "name": "stderr",
     "output_type": "stream",
     "text": [
      "Epoch [1144/3000]: 100%|██████████| 9/9 [00:00<00:00, 153.02it/s, loss=1.54]\n"
     ]
    },
    {
     "name": "stdout",
     "output_type": "stream",
     "text": [
      "Epoch [1144/3000]: Train loss: 1.1766, Valid loss: 1.2085\n"
     ]
    },
    {
     "name": "stderr",
     "output_type": "stream",
     "text": [
      "Epoch [1145/3000]: 100%|██████████| 9/9 [00:00<00:00, 154.58it/s, loss=1.13]\n"
     ]
    },
    {
     "name": "stdout",
     "output_type": "stream",
     "text": [
      "Epoch [1145/3000]: Train loss: 1.1671, Valid loss: 1.2480\n"
     ]
    },
    {
     "name": "stderr",
     "output_type": "stream",
     "text": [
      "Epoch [1146/3000]: 100%|██████████| 9/9 [00:00<00:00, 135.44it/s, loss=1.32]\n"
     ]
    },
    {
     "name": "stdout",
     "output_type": "stream",
     "text": [
      "Epoch [1146/3000]: Train loss: 1.1932, Valid loss: 1.4567\n"
     ]
    },
    {
     "name": "stderr",
     "output_type": "stream",
     "text": [
      "Epoch [1147/3000]: 100%|██████████| 9/9 [00:00<00:00, 139.47it/s, loss=0.843]\n"
     ]
    },
    {
     "name": "stdout",
     "output_type": "stream",
     "text": [
      "Epoch [1147/3000]: Train loss: 1.1700, Valid loss: 1.2891\n"
     ]
    },
    {
     "name": "stderr",
     "output_type": "stream",
     "text": [
      "Epoch [1148/3000]: 100%|██████████| 9/9 [00:00<00:00, 142.23it/s, loss=1.2]\n"
     ]
    },
    {
     "name": "stdout",
     "output_type": "stream",
     "text": [
      "Epoch [1148/3000]: Train loss: 1.1979, Valid loss: 1.3672\n"
     ]
    },
    {
     "name": "stderr",
     "output_type": "stream",
     "text": [
      "Epoch [1149/3000]: 100%|██████████| 9/9 [00:00<00:00, 143.99it/s, loss=1.07]\n"
     ]
    },
    {
     "name": "stdout",
     "output_type": "stream",
     "text": [
      "Epoch [1149/3000]: Train loss: 1.1828, Valid loss: 1.5132\n"
     ]
    },
    {
     "name": "stderr",
     "output_type": "stream",
     "text": [
      "Epoch [1150/3000]: 100%|██████████| 9/9 [00:00<00:00, 152.31it/s, loss=1.72]\n"
     ]
    },
    {
     "name": "stdout",
     "output_type": "stream",
     "text": [
      "Epoch [1150/3000]: Train loss: 1.2229, Valid loss: 1.2449\n"
     ]
    },
    {
     "name": "stderr",
     "output_type": "stream",
     "text": [
      "Epoch [1151/3000]: 100%|██████████| 9/9 [00:00<00:00, 140.27it/s, loss=1.42]\n"
     ]
    },
    {
     "name": "stdout",
     "output_type": "stream",
     "text": [
      "Epoch [1151/3000]: Train loss: 1.1889, Valid loss: 1.2200\n"
     ]
    },
    {
     "name": "stderr",
     "output_type": "stream",
     "text": [
      "Epoch [1152/3000]: 100%|██████████| 9/9 [00:00<00:00, 124.89it/s, loss=0.856]\n"
     ]
    },
    {
     "name": "stdout",
     "output_type": "stream",
     "text": [
      "Epoch [1152/3000]: Train loss: 1.1490, Valid loss: 1.3371\n"
     ]
    },
    {
     "name": "stderr",
     "output_type": "stream",
     "text": [
      "Epoch [1153/3000]: 100%|██████████| 9/9 [00:00<00:00, 132.96it/s, loss=1.15]\n"
     ]
    },
    {
     "name": "stdout",
     "output_type": "stream",
     "text": [
      "Epoch [1153/3000]: Train loss: 1.1468, Valid loss: 1.2707\n"
     ]
    },
    {
     "name": "stderr",
     "output_type": "stream",
     "text": [
      "Epoch [1154/3000]: 100%|██████████| 9/9 [00:00<00:00, 129.46it/s, loss=1.71]\n"
     ]
    },
    {
     "name": "stdout",
     "output_type": "stream",
     "text": [
      "Epoch [1154/3000]: Train loss: 1.1797, Valid loss: 1.2401\n"
     ]
    },
    {
     "name": "stderr",
     "output_type": "stream",
     "text": [
      "Epoch [1155/3000]: 100%|██████████| 9/9 [00:00<00:00, 116.40it/s, loss=0.726]\n"
     ]
    },
    {
     "name": "stdout",
     "output_type": "stream",
     "text": [
      "Epoch [1155/3000]: Train loss: 1.1215, Valid loss: 1.1445\n"
     ]
    },
    {
     "name": "stderr",
     "output_type": "stream",
     "text": [
      "Epoch [1156/3000]: 100%|██████████| 9/9 [00:00<00:00, 129.91it/s, loss=1.7]\n"
     ]
    },
    {
     "name": "stdout",
     "output_type": "stream",
     "text": [
      "Epoch [1156/3000]: Train loss: 1.1866, Valid loss: 1.1994\n"
     ]
    },
    {
     "name": "stderr",
     "output_type": "stream",
     "text": [
      "Epoch [1157/3000]: 100%|██████████| 9/9 [00:00<00:00, 129.14it/s, loss=1.26]\n"
     ]
    },
    {
     "name": "stdout",
     "output_type": "stream",
     "text": [
      "Epoch [1157/3000]: Train loss: 1.1624, Valid loss: 1.2084\n"
     ]
    },
    {
     "name": "stderr",
     "output_type": "stream",
     "text": [
      "Epoch [1158/3000]: 100%|██████████| 9/9 [00:00<00:00, 126.74it/s, loss=1.5]\n"
     ]
    },
    {
     "name": "stdout",
     "output_type": "stream",
     "text": [
      "Epoch [1158/3000]: Train loss: 1.1908, Valid loss: 1.3508\n"
     ]
    },
    {
     "name": "stderr",
     "output_type": "stream",
     "text": [
      "Epoch [1159/3000]: 100%|██████████| 9/9 [00:00<00:00, 142.66it/s, loss=0.942]\n"
     ]
    },
    {
     "name": "stdout",
     "output_type": "stream",
     "text": [
      "Epoch [1159/3000]: Train loss: 1.1564, Valid loss: 1.2636\n"
     ]
    },
    {
     "name": "stderr",
     "output_type": "stream",
     "text": [
      "Epoch [1160/3000]: 100%|██████████| 9/9 [00:00<00:00, 120.36it/s, loss=1.09]\n"
     ]
    },
    {
     "name": "stdout",
     "output_type": "stream",
     "text": [
      "Epoch [1160/3000]: Train loss: 1.1435, Valid loss: 1.1668\n"
     ]
    },
    {
     "name": "stderr",
     "output_type": "stream",
     "text": [
      "Epoch [1161/3000]: 100%|██████████| 9/9 [00:00<00:00, 143.64it/s, loss=1.09]\n"
     ]
    },
    {
     "name": "stdout",
     "output_type": "stream",
     "text": [
      "Epoch [1161/3000]: Train loss: 1.1421, Valid loss: 1.4570\n"
     ]
    },
    {
     "name": "stderr",
     "output_type": "stream",
     "text": [
      "Epoch [1162/3000]: 100%|██████████| 9/9 [00:00<00:00, 143.42it/s, loss=1.02]\n"
     ]
    },
    {
     "name": "stdout",
     "output_type": "stream",
     "text": [
      "Epoch [1162/3000]: Train loss: 1.1508, Valid loss: 1.3435\n"
     ]
    },
    {
     "name": "stderr",
     "output_type": "stream",
     "text": [
      "Epoch [1163/3000]: 100%|██████████| 9/9 [00:00<00:00, 157.04it/s, loss=0.83]\n"
     ]
    },
    {
     "name": "stdout",
     "output_type": "stream",
     "text": [
      "Epoch [1163/3000]: Train loss: 1.1298, Valid loss: 1.1672\n"
     ]
    },
    {
     "name": "stderr",
     "output_type": "stream",
     "text": [
      "Epoch [1164/3000]: 100%|██████████| 9/9 [00:00<00:00, 147.28it/s, loss=1.13]\n"
     ]
    },
    {
     "name": "stdout",
     "output_type": "stream",
     "text": [
      "Epoch [1164/3000]: Train loss: 1.1465, Valid loss: 1.1830\n"
     ]
    },
    {
     "name": "stderr",
     "output_type": "stream",
     "text": [
      "Epoch [1165/3000]: 100%|██████████| 9/9 [00:00<00:00, 151.35it/s, loss=1.36]\n"
     ]
    },
    {
     "name": "stdout",
     "output_type": "stream",
     "text": [
      "Epoch [1165/3000]: Train loss: 1.1644, Valid loss: 1.1997\n"
     ]
    },
    {
     "name": "stderr",
     "output_type": "stream",
     "text": [
      "Epoch [1166/3000]: 100%|██████████| 9/9 [00:00<00:00, 157.03it/s, loss=1.24]\n"
     ]
    },
    {
     "name": "stdout",
     "output_type": "stream",
     "text": [
      "Epoch [1166/3000]: Train loss: 1.1622, Valid loss: 1.3653\n"
     ]
    },
    {
     "name": "stderr",
     "output_type": "stream",
     "text": [
      "Epoch [1167/3000]: 100%|██████████| 9/9 [00:00<00:00, 146.35it/s, loss=0.918]\n"
     ]
    },
    {
     "name": "stdout",
     "output_type": "stream",
     "text": [
      "Epoch [1167/3000]: Train loss: 1.1348, Valid loss: 1.3287\n"
     ]
    },
    {
     "name": "stderr",
     "output_type": "stream",
     "text": [
      "Epoch [1168/3000]: 100%|██████████| 9/9 [00:00<00:00, 154.13it/s, loss=1.15]\n"
     ]
    },
    {
     "name": "stdout",
     "output_type": "stream",
     "text": [
      "Epoch [1168/3000]: Train loss: 1.1507, Valid loss: 1.1392\n"
     ]
    },
    {
     "name": "stderr",
     "output_type": "stream",
     "text": [
      "Epoch [1169/3000]: 100%|██████████| 9/9 [00:00<00:00, 153.78it/s, loss=1.58]\n"
     ]
    },
    {
     "name": "stdout",
     "output_type": "stream",
     "text": [
      "Epoch [1169/3000]: Train loss: 1.1800, Valid loss: 1.3934\n"
     ]
    },
    {
     "name": "stderr",
     "output_type": "stream",
     "text": [
      "Epoch [1170/3000]: 100%|██████████| 9/9 [00:00<00:00, 116.71it/s, loss=1.61]\n"
     ]
    },
    {
     "name": "stdout",
     "output_type": "stream",
     "text": [
      "Epoch [1170/3000]: Train loss: 1.1711, Valid loss: 1.1888\n"
     ]
    },
    {
     "name": "stderr",
     "output_type": "stream",
     "text": [
      "Epoch [1171/3000]: 100%|██████████| 9/9 [00:00<00:00, 134.48it/s, loss=1.01]\n"
     ]
    },
    {
     "name": "stdout",
     "output_type": "stream",
     "text": [
      "Epoch [1171/3000]: Train loss: 1.1360, Valid loss: 1.2929\n"
     ]
    },
    {
     "name": "stderr",
     "output_type": "stream",
     "text": [
      "Epoch [1172/3000]: 100%|██████████| 9/9 [00:00<00:00, 151.06it/s, loss=1.08]\n"
     ]
    },
    {
     "name": "stdout",
     "output_type": "stream",
     "text": [
      "Epoch [1172/3000]: Train loss: 1.1396, Valid loss: 1.2387\n"
     ]
    },
    {
     "name": "stderr",
     "output_type": "stream",
     "text": [
      "Epoch [1173/3000]: 100%|██████████| 9/9 [00:00<00:00, 140.76it/s, loss=1.2]\n"
     ]
    },
    {
     "name": "stdout",
     "output_type": "stream",
     "text": [
      "Epoch [1173/3000]: Train loss: 1.1906, Valid loss: 1.1729\n"
     ]
    },
    {
     "name": "stderr",
     "output_type": "stream",
     "text": [
      "Epoch [1174/3000]: 100%|██████████| 9/9 [00:00<00:00, 145.95it/s, loss=1.19]\n"
     ]
    },
    {
     "name": "stdout",
     "output_type": "stream",
     "text": [
      "Epoch [1174/3000]: Train loss: 1.1525, Valid loss: 1.3955\n"
     ]
    },
    {
     "name": "stderr",
     "output_type": "stream",
     "text": [
      "Epoch [1175/3000]: 100%|██████████| 9/9 [00:00<00:00, 143.18it/s, loss=1.13]\n"
     ]
    },
    {
     "name": "stdout",
     "output_type": "stream",
     "text": [
      "Epoch [1175/3000]: Train loss: 1.2063, Valid loss: 1.4299\n"
     ]
    },
    {
     "name": "stderr",
     "output_type": "stream",
     "text": [
      "Epoch [1176/3000]: 100%|██████████| 9/9 [00:00<00:00, 142.21it/s, loss=0.872]\n"
     ]
    },
    {
     "name": "stdout",
     "output_type": "stream",
     "text": [
      "Epoch [1176/3000]: Train loss: 1.1796, Valid loss: 1.4629\n"
     ]
    },
    {
     "name": "stderr",
     "output_type": "stream",
     "text": [
      "Epoch [1177/3000]: 100%|██████████| 9/9 [00:00<00:00, 127.61it/s, loss=1.21]\n"
     ]
    },
    {
     "name": "stdout",
     "output_type": "stream",
     "text": [
      "Epoch [1177/3000]: Train loss: 1.1646, Valid loss: 1.1074\n"
     ]
    },
    {
     "name": "stderr",
     "output_type": "stream",
     "text": [
      "Epoch [1178/3000]: 100%|██████████| 9/9 [00:00<00:00, 143.12it/s, loss=0.983]\n"
     ]
    },
    {
     "name": "stdout",
     "output_type": "stream",
     "text": [
      "Epoch [1178/3000]: Train loss: 1.1758, Valid loss: 1.3392\n"
     ]
    },
    {
     "name": "stderr",
     "output_type": "stream",
     "text": [
      "Epoch [1179/3000]: 100%|██████████| 9/9 [00:00<00:00, 152.60it/s, loss=1.54]\n"
     ]
    },
    {
     "name": "stdout",
     "output_type": "stream",
     "text": [
      "Epoch [1179/3000]: Train loss: 1.1923, Valid loss: 1.5207\n"
     ]
    },
    {
     "name": "stderr",
     "output_type": "stream",
     "text": [
      "Epoch [1180/3000]: 100%|██████████| 9/9 [00:00<00:00, 154.84it/s, loss=1.74]\n"
     ]
    },
    {
     "name": "stdout",
     "output_type": "stream",
     "text": [
      "Epoch [1180/3000]: Train loss: 1.2117, Valid loss: 1.1527\n"
     ]
    },
    {
     "name": "stderr",
     "output_type": "stream",
     "text": [
      "Epoch [1181/3000]: 100%|██████████| 9/9 [00:00<00:00, 148.04it/s, loss=1.15]\n"
     ]
    },
    {
     "name": "stdout",
     "output_type": "stream",
     "text": [
      "Epoch [1181/3000]: Train loss: 1.1884, Valid loss: 1.7250\n"
     ]
    },
    {
     "name": "stderr",
     "output_type": "stream",
     "text": [
      "Epoch [1182/3000]: 100%|██████████| 9/9 [00:00<00:00, 146.62it/s, loss=1.02]\n"
     ]
    },
    {
     "name": "stdout",
     "output_type": "stream",
     "text": [
      "Epoch [1182/3000]: Train loss: 1.1520, Valid loss: 1.6673\n"
     ]
    },
    {
     "name": "stderr",
     "output_type": "stream",
     "text": [
      "Epoch [1183/3000]: 100%|██████████| 9/9 [00:00<00:00, 131.77it/s, loss=1.29]\n"
     ]
    },
    {
     "name": "stdout",
     "output_type": "stream",
     "text": [
      "Epoch [1183/3000]: Train loss: 1.1656, Valid loss: 1.2010\n"
     ]
    },
    {
     "name": "stderr",
     "output_type": "stream",
     "text": [
      "Epoch [1184/3000]: 100%|██████████| 9/9 [00:00<00:00, 137.10it/s, loss=1.18]\n"
     ]
    },
    {
     "name": "stdout",
     "output_type": "stream",
     "text": [
      "Epoch [1184/3000]: Train loss: 1.1505, Valid loss: 1.5416\n"
     ]
    },
    {
     "name": "stderr",
     "output_type": "stream",
     "text": [
      "Epoch [1185/3000]: 100%|██████████| 9/9 [00:00<00:00, 130.91it/s, loss=1.36]\n"
     ]
    },
    {
     "name": "stdout",
     "output_type": "stream",
     "text": [
      "Epoch [1185/3000]: Train loss: 1.1867, Valid loss: 1.3171\n"
     ]
    },
    {
     "name": "stderr",
     "output_type": "stream",
     "text": [
      "Epoch [1186/3000]: 100%|██████████| 9/9 [00:00<00:00, 138.95it/s, loss=1.15]\n"
     ]
    },
    {
     "name": "stdout",
     "output_type": "stream",
     "text": [
      "Epoch [1186/3000]: Train loss: 1.1525, Valid loss: 1.3814\n"
     ]
    },
    {
     "name": "stderr",
     "output_type": "stream",
     "text": [
      "Epoch [1187/3000]: 100%|██████████| 9/9 [00:00<00:00, 141.05it/s, loss=1.2]\n"
     ]
    },
    {
     "name": "stdout",
     "output_type": "stream",
     "text": [
      "Epoch [1187/3000]: Train loss: 1.1500, Valid loss: 1.6084\n"
     ]
    },
    {
     "name": "stderr",
     "output_type": "stream",
     "text": [
      "Epoch [1188/3000]: 100%|██████████| 9/9 [00:00<00:00, 153.44it/s, loss=1.6]\n"
     ]
    },
    {
     "name": "stdout",
     "output_type": "stream",
     "text": [
      "Epoch [1188/3000]: Train loss: 1.1763, Valid loss: 1.2020\n"
     ]
    },
    {
     "name": "stderr",
     "output_type": "stream",
     "text": [
      "Epoch [1189/3000]: 100%|██████████| 9/9 [00:00<00:00, 137.67it/s, loss=0.954]\n"
     ]
    },
    {
     "name": "stdout",
     "output_type": "stream",
     "text": [
      "Epoch [1189/3000]: Train loss: 1.1454, Valid loss: 1.1359\n"
     ]
    },
    {
     "name": "stderr",
     "output_type": "stream",
     "text": [
      "Epoch [1190/3000]: 100%|██████████| 9/9 [00:00<00:00, 137.94it/s, loss=1.24]\n"
     ]
    },
    {
     "name": "stdout",
     "output_type": "stream",
     "text": [
      "Epoch [1190/3000]: Train loss: 1.1521, Valid loss: 1.4540\n"
     ]
    },
    {
     "name": "stderr",
     "output_type": "stream",
     "text": [
      "Epoch [1191/3000]: 100%|██████████| 9/9 [00:00<00:00, 137.44it/s, loss=1.11]\n"
     ]
    },
    {
     "name": "stdout",
     "output_type": "stream",
     "text": [
      "Epoch [1191/3000]: Train loss: 1.1446, Valid loss: 1.2053\n"
     ]
    },
    {
     "name": "stderr",
     "output_type": "stream",
     "text": [
      "Epoch [1192/3000]: 100%|██████████| 9/9 [00:00<00:00, 134.01it/s, loss=1.38]\n"
     ]
    },
    {
     "name": "stdout",
     "output_type": "stream",
     "text": [
      "Epoch [1192/3000]: Train loss: 1.1722, Valid loss: 1.4188\n"
     ]
    },
    {
     "name": "stderr",
     "output_type": "stream",
     "text": [
      "Epoch [1193/3000]: 100%|██████████| 9/9 [00:00<00:00, 129.86it/s, loss=1.61]\n"
     ]
    },
    {
     "name": "stdout",
     "output_type": "stream",
     "text": [
      "Epoch [1193/3000]: Train loss: 1.1846, Valid loss: 1.3102\n"
     ]
    },
    {
     "name": "stderr",
     "output_type": "stream",
     "text": [
      "Epoch [1194/3000]: 100%|██████████| 9/9 [00:00<00:00, 128.08it/s, loss=1.23]\n"
     ]
    },
    {
     "name": "stdout",
     "output_type": "stream",
     "text": [
      "Epoch [1194/3000]: Train loss: 1.1610, Valid loss: 1.2463\n"
     ]
    },
    {
     "name": "stderr",
     "output_type": "stream",
     "text": [
      "Epoch [1195/3000]: 100%|██████████| 9/9 [00:00<00:00, 122.44it/s, loss=0.939]\n"
     ]
    },
    {
     "name": "stdout",
     "output_type": "stream",
     "text": [
      "Epoch [1195/3000]: Train loss: 1.1377, Valid loss: 1.3210\n"
     ]
    },
    {
     "name": "stderr",
     "output_type": "stream",
     "text": [
      "Epoch [1196/3000]: 100%|██████████| 9/9 [00:00<00:00, 133.60it/s, loss=1.2]\n"
     ]
    },
    {
     "name": "stdout",
     "output_type": "stream",
     "text": [
      "Epoch [1196/3000]: Train loss: 1.1644, Valid loss: 1.2249\n"
     ]
    },
    {
     "name": "stderr",
     "output_type": "stream",
     "text": [
      "Epoch [1197/3000]: 100%|██████████| 9/9 [00:00<00:00, 135.49it/s, loss=1.29]\n"
     ]
    },
    {
     "name": "stdout",
     "output_type": "stream",
     "text": [
      "Epoch [1197/3000]: Train loss: 1.1624, Valid loss: 1.1979\n"
     ]
    },
    {
     "name": "stderr",
     "output_type": "stream",
     "text": [
      "Epoch [1198/3000]: 100%|██████████| 9/9 [00:00<00:00, 134.43it/s, loss=1.24]\n"
     ]
    },
    {
     "name": "stdout",
     "output_type": "stream",
     "text": [
      "Epoch [1198/3000]: Train loss: 1.1536, Valid loss: 1.5274\n"
     ]
    },
    {
     "name": "stderr",
     "output_type": "stream",
     "text": [
      "Epoch [1199/3000]: 100%|██████████| 9/9 [00:00<00:00, 127.83it/s, loss=1.13]\n"
     ]
    },
    {
     "name": "stdout",
     "output_type": "stream",
     "text": [
      "Epoch [1199/3000]: Train loss: 1.1585, Valid loss: 1.2279\n"
     ]
    },
    {
     "name": "stderr",
     "output_type": "stream",
     "text": [
      "Epoch [1200/3000]: 100%|██████████| 9/9 [00:00<00:00, 120.82it/s, loss=1.17]\n"
     ]
    },
    {
     "name": "stdout",
     "output_type": "stream",
     "text": [
      "Epoch [1200/3000]: Train loss: 1.1584, Valid loss: 1.1546\n"
     ]
    },
    {
     "name": "stderr",
     "output_type": "stream",
     "text": [
      "Epoch [1201/3000]: 100%|██████████| 9/9 [00:00<00:00, 118.20it/s, loss=1.25]\n"
     ]
    },
    {
     "name": "stdout",
     "output_type": "stream",
     "text": [
      "Epoch [1201/3000]: Train loss: 1.1536, Valid loss: 1.1360\n"
     ]
    },
    {
     "name": "stderr",
     "output_type": "stream",
     "text": [
      "Epoch [1202/3000]: 100%|██████████| 9/9 [00:00<00:00, 130.39it/s, loss=1.67]\n"
     ]
    },
    {
     "name": "stdout",
     "output_type": "stream",
     "text": [
      "Epoch [1202/3000]: Train loss: 1.2038, Valid loss: 1.4189\n"
     ]
    },
    {
     "name": "stderr",
     "output_type": "stream",
     "text": [
      "Epoch [1203/3000]: 100%|██████████| 9/9 [00:00<00:00, 148.32it/s, loss=0.927]\n"
     ]
    },
    {
     "name": "stdout",
     "output_type": "stream",
     "text": [
      "Epoch [1203/3000]: Train loss: 1.1622, Valid loss: 1.3977\n"
     ]
    },
    {
     "name": "stderr",
     "output_type": "stream",
     "text": [
      "Epoch [1204/3000]: 100%|██████████| 9/9 [00:00<00:00, 122.60it/s, loss=1.26]\n"
     ]
    },
    {
     "name": "stdout",
     "output_type": "stream",
     "text": [
      "Epoch [1204/3000]: Train loss: 1.1587, Valid loss: 1.2464\n"
     ]
    },
    {
     "name": "stderr",
     "output_type": "stream",
     "text": [
      "Epoch [1205/3000]: 100%|██████████| 9/9 [00:00<00:00, 172.88it/s, loss=1.13]\n"
     ]
    },
    {
     "name": "stdout",
     "output_type": "stream",
     "text": [
      "Epoch [1205/3000]: Train loss: 1.1552, Valid loss: 1.1277\n"
     ]
    },
    {
     "name": "stderr",
     "output_type": "stream",
     "text": [
      "Epoch [1206/3000]: 100%|██████████| 9/9 [00:00<00:00, 159.24it/s, loss=1.06]\n"
     ]
    },
    {
     "name": "stdout",
     "output_type": "stream",
     "text": [
      "Epoch [1206/3000]: Train loss: 1.1432, Valid loss: 1.3600\n"
     ]
    },
    {
     "name": "stderr",
     "output_type": "stream",
     "text": [
      "Epoch [1207/3000]: 100%|██████████| 9/9 [00:00<00:00, 163.48it/s, loss=0.897]\n"
     ]
    },
    {
     "name": "stdout",
     "output_type": "stream",
     "text": [
      "Epoch [1207/3000]: Train loss: 1.1349, Valid loss: 1.2747\n"
     ]
    },
    {
     "name": "stderr",
     "output_type": "stream",
     "text": [
      "Epoch [1208/3000]: 100%|██████████| 9/9 [00:00<00:00, 153.13it/s, loss=0.951]\n"
     ]
    },
    {
     "name": "stdout",
     "output_type": "stream",
     "text": [
      "Epoch [1208/3000]: Train loss: 1.1391, Valid loss: 1.4269\n"
     ]
    },
    {
     "name": "stderr",
     "output_type": "stream",
     "text": [
      "Epoch [1209/3000]: 100%|██████████| 9/9 [00:00<00:00, 163.64it/s, loss=1.13]\n"
     ]
    },
    {
     "name": "stdout",
     "output_type": "stream",
     "text": [
      "Epoch [1209/3000]: Train loss: 1.1583, Valid loss: 1.1136\n"
     ]
    },
    {
     "name": "stderr",
     "output_type": "stream",
     "text": [
      "Epoch [1210/3000]: 100%|██████████| 9/9 [00:00<00:00, 179.97it/s, loss=1.56]\n"
     ]
    },
    {
     "name": "stdout",
     "output_type": "stream",
     "text": [
      "Epoch [1210/3000]: Train loss: 1.1818, Valid loss: 1.2242\n"
     ]
    },
    {
     "name": "stderr",
     "output_type": "stream",
     "text": [
      "Epoch [1211/3000]: 100%|██████████| 9/9 [00:00<00:00, 200.20it/s, loss=1.13]\n"
     ]
    },
    {
     "name": "stdout",
     "output_type": "stream",
     "text": [
      "Epoch [1211/3000]: Train loss: 1.1494, Valid loss: 1.6645\n"
     ]
    },
    {
     "name": "stderr",
     "output_type": "stream",
     "text": [
      "Epoch [1212/3000]: 100%|██████████| 9/9 [00:00<00:00, 200.30it/s, loss=1.55]\n"
     ]
    },
    {
     "name": "stdout",
     "output_type": "stream",
     "text": [
      "Epoch [1212/3000]: Train loss: 1.1842, Valid loss: 1.2291\n"
     ]
    },
    {
     "name": "stderr",
     "output_type": "stream",
     "text": [
      "Epoch [1213/3000]: 100%|██████████| 9/9 [00:00<00:00, 178.95it/s, loss=1.24]\n"
     ]
    },
    {
     "name": "stdout",
     "output_type": "stream",
     "text": [
      "Epoch [1213/3000]: Train loss: 1.2045, Valid loss: 1.3104\n"
     ]
    },
    {
     "name": "stderr",
     "output_type": "stream",
     "text": [
      "Epoch [1214/3000]: 100%|██████████| 9/9 [00:00<00:00, 169.98it/s, loss=1.02]\n"
     ]
    },
    {
     "name": "stdout",
     "output_type": "stream",
     "text": [
      "Epoch [1214/3000]: Train loss: 1.2210, Valid loss: 1.2769\n"
     ]
    },
    {
     "name": "stderr",
     "output_type": "stream",
     "text": [
      "Epoch [1215/3000]: 100%|██████████| 9/9 [00:00<00:00, 166.81it/s, loss=1.06]\n"
     ]
    },
    {
     "name": "stdout",
     "output_type": "stream",
     "text": [
      "Epoch [1215/3000]: Train loss: 1.1800, Valid loss: 1.2698\n"
     ]
    },
    {
     "name": "stderr",
     "output_type": "stream",
     "text": [
      "Epoch [1216/3000]: 100%|██████████| 9/9 [00:00<00:00, 126.13it/s, loss=1.23]\n"
     ]
    },
    {
     "name": "stdout",
     "output_type": "stream",
     "text": [
      "Epoch [1216/3000]: Train loss: 1.1500, Valid loss: 1.4831\n"
     ]
    },
    {
     "name": "stderr",
     "output_type": "stream",
     "text": [
      "Epoch [1217/3000]: 100%|██████████| 9/9 [00:00<00:00, 148.72it/s, loss=1.01]\n"
     ]
    },
    {
     "name": "stdout",
     "output_type": "stream",
     "text": [
      "Epoch [1217/3000]: Train loss: 1.1435, Valid loss: 1.1729\n"
     ]
    },
    {
     "name": "stderr",
     "output_type": "stream",
     "text": [
      "Epoch [1218/3000]: 100%|██████████| 9/9 [00:00<00:00, 132.64it/s, loss=1.09]\n"
     ]
    },
    {
     "name": "stdout",
     "output_type": "stream",
     "text": [
      "Epoch [1218/3000]: Train loss: 1.1383, Valid loss: 1.1259\n"
     ]
    },
    {
     "name": "stderr",
     "output_type": "stream",
     "text": [
      "Epoch [1219/3000]: 100%|██████████| 9/9 [00:00<00:00, 117.66it/s, loss=1.01]\n"
     ]
    },
    {
     "name": "stdout",
     "output_type": "stream",
     "text": [
      "Epoch [1219/3000]: Train loss: 1.1667, Valid loss: 1.3518\n"
     ]
    },
    {
     "name": "stderr",
     "output_type": "stream",
     "text": [
      "Epoch [1220/3000]: 100%|██████████| 9/9 [00:00<00:00, 129.91it/s, loss=1.64]\n"
     ]
    },
    {
     "name": "stdout",
     "output_type": "stream",
     "text": [
      "Epoch [1220/3000]: Train loss: 1.2120, Valid loss: 1.5217\n"
     ]
    },
    {
     "name": "stderr",
     "output_type": "stream",
     "text": [
      "Epoch [1221/3000]: 100%|██████████| 9/9 [00:00<00:00, 141.95it/s, loss=1.18]\n"
     ]
    },
    {
     "name": "stdout",
     "output_type": "stream",
     "text": [
      "Epoch [1221/3000]: Train loss: 1.1995, Valid loss: 1.2234\n"
     ]
    },
    {
     "name": "stderr",
     "output_type": "stream",
     "text": [
      "Epoch [1222/3000]: 100%|██████████| 9/9 [00:00<00:00, 143.58it/s, loss=1.43]\n"
     ]
    },
    {
     "name": "stdout",
     "output_type": "stream",
     "text": [
      "Epoch [1222/3000]: Train loss: 1.2231, Valid loss: 1.5381\n"
     ]
    },
    {
     "name": "stderr",
     "output_type": "stream",
     "text": [
      "Epoch [1223/3000]: 100%|██████████| 9/9 [00:00<00:00, 139.30it/s, loss=1.15]\n"
     ]
    },
    {
     "name": "stdout",
     "output_type": "stream",
     "text": [
      "Epoch [1223/3000]: Train loss: 1.1620, Valid loss: 1.2436\n"
     ]
    },
    {
     "name": "stderr",
     "output_type": "stream",
     "text": [
      "Epoch [1224/3000]: 100%|██████████| 9/9 [00:00<00:00, 123.95it/s, loss=1.03]\n"
     ]
    },
    {
     "name": "stdout",
     "output_type": "stream",
     "text": [
      "Epoch [1224/3000]: Train loss: 1.1590, Valid loss: 1.3960\n"
     ]
    },
    {
     "name": "stderr",
     "output_type": "stream",
     "text": [
      "Epoch [1225/3000]: 100%|██████████| 9/9 [00:00<00:00, 131.95it/s, loss=0.93]\n"
     ]
    },
    {
     "name": "stdout",
     "output_type": "stream",
     "text": [
      "Epoch [1225/3000]: Train loss: 1.1424, Valid loss: 1.2445\n"
     ]
    },
    {
     "name": "stderr",
     "output_type": "stream",
     "text": [
      "Epoch [1226/3000]: 100%|██████████| 9/9 [00:00<00:00, 134.47it/s, loss=1.08]\n"
     ]
    },
    {
     "name": "stdout",
     "output_type": "stream",
     "text": [
      "Epoch [1226/3000]: Train loss: 1.1425, Valid loss: 1.1924\n"
     ]
    },
    {
     "name": "stderr",
     "output_type": "stream",
     "text": [
      "Epoch [1227/3000]: 100%|██████████| 9/9 [00:00<00:00, 139.26it/s, loss=0.985]\n"
     ]
    },
    {
     "name": "stdout",
     "output_type": "stream",
     "text": [
      "Epoch [1227/3000]: Train loss: 1.1333, Valid loss: 1.1619\n"
     ]
    },
    {
     "name": "stderr",
     "output_type": "stream",
     "text": [
      "Epoch [1228/3000]: 100%|██████████| 9/9 [00:00<00:00, 134.17it/s, loss=1.43]\n"
     ]
    },
    {
     "name": "stdout",
     "output_type": "stream",
     "text": [
      "Epoch [1228/3000]: Train loss: 1.1797, Valid loss: 1.4607\n"
     ]
    },
    {
     "name": "stderr",
     "output_type": "stream",
     "text": [
      "Epoch [1229/3000]: 100%|██████████| 9/9 [00:00<00:00, 131.36it/s, loss=1.17]\n"
     ]
    },
    {
     "name": "stdout",
     "output_type": "stream",
     "text": [
      "Epoch [1229/3000]: Train loss: 1.1491, Valid loss: 1.3500\n"
     ]
    },
    {
     "name": "stderr",
     "output_type": "stream",
     "text": [
      "Epoch [1230/3000]: 100%|██████████| 9/9 [00:00<00:00, 143.51it/s, loss=0.904]\n"
     ]
    },
    {
     "name": "stdout",
     "output_type": "stream",
     "text": [
      "Epoch [1230/3000]: Train loss: 1.1671, Valid loss: 1.6408\n"
     ]
    },
    {
     "name": "stderr",
     "output_type": "stream",
     "text": [
      "Epoch [1231/3000]: 100%|██████████| 9/9 [00:00<00:00, 135.55it/s, loss=1.31]\n"
     ]
    },
    {
     "name": "stdout",
     "output_type": "stream",
     "text": [
      "Epoch [1231/3000]: Train loss: 1.2094, Valid loss: 1.2272\n"
     ]
    },
    {
     "name": "stderr",
     "output_type": "stream",
     "text": [
      "Epoch [1232/3000]: 100%|██████████| 9/9 [00:00<00:00, 141.52it/s, loss=1.41]\n"
     ]
    },
    {
     "name": "stdout",
     "output_type": "stream",
     "text": [
      "Epoch [1232/3000]: Train loss: 1.1668, Valid loss: 1.2925\n"
     ]
    },
    {
     "name": "stderr",
     "output_type": "stream",
     "text": [
      "Epoch [1233/3000]: 100%|██████████| 9/9 [00:00<00:00, 166.25it/s, loss=1.3]\n"
     ]
    },
    {
     "name": "stdout",
     "output_type": "stream",
     "text": [
      "Epoch [1233/3000]: Train loss: 1.1655, Valid loss: 1.2952\n"
     ]
    },
    {
     "name": "stderr",
     "output_type": "stream",
     "text": [
      "Epoch [1234/3000]: 100%|██████████| 9/9 [00:00<00:00, 162.36it/s, loss=1.17]\n"
     ]
    },
    {
     "name": "stdout",
     "output_type": "stream",
     "text": [
      "Epoch [1234/3000]: Train loss: 1.1535, Valid loss: 1.2501\n"
     ]
    },
    {
     "name": "stderr",
     "output_type": "stream",
     "text": [
      "Epoch [1235/3000]: 100%|██████████| 9/9 [00:00<00:00, 156.03it/s, loss=1.6]\n"
     ]
    },
    {
     "name": "stdout",
     "output_type": "stream",
     "text": [
      "Epoch [1235/3000]: Train loss: 1.1754, Valid loss: 1.3740\n"
     ]
    },
    {
     "name": "stderr",
     "output_type": "stream",
     "text": [
      "Epoch [1236/3000]: 100%|██████████| 9/9 [00:00<00:00, 156.50it/s, loss=1.41]\n"
     ]
    },
    {
     "name": "stdout",
     "output_type": "stream",
     "text": [
      "Epoch [1236/3000]: Train loss: 1.1623, Valid loss: 1.1700\n"
     ]
    },
    {
     "name": "stderr",
     "output_type": "stream",
     "text": [
      "Epoch [1237/3000]: 100%|██████████| 9/9 [00:00<00:00, 146.57it/s, loss=1.17]\n"
     ]
    },
    {
     "name": "stdout",
     "output_type": "stream",
     "text": [
      "Epoch [1237/3000]: Train loss: 1.1471, Valid loss: 1.1033\n"
     ]
    },
    {
     "name": "stderr",
     "output_type": "stream",
     "text": [
      "Epoch [1238/3000]: 100%|██████████| 9/9 [00:00<00:00, 151.40it/s, loss=1.43]\n"
     ]
    },
    {
     "name": "stdout",
     "output_type": "stream",
     "text": [
      "Epoch [1238/3000]: Train loss: 1.1701, Valid loss: 1.6640\n"
     ]
    },
    {
     "name": "stderr",
     "output_type": "stream",
     "text": [
      "Epoch [1239/3000]: 100%|██████████| 9/9 [00:00<00:00, 144.90it/s, loss=0.835]\n"
     ]
    },
    {
     "name": "stdout",
     "output_type": "stream",
     "text": [
      "Epoch [1239/3000]: Train loss: 1.1282, Valid loss: 1.5476\n"
     ]
    },
    {
     "name": "stderr",
     "output_type": "stream",
     "text": [
      "Epoch [1240/3000]: 100%|██████████| 9/9 [00:00<00:00, 148.14it/s, loss=1.15]\n"
     ]
    },
    {
     "name": "stdout",
     "output_type": "stream",
     "text": [
      "Epoch [1240/3000]: Train loss: 1.1596, Valid loss: 1.3326\n"
     ]
    },
    {
     "name": "stderr",
     "output_type": "stream",
     "text": [
      "Epoch [1241/3000]: 100%|██████████| 9/9 [00:00<00:00, 145.51it/s, loss=1.34]\n"
     ]
    },
    {
     "name": "stdout",
     "output_type": "stream",
     "text": [
      "Epoch [1241/3000]: Train loss: 1.1700, Valid loss: 1.3704\n"
     ]
    },
    {
     "name": "stderr",
     "output_type": "stream",
     "text": [
      "Epoch [1242/3000]: 100%|██████████| 9/9 [00:00<00:00, 144.97it/s, loss=1.12]\n"
     ]
    },
    {
     "name": "stdout",
     "output_type": "stream",
     "text": [
      "Epoch [1242/3000]: Train loss: 1.1677, Valid loss: 1.1869\n"
     ]
    },
    {
     "name": "stderr",
     "output_type": "stream",
     "text": [
      "Epoch [1243/3000]: 100%|██████████| 9/9 [00:00<00:00, 166.15it/s, loss=1]\n"
     ]
    },
    {
     "name": "stdout",
     "output_type": "stream",
     "text": [
      "Epoch [1243/3000]: Train loss: 1.1455, Valid loss: 1.1791\n"
     ]
    },
    {
     "name": "stderr",
     "output_type": "stream",
     "text": [
      "Epoch [1244/3000]: 100%|██████████| 9/9 [00:00<00:00, 160.63it/s, loss=0.956]\n"
     ]
    },
    {
     "name": "stdout",
     "output_type": "stream",
     "text": [
      "Epoch [1244/3000]: Train loss: 1.1299, Valid loss: 1.2328\n"
     ]
    },
    {
     "name": "stderr",
     "output_type": "stream",
     "text": [
      "Epoch [1245/3000]: 100%|██████████| 9/9 [00:00<00:00, 151.87it/s, loss=0.994]\n"
     ]
    },
    {
     "name": "stdout",
     "output_type": "stream",
     "text": [
      "Epoch [1245/3000]: Train loss: 1.1314, Valid loss: 1.1658\n"
     ]
    },
    {
     "name": "stderr",
     "output_type": "stream",
     "text": [
      "Epoch [1246/3000]: 100%|██████████| 9/9 [00:00<00:00, 174.83it/s, loss=1.28]\n"
     ]
    },
    {
     "name": "stdout",
     "output_type": "stream",
     "text": [
      "Epoch [1246/3000]: Train loss: 1.1497, Valid loss: 1.3994\n"
     ]
    },
    {
     "name": "stderr",
     "output_type": "stream",
     "text": [
      "Epoch [1247/3000]: 100%|██████████| 9/9 [00:00<00:00, 167.29it/s, loss=0.902]\n"
     ]
    },
    {
     "name": "stdout",
     "output_type": "stream",
     "text": [
      "Epoch [1247/3000]: Train loss: 1.1353, Valid loss: 1.5459\n"
     ]
    },
    {
     "name": "stderr",
     "output_type": "stream",
     "text": [
      "Epoch [1248/3000]: 100%|██████████| 9/9 [00:00<00:00, 117.67it/s, loss=0.967]\n"
     ]
    },
    {
     "name": "stdout",
     "output_type": "stream",
     "text": [
      "Epoch [1248/3000]: Train loss: 1.1618, Valid loss: 1.3746\n"
     ]
    },
    {
     "name": "stderr",
     "output_type": "stream",
     "text": [
      "Epoch [1249/3000]: 100%|██████████| 9/9 [00:00<00:00, 130.06it/s, loss=1.36]\n"
     ]
    },
    {
     "name": "stdout",
     "output_type": "stream",
     "text": [
      "Epoch [1249/3000]: Train loss: 1.1570, Valid loss: 1.3663\n"
     ]
    },
    {
     "name": "stderr",
     "output_type": "stream",
     "text": [
      "Epoch [1250/3000]: 100%|██████████| 9/9 [00:00<00:00, 69.37it/s, loss=1.23]\n"
     ]
    },
    {
     "name": "stdout",
     "output_type": "stream",
     "text": [
      "Epoch [1250/3000]: Train loss: 1.1682, Valid loss: 1.2069\n"
     ]
    },
    {
     "name": "stderr",
     "output_type": "stream",
     "text": [
      "Epoch [1251/3000]: 100%|██████████| 9/9 [00:00<00:00, 169.07it/s, loss=1.08]\n"
     ]
    },
    {
     "name": "stdout",
     "output_type": "stream",
     "text": [
      "Epoch [1251/3000]: Train loss: 1.1567, Valid loss: 1.1226\n"
     ]
    },
    {
     "name": "stderr",
     "output_type": "stream",
     "text": [
      "Epoch [1252/3000]: 100%|██████████| 9/9 [00:00<00:00, 172.35it/s, loss=1.61]\n"
     ]
    },
    {
     "name": "stdout",
     "output_type": "stream",
     "text": [
      "Epoch [1252/3000]: Train loss: 1.1738, Valid loss: 1.1359\n"
     ]
    },
    {
     "name": "stderr",
     "output_type": "stream",
     "text": [
      "Epoch [1253/3000]: 100%|██████████| 9/9 [00:00<00:00, 130.26it/s, loss=1.27]\n"
     ]
    },
    {
     "name": "stdout",
     "output_type": "stream",
     "text": [
      "Epoch [1253/3000]: Train loss: 1.1549, Valid loss: 1.4510\n"
     ]
    },
    {
     "name": "stderr",
     "output_type": "stream",
     "text": [
      "Epoch [1254/3000]: 100%|██████████| 9/9 [00:00<00:00, 154.47it/s, loss=1.63]\n"
     ]
    },
    {
     "name": "stdout",
     "output_type": "stream",
     "text": [
      "Epoch [1254/3000]: Train loss: 1.1790, Valid loss: 1.2288\n"
     ]
    },
    {
     "name": "stderr",
     "output_type": "stream",
     "text": [
      "Epoch [1255/3000]: 100%|██████████| 9/9 [00:00<00:00, 148.98it/s, loss=1.13]\n"
     ]
    },
    {
     "name": "stdout",
     "output_type": "stream",
     "text": [
      "Epoch [1255/3000]: Train loss: 1.1430, Valid loss: 1.5598\n"
     ]
    },
    {
     "name": "stderr",
     "output_type": "stream",
     "text": [
      "Epoch [1256/3000]: 100%|██████████| 9/9 [00:00<00:00, 148.04it/s, loss=1.14]\n"
     ]
    },
    {
     "name": "stdout",
     "output_type": "stream",
     "text": [
      "Epoch [1256/3000]: Train loss: 1.1383, Valid loss: 1.1246\n"
     ]
    },
    {
     "name": "stderr",
     "output_type": "stream",
     "text": [
      "Epoch [1257/3000]: 100%|██████████| 9/9 [00:00<00:00, 145.13it/s, loss=0.745]\n"
     ]
    },
    {
     "name": "stdout",
     "output_type": "stream",
     "text": [
      "Epoch [1257/3000]: Train loss: 1.1312, Valid loss: 1.2523\n"
     ]
    },
    {
     "name": "stderr",
     "output_type": "stream",
     "text": [
      "Epoch [1258/3000]: 100%|██████████| 9/9 [00:00<00:00, 129.84it/s, loss=1.19]\n"
     ]
    },
    {
     "name": "stdout",
     "output_type": "stream",
     "text": [
      "Epoch [1258/3000]: Train loss: 1.1544, Valid loss: 1.2330\n"
     ]
    },
    {
     "name": "stderr",
     "output_type": "stream",
     "text": [
      "Epoch [1259/3000]: 100%|██████████| 9/9 [00:00<00:00, 136.02it/s, loss=1.05]\n"
     ]
    },
    {
     "name": "stdout",
     "output_type": "stream",
     "text": [
      "Epoch [1259/3000]: Train loss: 1.1383, Valid loss: 1.6008\n"
     ]
    },
    {
     "name": "stderr",
     "output_type": "stream",
     "text": [
      "Epoch [1260/3000]: 100%|██████████| 9/9 [00:00<00:00, 135.41it/s, loss=1.44]\n"
     ]
    },
    {
     "name": "stdout",
     "output_type": "stream",
     "text": [
      "Epoch [1260/3000]: Train loss: 1.1555, Valid loss: 1.3009\n"
     ]
    },
    {
     "name": "stderr",
     "output_type": "stream",
     "text": [
      "Epoch [1261/3000]: 100%|██████████| 9/9 [00:00<00:00, 138.23it/s, loss=0.972]\n"
     ]
    },
    {
     "name": "stdout",
     "output_type": "stream",
     "text": [
      "Epoch [1261/3000]: Train loss: 1.1270, Valid loss: 1.4763\n"
     ]
    },
    {
     "name": "stderr",
     "output_type": "stream",
     "text": [
      "Epoch [1262/3000]: 100%|██████████| 9/9 [00:00<00:00, 142.55it/s, loss=1.35]\n"
     ]
    },
    {
     "name": "stdout",
     "output_type": "stream",
     "text": [
      "Epoch [1262/3000]: Train loss: 1.1619, Valid loss: 1.2139\n"
     ]
    },
    {
     "name": "stderr",
     "output_type": "stream",
     "text": [
      "Epoch [1263/3000]: 100%|██████████| 9/9 [00:00<00:00, 135.44it/s, loss=1.01]\n"
     ]
    },
    {
     "name": "stdout",
     "output_type": "stream",
     "text": [
      "Epoch [1263/3000]: Train loss: 1.1329, Valid loss: 1.3529\n"
     ]
    },
    {
     "name": "stderr",
     "output_type": "stream",
     "text": [
      "Epoch [1264/3000]: 100%|██████████| 9/9 [00:00<00:00, 129.88it/s, loss=1.19]\n"
     ]
    },
    {
     "name": "stdout",
     "output_type": "stream",
     "text": [
      "Epoch [1264/3000]: Train loss: 1.1428, Valid loss: 1.2751\n"
     ]
    },
    {
     "name": "stderr",
     "output_type": "stream",
     "text": [
      "Epoch [1265/3000]: 100%|██████████| 9/9 [00:00<00:00, 136.50it/s, loss=1.35]\n"
     ]
    },
    {
     "name": "stdout",
     "output_type": "stream",
     "text": [
      "Epoch [1265/3000]: Train loss: 1.1504, Valid loss: 1.6907\n"
     ]
    },
    {
     "name": "stderr",
     "output_type": "stream",
     "text": [
      "Epoch [1266/3000]: 100%|██████████| 9/9 [00:00<00:00, 135.12it/s, loss=1.1]\n"
     ]
    },
    {
     "name": "stdout",
     "output_type": "stream",
     "text": [
      "Epoch [1266/3000]: Train loss: 1.1571, Valid loss: 1.3707\n"
     ]
    },
    {
     "name": "stderr",
     "output_type": "stream",
     "text": [
      "Epoch [1267/3000]: 100%|██████████| 9/9 [00:00<00:00, 135.85it/s, loss=1.15]\n"
     ]
    },
    {
     "name": "stdout",
     "output_type": "stream",
     "text": [
      "Epoch [1267/3000]: Train loss: 1.1589, Valid loss: 1.3937\n"
     ]
    },
    {
     "name": "stderr",
     "output_type": "stream",
     "text": [
      "Epoch [1268/3000]: 100%|██████████| 9/9 [00:00<00:00, 127.98it/s, loss=0.977]\n"
     ]
    },
    {
     "name": "stdout",
     "output_type": "stream",
     "text": [
      "Epoch [1268/3000]: Train loss: 1.1466, Valid loss: 1.3869\n"
     ]
    },
    {
     "name": "stderr",
     "output_type": "stream",
     "text": [
      "Epoch [1269/3000]: 100%|██████████| 9/9 [00:00<00:00, 114.50it/s, loss=0.966]\n"
     ]
    },
    {
     "name": "stdout",
     "output_type": "stream",
     "text": [
      "Epoch [1269/3000]: Train loss: 1.1540, Valid loss: 1.2858\n"
     ]
    },
    {
     "name": "stderr",
     "output_type": "stream",
     "text": [
      "Epoch [1270/3000]: 100%|██████████| 9/9 [00:00<00:00, 119.33it/s, loss=1.07]\n"
     ]
    },
    {
     "name": "stdout",
     "output_type": "stream",
     "text": [
      "Epoch [1270/3000]: Train loss: 1.1707, Valid loss: 1.3030\n"
     ]
    },
    {
     "name": "stderr",
     "output_type": "stream",
     "text": [
      "Epoch [1271/3000]: 100%|██████████| 9/9 [00:00<00:00, 134.52it/s, loss=1.02]\n"
     ]
    },
    {
     "name": "stdout",
     "output_type": "stream",
     "text": [
      "Epoch [1271/3000]: Train loss: 1.1640, Valid loss: 1.6384\n"
     ]
    },
    {
     "name": "stderr",
     "output_type": "stream",
     "text": [
      "Epoch [1272/3000]: 100%|██████████| 9/9 [00:00<00:00, 129.08it/s, loss=0.832]\n"
     ]
    },
    {
     "name": "stdout",
     "output_type": "stream",
     "text": [
      "Epoch [1272/3000]: Train loss: 1.1297, Valid loss: 1.4116\n"
     ]
    },
    {
     "name": "stderr",
     "output_type": "stream",
     "text": [
      "Epoch [1273/3000]: 100%|██████████| 9/9 [00:00<00:00, 130.72it/s, loss=1.39]\n"
     ]
    },
    {
     "name": "stdout",
     "output_type": "stream",
     "text": [
      "Epoch [1273/3000]: Train loss: 1.1537, Valid loss: 1.3765\n"
     ]
    },
    {
     "name": "stderr",
     "output_type": "stream",
     "text": [
      "Epoch [1274/3000]: 100%|██████████| 9/9 [00:00<00:00, 117.85it/s, loss=0.911]\n"
     ]
    },
    {
     "name": "stdout",
     "output_type": "stream",
     "text": [
      "Epoch [1274/3000]: Train loss: 1.1361, Valid loss: 1.3291\n"
     ]
    },
    {
     "name": "stderr",
     "output_type": "stream",
     "text": [
      "Epoch [1275/3000]: 100%|██████████| 9/9 [00:00<00:00, 159.92it/s, loss=1.11]\n"
     ]
    },
    {
     "name": "stdout",
     "output_type": "stream",
     "text": [
      "Epoch [1275/3000]: Train loss: 1.1431, Valid loss: 1.4097\n"
     ]
    },
    {
     "name": "stderr",
     "output_type": "stream",
     "text": [
      "Epoch [1276/3000]: 100%|██████████| 9/9 [00:00<00:00, 143.99it/s, loss=1.5]\n"
     ]
    },
    {
     "name": "stdout",
     "output_type": "stream",
     "text": [
      "Epoch [1276/3000]: Train loss: 1.1647, Valid loss: 1.1242\n"
     ]
    },
    {
     "name": "stderr",
     "output_type": "stream",
     "text": [
      "Epoch [1277/3000]: 100%|██████████| 9/9 [00:00<00:00, 158.03it/s, loss=0.807]\n"
     ]
    },
    {
     "name": "stdout",
     "output_type": "stream",
     "text": [
      "Epoch [1277/3000]: Train loss: 1.1223, Valid loss: 1.4060\n"
     ]
    },
    {
     "name": "stderr",
     "output_type": "stream",
     "text": [
      "Epoch [1278/3000]: 100%|██████████| 9/9 [00:00<00:00, 151.55it/s, loss=0.994]\n"
     ]
    },
    {
     "name": "stdout",
     "output_type": "stream",
     "text": [
      "Epoch [1278/3000]: Train loss: 1.1435, Valid loss: 1.2373\n"
     ]
    },
    {
     "name": "stderr",
     "output_type": "stream",
     "text": [
      "Epoch [1279/3000]: 100%|██████████| 9/9 [00:00<00:00, 150.90it/s, loss=1.02]\n"
     ]
    },
    {
     "name": "stdout",
     "output_type": "stream",
     "text": [
      "Epoch [1279/3000]: Train loss: 1.1303, Valid loss: 1.1586\n"
     ]
    },
    {
     "name": "stderr",
     "output_type": "stream",
     "text": [
      "Epoch [1280/3000]: 100%|██████████| 9/9 [00:00<00:00, 146.91it/s, loss=1.19]\n"
     ]
    },
    {
     "name": "stdout",
     "output_type": "stream",
     "text": [
      "Epoch [1280/3000]: Train loss: 1.1507, Valid loss: 1.3207\n"
     ]
    },
    {
     "name": "stderr",
     "output_type": "stream",
     "text": [
      "Epoch [1281/3000]: 100%|██████████| 9/9 [00:00<00:00, 153.80it/s, loss=0.881]\n"
     ]
    },
    {
     "name": "stdout",
     "output_type": "stream",
     "text": [
      "Epoch [1281/3000]: Train loss: 1.1358, Valid loss: 1.4216\n"
     ]
    },
    {
     "name": "stderr",
     "output_type": "stream",
     "text": [
      "Epoch [1282/3000]: 100%|██████████| 9/9 [00:00<00:00, 148.41it/s, loss=1.08]\n"
     ]
    },
    {
     "name": "stdout",
     "output_type": "stream",
     "text": [
      "Epoch [1282/3000]: Train loss: 1.1884, Valid loss: 1.3189\n"
     ]
    },
    {
     "name": "stderr",
     "output_type": "stream",
     "text": [
      "Epoch [1283/3000]: 100%|██████████| 9/9 [00:00<00:00, 135.17it/s, loss=1.46]\n"
     ]
    },
    {
     "name": "stdout",
     "output_type": "stream",
     "text": [
      "Epoch [1283/3000]: Train loss: 1.1945, Valid loss: 1.3592\n"
     ]
    },
    {
     "name": "stderr",
     "output_type": "stream",
     "text": [
      "Epoch [1284/3000]: 100%|██████████| 9/9 [00:00<00:00, 129.98it/s, loss=0.978]\n"
     ]
    },
    {
     "name": "stdout",
     "output_type": "stream",
     "text": [
      "Epoch [1284/3000]: Train loss: 1.1319, Valid loss: 1.3662\n"
     ]
    },
    {
     "name": "stderr",
     "output_type": "stream",
     "text": [
      "Epoch [1285/3000]: 100%|██████████| 9/9 [00:00<00:00, 136.67it/s, loss=0.819]\n"
     ]
    },
    {
     "name": "stdout",
     "output_type": "stream",
     "text": [
      "Epoch [1285/3000]: Train loss: 1.1212, Valid loss: 1.4001\n"
     ]
    },
    {
     "name": "stderr",
     "output_type": "stream",
     "text": [
      "Epoch [1286/3000]: 100%|██████████| 9/9 [00:00<00:00, 143.20it/s, loss=0.876]\n"
     ]
    },
    {
     "name": "stdout",
     "output_type": "stream",
     "text": [
      "Epoch [1286/3000]: Train loss: 1.1224, Valid loss: 1.4967\n"
     ]
    },
    {
     "name": "stderr",
     "output_type": "stream",
     "text": [
      "Epoch [1287/3000]: 100%|██████████| 9/9 [00:00<00:00, 126.77it/s, loss=0.813]\n"
     ]
    },
    {
     "name": "stdout",
     "output_type": "stream",
     "text": [
      "Epoch [1287/3000]: Train loss: 1.1184, Valid loss: 1.5631\n"
     ]
    },
    {
     "name": "stderr",
     "output_type": "stream",
     "text": [
      "Epoch [1288/3000]: 100%|██████████| 9/9 [00:00<00:00, 142.14it/s, loss=1.23]\n"
     ]
    },
    {
     "name": "stdout",
     "output_type": "stream",
     "text": [
      "Epoch [1288/3000]: Train loss: 1.1607, Valid loss: 1.2856\n"
     ]
    },
    {
     "name": "stderr",
     "output_type": "stream",
     "text": [
      "Epoch [1289/3000]: 100%|██████████| 9/9 [00:00<00:00, 111.86it/s, loss=0.964]\n"
     ]
    },
    {
     "name": "stdout",
     "output_type": "stream",
     "text": [
      "Epoch [1289/3000]: Train loss: 1.1251, Valid loss: 1.2966\n"
     ]
    },
    {
     "name": "stderr",
     "output_type": "stream",
     "text": [
      "Epoch [1290/3000]: 100%|██████████| 9/9 [00:00<00:00, 93.75it/s, loss=1.01]\n"
     ]
    },
    {
     "name": "stdout",
     "output_type": "stream",
     "text": [
      "Epoch [1290/3000]: Train loss: 1.1401, Valid loss: 1.2963\n"
     ]
    },
    {
     "name": "stderr",
     "output_type": "stream",
     "text": [
      "Epoch [1291/3000]: 100%|██████████| 9/9 [00:00<00:00, 52.92it/s, loss=1.17]\n"
     ]
    },
    {
     "name": "stdout",
     "output_type": "stream",
     "text": [
      "Epoch [1291/3000]: Train loss: 1.1813, Valid loss: 1.2714\n"
     ]
    },
    {
     "name": "stderr",
     "output_type": "stream",
     "text": [
      "Epoch [1292/3000]: 100%|██████████| 9/9 [00:00<00:00, 178.84it/s, loss=1.03]\n"
     ]
    },
    {
     "name": "stdout",
     "output_type": "stream",
     "text": [
      "Epoch [1292/3000]: Train loss: 1.1472, Valid loss: 1.4171\n"
     ]
    },
    {
     "name": "stderr",
     "output_type": "stream",
     "text": [
      "Epoch [1293/3000]: 100%|██████████| 9/9 [00:00<00:00, 177.57it/s, loss=1.22]\n"
     ]
    },
    {
     "name": "stdout",
     "output_type": "stream",
     "text": [
      "Epoch [1293/3000]: Train loss: 1.1428, Valid loss: 1.1326\n"
     ]
    },
    {
     "name": "stderr",
     "output_type": "stream",
     "text": [
      "Epoch [1294/3000]: 100%|██████████| 9/9 [00:00<00:00, 177.10it/s, loss=1.51]\n"
     ]
    },
    {
     "name": "stdout",
     "output_type": "stream",
     "text": [
      "Epoch [1294/3000]: Train loss: 1.1763, Valid loss: 1.2750\n"
     ]
    },
    {
     "name": "stderr",
     "output_type": "stream",
     "text": [
      "Epoch [1295/3000]: 100%|██████████| 9/9 [00:00<00:00, 184.82it/s, loss=1.04]\n"
     ]
    },
    {
     "name": "stdout",
     "output_type": "stream",
     "text": [
      "Epoch [1295/3000]: Train loss: 1.1302, Valid loss: 1.1540\n"
     ]
    },
    {
     "name": "stderr",
     "output_type": "stream",
     "text": [
      "Epoch [1296/3000]: 100%|██████████| 9/9 [00:00<00:00, 176.60it/s, loss=0.886]\n"
     ]
    },
    {
     "name": "stdout",
     "output_type": "stream",
     "text": [
      "Epoch [1296/3000]: Train loss: 1.1224, Valid loss: 1.3048\n"
     ]
    },
    {
     "name": "stderr",
     "output_type": "stream",
     "text": [
      "Epoch [1297/3000]: 100%|██████████| 9/9 [00:00<00:00, 141.33it/s, loss=1.21]\n"
     ]
    },
    {
     "name": "stdout",
     "output_type": "stream",
     "text": [
      "Epoch [1297/3000]: Train loss: 1.1382, Valid loss: 1.1218\n"
     ]
    },
    {
     "name": "stderr",
     "output_type": "stream",
     "text": [
      "Epoch [1298/3000]: 100%|██████████| 9/9 [00:00<00:00, 159.28it/s, loss=1.17]\n"
     ]
    },
    {
     "name": "stdout",
     "output_type": "stream",
     "text": [
      "Epoch [1298/3000]: Train loss: 1.1458, Valid loss: 1.1275\n"
     ]
    },
    {
     "name": "stderr",
     "output_type": "stream",
     "text": [
      "Epoch [1299/3000]: 100%|██████████| 9/9 [00:00<00:00, 152.12it/s, loss=1.08]\n"
     ]
    },
    {
     "name": "stdout",
     "output_type": "stream",
     "text": [
      "Epoch [1299/3000]: Train loss: 1.1608, Valid loss: 1.8169\n"
     ]
    },
    {
     "name": "stderr",
     "output_type": "stream",
     "text": [
      "Epoch [1300/3000]: 100%|██████████| 9/9 [00:00<00:00, 150.89it/s, loss=0.875]\n"
     ]
    },
    {
     "name": "stdout",
     "output_type": "stream",
     "text": [
      "Epoch [1300/3000]: Train loss: 1.1257, Valid loss: 1.3273\n"
     ]
    },
    {
     "name": "stderr",
     "output_type": "stream",
     "text": [
      "Epoch [1301/3000]: 100%|██████████| 9/9 [00:00<00:00, 122.96it/s, loss=0.837]\n"
     ]
    },
    {
     "name": "stdout",
     "output_type": "stream",
     "text": [
      "Epoch [1301/3000]: Train loss: 1.1320, Valid loss: 1.2260\n"
     ]
    },
    {
     "name": "stderr",
     "output_type": "stream",
     "text": [
      "Epoch [1302/3000]: 100%|██████████| 9/9 [00:00<00:00, 131.79it/s, loss=1.36]\n"
     ]
    },
    {
     "name": "stdout",
     "output_type": "stream",
     "text": [
      "Epoch [1302/3000]: Train loss: 1.1857, Valid loss: 1.4226\n"
     ]
    },
    {
     "name": "stderr",
     "output_type": "stream",
     "text": [
      "Epoch [1303/3000]: 100%|██████████| 9/9 [00:00<00:00, 134.14it/s, loss=0.832]\n"
     ]
    },
    {
     "name": "stdout",
     "output_type": "stream",
     "text": [
      "Epoch [1303/3000]: Train loss: 1.1389, Valid loss: 1.3464\n"
     ]
    },
    {
     "name": "stderr",
     "output_type": "stream",
     "text": [
      "Epoch [1304/3000]: 100%|██████████| 9/9 [00:00<00:00, 130.79it/s, loss=0.811]\n"
     ]
    },
    {
     "name": "stdout",
     "output_type": "stream",
     "text": [
      "Epoch [1304/3000]: Train loss: 1.1161, Valid loss: 1.3208\n"
     ]
    },
    {
     "name": "stderr",
     "output_type": "stream",
     "text": [
      "Epoch [1305/3000]: 100%|██████████| 9/9 [00:00<00:00, 125.42it/s, loss=1.69]\n"
     ]
    },
    {
     "name": "stdout",
     "output_type": "stream",
     "text": [
      "Epoch [1305/3000]: Train loss: 1.1772, Valid loss: 1.5750\n"
     ]
    },
    {
     "name": "stderr",
     "output_type": "stream",
     "text": [
      "Epoch [1306/3000]: 100%|██████████| 9/9 [00:00<00:00, 166.89it/s, loss=1.04]\n"
     ]
    },
    {
     "name": "stdout",
     "output_type": "stream",
     "text": [
      "Epoch [1306/3000]: Train loss: 1.1773, Valid loss: 1.2462\n"
     ]
    },
    {
     "name": "stderr",
     "output_type": "stream",
     "text": [
      "Epoch [1307/3000]: 100%|██████████| 9/9 [00:00<00:00, 128.87it/s, loss=1.47]\n"
     ]
    },
    {
     "name": "stdout",
     "output_type": "stream",
     "text": [
      "Epoch [1307/3000]: Train loss: 1.2460, Valid loss: 1.4558\n"
     ]
    },
    {
     "name": "stderr",
     "output_type": "stream",
     "text": [
      "Epoch [1308/3000]: 100%|██████████| 9/9 [00:00<00:00, 140.47it/s, loss=1.15]\n"
     ]
    },
    {
     "name": "stdout",
     "output_type": "stream",
     "text": [
      "Epoch [1308/3000]: Train loss: 1.2015, Valid loss: 1.2385\n"
     ]
    },
    {
     "name": "stderr",
     "output_type": "stream",
     "text": [
      "Epoch [1309/3000]: 100%|██████████| 9/9 [00:00<00:00, 139.16it/s, loss=1.15]\n"
     ]
    },
    {
     "name": "stdout",
     "output_type": "stream",
     "text": [
      "Epoch [1309/3000]: Train loss: 1.1784, Valid loss: 1.2537\n"
     ]
    },
    {
     "name": "stderr",
     "output_type": "stream",
     "text": [
      "Epoch [1310/3000]: 100%|██████████| 9/9 [00:00<00:00, 112.98it/s, loss=1.02]\n"
     ]
    },
    {
     "name": "stdout",
     "output_type": "stream",
     "text": [
      "Epoch [1310/3000]: Train loss: 1.1328, Valid loss: 1.5615\n"
     ]
    },
    {
     "name": "stderr",
     "output_type": "stream",
     "text": [
      "Epoch [1311/3000]: 100%|██████████| 9/9 [00:00<00:00, 126.21it/s, loss=0.969]\n"
     ]
    },
    {
     "name": "stdout",
     "output_type": "stream",
     "text": [
      "Epoch [1311/3000]: Train loss: 1.1258, Valid loss: 1.2200\n"
     ]
    },
    {
     "name": "stderr",
     "output_type": "stream",
     "text": [
      "Epoch [1312/3000]: 100%|██████████| 9/9 [00:00<00:00, 130.96it/s, loss=0.973]\n"
     ]
    },
    {
     "name": "stdout",
     "output_type": "stream",
     "text": [
      "Epoch [1312/3000]: Train loss: 1.1244, Valid loss: 1.1478\n"
     ]
    },
    {
     "name": "stderr",
     "output_type": "stream",
     "text": [
      "Epoch [1313/3000]: 100%|██████████| 9/9 [00:00<00:00, 120.17it/s, loss=1.79]\n"
     ]
    },
    {
     "name": "stdout",
     "output_type": "stream",
     "text": [
      "Epoch [1313/3000]: Train loss: 1.1785, Valid loss: 1.1887\n"
     ]
    },
    {
     "name": "stderr",
     "output_type": "stream",
     "text": [
      "Epoch [1314/3000]: 100%|██████████| 9/9 [00:00<00:00, 134.57it/s, loss=1.46]\n"
     ]
    },
    {
     "name": "stdout",
     "output_type": "stream",
     "text": [
      "Epoch [1314/3000]: Train loss: 1.1582, Valid loss: 1.3582\n"
     ]
    },
    {
     "name": "stderr",
     "output_type": "stream",
     "text": [
      "Epoch [1315/3000]: 100%|██████████| 9/9 [00:00<00:00, 138.73it/s, loss=1.26]\n"
     ]
    },
    {
     "name": "stdout",
     "output_type": "stream",
     "text": [
      "Epoch [1315/3000]: Train loss: 1.1840, Valid loss: 1.2403\n"
     ]
    },
    {
     "name": "stderr",
     "output_type": "stream",
     "text": [
      "Epoch [1316/3000]: 100%|██████████| 9/9 [00:00<00:00, 143.04it/s, loss=1.14]\n"
     ]
    },
    {
     "name": "stdout",
     "output_type": "stream",
     "text": [
      "Epoch [1316/3000]: Train loss: 1.1657, Valid loss: 1.1780\n"
     ]
    },
    {
     "name": "stderr",
     "output_type": "stream",
     "text": [
      "Epoch [1317/3000]: 100%|██████████| 9/9 [00:00<00:00, 153.69it/s, loss=1.16]\n"
     ]
    },
    {
     "name": "stdout",
     "output_type": "stream",
     "text": [
      "Epoch [1317/3000]: Train loss: 1.1439, Valid loss: 1.4173\n"
     ]
    },
    {
     "name": "stderr",
     "output_type": "stream",
     "text": [
      "Epoch [1318/3000]: 100%|██████████| 9/9 [00:00<00:00, 152.62it/s, loss=1.49]\n"
     ]
    },
    {
     "name": "stdout",
     "output_type": "stream",
     "text": [
      "Epoch [1318/3000]: Train loss: 1.1607, Valid loss: 1.3768\n"
     ]
    },
    {
     "name": "stderr",
     "output_type": "stream",
     "text": [
      "Epoch [1319/3000]: 100%|██████████| 9/9 [00:00<00:00, 137.62it/s, loss=1.11]\n"
     ]
    },
    {
     "name": "stdout",
     "output_type": "stream",
     "text": [
      "Epoch [1319/3000]: Train loss: 1.1552, Valid loss: 1.1571\n"
     ]
    },
    {
     "name": "stderr",
     "output_type": "stream",
     "text": [
      "Epoch [1320/3000]: 100%|██████████| 9/9 [00:00<00:00, 130.65it/s, loss=1.04]\n"
     ]
    },
    {
     "name": "stdout",
     "output_type": "stream",
     "text": [
      "Epoch [1320/3000]: Train loss: 1.1864, Valid loss: 1.4512\n"
     ]
    },
    {
     "name": "stderr",
     "output_type": "stream",
     "text": [
      "Epoch [1321/3000]: 100%|██████████| 9/9 [00:00<00:00, 153.33it/s, loss=1.4]\n"
     ]
    },
    {
     "name": "stdout",
     "output_type": "stream",
     "text": [
      "Epoch [1321/3000]: Train loss: 1.2649, Valid loss: 1.3312\n"
     ]
    },
    {
     "name": "stderr",
     "output_type": "stream",
     "text": [
      "Epoch [1322/3000]: 100%|██████████| 9/9 [00:00<00:00, 147.34it/s, loss=1.12]\n"
     ]
    },
    {
     "name": "stdout",
     "output_type": "stream",
     "text": [
      "Epoch [1322/3000]: Train loss: 1.1803, Valid loss: 1.1813\n"
     ]
    },
    {
     "name": "stderr",
     "output_type": "stream",
     "text": [
      "Epoch [1323/3000]: 100%|██████████| 9/9 [00:00<00:00, 141.29it/s, loss=0.958]\n"
     ]
    },
    {
     "name": "stdout",
     "output_type": "stream",
     "text": [
      "Epoch [1323/3000]: Train loss: 1.1306, Valid loss: 1.1663\n"
     ]
    },
    {
     "name": "stderr",
     "output_type": "stream",
     "text": [
      "Epoch [1324/3000]: 100%|██████████| 9/9 [00:00<00:00, 144.14it/s, loss=0.836]\n"
     ]
    },
    {
     "name": "stdout",
     "output_type": "stream",
     "text": [
      "Epoch [1324/3000]: Train loss: 1.1240, Valid loss: 1.3334\n"
     ]
    },
    {
     "name": "stderr",
     "output_type": "stream",
     "text": [
      "Epoch [1325/3000]: 100%|██████████| 9/9 [00:00<00:00, 136.22it/s, loss=0.965]\n"
     ]
    },
    {
     "name": "stdout",
     "output_type": "stream",
     "text": [
      "Epoch [1325/3000]: Train loss: 1.1240, Valid loss: 1.2725\n"
     ]
    },
    {
     "name": "stderr",
     "output_type": "stream",
     "text": [
      "Epoch [1326/3000]: 100%|██████████| 9/9 [00:00<00:00, 136.50it/s, loss=1.23]\n"
     ]
    },
    {
     "name": "stdout",
     "output_type": "stream",
     "text": [
      "Epoch [1326/3000]: Train loss: 1.1400, Valid loss: 1.3702\n"
     ]
    },
    {
     "name": "stderr",
     "output_type": "stream",
     "text": [
      "Epoch [1327/3000]: 100%|██████████| 9/9 [00:00<00:00, 133.93it/s, loss=1.27]\n"
     ]
    },
    {
     "name": "stdout",
     "output_type": "stream",
     "text": [
      "Epoch [1327/3000]: Train loss: 1.1475, Valid loss: 1.2517\n"
     ]
    },
    {
     "name": "stderr",
     "output_type": "stream",
     "text": [
      "Epoch [1328/3000]: 100%|██████████| 9/9 [00:00<00:00, 135.81it/s, loss=1.05]\n"
     ]
    },
    {
     "name": "stdout",
     "output_type": "stream",
     "text": [
      "Epoch [1328/3000]: Train loss: 1.1504, Valid loss: 1.2724\n"
     ]
    },
    {
     "name": "stderr",
     "output_type": "stream",
     "text": [
      "Epoch [1329/3000]: 100%|██████████| 9/9 [00:00<00:00, 132.97it/s, loss=1.27]\n"
     ]
    },
    {
     "name": "stdout",
     "output_type": "stream",
     "text": [
      "Epoch [1329/3000]: Train loss: 1.1728, Valid loss: 1.0781\n"
     ]
    },
    {
     "name": "stderr",
     "output_type": "stream",
     "text": [
      "Epoch [1330/3000]: 100%|██████████| 9/9 [00:00<00:00, 113.25it/s, loss=1.4]\n"
     ]
    },
    {
     "name": "stdout",
     "output_type": "stream",
     "text": [
      "Epoch [1330/3000]: Train loss: 1.2211, Valid loss: 1.2513\n"
     ]
    },
    {
     "name": "stderr",
     "output_type": "stream",
     "text": [
      "Epoch [1331/3000]: 100%|██████████| 9/9 [00:00<00:00, 116.03it/s, loss=0.925]\n"
     ]
    },
    {
     "name": "stdout",
     "output_type": "stream",
     "text": [
      "Epoch [1331/3000]: Train loss: 1.1451, Valid loss: 1.4150\n"
     ]
    },
    {
     "name": "stderr",
     "output_type": "stream",
     "text": [
      "Epoch [1332/3000]: 100%|██████████| 9/9 [00:00<00:00, 72.50it/s, loss=1.23] \n"
     ]
    },
    {
     "name": "stdout",
     "output_type": "stream",
     "text": [
      "Epoch [1332/3000]: Train loss: 1.1445, Valid loss: 1.2820\n"
     ]
    },
    {
     "name": "stderr",
     "output_type": "stream",
     "text": [
      "Epoch [1333/3000]: 100%|██████████| 9/9 [00:00<00:00, 108.09it/s, loss=1.17]\n"
     ]
    },
    {
     "name": "stdout",
     "output_type": "stream",
     "text": [
      "Epoch [1333/3000]: Train loss: 1.1699, Valid loss: 1.2377\n"
     ]
    },
    {
     "name": "stderr",
     "output_type": "stream",
     "text": [
      "Epoch [1334/3000]: 100%|██████████| 9/9 [00:00<00:00, 129.27it/s, loss=1.3]\n"
     ]
    },
    {
     "name": "stdout",
     "output_type": "stream",
     "text": [
      "Epoch [1334/3000]: Train loss: 1.1800, Valid loss: 1.2041\n"
     ]
    },
    {
     "name": "stderr",
     "output_type": "stream",
     "text": [
      "Epoch [1335/3000]: 100%|██████████| 9/9 [00:00<00:00, 134.07it/s, loss=1.09]\n"
     ]
    },
    {
     "name": "stdout",
     "output_type": "stream",
     "text": [
      "Epoch [1335/3000]: Train loss: 1.1865, Valid loss: 1.4698\n"
     ]
    },
    {
     "name": "stderr",
     "output_type": "stream",
     "text": [
      "Epoch [1336/3000]: 100%|██████████| 9/9 [00:00<00:00, 138.23it/s, loss=1.12]\n"
     ]
    },
    {
     "name": "stdout",
     "output_type": "stream",
     "text": [
      "Epoch [1336/3000]: Train loss: 1.1936, Valid loss: 1.1886\n"
     ]
    },
    {
     "name": "stderr",
     "output_type": "stream",
     "text": [
      "Epoch [1337/3000]: 100%|██████████| 9/9 [00:00<00:00, 132.77it/s, loss=0.947]\n"
     ]
    },
    {
     "name": "stdout",
     "output_type": "stream",
     "text": [
      "Epoch [1337/3000]: Train loss: 1.1633, Valid loss: 1.3473\n"
     ]
    },
    {
     "name": "stderr",
     "output_type": "stream",
     "text": [
      "Epoch [1338/3000]: 100%|██████████| 9/9 [00:00<00:00, 132.74it/s, loss=1.06]\n"
     ]
    },
    {
     "name": "stdout",
     "output_type": "stream",
     "text": [
      "Epoch [1338/3000]: Train loss: 1.1480, Valid loss: 1.2310\n"
     ]
    },
    {
     "name": "stderr",
     "output_type": "stream",
     "text": [
      "Epoch [1339/3000]: 100%|██████████| 9/9 [00:00<00:00, 141.39it/s, loss=0.9]\n"
     ]
    },
    {
     "name": "stdout",
     "output_type": "stream",
     "text": [
      "Epoch [1339/3000]: Train loss: 1.1476, Valid loss: 1.2710\n"
     ]
    },
    {
     "name": "stderr",
     "output_type": "stream",
     "text": [
      "Epoch [1340/3000]: 100%|██████████| 9/9 [00:00<00:00, 145.25it/s, loss=0.955]\n"
     ]
    },
    {
     "name": "stdout",
     "output_type": "stream",
     "text": [
      "Epoch [1340/3000]: Train loss: 1.1242, Valid loss: 1.1638\n"
     ]
    },
    {
     "name": "stderr",
     "output_type": "stream",
     "text": [
      "Epoch [1341/3000]: 100%|██████████| 9/9 [00:00<00:00, 135.40it/s, loss=0.785]\n"
     ]
    },
    {
     "name": "stdout",
     "output_type": "stream",
     "text": [
      "Epoch [1341/3000]: Train loss: 1.1122, Valid loss: 1.2316\n"
     ]
    },
    {
     "name": "stderr",
     "output_type": "stream",
     "text": [
      "Epoch [1342/3000]: 100%|██████████| 9/9 [00:00<00:00, 129.66it/s, loss=1.37]\n"
     ]
    },
    {
     "name": "stdout",
     "output_type": "stream",
     "text": [
      "Epoch [1342/3000]: Train loss: 1.1660, Valid loss: 1.2682\n"
     ]
    },
    {
     "name": "stderr",
     "output_type": "stream",
     "text": [
      "Epoch [1343/3000]: 100%|██████████| 9/9 [00:00<00:00, 128.85it/s, loss=1.58]\n"
     ]
    },
    {
     "name": "stdout",
     "output_type": "stream",
     "text": [
      "Epoch [1343/3000]: Train loss: 1.1777, Valid loss: 1.2658\n"
     ]
    },
    {
     "name": "stderr",
     "output_type": "stream",
     "text": [
      "Epoch [1344/3000]: 100%|██████████| 9/9 [00:00<00:00, 125.85it/s, loss=0.993]\n"
     ]
    },
    {
     "name": "stdout",
     "output_type": "stream",
     "text": [
      "Epoch [1344/3000]: Train loss: 1.1488, Valid loss: 1.2594\n"
     ]
    },
    {
     "name": "stderr",
     "output_type": "stream",
     "text": [
      "Epoch [1345/3000]: 100%|██████████| 9/9 [00:00<00:00, 127.52it/s, loss=1.1]\n"
     ]
    },
    {
     "name": "stdout",
     "output_type": "stream",
     "text": [
      "Epoch [1345/3000]: Train loss: 1.1332, Valid loss: 1.4564\n"
     ]
    },
    {
     "name": "stderr",
     "output_type": "stream",
     "text": [
      "Epoch [1346/3000]: 100%|██████████| 9/9 [00:00<00:00, 115.33it/s, loss=1.1]\n"
     ]
    },
    {
     "name": "stdout",
     "output_type": "stream",
     "text": [
      "Epoch [1346/3000]: Train loss: 1.1286, Valid loss: 1.0830\n"
     ]
    },
    {
     "name": "stderr",
     "output_type": "stream",
     "text": [
      "Epoch [1347/3000]: 100%|██████████| 9/9 [00:00<00:00, 121.79it/s, loss=1.14]\n"
     ]
    },
    {
     "name": "stdout",
     "output_type": "stream",
     "text": [
      "Epoch [1347/3000]: Train loss: 1.1379, Valid loss: 1.3039\n"
     ]
    },
    {
     "name": "stderr",
     "output_type": "stream",
     "text": [
      "Epoch [1348/3000]: 100%|██████████| 9/9 [00:00<00:00, 112.40it/s, loss=1.22]\n"
     ]
    },
    {
     "name": "stdout",
     "output_type": "stream",
     "text": [
      "Epoch [1348/3000]: Train loss: 1.1673, Valid loss: 1.2119\n"
     ]
    },
    {
     "name": "stderr",
     "output_type": "stream",
     "text": [
      "Epoch [1349/3000]: 100%|██████████| 9/9 [00:00<00:00, 110.74it/s, loss=1.05]\n"
     ]
    },
    {
     "name": "stdout",
     "output_type": "stream",
     "text": [
      "Epoch [1349/3000]: Train loss: 1.1510, Valid loss: 1.2262\n"
     ]
    },
    {
     "name": "stderr",
     "output_type": "stream",
     "text": [
      "Epoch [1350/3000]: 100%|██████████| 9/9 [00:00<00:00, 138.03it/s, loss=1.14]\n"
     ]
    },
    {
     "name": "stdout",
     "output_type": "stream",
     "text": [
      "Epoch [1350/3000]: Train loss: 1.1297, Valid loss: 1.2910\n"
     ]
    },
    {
     "name": "stderr",
     "output_type": "stream",
     "text": [
      "Epoch [1351/3000]: 100%|██████████| 9/9 [00:00<00:00, 128.97it/s, loss=1.17]\n"
     ]
    },
    {
     "name": "stdout",
     "output_type": "stream",
     "text": [
      "Epoch [1351/3000]: Train loss: 1.1429, Valid loss: 1.2177\n"
     ]
    },
    {
     "name": "stderr",
     "output_type": "stream",
     "text": [
      "Epoch [1352/3000]: 100%|██████████| 9/9 [00:00<00:00, 127.83it/s, loss=0.892]\n"
     ]
    },
    {
     "name": "stdout",
     "output_type": "stream",
     "text": [
      "Epoch [1352/3000]: Train loss: 1.1201, Valid loss: 1.4306\n"
     ]
    },
    {
     "name": "stderr",
     "output_type": "stream",
     "text": [
      "Epoch [1353/3000]: 100%|██████████| 9/9 [00:00<00:00, 117.37it/s, loss=1.15]\n"
     ]
    },
    {
     "name": "stdout",
     "output_type": "stream",
     "text": [
      "Epoch [1353/3000]: Train loss: 1.1530, Valid loss: 1.3796\n",
      "\n",
      "Model is not improving, so we halt the training session.\n"
     ]
    }
   ],
   "source": [
    "model = My_Model(input_dim=x_train.shape[1]).to(device) # put your model and data on the same computation device.\n",
    "best_loss = trainer(train_loader, valid_loader, model, config, device)"
   ]
  },
  {
   "cell_type": "markdown",
   "metadata": {},
   "source": [
    "select before"
   ]
  },
  {
   "cell_type": "code",
   "execution_count": 41,
   "metadata": {},
   "outputs": [
    {
     "data": {
      "text/plain": [
       "1.464477042357127"
      ]
     },
     "execution_count": 41,
     "metadata": {},
     "output_type": "execute_result"
    }
   ],
   "source": [
    "best_loss"
   ]
  },
  {
   "cell_type": "markdown",
   "metadata": {},
   "source": [
    "after select proper feature"
   ]
  },
  {
   "cell_type": "code",
   "execution_count": 49,
   "metadata": {},
   "outputs": [
    {
     "data": {
      "text/plain": [
       "0.984243780374527"
      ]
     },
     "execution_count": 49,
     "metadata": {},
     "output_type": "execute_result"
    }
   ],
   "source": [
    "best_loss"
   ]
  },
  {
   "cell_type": "markdown",
   "metadata": {},
   "source": [
    "modify model + select proper feature"
   ]
  },
  {
   "cell_type": "code",
   "execution_count": 14,
   "metadata": {},
   "outputs": [
    {
     "data": {
      "text/plain": [
       "1.063470055659612"
      ]
     },
     "execution_count": 14,
     "metadata": {},
     "output_type": "execute_result"
    }
   ],
   "source": [
    "best_loss"
   ]
  },
  {
   "cell_type": "code",
   "execution_count": null,
   "metadata": {},
   "outputs": [],
   "source": [
    "%reload_ext tensorboard\n",
    "%tensorboard --logdir=./runs/"
   ]
  },
  {
   "cell_type": "code",
   "execution_count": 15,
   "metadata": {},
   "outputs": [
    {
     "name": "stderr",
     "output_type": "stream",
     "text": [
      "100%|██████████| 5/5 [00:00<00:00, 532.34it/s]\n"
     ]
    }
   ],
   "source": [
    "def save_pred(preds, file):\n",
    "    ''' Save predictions to specified file '''\n",
    "    with open(file, 'w') as fp:\n",
    "        writer = csv.writer(fp)\n",
    "        writer.writerow(['id', 'tested_positive'])\n",
    "        for i, p in enumerate(preds):\n",
    "            writer.writerow([i, p])\n",
    "\n",
    "model = My_Model(input_dim=x_train.shape[1]).to(device)\n",
    "model.load_state_dict(torch.load(config['save_path']))\n",
    "preds = predict(test_loader, model, device) \n",
    "save_pred(preds, 'pred.csv')         "
   ]
  },
  {
   "cell_type": "markdown",
   "metadata": {},
   "source": [
    "# 代码优化\n",
    "对现有的变量做相关性检验"
   ]
  },
  {
   "cell_type": "code",
   "execution_count": 19,
   "metadata": {},
   "outputs": [],
   "source": [
    "from scipy.stats import pearsonr\n",
    "df = pd.read_csv('./dataset/covid.train.csv')\n",
    "data = df.values\n",
    "target = data[:,-1]\n",
    "feature = data[:,:-1]\n",
    "cor_val = []\n",
    "p_val = []\n",
    "for i in range(len(feature[0])):\n",
    "    tmp = pearsonr(feature[:,i], target)\n",
    "    cor_val.append(tmp[0]) #计算第i个特征和第h时刻的结果的相关系数\n",
    "    p_val.append(tmp[1]) #置信度 \n",
    "df_pearsonr = pd.DataFrame()\n",
    "df_pearsonr['rel'] = [abs(x) for x in cor_val]\n",
    "df_pearsonr['p_val'] = p_val"
   ]
  },
  {
   "cell_type": "code",
   "execution_count": 20,
   "metadata": {},
   "outputs": [
    {
     "data": {
      "text/html": [
       "<div>\n",
       "<style scoped>\n",
       "    .dataframe tbody tr th:only-of-type {\n",
       "        vertical-align: middle;\n",
       "    }\n",
       "\n",
       "    .dataframe tbody tr th {\n",
       "        vertical-align: top;\n",
       "    }\n",
       "\n",
       "    .dataframe thead th {\n",
       "        text-align: right;\n",
       "    }\n",
       "</style>\n",
       "<table border=\"1\" class=\"dataframe\">\n",
       "  <thead>\n",
       "    <tr style=\"text-align: right;\">\n",
       "      <th></th>\n",
       "      <th>rel</th>\n",
       "      <th>p_val</th>\n",
       "    </tr>\n",
       "  </thead>\n",
       "  <tbody>\n",
       "    <tr>\n",
       "      <th>0</th>\n",
       "      <td>0.263529</td>\n",
       "      <td>4.080022e-44</td>\n",
       "    </tr>\n",
       "    <tr>\n",
       "      <th>1</th>\n",
       "      <td>0.147200</td>\n",
       "      <td>1.521691e-14</td>\n",
       "    </tr>\n",
       "    <tr>\n",
       "      <th>2</th>\n",
       "      <td>0.112723</td>\n",
       "      <td>4.300386e-09</td>\n",
       "    </tr>\n",
       "    <tr>\n",
       "      <th>3</th>\n",
       "      <td>0.023748</td>\n",
       "      <td>2.174336e-01</td>\n",
       "    </tr>\n",
       "    <tr>\n",
       "      <th>4</th>\n",
       "      <td>0.233007</td>\n",
       "      <td>1.332264e-34</td>\n",
       "    </tr>\n",
       "    <tr>\n",
       "      <th>...</th>\n",
       "      <td>...</td>\n",
       "      <td>...</td>\n",
       "    </tr>\n",
       "    <tr>\n",
       "      <th>112</th>\n",
       "      <td>0.256786</td>\n",
       "      <td>6.691368e-42</td>\n",
       "    </tr>\n",
       "    <tr>\n",
       "      <th>113</th>\n",
       "      <td>0.415122</td>\n",
       "      <td>6.322490e-113</td>\n",
       "    </tr>\n",
       "    <tr>\n",
       "      <th>114</th>\n",
       "      <td>0.631444</td>\n",
       "      <td>2.945878e-300</td>\n",
       "    </tr>\n",
       "    <tr>\n",
       "      <th>115</th>\n",
       "      <td>0.493094</td>\n",
       "      <td>2.209772e-165</td>\n",
       "    </tr>\n",
       "    <tr>\n",
       "      <th>116</th>\n",
       "      <td>0.317566</td>\n",
       "      <td>2.674485e-64</td>\n",
       "    </tr>\n",
       "  </tbody>\n",
       "</table>\n",
       "<p>117 rows × 2 columns</p>\n",
       "</div>"
      ],
      "text/plain": [
       "          rel          p_val\n",
       "0    0.263529   4.080022e-44\n",
       "1    0.147200   1.521691e-14\n",
       "2    0.112723   4.300386e-09\n",
       "3    0.023748   2.174336e-01\n",
       "4    0.233007   1.332264e-34\n",
       "..        ...            ...\n",
       "112  0.256786   6.691368e-42\n",
       "113  0.415122  6.322490e-113\n",
       "114  0.631444  2.945878e-300\n",
       "115  0.493094  2.209772e-165\n",
       "116  0.317566   2.674485e-64\n",
       "\n",
       "[117 rows x 2 columns]"
      ]
     },
     "execution_count": 20,
     "metadata": {},
     "output_type": "execute_result"
    }
   ],
   "source": [
    "df_pearsonr"
   ]
  },
  {
   "cell_type": "code",
   "execution_count": 21,
   "metadata": {},
   "outputs": [
    {
     "data": {
      "text/html": [
       "<div>\n",
       "<style scoped>\n",
       "    .dataframe tbody tr th:only-of-type {\n",
       "        vertical-align: middle;\n",
       "    }\n",
       "\n",
       "    .dataframe tbody tr th {\n",
       "        vertical-align: top;\n",
       "    }\n",
       "\n",
       "    .dataframe thead th {\n",
       "        text-align: right;\n",
       "    }\n",
       "</style>\n",
       "<table border=\"1\" class=\"dataframe\">\n",
       "  <thead>\n",
       "    <tr style=\"text-align: right;\">\n",
       "      <th></th>\n",
       "      <th>rel</th>\n",
       "      <th>p_val</th>\n",
       "    </tr>\n",
       "  </thead>\n",
       "  <tbody>\n",
       "    <tr>\n",
       "      <th>101</th>\n",
       "      <td>0.985357</td>\n",
       "      <td>0.000000</td>\n",
       "    </tr>\n",
       "    <tr>\n",
       "      <th>85</th>\n",
       "      <td>0.969593</td>\n",
       "      <td>0.000000</td>\n",
       "    </tr>\n",
       "    <tr>\n",
       "      <th>69</th>\n",
       "      <td>0.953333</td>\n",
       "      <td>0.000000</td>\n",
       "    </tr>\n",
       "    <tr>\n",
       "      <th>53</th>\n",
       "      <td>0.935388</td>\n",
       "      <td>0.000000</td>\n",
       "    </tr>\n",
       "    <tr>\n",
       "      <th>104</th>\n",
       "      <td>0.898437</td>\n",
       "      <td>0.000000</td>\n",
       "    </tr>\n",
       "    <tr>\n",
       "      <th>...</th>\n",
       "      <td>...</td>\n",
       "      <td>...</td>\n",
       "    </tr>\n",
       "    <tr>\n",
       "      <th>16</th>\n",
       "      <td>0.038334</td>\n",
       "      <td>0.046445</td>\n",
       "    </tr>\n",
       "    <tr>\n",
       "      <th>106</th>\n",
       "      <td>0.037205</td>\n",
       "      <td>0.053279</td>\n",
       "    </tr>\n",
       "    <tr>\n",
       "      <th>111</th>\n",
       "      <td>0.026965</td>\n",
       "      <td>0.161361</td>\n",
       "    </tr>\n",
       "    <tr>\n",
       "      <th>3</th>\n",
       "      <td>0.023748</td>\n",
       "      <td>0.217434</td>\n",
       "    </tr>\n",
       "    <tr>\n",
       "      <th>12</th>\n",
       "      <td>0.010755</td>\n",
       "      <td>0.576491</td>\n",
       "    </tr>\n",
       "  </tbody>\n",
       "</table>\n",
       "<p>117 rows × 2 columns</p>\n",
       "</div>"
      ],
      "text/plain": [
       "          rel     p_val\n",
       "101  0.985357  0.000000\n",
       "85   0.969593  0.000000\n",
       "69   0.953333  0.000000\n",
       "53   0.935388  0.000000\n",
       "104  0.898437  0.000000\n",
       "..        ...       ...\n",
       "16   0.038334  0.046445\n",
       "106  0.037205  0.053279\n",
       "111  0.026965  0.161361\n",
       "3    0.023748  0.217434\n",
       "12   0.010755  0.576491\n",
       "\n",
       "[117 rows x 2 columns]"
      ]
     },
     "execution_count": 21,
     "metadata": {},
     "output_type": "execute_result"
    }
   ],
   "source": [
    "df_pearsonr = df_pearsonr.sort_values(['rel'],ascending = False)\n",
    "df_pearsonr"
   ]
  },
  {
   "cell_type": "code",
   "execution_count": 29,
   "metadata": {},
   "outputs": [],
   "source": [
    "rel_threshold = 0.3\n",
    "p_threshold = 0.05\n",
    "selected = []\n",
    "for i in range(len(df_pearsonr)):\n",
    "    rel = df_pearsonr.iloc[i].rel\n",
    "    p = df_pearsonr.iloc[i].p_val\n",
    "    index = df_pearsonr.iloc[i].name\n",
    "    if rel > rel_threshold and p < p_threshold:\n",
    "        selected.append(index)"
   ]
  },
  {
   "cell_type": "code",
   "execution_count": 34,
   "metadata": {},
   "outputs": [
    {
     "name": "stdout",
     "output_type": "stream",
     "text": [
      "[101, 85, 69, 53, 104, 88, 105, 72, 89, 56, 73, 40, 57, 41, 103, 102, 87, 86, 71, 70, 55, 54, 39, 38, 114, 98, 82, 66, 50, 108, 92, 76, 60, 44, 115, 99, 67, 83, 51, 113, 97, 81, 65, 49, 109, 93, 77, 21, 61, 116, 100, 84, 68, 52]\n"
     ]
    }
   ],
   "source": [
    "print(selected)"
   ]
  },
  {
   "cell_type": "code",
   "execution_count": null,
   "metadata": {},
   "outputs": [],
   "source": []
  }
 ],
 "metadata": {
  "kernelspec": {
   "display_name": "CLIP2Video",
   "language": "python",
   "name": "clip2video"
  },
  "language_info": {
   "codemirror_mode": {
    "name": "ipython",
    "version": 3
   },
   "file_extension": ".py",
   "mimetype": "text/x-python",
   "name": "python",
   "nbconvert_exporter": "python",
   "pygments_lexer": "ipython3",
   "version": "3.8.13"
  }
 },
 "nbformat": 4,
 "nbformat_minor": 2
}
