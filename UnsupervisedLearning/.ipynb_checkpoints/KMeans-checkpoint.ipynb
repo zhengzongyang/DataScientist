{
 "cells": [
  {
   "cell_type": "code",
   "execution_count": 8,
   "metadata": {},
   "outputs": [],
   "source": [
    "import numpy as np\n",
    "import matplotlib.pyplot as plt"
   ]
  },
  {
   "cell_type": "code",
   "execution_count": 9,
   "metadata": {},
   "outputs": [],
   "source": [
    "def loadDataSet(fileName):\n",
    "    dataMat = []\n",
    "    with open('testSet.txt','r') as fr:\n",
    "        for line in fr.readlines():\n",
    "            curLine = line.strip().split('\\t')\n",
    "            fltLine = list(map(float, curLine)) # 里面是一个个map对象\n",
    "            dataMat.append(fltLine)\n",
    "        return dataMat"
   ]
  },
  {
   "cell_type": "code",
   "execution_count": 12,
   "metadata": {},
   "outputs": [],
   "source": [
    "\"\"\"\n",
    "计算两个向量的欧式距离\n",
    "\"\"\"\n",
    "def distEclud(vecA, vecB):\n",
    "    return np.sqrt(np.sum(np.power(vecA - vecB, 2)))\n",
    "\"\"\"\n",
    "该函数为给定数据集构建一个包含K个随机质心的集合\n",
    "随机质心必须要在整个数据集的边界之内\n",
    "\"\"\"\n",
    "def randCent(dataSet, k):\n",
    "    n = np.shape(dataSet)[1] # 特征维数\n",
    "    centroids = np.mat(np.zeros((k,n))) # 将array转换成矩阵\n",
    "    # 找出每一维的最大最小值\n",
    "    for j in range(n):\n",
    "        minJ = np.min(dataSet[:,j])\n",
    "        rangeJ = float(np.max(dataSet[:,j]) - minJ)\n",
    "        centroids[:, j] = minJ + rangeJ * np.random.rand(k, 1)\n",
    "    return centroids"
   ]
  },
  {
   "cell_type": "code",
   "execution_count": 17,
   "metadata": {},
   "outputs": [
    {
     "name": "stdout",
     "output_type": "stream",
     "text": [
      "min:  [[-5.379713]]\n",
      "max:  [[4.838138]]\n"
     ]
    },
    {
     "data": {
      "text/plain": [
       "matrix([[ 2.46074269, -0.67459961],\n",
       "        [ 2.21573067, -1.7239635 ]])"
      ]
     },
     "execution_count": 17,
     "metadata": {},
     "output_type": "execute_result"
    }
   ],
   "source": [
    "dataMat = np.mat(loadDataSet('testSet.txt'))\n",
    "print('min: ',min(dataMat[:,0]))\n",
    "print('max: ', max(dataMat[:,0]))\n",
    "randCent(dataMat, 2)"
   ]
  },
  {
   "cell_type": "markdown",
   "metadata": {},
   "source": [
    "## 伪代码\n",
    "创建k个点作为起始的质心<br/>\n",
    "如果当前数据集的簇分配还会改变：<br/>\n",
    "&emsp;对每一个数据：<br/>\n",
    "&emsp;&emsp;计算其与每个质心的距离<br/>\n",
    "&emsp;&emsp;选出最小的距离和对应的质心作为自己的分类结果<br/>\n",
    "&emsp;对每一个质心：<br/>\n",
    "&emsp;&emsp;针对分类的数据，更新自己的坐标值<br/>"
   ]
  },
  {
   "cell_type": "code",
   "execution_count": 38,
   "metadata": {},
   "outputs": [],
   "source": [
    "def kMeans(dataSet, k, distMeasure=distEclud, createCent=randCent):\n",
    "    m = np.shape(dataSet)[0]\n",
    "    clusterAssment = np.mat(np.zeros((m,2)))\n",
    "    centroids = createCent(dataSet, k)\n",
    "    clusterChanged = True\n",
    "    epoch = 1\n",
    "    while clusterChanged:\n",
    "        clusterChanged = False\n",
    "        for i in range(m):\n",
    "            minDist = float('inf'); minIndex= -1\n",
    "            for j in range(k):\n",
    "                distJ = distMeasure(centroids[j],dataSet[i])\n",
    "                if distJ < minDist:\n",
    "                    minDist = distJ; minIndex = j\n",
    "            if clusterAssment[i, 0] != minIndex:\n",
    "                clusterChanged = True\n",
    "            clusterAssment[i, :] = minIndex, minDist # 序列解包\n",
    "        # print(\"epoch: \", epoch)\n",
    "        # print(centroids)\n",
    "        for cent in range(k):\n",
    "            ptsInClust = dataSet[np.nonzero(clusterAssment[:,0].A == cent)[0]] # 只取nonzero的row索引\n",
    "            centroids[cent,:] = np.mean(ptsInClust, axis=0)\n",
    "        epoch+=1\n",
    "    return centroids, clusterAssment"
   ]
  },
  {
   "cell_type": "code",
   "execution_count": 6,
   "metadata": {},
   "outputs": [
    {
     "name": "stdout",
     "output_type": "stream",
     "text": [
      "epoch:  1\n",
      "[[ 0.71390317  0.69251528]\n",
      " [ 4.69738302  4.15987659]\n",
      " [ 0.28403529 -0.30259207]\n",
      " [ 1.77247476  4.22150104]]\n",
      "epoch:  2\n",
      "[[-0.97083937  2.29746958]\n",
      " [ 3.814307    3.2018612 ]\n",
      " [-0.73746283 -2.62210322]\n",
      " [ 1.42142213  3.47927333]]\n",
      "epoch:  3\n",
      "[[-2.46154315  2.78737555]\n",
      " [ 3.57953285  1.76429869]\n",
      " [-0.68321373 -2.968607  ]\n",
      " [ 1.9686787   3.5499161 ]]\n",
      "epoch:  4\n",
      "[[-2.46154315  2.78737555]\n",
      " [ 3.74487682  0.74644273]\n",
      " [-0.83188333 -2.97988206]\n",
      " [ 2.28430469  3.66626685]]\n",
      "epoch:  5\n",
      "[[-2.46154315  2.78737555]\n",
      " [ 3.54929918 -1.07358727]\n",
      " [-1.27920106 -3.04600066]\n",
      " [ 2.51964406  3.40459212]]\n",
      "epoch:  6\n",
      "[[-2.46154315  2.78737555]\n",
      " [ 3.09814284 -2.43041226]\n",
      " [-3.01169468 -3.01238673]\n",
      " [ 2.54391447  3.21299611]]\n",
      "epoch:  7\n",
      "[[-2.46154315  2.78737555]\n",
      " [ 2.80293085 -2.7315146 ]\n",
      " [-3.38237045 -2.9473363 ]\n",
      " [ 2.6265299   3.10868015]]\n"
     ]
    }
   ],
   "source": [
    "myCentroids, clustAssing = kMeans(dataMat, 4)"
   ]
  },
  {
   "cell_type": "code",
   "execution_count": 7,
   "metadata": {},
   "outputs": [
    {
     "name": "stdout",
     "output_type": "stream",
     "text": [
      "epoch:  1\n",
      "[[ 0.60708472 -3.87003672]\n",
      " [ 0.14348812 -2.67147571]\n",
      " [-4.89186783 -2.52910399]\n",
      " [ 1.42332118 -2.3097067 ]]\n",
      "epoch:  2\n",
      "[[ 0.33258533 -3.763162  ]\n",
      " [-1.74349411  2.16983278]\n",
      " [-3.44842421 -0.76231552]\n",
      " [ 2.72843426  0.46698044]]\n",
      "epoch:  3\n",
      "[[ 1.97989893 -3.47236327]\n",
      " [-2.10769386  2.90281805]\n",
      " [-3.61853111 -2.81946867]\n",
      " [ 2.94061136  1.73271936]]\n",
      "epoch:  4\n",
      "[[ 2.54173689 -3.11892933]\n",
      " [-2.46154315  2.78737555]\n",
      " [-3.53973889 -2.89384326]\n",
      " [ 2.71502526  2.5965363 ]]\n",
      "epoch:  5\n",
      "[[ 2.65077367 -2.79019029]\n",
      " [-2.46154315  2.78737555]\n",
      " [-3.53973889 -2.89384326]\n",
      " [ 2.6265299   3.10868015]]\n"
     ]
    },
    {
     "data": {
      "image/png": "[encoded data removed]",
      "text/plain": [
       "<Figure size 432x288 with 1 Axes>"
      ]
     },
     "metadata": {
      "needs_background": "light"
     },
     "output_type": "display_data"
    }
   ],
   "source": [
    "\"\"\"\n",
    "函数说明：绘制数据集\n",
    "\n",
    "Parameters:\n",
    "    fileName - 文件名\n",
    "    \n",
    "Returns:\n",
    "    None\n",
    "\n",
    "Modify:\n",
    "    2018-08-01\n",
    "\"\"\"\n",
    "def plotDataSet(filename):\n",
    "    # 导入数据\n",
    "    datMat = np.mat(loadDataSet(filename))\n",
    "    # 进行k-means算法其中k为4\n",
    "    myCentroids, clustAssing = kMeans(datMat, 4)\n",
    "    clustAssing = clustAssing.tolist()\n",
    "    myCentroids = myCentroids.tolist()\n",
    "    xcord = [[], [], [], []]\n",
    "    ycord = [[], [], [], []]\n",
    "    datMat = datMat.tolist()\n",
    "    m = len(clustAssing)\n",
    "    for i in range(m):\n",
    "        if int(clustAssing[i][0]) == 0:\n",
    "            xcord[0].append(datMat[i][0])\n",
    "            ycord[0].append(datMat[i][1])\n",
    "        elif int(clustAssing[i][0]) == 1:\n",
    "            xcord[1].append(datMat[i][0])\n",
    "            ycord[1].append(datMat[i][1])\n",
    "        elif int(clustAssing[i][0]) == 2:\n",
    "            xcord[2].append(datMat[i][0])\n",
    "            ycord[2].append(datMat[i][1])\n",
    "        elif int(clustAssing[i][0]) == 3:\n",
    "            xcord[3].append(datMat[i][0])\n",
    "            ycord[3].append(datMat[i][1])\n",
    "    fig = plt.figure()\n",
    "    ax = fig.add_subplot(111)\n",
    "    # 绘制样本点\n",
    "    ax.scatter(xcord[0], ycord[0], s=20, c='b', marker='*', alpha=.5)\n",
    "    ax.scatter(xcord[1], ycord[1], s=20, c='r', marker='D', alpha=.5)\n",
    "    ax.scatter(xcord[2], ycord[2], s=20, c='c', marker='>', alpha=.5)\n",
    "    ax.scatter(xcord[3], ycord[3], s=20, c='k', marker='o', alpha=.5)\n",
    "    # 绘制质心\n",
    "    ax.scatter(myCentroids[0][0], myCentroids[0][1], s=100, c='k', marker='+', alpha=.5)\n",
    "    ax.scatter(myCentroids[1][0], myCentroids[1][1], s=100, c='k', marker='+', alpha=.5)\n",
    "    ax.scatter(myCentroids[2][0], myCentroids[2][1], s=100, c='k', marker='+', alpha=.5)\n",
    "    ax.scatter(myCentroids[3][0], myCentroids[3][1], s=100, c='k', marker='+', alpha=.5)\n",
    "    plt.title('DataSet')\n",
    "    plt.xlabel('X')\n",
    "    plt.show()\n",
    "plotDataSet('testSet.txt')"
   ]
  },
  {
   "cell_type": "markdown",
   "metadata": {},
   "source": [
    "# 参考答案"
   ]
  },
  {
   "cell_type": "code",
   "execution_count": 13,
   "metadata": {},
   "outputs": [],
   "source": [
    "def kMeans1(dataSet, k, distMeas=distEclud, createCent=randCent):\n",
    "    # 获取数据集样本数\n",
    "    m = np.shape(dataSet)[0]\n",
    "    # 初始化一个（m,2）全零矩阵\n",
    "    clusterAssment = np.mat(np.zeros((m, 2)))\n",
    "    # 创建初始的k个质心向量\n",
    "    centroids = createCent(dataSet, k)\n",
    "    # 聚类结果是否发生变化的布尔类型\n",
    "    clusterChanged = True\n",
    "    epoch = 1\n",
    "    # 只要聚类结果一直发生变化，就一直执行聚类算法，直至所有数据点聚类结果不发生变化\n",
    "    while clusterChanged:\n",
    "        # 聚类结果变化布尔类型置为False\n",
    "        clusterChanged = False\n",
    "        # 遍历数据集每一个样本向量\n",
    "        for i in range(m):\n",
    "            # 初始化最小距离为正无穷，最小距离对应的索引为-1\n",
    "            minDist = float('inf')\n",
    "            minIndex = -1\n",
    "            # 循环k个类的质心\n",
    "            for j in range(k):\n",
    "                # 计算数据点到质心的欧氏距离\n",
    "                distJI = distMeas(centroids[j, :], dataSet[i, :])\n",
    "                # 如果距离小于当前最小距离\n",
    "                if distJI < minDist:\n",
    "                    # 当前距离为最小距离，最小距离对应索引应为j(第j个类)\n",
    "                    minDist = distJI\n",
    "                    minIndex = j\n",
    "            # 当前聚类结果中第i个样本的聚类结果发生变化：布尔值置为True，继续聚类算法\n",
    "            if clusterAssment[i, 0] != minIndex: \n",
    "                clusterChanged = True\n",
    "            # 更新当前变化样本的聚类结果和平方误差\n",
    "            clusterAssment[i, :] = minIndex, minDist**2\n",
    "            # 打印k-means聚类的质心\n",
    "        # print(\"epoch: \", epoch, centroids)\n",
    "        # 遍历每一个质心\n",
    "        for cent in range(k):\n",
    "            # 将数据集中所有属于当前质心类的样本通过条件过滤筛选出来\n",
    "            ptsInClust = dataSet[np.nonzero(clusterAssment[:, 0].A == cent)[0]]\n",
    "            # 计算这些数据的均值(axis=0:求列均值)，作为该类质心向量\n",
    "            centroids[cent, :] = np.mean(ptsInClust, axis=0)\n",
    "        epoch+=1\n",
    "    # 返回k个聚类，聚类结果及误差\n",
    "    return centroids, clusterAssment\n",
    "    "
   ]
  },
  {
   "cell_type": "markdown",
   "metadata": {},
   "source": [
    "# 问题\n",
    "发现我们在判断不优化时的条件，仅仅是分组不再变化。<br/>\n",
    "这一约束条件很可能让我们的簇分类收敛到**局部的最小值**<br/>\n",
    "想办法把距离也纳入进约束条件中<br/>\n",
    "## 解决方法1，二分K-均值算法"
   ]
  },
  {
   "cell_type": "code",
   "execution_count": 45,
   "metadata": {},
   "outputs": [],
   "source": [
    "def biKMeans(dataSet, k, distMeas=distEclud):\n",
    "    m = np.shape(dataSet)[0] # 得到样本的个数\n",
    "    clusterAssment = np.mat(np.zeros((m,2)))\n",
    "    # 初始的簇中心\n",
    "    centroid0 = np.mean(dataSet, axis=0).tolist()[0]\n",
    "    centList = [centroid0]\n",
    "    for j in range(m):\n",
    "        clusterAssment[j, 1] = distMeas(np.mat(centroid0), dataSet[j, :])**2\n",
    "    epoch = 1\n",
    "    print(\"originally: \")\n",
    "    print(centList)\n",
    "    while len(centList) < k:\n",
    "        print(\"epoch: \",epoch)\n",
    "        lowestSSE = np.float('inf')\n",
    "        for i in range(len(centList)):\n",
    "            ptsInCurrCluster = dataSet[np.nonzero(clusterAssment[:, 0] == i)[0], :]\n",
    "            centroidMat, splitClustAss = kMeans(ptsInCurrCluster, 2)\n",
    "            sseSplit = np.sum(splitClustAss[:, 1])\n",
    "            sseNoSplit = np.sum(clusterAssment[np.nonzero(clusterAssment[:, 0].A != i)[0], 1])\n",
    "            print(\"sseSplit and sseNoSplit: \", sseSplit, sseNoSplit)\n",
    "            if (sseSplit + sseNoSplit) < lowestSSE:\n",
    "                bestCentToSplit = i\n",
    "                bestNewCents = centroidMat\n",
    "                bestClustAss = splitClustAss.copy()\n",
    "                lowestSSE = sseSplit + sseNoSplit\n",
    "            bestClustAss[np.nonzero(bestClustAss[:, 0].A == 1), 0] = len(centList)\n",
    "            bestClustAss[np.nonzero(bestClustAss[:, 0].A == 0), 0] = bestCentToSplit\n",
    "            centList[bestCentToSplit] = bestNewCents[0, :].tolist()[0]\n",
    "            centList.append(bestNewCents[1,:].tolist()[0])\n",
    "            clusterAssment[np.nonzero(clusterAssment[:, 0].A == bestCentToSplit)[0], :] = bestClustAss\n",
    "        epoch+=1\n",
    "        print(centList)\n",
    "    return np.mat(centList), clusterAssment"
   ]
  },
  {
   "cell_type": "code",
   "execution_count": 52,
   "metadata": {},
   "outputs": [
    {
     "name": "stdout",
     "output_type": "stream",
     "text": [
      "originally: \n",
      "[[-0.10361321250000004, 0.05430119999999998]]\n",
      "epoch:  1\n",
      "sseSplit and sseNoSplit:  248.1507528392998 0.0\n",
      "[[2.7147303750000007, 0.18858277500000004], [-2.9219568000000002, -0.07998037500000002]]\n",
      "epoch:  2\n",
      "sseSplit and sseNoSplit:  50.758498519520835 122.41175887898062\n",
      "sseSplit and sseNoSplit:  42.815856254279765 50.758498519520835\n",
      "[[2.6265298999999995, 3.10868015], [-2.46154315, 2.7873755500000006], [2.80293085, -2.7315145999999997], [-3.38237045, -2.9473363000000004]]\n"
     ]
    },
    {
     "data": {
      "image/png": "[encoded data removed]",
      "text/plain": [
       "<Figure size 432x288 with 1 Axes>"
      ]
     },
     "metadata": {
      "needs_background": "light"
     },
     "output_type": "display_data"
    }
   ],
   "source": [
    "datMat = dataMat\n",
    "k=3\n",
    "centList, clusterAssment = biKMeans(datMat, k)\n",
    "clusterAssment = clusterAssment.tolist()\n",
    "xcord = [[], [], []]\n",
    "ycord = [[], [], []]\n",
    "datMat = datMat.tolist()\n",
    "m = len(clusterAssment)\n",
    "for i in range(m):\n",
    "    if int(clusterAssment[i][0]) == 0:\n",
    "        xcord[0].append(datMat[i][0])\n",
    "        ycord[0].append(datMat[i][1])\n",
    "    elif int(clusterAssment[i][0]) == 1:\n",
    "        xcord[1].append(datMat[i][0])\n",
    "        ycord[1].append(datMat[i][1])\n",
    "    elif int(clusterAssment[i][0]) == 2:\n",
    "        xcord[2].append(datMat[i][0])\n",
    "        ycord[2].append(datMat[i][1])\n",
    "fig = plt.figure()\n",
    "ax = fig.add_subplot(111)\n",
    "# 绘制样本点\n",
    "ax.scatter(xcord[0], ycord[0], s=20, c='b', marker='*', alpha=.5)\n",
    "ax.scatter(xcord[1], ycord[1], s=20, c='r', marker='D', alpha=.5)\n",
    "ax.scatter(xcord[2], ycord[2], s=20, c='c', marker='>', alpha=.5)\n",
    "# 绘制质心\n",
    "for i in range(k):\n",
    "    ax.scatter(centList[i].tolist()[0][0], centList[i].tolist()[0][1], s=100, c='k', marker='+', alpha=.5)\n",
    "# ax.scatter(centList[0].tolist()[0][0], centList[0].tolist()[0][1], s=100, c='k', marker='+', alpha=.5)\n",
    "# ax.scatter(centList[1].tolist()[0][0], centList[1].tolist()[0][1], s=100, c='k', marker='+', alpha=.5)\n",
    "# ax.scatter(centList[2].tolist()[0][0], centList[2].tolist()[0][1], s=100, c='k', marker='+', alpha=.5)\n",
    "plt.title('DataSet')\n",
    "plt.xlabel('X')\n",
    "plt.show()"
   ]
  },
  {
   "cell_type": "code",
   "execution_count": null,
   "metadata": {},
   "outputs": [],
   "source": []
  },
  {
   "cell_type": "code",
   "execution_count": null,
   "metadata": {},
   "outputs": [],
   "source": []
  }
 ],
 "metadata": {
  "kernelspec": {
   "display_name": "Python 3",
   "language": "python",
   "name": "python3"
  },
  "language_info": {
   "codemirror_mode": {
    "name": "ipython",
    "version": 3
   },
   "file_extension": ".py",
   "mimetype": "text/x-python",
   "name": "python",
   "nbconvert_exporter": "python",
   "pygments_lexer": "ipython3",
   "version": "3.7.7"
  }
 },
 "nbformat": 4,
 "nbformat_minor": 4
}
